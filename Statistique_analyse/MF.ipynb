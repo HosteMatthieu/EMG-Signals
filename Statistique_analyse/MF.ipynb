{
 "cells": [
  {
   "cell_type": "code",
   "execution_count": 1,
   "id": "0d202e99",
   "metadata": {},
   "outputs": [],
   "source": [
    "from import_all import *"
   ]
  },
  {
   "cell_type": "code",
   "execution_count": 2,
   "id": "952043e1",
   "metadata": {},
   "outputs": [
    {
     "name": "stdout",
     "output_type": "stream",
     "text": [
      "Notebook 1Nmar.ipynb imported successfully.\n",
      "Notebook 2Nmar.ipynb imported successfully.\n",
      "Notebook 3Nmar.ipynb imported successfully.\n",
      "Notebook 4Nmar.ipynb imported successfully.\n",
      "Notebook 5Nmar.ipynb imported successfully.\n",
      "Notebook 6Nmar.ipynb imported successfully.\n",
      "Notebook 7Nmar.ipynb imported successfully.\n",
      "Notebook 8Nmar.ipynb imported successfully.\n",
      "Notebook 9Nmar.ipynb imported successfully.\n",
      "Notebook 10Nmar.ipynb imported successfully.\n",
      "Notebook 11Nmar.ipynb imported successfully.\n",
      "Notebook 1Amar.ipynb imported successfully.\n",
      "Notebook 2Amar.ipynb imported successfully.\n",
      "Notebook 3Amar.ipynb imported successfully.\n",
      "Notebook 4Amar.ipynb imported successfully.\n",
      "Notebook 5Amar.ipynb imported successfully.\n",
      "Notebook 6Amar.ipynb imported successfully.\n",
      "Notebook 7Amar.ipynb imported successfully.\n",
      "Notebook 8Amar.ipynb imported successfully.\n",
      "Notebook 9Amar.ipynb imported successfully.\n",
      "Notebook 10Amar.ipynb imported successfully.\n",
      "Notebook 11Amar.ipynb imported successfully.\n"
     ]
    }
   ],
   "source": [
    "# List of .ipynb files to process\n",
    "notebook_files_N = [f\"{i}Nmar.ipynb\" for i in range(1, 12)]\n",
    "notebook_files_A = [f\"{i}Amar.ipynb\" for i in range(1, 12)]\n",
    "\n",
    "\n",
    "results = {}\n",
    "\n",
    "for file_name in notebook_files_N:\n",
    "    try:\n",
    "        # Load the .ipynb file\n",
    "        with open(\"../Normal_analyse/\"+file_name, 'r', encoding='utf-8') as f:\n",
    "            notebook = read(f, as_version=4)\n",
    "        print(f\"Notebook {file_name} imported successfully.\")\n",
    "    except FileNotFoundError:\n",
    "        print(f\"Error: The file '{file_name}' was not found. Please ensure it exists in the current directory.\")\n",
    "        continue\n",
    "\n",
    "    # Dictionnaire pour stocker les variables\n",
    "    global_vars = {}\n",
    "\n",
    "    # Sauvegarde stdout et stderr pour masquer l'affichage\n",
    "    stdout_backup = sys.stdout\n",
    "    stderr_backup = sys.stderr\n",
    "    sys.stdout = io.StringIO()  # Capture la sortie standard\n",
    "    sys.stderr = io.StringIO()  # Capture les erreurs\n",
    "\n",
    "    # Désactiver l'affichage interactif de Matplotlib\n",
    "    plt.ioff()\n",
    "\n",
    "    # Redéfinir `plt.show()` et `display()` pour bloquer les affichages\n",
    "    with patch(\"matplotlib.pyplot.show\"), patch(\"IPython.display.display\"):\n",
    "        # Exécuter toutes les cellules de code sans affichage\n",
    "        for cell in notebook.cells:\n",
    "            if cell.cell_type == \"code\":\n",
    "                exec(cell.source, global_vars)\n",
    "\n",
    "    # Rétablir la sortie normale\n",
    "    sys.stdout = stdout_backup\n",
    "    sys.stderr = stderr_backup\n",
    "    plt.ion()  # Réactiver l'affichage interactif\n",
    "    plt.close(\"all\")  # Fermer toutes les figures en mémoire\n",
    "\n",
    "    # Récupérer les données\n",
    "    mf_RF = global_vars.get(\"mf_RF\", \"Variable non trouvée\")\n",
    "    mf_BF = global_vars.get(\"mf_BF\", \"Variable non trouvée\")\n",
    "    mf_VS = global_vars.get(\"mf_VM\", \"Variable non trouvée\")\n",
    "    mf_ST = global_vars.get(\"mf_ST\", \"Variable non trouvée\")\n",
    "\n",
    "    results[\"RF_\"+file_name] = mf_RF\n",
    "    results[\"BF_\"+file_name] = mf_BF\n",
    "    results[\"VS_\"+file_name] = mf_VS\n",
    "    results[\"ST_\"+file_name] = mf_ST\n",
    "\n",
    "\n",
    "for file_name in notebook_files_A:\n",
    "    try:\n",
    "        # Load the .ipynb file\n",
    "        with open(\"../Patient_analyse/\"+file_name, 'r', encoding='utf-8') as f:\n",
    "            notebook = read(f, as_version=4)\n",
    "        print(f\"Notebook {file_name} imported successfully.\")\n",
    "    except FileNotFoundError:\n",
    "        print(f\"Error: The file '{file_name}' was not found. Please ensure it exists in the current directory.\")\n",
    "        continue\n",
    "\n",
    "    # Dictionnaire pour stocker les variables\n",
    "    global_vars = {}\n",
    "\n",
    "    # Sauvegarde stdout et stderr pour masquer l'affichage\n",
    "    stdout_backup = sys.stdout\n",
    "    stderr_backup = sys.stderr\n",
    "    sys.stdout = io.StringIO()  # Capture la sortie standard\n",
    "    sys.stderr = io.StringIO()  # Capture les erreurs\n",
    "\n",
    "    # Désactiver l'affichage interactif de Matplotlib\n",
    "    plt.ioff()\n",
    "\n",
    "    # Redéfinir `plt.show()` et `display()` pour bloquer les affichages\n",
    "    with patch(\"matplotlib.pyplot.show\"), patch(\"IPython.display.display\"):\n",
    "        # Exécuter toutes les cellules de code sans affichage\n",
    "        for cell in notebook.cells:\n",
    "            if cell.cell_type == \"code\":\n",
    "                exec(cell.source, global_vars)\n",
    "\n",
    "    # Rétablir la sortie normale\n",
    "    sys.stdout = stdout_backup\n",
    "    sys.stderr = stderr_backup\n",
    "    plt.ion()  # Réactiver l'affichage interactif\n",
    "    plt.close(\"all\")  # Fermer toutes les figures en mémoire\n",
    "\n",
    "    # Récupérer les données\n",
    "    mf_RF = global_vars.get(\"mf_RF\", \"Variable non trouvée\")\n",
    "    mf_BF = global_vars.get(\"mf_BF\", \"Variable non trouvée\")\n",
    "    mf_VS = global_vars.get(\"mf_VM\", \"Variable non trouvée\")\n",
    "    mf_ST = global_vars.get(\"mf_ST\", \"Variable non trouvée\")\n",
    "\n",
    "    results[\"RF_\"+file_name] = mf_RF\n",
    "    results[\"BF_\"+file_name] = mf_BF\n",
    "    results[\"VS_\"+file_name] = mf_VS\n",
    "    results[\"ST_\"+file_name] = mf_ST\n"
   ]
  },
  {
   "cell_type": "code",
   "execution_count": 3,
   "id": "fe804f7f",
   "metadata": {},
   "outputs": [
    {
     "name": "stdout",
     "output_type": "stream",
     "text": [
      "RF_1Nmar.ipynb: 61.82239714231161\n",
      "BF_1Nmar.ipynb: 69.52056514917325\n",
      "VS_1Nmar.ipynb: 56.22231321541992\n",
      "ST_1Nmar.ipynb: 83.29321977241379\n",
      "RF_2Nmar.ipynb: 65.6319051354408\n",
      "BF_2Nmar.ipynb: 82.71368034814955\n",
      "VS_2Nmar.ipynb: 56.68659609295088\n",
      "ST_2Nmar.ipynb: 62.29543050718941\n",
      "RF_3Nmar.ipynb: 73.90366756006159\n",
      "BF_3Nmar.ipynb: 101.72058919529145\n",
      "VS_3Nmar.ipynb: 63.57297068388401\n",
      "ST_3Nmar.ipynb: 84.92617309461518\n",
      "RF_4Nmar.ipynb: 67.64032640165303\n",
      "BF_4Nmar.ipynb: 77.42156274985727\n",
      "VS_4Nmar.ipynb: 74.23955798564216\n",
      "ST_4Nmar.ipynb: 99.60246903336706\n",
      "RF_5Nmar.ipynb: 88.71243438640636\n",
      "BF_5Nmar.ipynb: 87.32975064917733\n",
      "VS_5Nmar.ipynb: 69.91773045651342\n",
      "ST_5Nmar.ipynb: 82.04283254364202\n",
      "RF_6Nmar.ipynb: 90.62775359623315\n",
      "BF_6Nmar.ipynb: 92.55695832886617\n",
      "VS_6Nmar.ipynb: 80.12219911291982\n",
      "ST_6Nmar.ipynb: 94.68702454124661\n",
      "RF_7Nmar.ipynb: 48.10438866552722\n",
      "BF_7Nmar.ipynb: 77.90699420596383\n",
      "VS_7Nmar.ipynb: 41.88882450214972\n",
      "ST_7Nmar.ipynb: 111.51950100648911\n",
      "RF_8Nmar.ipynb: 77.05081019329224\n",
      "BF_8Nmar.ipynb: 87.32085413108122\n",
      "VS_8Nmar.ipynb: 34.91647373463856\n",
      "ST_8Nmar.ipynb: 77.93836249202414\n",
      "RF_9Nmar.ipynb: 82.62820022413294\n",
      "BF_9Nmar.ipynb: 95.97794217534606\n",
      "VS_9Nmar.ipynb: 79.38670464600995\n",
      "ST_9Nmar.ipynb: 79.01801929306289\n",
      "RF_10Nmar.ipynb: 90.688688939238\n",
      "BF_10Nmar.ipynb: 96.44796991837373\n",
      "VS_10Nmar.ipynb: 79.59836026729741\n",
      "ST_10Nmar.ipynb: 85.10408102542928\n",
      "RF_11Nmar.ipynb: 48.82412354108366\n",
      "BF_11Nmar.ipynb: 87.38473815370124\n",
      "VS_11Nmar.ipynb: 31.573900922194\n",
      "ST_11Nmar.ipynb: 107.78195284910353\n",
      "RF_1Amar.ipynb: 57.63924841372087\n",
      "BF_1Amar.ipynb: 78.55595496945722\n",
      "VS_1Amar.ipynb: 42.69981724661547\n",
      "ST_1Amar.ipynb: 85.68286461443513\n",
      "RF_2Amar.ipynb: 34.09372194731515\n",
      "BF_2Amar.ipynb: 104.5025692074311\n",
      "VS_2Amar.ipynb: 38.87151153592394\n",
      "ST_2Amar.ipynb: 87.88601937185668\n",
      "RF_3Amar.ipynb: 63.92787325186846\n",
      "BF_3Amar.ipynb: 99.02053895579756\n",
      "VS_3Amar.ipynb: 36.044234045094626\n",
      "ST_3Amar.ipynb: 105.69251822855297\n",
      "RF_4Amar.ipynb: 44.92300555059238\n",
      "BF_4Amar.ipynb: 72.93304590085845\n",
      "VS_4Amar.ipynb: 42.96441798089563\n",
      "ST_4Amar.ipynb: 126.74225520603522\n",
      "RF_5Amar.ipynb: 51.20681095417135\n",
      "BF_5Amar.ipynb: 95.39005471056426\n",
      "VS_5Amar.ipynb: 51.60867229527186\n",
      "ST_5Amar.ipynb: 124.77680229385132\n",
      "RF_6Amar.ipynb: 53.86738877420673\n",
      "BF_6Amar.ipynb: 84.52329711030347\n",
      "VS_6Amar.ipynb: 71.79213244312483\n",
      "ST_6Amar.ipynb: 130.38708915801905\n",
      "RF_7Amar.ipynb: 37.07798951797618\n",
      "BF_7Amar.ipynb: 87.0396087950552\n",
      "VS_7Amar.ipynb: 31.165866009514588\n",
      "ST_7Amar.ipynb: 108.75857505537456\n",
      "RF_8Amar.ipynb: 37.2828626269372\n",
      "BF_8Amar.ipynb: 99.302241461094\n",
      "VS_8Amar.ipynb: 43.06723453876149\n",
      "ST_8Amar.ipynb: 77.28886193619695\n",
      "RF_9Amar.ipynb: 91.91319144458991\n",
      "BF_9Amar.ipynb: 99.27532706031745\n",
      "VS_9Amar.ipynb: 71.70081735930799\n",
      "ST_9Amar.ipynb: 126.72014124558741\n",
      "RF_10Amar.ipynb: 90.39885533497373\n",
      "BF_10Amar.ipynb: 101.0866087967617\n",
      "VS_10Amar.ipynb: 80.31336767703034\n",
      "ST_10Amar.ipynb: 115.67303798045546\n",
      "RF_11Amar.ipynb: 87.71138127830996\n",
      "BF_11Amar.ipynb: 79.92824409840206\n",
      "VS_11Amar.ipynb: 32.65978368766796\n",
      "ST_11Amar.ipynb: 109.86791546188503\n"
     ]
    }
   ],
   "source": [
    "# Print results for all files\n",
    "for file_name, average_cycle_time in results.items():\n",
    "    print(f\"{file_name}: {average_cycle_time}\")"
   ]
  },
  {
   "cell_type": "code",
   "execution_count": 5,
   "id": "a317fe1e",
   "metadata": {},
   "outputs": [
    {
     "name": "stdout",
     "output_type": "stream",
     "text": [
      "RF_N: [61.82239714231161, 65.6319051354408, 73.90366756006159, 67.64032640165303, 88.71243438640636, 90.62775359623315, 48.10438866552722, 77.05081019329224, 82.62820022413294, 90.688688939238, 48.82412354108366]\n",
      "RF_A: [57.63924841372087, 34.09372194731515, 63.92787325186846, 44.92300555059238, 51.20681095417135, 53.86738877420673, 37.07798951797618, 37.2828626269372, 91.91319144458991, 90.39885533497373, 87.71138127830996]\n",
      "BF_N: [69.52056514917325, 82.71368034814955, 101.72058919529145, 77.42156274985727, 87.32975064917733, 92.55695832886617, 77.90699420596383, 87.32085413108122, 95.97794217534606, 96.44796991837373, 87.38473815370124]\n",
      "BF_A: [78.55595496945722, 104.5025692074311, 99.02053895579756, 72.93304590085845, 95.39005471056426, 84.52329711030347, 87.0396087950552, 99.302241461094, 99.27532706031745, 101.0866087967617, 79.92824409840206]\n",
      "VS_N: [56.22231321541992, 56.68659609295088, 63.57297068388401, 74.23955798564216, 69.91773045651342, 80.12219911291982, 41.88882450214972, 34.91647373463856, 79.38670464600995, 79.59836026729741, 31.573900922194]\n",
      "VS_A: [42.69981724661547, 38.87151153592394, 36.044234045094626, 42.96441798089563, 51.60867229527186, 71.79213244312483, 31.165866009514588, 43.06723453876149, 71.70081735930799, 80.31336767703034, 32.65978368766796]\n",
      "ST_N: [83.29321977241379, 62.29543050718941, 84.92617309461518, 99.60246903336706, 82.04283254364202, 94.68702454124661, 111.51950100648911, 77.93836249202414, 79.01801929306289, 85.10408102542928, 107.78195284910353]\n",
      "ST_A: [85.68286461443513, 87.88601937185668, 105.69251822855297, 126.74225520603522, 124.77680229385132, 130.38708915801905, 108.75857505537456, 77.28886193619695, 126.72014124558741, 115.67303798045546, 109.86791546188503]\n"
     ]
    }
   ],
   "source": [
    "RF_N=[]\n",
    "RF_A=[]\n",
    "BF_N=[]\n",
    "BF_A=[]\n",
    "VS_N=[]\n",
    "VS_A=[]\n",
    "ST_N=[]\n",
    "ST_A=[]\n",
    "\n",
    "for file_name, data in results.items():\n",
    "    if file_name.startswith('RF_1Amar') or file_name.startswith('RF_2Amar') or file_name.startswith('RF_3Amar') or file_name.startswith('RF_4Amar') or file_name.startswith('RF_5Amar') or file_name.startswith('RF_6Amar') or file_name.startswith('RF_7Amar') or file_name.startswith('RF_8Amar') or file_name.startswith('RF_9Amar') or file_name.startswith('RF_10Amar') or file_name.startswith('RF_11Amar'):\n",
    "        RF_A.append(float(data))\n",
    "    elif file_name.startswith('RF_1Nmar') or file_name.startswith('RF_2Nmar') or file_name.startswith('RF_3Nmar') or file_name.startswith('RF_4Nmar') or file_name.startswith('RF_5Nmar') or file_name.startswith('RF_6Nmar') or file_name.startswith('RF_7Nmar') or file_name.startswith('RF_8Nmar') or file_name.startswith('RF_9Nmar') or file_name.startswith('RF_10Nmar') or file_name.startswith('RF_11Nmar'):\n",
    "        RF_N.append(float(data))\n",
    "    elif file_name.startswith('BF_1Amar') or file_name.startswith('BF_2Amar') or file_name.startswith('BF_3Amar') or file_name.startswith('BF_4Amar') or file_name.startswith('BF_5Amar') or file_name.startswith('BF_6Amar') or file_name.startswith('BF_7Amar') or file_name.startswith('BF_8Amar') or file_name.startswith('BF_9Amar') or file_name.startswith('BF_10Amar') or file_name.startswith('BF_11Amar'):\n",
    "        BF_A.append(float(data))\n",
    "    elif file_name.startswith('BF_1Nmar') or file_name.startswith('BF_2Nmar') or file_name.startswith('BF_3Nmar') or file_name.startswith('BF_4Nmar') or file_name.startswith('BF_5Nmar') or file_name.startswith('BF_6Nmar') or file_name.startswith('BF_7Nmar') or file_name.startswith('BF_8Nmar') or file_name.startswith('BF_9Nmar') or file_name.startswith('BF_10Nmar') or file_name.startswith('BF_11Nmar'):\n",
    "        BF_N.append(float(data))\n",
    "    elif file_name.startswith('VS_1Amar') or file_name.startswith('VS_2Amar') or file_name.startswith('VS_3Amar') or file_name.startswith('VS_4Amar') or file_name.startswith('VS_5Amar') or file_name.startswith('VS_6Amar') or file_name.startswith('VS_7Amar') or file_name.startswith('VS_8Amar') or file_name.startswith('VS_9Amar') or file_name.startswith('VS_10Amar') or file_name.startswith('VS_11Amar'):\n",
    "        VS_A.append(float(data))\n",
    "    elif file_name.startswith('VS_1Nmar') or file_name.startswith('VS_2Nmar') or file_name.startswith('VS_3Nmar') or file_name.startswith('VS_4Nmar') or file_name.startswith('VS_5Nmar') or file_name.startswith('VS_6Nmar') or file_name.startswith('VS_7Nmar') or file_name.startswith('VS_8Nmar') or file_name.startswith('VS_9Nmar') or file_name.startswith('VS_10Nmar') or file_name.startswith('VS_11Nmar'):\n",
    "        VS_N.append(float(data))\n",
    "    elif file_name.startswith('ST_1Amar') or file_name.startswith('ST_2Amar') or file_name.startswith('ST_3Amar') or file_name.startswith('ST_4Amar') or file_name.startswith('ST_5Amar') or file_name.startswith('ST_6Amar') or file_name.startswith('ST_7Amar') or file_name.startswith('ST_8Amar') or file_name.startswith('ST_9Amar') or file_name.startswith('ST_10Amar') or file_name.startswith('ST_11Amar'):\n",
    "        ST_A.append(float(data))\n",
    "    elif file_name.startswith('ST_1Nmar') or file_name.startswith('ST_2Nmar') or file_name.startswith('ST_3Nmar') or file_name.startswith('ST_4Nmar') or file_name.startswith('ST_5Nmar') or file_name.startswith('ST_6Nmar') or file_name.startswith('ST_7Nmar') or file_name.startswith('ST_8Nmar') or file_name.startswith('ST_9Nmar') or file_name.startswith('ST_10Nmar') or file_name.startswith('ST_11Nmar'):\n",
    "        ST_N.append(float(data))\n",
    "\n",
    "print(\"RF_N:\", RF_N)\n",
    "print(\"RF_A:\", RF_A)\n",
    "print(\"BF_N:\", BF_N)\n",
    "print(\"BF_A:\", BF_A)\n",
    "print(\"VS_N:\", VS_N)\n",
    "print(\"VS_A:\", VS_A)\n",
    "print(\"ST_N:\", ST_N)\n",
    "print(\"ST_A:\", ST_A)"
   ]
  },
  {
   "cell_type": "code",
   "execution_count": 7,
   "id": "a1905124",
   "metadata": {},
   "outputs": [
    {
     "name": "stdout",
     "output_type": "stream",
     "text": [
      "mean_mf_RF_N: 72.33042688958005\n",
      "mean_mf_RF_A: 59.09475719042381\n",
      "std_mf_RF_N: 14.733149113179023\n",
      "std_mf_RF_A: 20.839902865182733\n",
      "mean_mf_BF_N: 86.93650954590737\n",
      "mean_mf_BF_A: 91.05068100600384\n",
      "std_mf_BF_N: 9.125841787775878\n",
      "std_mf_BF_A: 10.297951779817437\n",
      "mean_mf_VS_N: 60.738693783601796\n",
      "mean_mf_VS_A: 49.3534413472008\n",
      "std_mf_VS_N: 17.22372500574677\n",
      "std_mf_VS_A: 16.480241230815626\n",
      "mean_mf_ST_N: 88.01900601441663\n",
      "mean_mf_ST_A: 109.04328005020453\n",
      "std_mf_ST_N: 13.624630102826508\n",
      "std_mf_ST_A: 17.5459168695057\n"
     ]
    }
   ],
   "source": [
    "mean_mf_RF_N = np.mean(RF_N)\n",
    "mean_mf_RF_A = np.mean(RF_A)\n",
    "mean_mf_BF_N = np.mean(BF_N)\n",
    "mean_mf_BF_A = np.mean(BF_A)\n",
    "mean_mf_VS_N = np.mean(VS_N)\n",
    "mean_mf_VS_A = np.mean(VS_A)\n",
    "mean_mf_ST_N = np.mean(ST_N)\n",
    "mean_mf_ST_A = np.mean(ST_A)\n",
    "\n",
    "std_mf_RF_N = np.std(RF_N)\n",
    "std_mf_RF_A = np.std(RF_A)\n",
    "std_mf_BF_N = np.std(BF_N)\n",
    "std_mf_BF_A = np.std(BF_A)\n",
    "std_mf_VS_N = np.std(VS_N)\n",
    "std_mf_VS_A = np.std(VS_A)\n",
    "std_mf_ST_N = np.std(ST_N)\n",
    "std_mf_ST_A = np.std(ST_A)\n",
    "\n",
    "print(\"mean_mf_RF_N:\", mean_mf_RF_N)\n",
    "print(\"mean_mf_RF_A:\", mean_mf_RF_A)\n",
    "print(\"std_mf_RF_N:\", std_mf_RF_N)\n",
    "print(\"std_mf_RF_A:\", std_mf_RF_A)\n",
    "print(\"mean_mf_BF_N:\", mean_mf_BF_N)\n",
    "print(\"mean_mf_BF_A:\", mean_mf_BF_A)\n",
    "print(\"std_mf_BF_N:\", std_mf_BF_N)\n",
    "print(\"std_mf_BF_A:\", std_mf_BF_A)\n",
    "print(\"mean_mf_VS_N:\", mean_mf_VS_N)\n",
    "print(\"mean_mf_VS_A:\", mean_mf_VS_A)\n",
    "print(\"std_mf_VS_N:\", std_mf_VS_N)\n",
    "print(\"std_mf_VS_A:\", std_mf_VS_A)\n",
    "print(\"mean_mf_ST_N:\", mean_mf_ST_N)\n",
    "print(\"mean_mf_ST_A:\", mean_mf_ST_A)\n",
    "print(\"std_mf_ST_N:\", std_mf_ST_N)\n",
    "print(\"std_mf_ST_A:\", std_mf_ST_A)"
   ]
  },
  {
   "cell_type": "markdown",
   "id": "cb0eaeba",
   "metadata": {},
   "source": [
    "# RF"
   ]
  },
  {
   "cell_type": "code",
   "execution_count": 8,
   "id": "0ec0297d",
   "metadata": {},
   "outputs": [
    {
     "name": "stdout",
     "output_type": "stream",
     "text": [
      "RF_N :  [61.82239714231161, 65.6319051354408, 73.90366756006159, 67.64032640165303, 88.71243438640636, 90.62775359623315, 48.10438866552722, 77.05081019329224, 82.62820022413294, 90.688688939238, 48.82412354108366]\n",
      "RF_A :  [57.63924841372087, 34.09372194731515, 63.92787325186846, 44.92300555059238, 51.20681095417135, 53.86738877420673, 37.07798951797618, 37.2828626269372, 91.91319144458991, 90.39885533497373, 87.71138127830996]\n",
      "mean_rms_RF_N: 72.33042688958005\n",
      "mean_rms_RF_A: 59.09475719042381\n",
      "std_rms_RF_N: 14.733149113179023\n",
      "std_rms_RF_A: 20.839902865182733\n"
     ]
    }
   ],
   "source": [
    "print(\"RF_N : \",RF_N)\n",
    "print(\"RF_A : \",RF_A)\n",
    "print(\"mean_rms_RF_N:\", mean_mf_RF_N)\n",
    "print(\"mean_rms_RF_A:\", mean_mf_RF_A)\n",
    "print(\"std_rms_RF_N:\", std_mf_RF_N)\n",
    "print(\"std_rms_RF_A:\", std_mf_RF_A)"
   ]
  },
  {
   "cell_type": "code",
   "execution_count": 9,
   "id": "b5f25ed3",
   "metadata": {},
   "outputs": [
    {
     "name": "stderr",
     "output_type": "stream",
     "text": [
      "C:\\Users\\hoste\\AppData\\Local\\Temp\\ipykernel_42500\\1455702654.py:3: MatplotlibDeprecationWarning: The 'labels' parameter of boxplot() has been renamed 'tick_labels' since Matplotlib 3.9; support for the old name will be dropped in 3.11.\n",
      "  plt.boxplot([RF_A, RF_N], labels=['RF_A', 'RF_N'])\n"
     ]
    }
   ],
   "source": [
    "#Boxplot des deux groupes\n",
    "plt.figure(figsize=(10, 6))\n",
    "plt.boxplot([RF_A, RF_N], labels=['RF_A', 'RF_N'])\n",
    "plt.title('Boxplot du MF moyen (RF)')\n",
    "plt.ylabel('MF moyen (RF)')\n",
    "plt.grid(True)\n",
    "plt.savefig(\"graph_analyse/boxplot_MF_RF.png\", dpi=300, bbox_inches='tight')\n",
    "plt.show()\n",
    "\n",
    "#Histogramme des deux groupes\n",
    "plt.figure(figsize=(10, 6))\n",
    "plt.hist(RF_A, bins=10, alpha=0.5, label='RF_A', color='blue')\n",
    "plt.hist(RF_N, bins=10, alpha=0.5, label='RF_N', color='orange')\n",
    "plt.title('Histogramme du MF moyen (RF)')\n",
    "plt.xlabel('MF moyen (RF)')\n",
    "plt.ylabel('Fréquence')\n",
    "sns.kdeplot(RF_A, color='blue', label='Densité RF_A', linewidth=2)\n",
    "sns.kdeplot(RF_N, color='orange', label='Densité RF_N', linewidth=2)\n",
    "plt.legend()\n",
    "plt.grid(True)\n",
    "plt.savefig(\"graph_analyse/histogramme_MF_RF.png\", dpi=300, bbox_inches='tight')\n",
    "plt.show()"
   ]
  },
  {
   "cell_type": "code",
   "execution_count": 10,
   "id": "7a711829",
   "metadata": {},
   "outputs": [
    {
     "name": "stdout",
     "output_type": "stream",
     "text": [
      "Statistique U : 84.0000\n",
      "P-valeur Mann-Whitney : 0.1310\n",
      "Aucune différence significative entre les groupes\n"
     ]
    }
   ],
   "source": [
    "# Test de Mann-Whitney\n",
    "stat, p_value = stats.mannwhitneyu(RF_N, RF_A, alternative='two-sided')\n",
    "\n",
    "print(f\"Statistique U : {stat:.4f}\")\n",
    "print(f\"P-valeur Mann-Whitney : {p_value:.4f}\")\n",
    "\n",
    "alpha = 0.05  # Seuil de signification\n",
    "if p_value < alpha:\n",
    "    print(\"Différence significative entre les deux groupes\")\n",
    "else:\n",
    "    print(\"Aucune différence significative entre les groupes\")"
   ]
  },
  {
   "cell_type": "markdown",
   "id": "23490e80",
   "metadata": {},
   "source": [
    "# BF"
   ]
  },
  {
   "cell_type": "code",
   "execution_count": 11,
   "id": "85cd64ac",
   "metadata": {},
   "outputs": [
    {
     "name": "stdout",
     "output_type": "stream",
     "text": [
      "BF_N :  [69.52056514917325, 82.71368034814955, 101.72058919529145, 77.42156274985727, 87.32975064917733, 92.55695832886617, 77.90699420596383, 87.32085413108122, 95.97794217534606, 96.44796991837373, 87.38473815370124]\n",
      "BF_A :  [78.55595496945722, 104.5025692074311, 99.02053895579756, 72.93304590085845, 95.39005471056426, 84.52329711030347, 87.0396087950552, 99.302241461094, 99.27532706031745, 101.0866087967617, 79.92824409840206]\n",
      "mean_rms_BF_N: 86.93650954590737\n",
      "mean_rms_BF_A: 91.05068100600384\n",
      "std_rms_BF_N: 9.125841787775878\n",
      "std_rms_BF_A: 10.297951779817437\n"
     ]
    }
   ],
   "source": [
    "print(\"BF_N : \",BF_N)\n",
    "print(\"BF_A : \",BF_A)\n",
    "print(\"mean_rms_BF_N:\", mean_mf_BF_N)\n",
    "print(\"mean_rms_BF_A:\", mean_mf_BF_A)\n",
    "print(\"std_rms_BF_N:\", std_mf_BF_N)\n",
    "print(\"std_rms_BF_A:\", std_mf_BF_A)"
   ]
  },
  {
   "cell_type": "code",
   "execution_count": 12,
   "id": "7a977a51",
   "metadata": {},
   "outputs": [
    {
     "name": "stderr",
     "output_type": "stream",
     "text": [
      "C:\\Users\\hoste\\AppData\\Local\\Temp\\ipykernel_42500\\1721368148.py:3: MatplotlibDeprecationWarning: The 'labels' parameter of boxplot() has been renamed 'tick_labels' since Matplotlib 3.9; support for the old name will be dropped in 3.11.\n",
      "  plt.boxplot([BF_A, BF_N], labels=['BF_A', 'BF_N'])\n"
     ]
    }
   ],
   "source": [
    "#Boxplot des deux groupes\n",
    "plt.figure(figsize=(10, 6))\n",
    "plt.boxplot([BF_A, BF_N], labels=['BF_A', 'BF_N'])\n",
    "plt.title('Boxplot du MF moyen (BF)')\n",
    "plt.ylabel('MF moyen (BF)')\n",
    "plt.grid(True)\n",
    "plt.savefig(\"graph_analyse/boxplot_MF_BF.png\", dpi=300, bbox_inches='tight')\n",
    "plt.show()\n",
    "\n",
    "#Histogramme des deux groupes\n",
    "plt.figure(figsize=(10, 6))\n",
    "plt.hist(BF_A, bins=10, alpha=0.5, label='RF_A', color='blue')\n",
    "plt.hist(BF_N, bins=10, alpha=0.5, label='RF_N', color='orange')\n",
    "plt.title('Histogramme du MF moyen (BF)')\n",
    "plt.xlabel('MF moyen (BF)')\n",
    "plt.ylabel('Fréquence')\n",
    "sns.kdeplot(BF_A, color='blue', label='Densité BF_A', linewidth=2)\n",
    "sns.kdeplot(BF_N, color='orange', label='Densité BF_N', linewidth=2)\n",
    "plt.legend()\n",
    "plt.grid(True)\n",
    "plt.savefig(\"graph_analyse/histogramme_MF_BF.png\", dpi=300, bbox_inches='tight')\n",
    "plt.show()"
   ]
  },
  {
   "cell_type": "code",
   "execution_count": 13,
   "id": "35f3a1eb",
   "metadata": {},
   "outputs": [
    {
     "name": "stdout",
     "output_type": "stream",
     "text": [
      "Statistique U : 47.0000\n",
      "P-valeur Mann-Whitney : 0.3933\n",
      "Aucune différence significative entre les groupes\n"
     ]
    }
   ],
   "source": [
    "# Test de Mann-Whitney\n",
    "stat, p_value = stats.mannwhitneyu(BF_N, BF_A, alternative='two-sided')\n",
    "\n",
    "print(f\"Statistique U : {stat:.4f}\")\n",
    "print(f\"P-valeur Mann-Whitney : {p_value:.4f}\")\n",
    "\n",
    "alpha = 0.05  # Seuil de signification\n",
    "if p_value < alpha:\n",
    "    print(\"Différence significative entre les deux groupes\")\n",
    "else:\n",
    "    print(\"Aucune différence significative entre les groupes\")"
   ]
  },
  {
   "cell_type": "markdown",
   "id": "bdbf1a9e",
   "metadata": {},
   "source": [
    "# VS"
   ]
  },
  {
   "cell_type": "code",
   "execution_count": 14,
   "id": "ddaa1332",
   "metadata": {},
   "outputs": [
    {
     "name": "stdout",
     "output_type": "stream",
     "text": [
      "VS_N :  [56.22231321541992, 56.68659609295088, 63.57297068388401, 74.23955798564216, 69.91773045651342, 80.12219911291982, 41.88882450214972, 34.91647373463856, 79.38670464600995, 79.59836026729741, 31.573900922194]\n",
      "VS_A :  [42.69981724661547, 38.87151153592394, 36.044234045094626, 42.96441798089563, 51.60867229527186, 71.79213244312483, 31.165866009514588, 43.06723453876149, 71.70081735930799, 80.31336767703034, 32.65978368766796]\n",
      "mean_rms_VS_N: 60.738693783601796\n",
      "mean_rms_VS_A: 49.3534413472008\n",
      "std_rms_VS_N: 17.22372500574677\n",
      "std_rms_VS_A: 16.480241230815626\n"
     ]
    }
   ],
   "source": [
    "print(\"VS_N : \",VS_N)\n",
    "print(\"VS_A : \",VS_A)\n",
    "print(\"mean_rms_VS_N:\", mean_mf_VS_N)\n",
    "print(\"mean_rms_VS_A:\", mean_mf_VS_A)\n",
    "print(\"std_rms_VS_N:\", std_mf_VS_N)\n",
    "print(\"std_rms_VS_A:\", std_mf_VS_A)"
   ]
  },
  {
   "cell_type": "code",
   "execution_count": 15,
   "id": "df96a9ef",
   "metadata": {},
   "outputs": [
    {
     "name": "stderr",
     "output_type": "stream",
     "text": [
      "C:\\Users\\hoste\\AppData\\Local\\Temp\\ipykernel_42500\\235334700.py:3: MatplotlibDeprecationWarning: The 'labels' parameter of boxplot() has been renamed 'tick_labels' since Matplotlib 3.9; support for the old name will be dropped in 3.11.\n",
      "  plt.boxplot([VS_A, VS_N], labels=['VS_A', 'VS_N'])\n"
     ]
    }
   ],
   "source": [
    "#Boxplot des deux groupes\n",
    "plt.figure(figsize=(10, 6))\n",
    "plt.boxplot([VS_A, VS_N], labels=['VS_A', 'VS_N'])\n",
    "plt.title('Boxplot du MF moyen (VS)')\n",
    "plt.ylabel('MF moyen (VS)')\n",
    "plt.grid(True)\n",
    "plt.savefig(\"graph_analyse/boxplot_MF_VS.png\", dpi=300, bbox_inches='tight')\n",
    "plt.show()\n",
    "\n",
    "#Histogramme des deux groupes\n",
    "plt.figure(figsize=(10, 6))\n",
    "plt.hist(VS_A, bins=10, alpha=0.5, label='VS_A', color='blue')\n",
    "plt.hist(VS_N, bins=10, alpha=0.5, label='VS_N', color='orange')\n",
    "plt.title('Histogramme du MF moyen (VS)')\n",
    "plt.xlabel('MF moyen (VS)')\n",
    "plt.ylabel('Fréquence')\n",
    "sns.kdeplot(VS_A, color='blue', label='Densité VS_A', linewidth=2)\n",
    "sns.kdeplot(VS_N, color='orange', label='Densité VS_N', linewidth=2)\n",
    "plt.legend()\n",
    "plt.grid(True)\n",
    "plt.savefig(\"graph_analyse/histogramme_MF_VS.png\", dpi=300, bbox_inches='tight')\n",
    "plt.show()"
   ]
  },
  {
   "cell_type": "code",
   "execution_count": 16,
   "id": "d31eabcb",
   "metadata": {},
   "outputs": [
    {
     "name": "stdout",
     "output_type": "stream",
     "text": [
      "Statistique U : 79.0000\n",
      "P-valeur Mann-Whitney : 0.2372\n",
      "Aucune différence significative entre les groupes\n"
     ]
    }
   ],
   "source": [
    "# Test de Mann-Whitney\n",
    "stat, p_value = stats.mannwhitneyu(VS_N, VS_A, alternative='two-sided')\n",
    "\n",
    "print(f\"Statistique U : {stat:.4f}\")\n",
    "print(f\"P-valeur Mann-Whitney : {p_value:.4f}\")\n",
    "\n",
    "alpha = 0.05  # Seuil de signification\n",
    "if p_value < alpha:\n",
    "    print(\"Différence significative entre les deux groupes\")\n",
    "else:\n",
    "    print(\"Aucune différence significative entre les groupes\")"
   ]
  },
  {
   "cell_type": "markdown",
   "id": "ad913215",
   "metadata": {},
   "source": [
    "# ST"
   ]
  },
  {
   "cell_type": "code",
   "execution_count": 17,
   "id": "8dbeeb35",
   "metadata": {},
   "outputs": [
    {
     "name": "stdout",
     "output_type": "stream",
     "text": [
      "ST_N :  [83.29321977241379, 62.29543050718941, 84.92617309461518, 99.60246903336706, 82.04283254364202, 94.68702454124661, 111.51950100648911, 77.93836249202414, 79.01801929306289, 85.10408102542928, 107.78195284910353]\n",
      "ST_A :  [85.68286461443513, 87.88601937185668, 105.69251822855297, 126.74225520603522, 124.77680229385132, 130.38708915801905, 108.75857505537456, 77.28886193619695, 126.72014124558741, 115.67303798045546, 109.86791546188503]\n",
      "mean_rms_ST_N: 88.01900601441663\n",
      "mean_rms_ST_A: 109.04328005020453\n",
      "std_rms_ST_N: 13.624630102826508\n",
      "std_rms_ST_A: 17.5459168695057\n"
     ]
    }
   ],
   "source": [
    "print(\"ST_N : \",ST_N)\n",
    "print(\"ST_A : \",ST_A)\n",
    "print(\"mean_rms_ST_N:\", mean_mf_ST_N)\n",
    "print(\"mean_rms_ST_A:\", mean_mf_ST_A)\n",
    "print(\"std_rms_ST_N:\", std_mf_ST_N)\n",
    "print(\"std_rms_ST_A:\", std_mf_ST_A)"
   ]
  },
  {
   "cell_type": "code",
   "execution_count": 18,
   "id": "cc56ad27",
   "metadata": {},
   "outputs": [
    {
     "name": "stderr",
     "output_type": "stream",
     "text": [
      "C:\\Users\\hoste\\AppData\\Local\\Temp\\ipykernel_42500\\871687025.py:3: MatplotlibDeprecationWarning: The 'labels' parameter of boxplot() has been renamed 'tick_labels' since Matplotlib 3.9; support for the old name will be dropped in 3.11.\n",
      "  plt.boxplot([ST_A, ST_N], labels=['ST_A', 'ST_N'])\n"
     ]
    }
   ],
   "source": [
    "#Boxplot des deux groupes\n",
    "plt.figure(figsize=(10, 6))\n",
    "plt.boxplot([ST_A, ST_N], labels=['ST_A', 'ST_N'])\n",
    "plt.title('Boxplot du MF moyen (ST)')\n",
    "plt.ylabel('MF moyen (ST)')\n",
    "plt.grid(True)\n",
    "plt.savefig(\"graph_analyse/boxplot_MF_ST.png\", dpi=300, bbox_inches='tight')\n",
    "plt.show()\n",
    "\n",
    "#Histogramme des deux groupes\n",
    "plt.figure(figsize=(10, 6))\n",
    "plt.hist(ST_A, bins=10, alpha=0.5, label='ST_A', color='blue')\n",
    "plt.hist(ST_N, bins=10, alpha=0.5, label='ST_N', color='orange')\n",
    "plt.title('Histogramme du MF moyen (ST)')\n",
    "plt.xlabel('MF moyen (ST)')\n",
    "plt.ylabel('Fréquence')\n",
    "sns.kdeplot(ST_A, color='blue', label='Densité ST_A', linewidth=2)\n",
    "sns.kdeplot(ST_N, color='orange', label='Densité ST_N', linewidth=2)\n",
    "plt.legend()\n",
    "plt.grid(True)\n",
    "plt.savefig(\"graph_analyse/histogramme_MF_ST.png\", dpi=300, bbox_inches='tight')\n",
    "plt.show()"
   ]
  },
  {
   "cell_type": "code",
   "execution_count": 19,
   "id": "b1d4057c",
   "metadata": {},
   "outputs": [
    {
     "name": "stdout",
     "output_type": "stream",
     "text": [
      "Statistique U : 22.0000\n",
      "P-valeur Mann-Whitney : 0.0126\n",
      "Différence significative entre les deux groupes\n"
     ]
    }
   ],
   "source": [
    "# Test de Mann-Whitney\n",
    "stat, p_value = stats.mannwhitneyu(ST_N, ST_A, alternative='two-sided')\n",
    "\n",
    "print(f\"Statistique U : {stat:.4f}\")\n",
    "print(f\"P-valeur Mann-Whitney : {p_value:.4f}\")\n",
    "\n",
    "alpha = 0.05  # Seuil de signification\n",
    "if p_value < alpha:\n",
    "    print(\"Différence significative entre les deux groupes\")\n",
    "else:\n",
    "    print(\"Aucune différence significative entre les groupes\")"
   ]
  },
  {
   "cell_type": "code",
   "execution_count": null,
   "id": "02a298de",
   "metadata": {},
   "outputs": [],
   "source": []
  }
 ],
 "metadata": {
  "kernelspec": {
   "display_name": "MY_HUGO_SAUNIER",
   "language": "python",
   "name": "python3"
  },
  "language_info": {
   "codemirror_mode": {
    "name": "ipython",
    "version": 3
   },
   "file_extension": ".py",
   "mimetype": "text/x-python",
   "name": "python",
   "nbconvert_exporter": "python",
   "pygments_lexer": "ipython3",
   "version": "3.12.5"
  }
 },
 "nbformat": 4,
 "nbformat_minor": 5
}
