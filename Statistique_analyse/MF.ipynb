{
 "cells": [
  {
   "cell_type": "code",
   "execution_count": 1,
   "id": "0d202e99",
   "metadata": {},
   "outputs": [],
   "source": [
    "from import_all import *"
   ]
  },
  {
   "cell_type": "code",
   "execution_count": 2,
   "id": "952043e1",
   "metadata": {},
   "outputs": [
    {
     "name": "stdout",
     "output_type": "stream",
     "text": [
      "Notebook 1Nmar.ipynb imported successfully.\n",
      "Notebook 2Nmar.ipynb imported successfully.\n",
      "Notebook 3Nmar.ipynb imported successfully.\n",
      "Notebook 4Nmar.ipynb imported successfully.\n",
      "Notebook 5Nmar.ipynb imported successfully.\n",
      "Notebook 6Nmar.ipynb imported successfully.\n",
      "Notebook 7Nmar.ipynb imported successfully.\n",
      "Notebook 8Nmar.ipynb imported successfully.\n",
      "Notebook 9Nmar.ipynb imported successfully.\n",
      "Notebook 10Nmar.ipynb imported successfully.\n",
      "Notebook 11Nmar.ipynb imported successfully.\n",
      "Notebook 1Amar.ipynb imported successfully.\n",
      "Notebook 2Amar.ipynb imported successfully.\n",
      "Notebook 3Amar.ipynb imported successfully.\n",
      "Notebook 4Amar.ipynb imported successfully.\n",
      "Notebook 5Amar.ipynb imported successfully.\n",
      "Notebook 6Amar.ipynb imported successfully.\n",
      "Notebook 7Amar.ipynb imported successfully.\n",
      "Notebook 8Amar.ipynb imported successfully.\n",
      "Notebook 9Amar.ipynb imported successfully.\n",
      "Notebook 10Amar.ipynb imported successfully.\n",
      "Notebook 11Amar.ipynb imported successfully.\n"
     ]
    }
   ],
   "source": [
    "# List of .ipynb files to process\n",
    "notebook_files_N = [f\"{i}Nmar.ipynb\" for i in range(1, 12)]\n",
    "notebook_files_A = [f\"{i}Amar.ipynb\" for i in range(1, 12)]\n",
    "\n",
    "# Dictionary to store results\n",
    "results = {}\n",
    "\n",
    "# Process Normal_analyse notebooks\n",
    "for file_name in notebook_files_N:\n",
    "    try:\n",
    "        # Load the .ipynb file\n",
    "        with open(\"../Normal_analyse/\"+file_name, 'r', encoding='utf-8') as f:\n",
    "            notebook = read(f, as_version=4)\n",
    "        print(f\"Notebook {file_name} imported successfully.\")\n",
    "    except FileNotFoundError:\n",
    "        # Handle missing file error\n",
    "        print(f\"Error: The file '{file_name}' was not found. Please ensure it exists in the current directory.\")\n",
    "        continue\n",
    "\n",
    "    # Dictionary to store variables from the notebook\n",
    "    global_vars = {}\n",
    "\n",
    "    # Backup stdout and stderr to suppress output\n",
    "    stdout_backup = sys.stdout\n",
    "    stderr_backup = sys.stderr\n",
    "    sys.stdout = io.StringIO()  # Capture standard output\n",
    "    sys.stderr = io.StringIO()  # Capture errors\n",
    "\n",
    "    # Disable interactive Matplotlib display\n",
    "    plt.ioff()\n",
    "\n",
    "    # Override `plt.show()` and `display()` to suppress visual outputs\n",
    "    with patch(\"matplotlib.pyplot.show\"), patch(\"IPython.display.display\"):\n",
    "        # Execute all code cells without displaying outputs\n",
    "        for cell in notebook.cells:\n",
    "            if cell.cell_type == \"code\":\n",
    "                exec(cell.source, global_vars)\n",
    "\n",
    "    # Restore normal output\n",
    "    sys.stdout = stdout_backup\n",
    "    sys.stderr = stderr_backup\n",
    "    plt.ion()  # Re-enable interactive display\n",
    "    plt.close(\"all\")  # Close all figures in memory\n",
    "\n",
    "    # Retrieve data from the notebook\n",
    "    mf_RF = global_vars.get(\"mf_RF\", \"Variable not found\")\n",
    "    mf_BF = global_vars.get(\"mf_BF\", \"Variable not found\")\n",
    "    mf_VS = global_vars.get(\"mf_VM\", \"Variable not found\")\n",
    "    mf_ST = global_vars.get(\"mf_ST\", \"Variable not found\")\n",
    "\n",
    "    # Store results in the dictionary\n",
    "    results[\"RF_\"+file_name] = mf_RF\n",
    "    results[\"BF_\"+file_name] = mf_BF\n",
    "    results[\"VS_\"+file_name] = mf_VS\n",
    "    results[\"ST_\"+file_name] = mf_ST\n",
    "\n",
    "# Process Patient_analyse notebooks\n",
    "for file_name in notebook_files_A:\n",
    "    try:\n",
    "        # Load the .ipynb file\n",
    "        with open(\"../Patient_analyse/\"+file_name, 'r', encoding='utf-8') as f:\n",
    "            notebook = read(f, as_version=4)\n",
    "        print(f\"Notebook {file_name} imported successfully.\")\n",
    "    except FileNotFoundError:\n",
    "        # Handle missing file error\n",
    "        print(f\"Error: The file '{file_name}' was not found. Please ensure it exists in the current directory.\")\n",
    "        continue\n",
    "\n",
    "    # Dictionary to store variables from the notebook\n",
    "    global_vars = {}\n",
    "\n",
    "    # Backup stdout and stderr to suppress output\n",
    "    stdout_backup = sys.stdout\n",
    "    stderr_backup = sys.stderr\n",
    "    sys.stdout = io.StringIO()  # Capture standard output\n",
    "    sys.stderr = io.StringIO()  # Capture errors\n",
    "\n",
    "    # Disable interactive Matplotlib display\n",
    "    plt.ioff()\n",
    "\n",
    "    # Override `plt.show()` and `display()` to suppress visual outputs\n",
    "    with patch(\"matplotlib.pyplot.show\"), patch(\"IPython.display.display\"):\n",
    "        # Execute all code cells without displaying outputs\n",
    "        for cell in notebook.cells:\n",
    "            if cell.cell_type == \"code\":\n",
    "                exec(cell.source, global_vars)\n",
    "\n",
    "    # Restore normal output\n",
    "    sys.stdout = stdout_backup\n",
    "    sys.stderr = stderr_backup\n",
    "    plt.ion()  # Re-enable interactive display\n",
    "    plt.close(\"all\")  # Close all figures in memory\n",
    "\n",
    "    # Retrieve data from the notebook\n",
    "    mf_RF = global_vars.get(\"mf_RF\", \"Variable not found\")\n",
    "    mf_BF = global_vars.get(\"mf_BF\", \"Variable not found\")\n",
    "    mf_VS = global_vars.get(\"mf_VM\", \"Variable not found\")\n",
    "    mf_ST = global_vars.get(\"mf_ST\", \"Variable not found\")\n",
    "\n",
    "    # Store results in the dictionary\n",
    "    results[\"RF_\"+file_name] = mf_RF\n",
    "    results[\"BF_\"+file_name] = mf_BF\n",
    "    results[\"VS_\"+file_name] = mf_VS\n",
    "    results[\"ST_\"+file_name] = mf_ST\n"
   ]
  },
  {
   "cell_type": "code",
   "execution_count": 4,
   "id": "a317fe1e",
   "metadata": {},
   "outputs": [
    {
     "name": "stdout",
     "output_type": "stream",
     "text": [
      "RF_N: [61.82239714231161, 65.6319051354408, 73.90366756006159, 67.64032640165303, 88.71243438640636, 90.62775359623315, 48.10438866552722, 77.05081019329224, 82.62820022413294, 90.688688939238, 48.82412354108366]\n",
      "RF_A: [57.63924841372087, 34.09372194731515, 63.92787325186846, 44.92300555059238, 51.20681095417135, 53.86738877420673, 37.07798951797618, 37.2828626269372, 91.91319144458991, 90.39885533497373, 87.71138127830996]\n",
      "BF_N: [69.52056514917325, 82.71368034814955, 101.72058919529145, 77.42156274985727, 87.32975064917733, 92.55695832886617, 77.90699420596383, 87.32085413108122, 95.97794217534606, 96.44796991837373, 87.38473815370124]\n",
      "BF_A: [78.55595496945722, 104.5025692074311, 99.02053895579756, 72.93304590085845, 95.39005471056426, 84.52329711030347, 87.0396087950552, 99.302241461094, 99.27532706031745, 101.0866087967617, 79.92824409840206]\n",
      "VS_N: [56.22231321541992, 56.68659609295088, 63.57297068388401, 74.23955798564216, 69.91773045651342, 80.12219911291982, 41.88882450214972, 34.91647373463856, 79.38670464600995, 79.59836026729741, 31.573900922194]\n",
      "VS_A: [42.69981724661547, 38.87151153592394, 36.044234045094626, 42.96441798089563, 51.60867229527186, 71.79213244312483, 31.165866009514588, 43.06723453876149, 71.70081735930799, 80.31336767703034, 32.65978368766796]\n",
      "ST_N: [83.29321977241379, 62.29543050718941, 84.92617309461518, 99.60246903336706, 82.04283254364202, 94.68702454124661, 111.51950100648911, 77.93836249202414, 79.01801929306289, 85.10408102542928, 107.78195284910353]\n",
      "ST_A: [85.68286461443513, 87.88601937185668, 105.69251822855297, 126.74225520603522, 124.77680229385132, 130.38708915801905, 108.75857505537456, 77.28886193619695, 126.72014124558741, 115.67303798045546, 109.86791546188503]\n"
     ]
    }
   ],
   "source": [
    "# Initialize empty lists to store data for each group and muscle\n",
    "RF_N = []  # RF data for the Normal group\n",
    "RF_A = []  # RF data for the Patient group\n",
    "BF_N = []  # BF data for the Normal group\n",
    "BF_A = []  # BF data for the Patient group\n",
    "VS_N = []  # VS data for the Normal group\n",
    "VS_A = []  # VS data for the Patient group\n",
    "ST_N = []  # ST data for the Normal group\n",
    "ST_A = []  # ST data for the Patient group\n",
    "\n",
    "# Iterate through the results dictionary to classify and store data\n",
    "for file_name, data in results.items():\n",
    "    # Check if the file corresponds to RF data for the Patient group\n",
    "    if file_name.startswith('RF_1Amar') or file_name.startswith('RF_2Amar') or file_name.startswith('RF_3Amar') or file_name.startswith('RF_4Amar') or file_name.startswith('RF_5Amar') or file_name.startswith('RF_6Amar') or file_name.startswith('RF_7Amar') or file_name.startswith('RF_8Amar') or file_name.startswith('RF_9Amar') or file_name.startswith('RF_10Amar') or file_name.startswith('RF_11Amar'):\n",
    "        RF_A.append(float(data))\n",
    "    # Check if the file corresponds to RF data for the Normal group\n",
    "    elif file_name.startswith('RF_1Nmar') or file_name.startswith('RF_2Nmar') or file_name.startswith('RF_3Nmar') or file_name.startswith('RF_4Nmar') or file_name.startswith('RF_5Nmar') or file_name.startswith('RF_6Nmar') or file_name.startswith('RF_7Nmar') or file_name.startswith('RF_8Nmar') or file_name.startswith('RF_9Nmar') or file_name.startswith('RF_10Nmar') or file_name.startswith('RF_11Nmar'):\n",
    "        RF_N.append(float(data))\n",
    "    # Check if the file corresponds to BF data for the Patient group\n",
    "    elif file_name.startswith('BF_1Amar') or file_name.startswith('BF_2Amar') or file_name.startswith('BF_3Amar') or file_name.startswith('BF_4Amar') or file_name.startswith('BF_5Amar') or file_name.startswith('BF_6Amar') or file_name.startswith('BF_7Amar') or file_name.startswith('BF_8Amar') or file_name.startswith('BF_9Amar') or file_name.startswith('BF_10Amar') or file_name.startswith('BF_11Amar'):\n",
    "        BF_A.append(float(data))\n",
    "    # Check if the file corresponds to BF data for the Normal group\n",
    "    elif file_name.startswith('BF_1Nmar') or file_name.startswith('BF_2Nmar') or file_name.startswith('BF_3Nmar') or file_name.startswith('BF_4Nmar') or file_name.startswith('BF_5Nmar') or file_name.startswith('BF_6Nmar') or file_name.startswith('BF_7Nmar') or file_name.startswith('BF_8Nmar') or file_name.startswith('BF_9Nmar') or file_name.startswith('BF_10Nmar') or file_name.startswith('BF_11Nmar'):\n",
    "        BF_N.append(float(data))\n",
    "    # Check if the file corresponds to VS data for the Patient group\n",
    "    elif file_name.startswith('VS_1Amar') or file_name.startswith('VS_2Amar') or file_name.startswith('VS_3Amar') or file_name.startswith('VS_4Amar') or file_name.startswith('VS_5Amar') or file_name.startswith('VS_6Amar') or file_name.startswith('VS_7Amar') or file_name.startswith('VS_8Amar') or file_name.startswith('VS_9Amar') or file_name.startswith('VS_10Amar') or file_name.startswith('VS_11Amar'):\n",
    "        VS_A.append(float(data))\n",
    "    # Check if the file corresponds to VS data for the Normal group\n",
    "    elif file_name.startswith('VS_1Nmar') or file_name.startswith('VS_2Nmar') or file_name.startswith('VS_3Nmar') or file_name.startswith('VS_4Nmar') or file_name.startswith('VS_5Nmar') or file_name.startswith('VS_6Nmar') or file_name.startswith('VS_7Nmar') or file_name.startswith('VS_8Nmar') or file_name.startswith('VS_9Nmar') or file_name.startswith('VS_10Nmar') or file_name.startswith('VS_11Nmar'):\n",
    "        VS_N.append(float(data))\n",
    "    # Check if the file corresponds to ST data for the Patient group\n",
    "    elif file_name.startswith('ST_1Amar') or file_name.startswith('ST_2Amar') or file_name.startswith('ST_3Amar') or file_name.startswith('ST_4Amar') or file_name.startswith('ST_5Amar') or file_name.startswith('ST_6Amar') or file_name.startswith('ST_7Amar') or file_name.startswith('ST_8Amar') or file_name.startswith('ST_9Amar') or file_name.startswith('ST_10Amar') or file_name.startswith('ST_11Amar'):\n",
    "        ST_A.append(float(data))\n",
    "    # Check if the file corresponds to ST data for the Normal group\n",
    "    elif file_name.startswith('ST_1Nmar') or file_name.startswith('ST_2Nmar') or file_name.startswith('ST_3Nmar') or file_name.startswith('ST_4Nmar') or file_name.startswith('ST_5Nmar') or file_name.startswith('ST_6Nmar') or file_name.startswith('ST_7Nmar') or file_name.startswith('ST_8Nmar') or file_name.startswith('ST_9Nmar') or file_name.startswith('ST_10Nmar') or file_name.startswith('ST_11Nmar'):\n",
    "        ST_N.append(float(data))\n",
    "\n",
    "# Print the categorized data for each group and muscle\n",
    "print(\"RF_N:\", RF_N)\n",
    "print(\"RF_A:\", RF_A)\n",
    "print(\"BF_N:\", BF_N)\n",
    "print(\"BF_A:\", BF_A)\n",
    "print(\"VS_N:\", VS_N)\n",
    "print(\"VS_A:\", VS_A)\n",
    "print(\"ST_N:\", ST_N)\n",
    "print(\"ST_A:\", ST_A)"
   ]
  },
  {
   "cell_type": "code",
   "execution_count": 5,
   "id": "a1905124",
   "metadata": {},
   "outputs": [],
   "source": [
    "# Calculate the mean of the MF (Mean Frequency) for each group and muscle\n",
    "mean_mf_RF_N = np.mean(RF_N)\n",
    "mean_mf_RF_A = np.mean(RF_A)\n",
    "mean_mf_BF_N = np.mean(BF_N)\n",
    "mean_mf_BF_A = np.mean(BF_A)\n",
    "mean_mf_VS_N = np.mean(VS_N)\n",
    "mean_mf_VS_A = np.mean(VS_A)\n",
    "mean_mf_ST_N = np.mean(ST_N)\n",
    "mean_mf_ST_A = np.mean(ST_A)\n",
    "\n",
    "# Calculate the standard deviation of the MF for each group and muscle\n",
    "std_mf_RF_N = np.std(RF_N)\n",
    "std_mf_RF_A = np.std(RF_A)\n",
    "std_mf_BF_N = np.std(BF_N)\n",
    "std_mf_BF_A = np.std(BF_A)\n",
    "std_mf_VS_N = np.std(VS_N)\n",
    "std_mf_VS_A = np.std(VS_A)\n",
    "std_mf_ST_N = np.std(ST_N)\n",
    "std_mf_ST_A = np.std(ST_A)"
   ]
  },
  {
   "cell_type": "markdown",
   "id": "cb0eaeba",
   "metadata": {},
   "source": [
    "# RF"
   ]
  },
  {
   "cell_type": "code",
   "execution_count": 6,
   "id": "0ec0297d",
   "metadata": {},
   "outputs": [
    {
     "name": "stdout",
     "output_type": "stream",
     "text": [
      "RF_N :  [61.82239714231161, 65.6319051354408, 73.90366756006159, 67.64032640165303, 88.71243438640636, 90.62775359623315, 48.10438866552722, 77.05081019329224, 82.62820022413294, 90.688688939238, 48.82412354108366]\n",
      "RF_A :  [57.63924841372087, 34.09372194731515, 63.92787325186846, 44.92300555059238, 51.20681095417135, 53.86738877420673, 37.07798951797618, 37.2828626269372, 91.91319144458991, 90.39885533497373, 87.71138127830996]\n",
      "mean_rms_RF_N: 72.33042688958005\n",
      "mean_rms_RF_A: 59.09475719042381\n",
      "std_rms_RF_N: 14.733149113179023\n",
      "std_rms_RF_A: 20.839902865182733\n"
     ]
    }
   ],
   "source": [
    "print(\"RF_N : \",RF_N)\n",
    "print(\"RF_A : \",RF_A)\n",
    "print(\"mean_rms_RF_N:\", mean_mf_RF_N)\n",
    "print(\"mean_rms_RF_A:\", mean_mf_RF_A)\n",
    "print(\"std_rms_RF_N:\", std_mf_RF_N)\n",
    "print(\"std_rms_RF_A:\", std_mf_RF_A)"
   ]
  },
  {
   "cell_type": "code",
   "execution_count": 7,
   "id": "b5f25ed3",
   "metadata": {},
   "outputs": [
    {
     "name": "stderr",
     "output_type": "stream",
     "text": [
      "C:\\Users\\hoste\\AppData\\Local\\Temp\\ipykernel_54356\\44257394.py:3: MatplotlibDeprecationWarning: The 'labels' parameter of boxplot() has been renamed 'tick_labels' since Matplotlib 3.9; support for the old name will be dropped in 3.11.\n",
      "  plt.boxplot([RF_A, RF_N], labels=['Patient Group (RF_A)', 'Normal Group (RF_N)'])\n"
     ]
    }
   ],
   "source": [
    "# Boxplot of the two groups\n",
    "plt.figure(figsize=(10, 6))\n",
    "plt.boxplot([RF_A, RF_N], labels=['Patient Group (RF_A)', 'Normal Group (RF_N)'])\n",
    "plt.title('Boxplot of the Mean Frequency (MF) for the RF Muscle')\n",
    "plt.ylabel('Mean Frequency (Hz)')\n",
    "plt.grid(True)\n",
    "plt.savefig(\"graph_analyse/boxplot_MF_RF.png\", dpi=300, bbox_inches='tight')\n",
    "plt.show()\n",
    "\n",
    "# Histogram of the two groups\n",
    "plt.figure(figsize=(10, 6))\n",
    "plt.hist(RF_A, bins=10, alpha=0.5, label='Patient Group (RF_A)', color='blue')\n",
    "plt.hist(RF_N, bins=10, alpha=0.5, label='Normal Group (RF_N)', color='orange')\n",
    "plt.title('Histogram of the Mean Frequency (MF) for the RF Muscle')\n",
    "plt.xlabel('Mean Frequency (Hz)')\n",
    "plt.ylabel('Frequency')\n",
    "sns.kdeplot(RF_A, color='blue', label='Density Patient Group (RF_A)', linewidth=2)\n",
    "sns.kdeplot(RF_N, color='orange', label='Density Normal Group (RF_N)', linewidth=2)\n",
    "plt.legend()\n",
    "plt.grid(True)\n",
    "plt.savefig(\"graph_analyse/histogram_MF_RF.png\", dpi=300, bbox_inches='tight')\n",
    "plt.show()"
   ]
  },
  {
   "cell_type": "code",
   "execution_count": 8,
   "id": "7a711829",
   "metadata": {},
   "outputs": [
    {
     "name": "stdout",
     "output_type": "stream",
     "text": [
      "U Statistic: 84.0000\n",
      "Mann-Whitney P-value: 0.1310\n",
      "No significant difference between the groups\n"
     ]
    }
   ],
   "source": [
    "# Mann-Whitney Test\n",
    "stat, p_value = stats.mannwhitneyu(RF_N, RF_A, alternative='two-sided')\n",
    "\n",
    "print(f\"U Statistic: {stat:.4f}\")\n",
    "print(f\"Mann-Whitney P-value: {p_value:.4f}\")\n",
    "\n",
    "alpha = 0.05  # Significance level\n",
    "if p_value < alpha:\n",
    "    print(\"Significant difference between the two groups\")\n",
    "else:\n",
    "    print(\"No significant difference between the groups\")"
   ]
  },
  {
   "cell_type": "markdown",
   "id": "23490e80",
   "metadata": {},
   "source": [
    "# BF"
   ]
  },
  {
   "cell_type": "code",
   "execution_count": 9,
   "id": "85cd64ac",
   "metadata": {},
   "outputs": [
    {
     "name": "stdout",
     "output_type": "stream",
     "text": [
      "BF_N :  [69.52056514917325, 82.71368034814955, 101.72058919529145, 77.42156274985727, 87.32975064917733, 92.55695832886617, 77.90699420596383, 87.32085413108122, 95.97794217534606, 96.44796991837373, 87.38473815370124]\n",
      "BF_A :  [78.55595496945722, 104.5025692074311, 99.02053895579756, 72.93304590085845, 95.39005471056426, 84.52329711030347, 87.0396087950552, 99.302241461094, 99.27532706031745, 101.0866087967617, 79.92824409840206]\n",
      "mean_rms_BF_N: 86.93650954590737\n",
      "mean_rms_BF_A: 91.05068100600384\n",
      "std_rms_BF_N: 9.125841787775878\n",
      "std_rms_BF_A: 10.297951779817437\n"
     ]
    }
   ],
   "source": [
    "print(\"BF_N : \",BF_N)\n",
    "print(\"BF_A : \",BF_A)\n",
    "print(\"mean_rms_BF_N:\", mean_mf_BF_N)\n",
    "print(\"mean_rms_BF_A:\", mean_mf_BF_A)\n",
    "print(\"std_rms_BF_N:\", std_mf_BF_N)\n",
    "print(\"std_rms_BF_A:\", std_mf_BF_A)"
   ]
  },
  {
   "cell_type": "code",
   "execution_count": 10,
   "id": "7a977a51",
   "metadata": {},
   "outputs": [
    {
     "name": "stderr",
     "output_type": "stream",
     "text": [
      "C:\\Users\\hoste\\AppData\\Local\\Temp\\ipykernel_54356\\499345381.py:3: MatplotlibDeprecationWarning: The 'labels' parameter of boxplot() has been renamed 'tick_labels' since Matplotlib 3.9; support for the old name will be dropped in 3.11.\n",
      "  plt.boxplot([BF_A, BF_N], labels=['Patient Group (BF_A)', 'Normal Group (BF_N)'])\n"
     ]
    }
   ],
   "source": [
    "# Boxplot of the two groups\n",
    "plt.figure(figsize=(10, 6))\n",
    "plt.boxplot([BF_A, BF_N], labels=['Patient Group (BF_A)', 'Normal Group (BF_N)'])\n",
    "plt.title('Boxplot of the Mean Frequency (MF) for the BF Muscle')\n",
    "plt.ylabel('Mean Frequency (Hz)')\n",
    "plt.grid(True)\n",
    "plt.savefig(\"graph_analyse/boxplot_MF_BF.png\", dpi=300, bbox_inches='tight')\n",
    "plt.show()\n",
    "\n",
    "# Histogram of the two groups\n",
    "plt.figure(figsize=(10, 6))\n",
    "plt.hist(BF_A, bins=10, alpha=0.5, label='Patient Group (BF_A)', color='blue')\n",
    "plt.hist(BF_N, bins=10, alpha=0.5, label='Normal Group (BF_N)', color='orange')\n",
    "plt.title('Histogram of the Mean Frequency (MF) for the BF Muscle')\n",
    "plt.xlabel('Mean Frequency (Hz)')\n",
    "plt.ylabel('Frequency')\n",
    "sns.kdeplot(BF_A, color='blue', label='Density Patient Group (BF_A)', linewidth=2)\n",
    "sns.kdeplot(BF_N, color='orange', label='Density Normal Group (BF_N)', linewidth=2)\n",
    "plt.legend()\n",
    "plt.grid(True)\n",
    "plt.savefig(\"graph_analyse/histogram_MF_BF.png\", dpi=300, bbox_inches='tight')\n",
    "plt.show()"
   ]
  },
  {
   "cell_type": "code",
   "execution_count": 11,
   "id": "35f3a1eb",
   "metadata": {},
   "outputs": [
    {
     "name": "stdout",
     "output_type": "stream",
     "text": [
      "U Statistic: 47.0000\n",
      "Mann-Whitney P-value: 0.3933\n",
      "No significant difference between the groups\n"
     ]
    }
   ],
   "source": [
    "# Mann-Whitney Test\n",
    "stat, p_value = stats.mannwhitneyu(BF_N, BF_A, alternative='two-sided')\n",
    "\n",
    "print(f\"U Statistic: {stat:.4f}\")\n",
    "print(f\"Mann-Whitney P-value: {p_value:.4f}\")\n",
    "\n",
    "alpha = 0.05  # Significance level\n",
    "if p_value < alpha:\n",
    "    print(\"Significant difference between the two groups\")\n",
    "else:\n",
    "    print(\"No significant difference between the groups\")"
   ]
  },
  {
   "cell_type": "markdown",
   "id": "bdbf1a9e",
   "metadata": {},
   "source": [
    "# VS"
   ]
  },
  {
   "cell_type": "code",
   "execution_count": 12,
   "id": "ddaa1332",
   "metadata": {},
   "outputs": [
    {
     "name": "stdout",
     "output_type": "stream",
     "text": [
      "VS_N :  [56.22231321541992, 56.68659609295088, 63.57297068388401, 74.23955798564216, 69.91773045651342, 80.12219911291982, 41.88882450214972, 34.91647373463856, 79.38670464600995, 79.59836026729741, 31.573900922194]\n",
      "VS_A :  [42.69981724661547, 38.87151153592394, 36.044234045094626, 42.96441798089563, 51.60867229527186, 71.79213244312483, 31.165866009514588, 43.06723453876149, 71.70081735930799, 80.31336767703034, 32.65978368766796]\n",
      "mean_rms_VS_N: 60.738693783601796\n",
      "mean_rms_VS_A: 49.3534413472008\n",
      "std_rms_VS_N: 17.22372500574677\n",
      "std_rms_VS_A: 16.480241230815626\n"
     ]
    }
   ],
   "source": [
    "print(\"VS_N : \",VS_N)\n",
    "print(\"VS_A : \",VS_A)\n",
    "print(\"mean_rms_VS_N:\", mean_mf_VS_N)\n",
    "print(\"mean_rms_VS_A:\", mean_mf_VS_A)\n",
    "print(\"std_rms_VS_N:\", std_mf_VS_N)\n",
    "print(\"std_rms_VS_A:\", std_mf_VS_A)"
   ]
  },
  {
   "cell_type": "code",
   "execution_count": 13,
   "id": "df96a9ef",
   "metadata": {},
   "outputs": [
    {
     "name": "stderr",
     "output_type": "stream",
     "text": [
      "C:\\Users\\hoste\\AppData\\Local\\Temp\\ipykernel_54356\\3581418353.py:3: MatplotlibDeprecationWarning: The 'labels' parameter of boxplot() has been renamed 'tick_labels' since Matplotlib 3.9; support for the old name will be dropped in 3.11.\n",
      "  plt.boxplot([VS_A, VS_N], labels=['Patient Group (VS_A)', 'Normal Group (VS_N)'])\n"
     ]
    }
   ],
   "source": [
    "# Boxplot of the two groups\n",
    "plt.figure(figsize=(10, 6))\n",
    "plt.boxplot([VS_A, VS_N], labels=['Patient Group (VS_A)', 'Normal Group (VS_N)'])\n",
    "plt.title('Boxplot of the Mean Frequency (MF) for the VS Muscle')\n",
    "plt.ylabel('Mean Frequency (Hz)')\n",
    "plt.grid(True)\n",
    "plt.savefig(\"graph_analyse/boxplot_MF_VS.png\", dpi=300, bbox_inches='tight')\n",
    "plt.show()\n",
    "\n",
    "# Histogram of the two groups\n",
    "plt.figure(figsize=(10, 6))\n",
    "plt.hist(VS_A, bins=10, alpha=0.5, label='Patient Group (VS_A)', color='blue')\n",
    "plt.hist(VS_N, bins=10, alpha=0.5, label='Normal Group (VS_N)', color='orange')\n",
    "plt.title('Histogram of the Mean Frequency (MF) for the VS Muscle')\n",
    "plt.xlabel('Mean Frequency (Hz)')\n",
    "plt.ylabel('Frequency')\n",
    "sns.kdeplot(VS_A, color='blue', label='Density Patient Group (VS_A)', linewidth=2)\n",
    "sns.kdeplot(VS_N, color='orange', label='Density Normal Group (VS_N)', linewidth=2)\n",
    "plt.legend()\n",
    "plt.grid(True)\n",
    "plt.savefig(\"graph_analyse/histogram_MF_VS.png\", dpi=300, bbox_inches='tight')\n",
    "plt.show()"
   ]
  },
  {
   "cell_type": "code",
   "execution_count": 14,
   "id": "d31eabcb",
   "metadata": {},
   "outputs": [
    {
     "name": "stdout",
     "output_type": "stream",
     "text": [
      "U Statistic: 79.0000\n",
      "Mann-Whitney P-value: 0.2372\n",
      "No significant difference between the groups\n"
     ]
    }
   ],
   "source": [
    "# Mann-Whitney Test\n",
    "stat, p_value = stats.mannwhitneyu(VS_N, VS_A, alternative='two-sided')\n",
    "\n",
    "print(f\"U Statistic: {stat:.4f}\")\n",
    "print(f\"Mann-Whitney P-value: {p_value:.4f}\")\n",
    "\n",
    "alpha = 0.05  # Significance level\n",
    "if p_value < alpha:\n",
    "    print(\"Significant difference between the two groups\")\n",
    "else:\n",
    "    print(\"No significant difference between the groups\")"
   ]
  },
  {
   "cell_type": "markdown",
   "id": "ad913215",
   "metadata": {},
   "source": [
    "# ST"
   ]
  },
  {
   "cell_type": "code",
   "execution_count": 15,
   "id": "8dbeeb35",
   "metadata": {},
   "outputs": [
    {
     "name": "stdout",
     "output_type": "stream",
     "text": [
      "ST_N :  [83.29321977241379, 62.29543050718941, 84.92617309461518, 99.60246903336706, 82.04283254364202, 94.68702454124661, 111.51950100648911, 77.93836249202414, 79.01801929306289, 85.10408102542928, 107.78195284910353]\n",
      "ST_A :  [85.68286461443513, 87.88601937185668, 105.69251822855297, 126.74225520603522, 124.77680229385132, 130.38708915801905, 108.75857505537456, 77.28886193619695, 126.72014124558741, 115.67303798045546, 109.86791546188503]\n",
      "mean_rms_ST_N: 88.01900601441663\n",
      "mean_rms_ST_A: 109.04328005020453\n",
      "std_rms_ST_N: 13.624630102826508\n",
      "std_rms_ST_A: 17.5459168695057\n"
     ]
    }
   ],
   "source": [
    "print(\"ST_N : \",ST_N)\n",
    "print(\"ST_A : \",ST_A)\n",
    "print(\"mean_rms_ST_N:\", mean_mf_ST_N)\n",
    "print(\"mean_rms_ST_A:\", mean_mf_ST_A)\n",
    "print(\"std_rms_ST_N:\", std_mf_ST_N)\n",
    "print(\"std_rms_ST_A:\", std_mf_ST_A)"
   ]
  },
  {
   "cell_type": "code",
   "execution_count": 16,
   "id": "cc56ad27",
   "metadata": {},
   "outputs": [
    {
     "name": "stderr",
     "output_type": "stream",
     "text": [
      "C:\\Users\\hoste\\AppData\\Local\\Temp\\ipykernel_54356\\3386213384.py:3: MatplotlibDeprecationWarning: The 'labels' parameter of boxplot() has been renamed 'tick_labels' since Matplotlib 3.9; support for the old name will be dropped in 3.11.\n",
      "  plt.boxplot([ST_A, ST_N], labels=['Patient Group (ST_A)', 'Normal Group (ST_N)'])\n"
     ]
    }
   ],
   "source": [
    "# Boxplot of the two groups\n",
    "plt.figure(figsize=(10, 6))\n",
    "plt.boxplot([ST_A, ST_N], labels=['Patient Group (ST_A)', 'Normal Group (ST_N)'])\n",
    "plt.title('Boxplot of the Mean Frequency (MF) for the ST Muscle')\n",
    "plt.ylabel('Mean Frequency (Hz)')\n",
    "plt.grid(True)\n",
    "plt.savefig(\"graph_analyse/boxplot_MF_ST.png\", dpi=300, bbox_inches='tight')\n",
    "plt.show()\n",
    "\n",
    "# Histogram of the two groups\n",
    "plt.figure(figsize=(10, 6))\n",
    "plt.hist(ST_A, bins=10, alpha=0.5, label='Patient Group (ST_A)', color='blue')\n",
    "plt.hist(ST_N, bins=10, alpha=0.5, label='Normal Group (ST_N)', color='orange')\n",
    "plt.title('Histogram of the Mean Frequency (MF) for the ST Muscle')\n",
    "plt.xlabel('Mean Frequency (Hz)')\n",
    "plt.ylabel('Frequency')\n",
    "sns.kdeplot(ST_A, color='blue', label='Density Patient Group (ST_A)', linewidth=2)\n",
    "sns.kdeplot(ST_N, color='orange', label='Density Normal Group (ST_N)', linewidth=2)\n",
    "plt.legend()\n",
    "plt.grid(True)\n",
    "plt.savefig(\"graph_analyse/histogram_MF_ST.png\", dpi=300, bbox_inches='tight')\n",
    "plt.show()"
   ]
  },
  {
   "cell_type": "code",
   "execution_count": 17,
   "id": "b1d4057c",
   "metadata": {},
   "outputs": [
    {
     "name": "stdout",
     "output_type": "stream",
     "text": [
      "U Statistic: 22.0000\n",
      "Mann-Whitney P-value: 0.0126\n",
      "Significant difference between the two groups\n"
     ]
    }
   ],
   "source": [
    "# Mann-Whitney Test\n",
    "stat, p_value = stats.mannwhitneyu(ST_N, ST_A, alternative='two-sided')\n",
    "\n",
    "print(f\"U Statistic: {stat:.4f}\")\n",
    "print(f\"Mann-Whitney P-value: {p_value:.4f}\")\n",
    "\n",
    "alpha = 0.05  # Significance level\n",
    "if p_value < alpha:\n",
    "    print(\"Significant difference between the two groups\")\n",
    "else:\n",
    "    print(\"No significant difference between the groups\")"
   ]
  }
 ],
 "metadata": {
  "kernelspec": {
   "display_name": "MY_HUGO_SAUNIER",
   "language": "python",
   "name": "python3"
  },
  "language_info": {
   "codemirror_mode": {
    "name": "ipython",
    "version": 3
   },
   "file_extension": ".py",
   "mimetype": "text/x-python",
   "name": "python",
   "nbconvert_exporter": "python",
   "pygments_lexer": "ipython3",
   "version": "3.12.5"
  }
 },
 "nbformat": 4,
 "nbformat_minor": 5
}
