{
 "cells": [
  {
   "cell_type": "code",
   "execution_count": 1,
   "id": "76606a8e",
   "metadata": {},
   "outputs": [],
   "source": [
    "from import_all import *"
   ]
  },
  {
   "cell_type": "code",
   "execution_count": 2,
   "id": "fc7f092c",
   "metadata": {},
   "outputs": [
    {
     "name": "stdout",
     "output_type": "stream",
     "text": [
      "Notebook 1Nmar.ipynb imported successfully.\n",
      "Notebook 2Nmar.ipynb imported successfully.\n",
      "Notebook 3Nmar.ipynb imported successfully.\n",
      "Notebook 4Nmar.ipynb imported successfully.\n",
      "Notebook 5Nmar.ipynb imported successfully.\n",
      "Notebook 6Nmar.ipynb imported successfully.\n",
      "Notebook 7Nmar.ipynb imported successfully.\n",
      "Notebook 8Nmar.ipynb imported successfully.\n",
      "Notebook 9Nmar.ipynb imported successfully.\n",
      "Notebook 10Nmar.ipynb imported successfully.\n",
      "Notebook 11Nmar.ipynb imported successfully.\n",
      "Notebook 1Amar.ipynb imported successfully.\n",
      "Notebook 2Amar.ipynb imported successfully.\n",
      "Notebook 3Amar.ipynb imported successfully.\n",
      "Notebook 4Amar.ipynb imported successfully.\n",
      "Notebook 5Amar.ipynb imported successfully.\n",
      "Notebook 6Amar.ipynb imported successfully.\n",
      "Notebook 7Amar.ipynb imported successfully.\n",
      "Notebook 8Amar.ipynb imported successfully.\n",
      "Notebook 9Amar.ipynb imported successfully.\n",
      "Notebook 10Amar.ipynb imported successfully.\n",
      "Notebook 11Amar.ipynb imported successfully.\n"
     ]
    }
   ],
   "source": [
    "# List of .ipynb files to process\n",
    "notebook_files_N = [f\"{i}Nmar.ipynb\" for i in range(1, 12)]\n",
    "notebook_files_A = [f\"{i}Amar.ipynb\" for i in range(1, 12)]\n",
    "\n",
    "\n",
    "results = {}\n",
    "\n",
    "for file_name in notebook_files_N:\n",
    "    try:\n",
    "        # Load the .ipynb file\n",
    "        with open(\"../Normal_analyse/\"+file_name, 'r', encoding='utf-8') as f:\n",
    "            notebook = read(f, as_version=4)\n",
    "        print(f\"Notebook {file_name} imported successfully.\")\n",
    "    except FileNotFoundError:\n",
    "        print(f\"Error: The file '{file_name}' was not found. Please ensure it exists in the current directory.\")\n",
    "        continue\n",
    "\n",
    "    # Dictionnaire pour stocker les variables\n",
    "    global_vars = {}\n",
    "\n",
    "    # Sauvegarde stdout et stderr pour masquer l'affichage\n",
    "    stdout_backup = sys.stdout\n",
    "    stderr_backup = sys.stderr\n",
    "    sys.stdout = io.StringIO()  # Capture la sortie standard\n",
    "    sys.stderr = io.StringIO()  # Capture les erreurs\n",
    "\n",
    "    # Désactiver l'affichage interactif de Matplotlib\n",
    "    plt.ioff()\n",
    "\n",
    "    # Redéfinir `plt.show()` et `display()` pour bloquer les affichages\n",
    "    with patch(\"matplotlib.pyplot.show\"), patch(\"IPython.display.display\"):\n",
    "        # Exécuter toutes les cellules de code sans affichage\n",
    "        for cell in notebook.cells:\n",
    "            if cell.cell_type == \"code\":\n",
    "                exec(cell.source, global_vars)\n",
    "\n",
    "    # Rétablir la sortie normale\n",
    "    sys.stdout = stdout_backup\n",
    "    sys.stderr = stderr_backup\n",
    "    plt.ion()  # Réactiver l'affichage interactif\n",
    "    plt.close(\"all\")  # Fermer toutes les figures en mémoire\n",
    "\n",
    "    # Récupérer les données\n",
    "    se_RF = global_vars.get(\"se_RF\", \"Variable non trouvée\")\n",
    "    se_BF = global_vars.get(\"se_BF\", \"Variable non trouvée\")\n",
    "    se_VS = global_vars.get(\"se_VM\", \"Variable non trouvée\")\n",
    "    se_ST = global_vars.get(\"se_ST\", \"Variable non trouvée\")\n",
    "\n",
    "    results[\"RF_\"+file_name] = se_RF\n",
    "    results[\"BF_\"+file_name] = se_BF\n",
    "    results[\"VS_\"+file_name] = se_VS\n",
    "    results[\"ST_\"+file_name] = se_ST\n",
    "\n",
    "\n",
    "for file_name in notebook_files_A:\n",
    "    try:\n",
    "        # Load the .ipynb file\n",
    "        with open(\"../Patient_analyse/\"+file_name, 'r', encoding='utf-8') as f:\n",
    "            notebook = read(f, as_version=4)\n",
    "        print(f\"Notebook {file_name} imported successfully.\")\n",
    "    except FileNotFoundError:\n",
    "        print(f\"Error: The file '{file_name}' was not found. Please ensure it exists in the current directory.\")\n",
    "        continue\n",
    "\n",
    "    # Dictionnaire pour stocker les variables\n",
    "    global_vars = {}\n",
    "\n",
    "    # Sauvegarde stdout et stderr pour masquer l'affichage\n",
    "    stdout_backup = sys.stdout\n",
    "    stderr_backup = sys.stderr\n",
    "    sys.stdout = io.StringIO()  # Capture la sortie standard\n",
    "    sys.stderr = io.StringIO()  # Capture les erreurs\n",
    "\n",
    "    # Désactiver l'affichage interactif de Matplotlib\n",
    "    plt.ioff()\n",
    "\n",
    "    # Redéfinir `plt.show()` et `display()` pour bloquer les affichages\n",
    "    with patch(\"matplotlib.pyplot.show\"), patch(\"IPython.display.display\"):\n",
    "        # Exécuter toutes les cellules de code sans affichage\n",
    "        for cell in notebook.cells:\n",
    "            if cell.cell_type == \"code\":\n",
    "                exec(cell.source, global_vars)\n",
    "\n",
    "    # Rétablir la sortie normale\n",
    "    sys.stdout = stdout_backup\n",
    "    sys.stderr = stderr_backup\n",
    "    plt.ion()  # Réactiver l'affichage interactif\n",
    "    plt.close(\"all\")  # Fermer toutes les figures en mémoire\n",
    "\n",
    "    # Récupérer les données\n",
    "    se_RF = global_vars.get(\"se_RF\", \"Variable non trouvée\")\n",
    "    se_BF = global_vars.get(\"se_BF\", \"Variable non trouvée\")\n",
    "    se_VS = global_vars.get(\"se_VM\", \"Variable non trouvée\")\n",
    "    se_ST = global_vars.get(\"se_ST\", \"Variable non trouvée\")\n",
    "\n",
    "    results[\"RF_\"+file_name] = se_RF\n",
    "    results[\"BF_\"+file_name] = se_BF\n",
    "    results[\"VS_\"+file_name] = se_VS\n",
    "    results[\"ST_\"+file_name] = se_ST\n"
   ]
  },
  {
   "cell_type": "code",
   "execution_count": 3,
   "id": "967a4d6a",
   "metadata": {},
   "outputs": [
    {
     "name": "stdout",
     "output_type": "stream",
     "text": [
      "RF_1Nmar.ipynb: 5.990737103074829\n",
      "BF_1Nmar.ipynb: 6.18689966869902\n",
      "VS_1Nmar.ipynb: 5.9181926734938894\n",
      "ST_1Nmar.ipynb: 6.365287942992718\n",
      "RF_2Nmar.ipynb: 6.317456432929115\n",
      "BF_2Nmar.ipynb: 6.640285559619914\n",
      "VS_2Nmar.ipynb: 6.220895746303275\n",
      "ST_2Nmar.ipynb: 6.306886172407419\n",
      "RF_3Nmar.ipynb: 6.440423251824849\n",
      "BF_3Nmar.ipynb: 6.839215561448629\n",
      "VS_3Nmar.ipynb: 6.288452984014685\n",
      "ST_3Nmar.ipynb: 6.627788823048001\n",
      "RF_4Nmar.ipynb: 6.352179204367657\n",
      "BF_4Nmar.ipynb: 6.469742716091036\n",
      "VS_4Nmar.ipynb: 6.37927751328983\n",
      "ST_4Nmar.ipynb: 6.829070295298429\n",
      "RF_5Nmar.ipynb: 6.5920083988334905\n",
      "BF_5Nmar.ipynb: 6.613671531116735\n",
      "VS_5Nmar.ipynb: 6.391608903511729\n",
      "ST_5Nmar.ipynb: 6.5742818885989065\n",
      "RF_6Nmar.ipynb: 6.703081761245851\n",
      "BF_6Nmar.ipynb: 6.728851200105053\n",
      "VS_6Nmar.ipynb: 6.543641324957765\n",
      "ST_6Nmar.ipynb: 6.838418965094658\n",
      "RF_7Nmar.ipynb: 6.084548812741607\n",
      "BF_7Nmar.ipynb: 6.759418031276338\n",
      "VS_7Nmar.ipynb: 5.834287667187746\n",
      "ST_7Nmar.ipynb: 7.193851893258983\n",
      "RF_8Nmar.ipynb: 6.69234345740482\n",
      "BF_8Nmar.ipynb: 7.002329654800817\n",
      "VS_8Nmar.ipynb: 5.614547787463324\n",
      "ST_8Nmar.ipynb: 6.664795364243654\n",
      "RF_9Nmar.ipynb: 6.266350660804018\n",
      "BF_9Nmar.ipynb: 6.5333329167017045\n",
      "VS_9Nmar.ipynb: 6.295794489549753\n",
      "ST_9Nmar.ipynb: 6.290014656940733\n",
      "RF_10Nmar.ipynb: 6.509200151026221\n",
      "BF_10Nmar.ipynb: 6.637463819559299\n",
      "VS_10Nmar.ipynb: 6.375501380622903\n",
      "ST_10Nmar.ipynb: 6.426300696837062\n",
      "RF_11Nmar.ipynb: 5.6555372343495085\n",
      "BF_11Nmar.ipynb: 6.480087786511514\n",
      "VS_11Nmar.ipynb: 4.820155413741227\n",
      "ST_11Nmar.ipynb: 6.712005123962548\n",
      "RF_1Amar.ipynb: 6.828890613563787\n",
      "BF_1Amar.ipynb: 7.104006698978839\n",
      "VS_1Amar.ipynb: 6.410050908096065\n",
      "ST_1Amar.ipynb: 7.245091244288623\n",
      "RF_2Amar.ipynb: 5.67042665049945\n",
      "BF_2Amar.ipynb: 7.263403846404013\n",
      "VS_2Amar.ipynb: 6.064699891373323\n",
      "ST_2Amar.ipynb: 7.212343598285846\n",
      "RF_3Amar.ipynb: 8.118408707896174\n",
      "BF_3Amar.ipynb: 8.664391491629898\n",
      "VS_3Amar.ipynb: 7.148239408479313\n",
      "ST_3Amar.ipynb: 8.65154270125122\n",
      "RF_4Amar.ipynb: 7.8649819620895665\n",
      "BF_4Amar.ipynb: 8.594079726841645\n",
      "VS_4Amar.ipynb: 7.7841986874851195\n",
      "ST_4Amar.ipynb: 9.216149413848418\n",
      "RF_5Amar.ipynb: 7.840377651143833\n",
      "BF_5Amar.ipynb: 8.580716719201547\n",
      "VS_5Amar.ipynb: 7.850360324386405\n",
      "ST_5Amar.ipynb: 8.927854611611258\n",
      "RF_6Amar.ipynb: 8.078310976897322\n",
      "BF_6Amar.ipynb: 8.66954665214736\n",
      "VS_6Amar.ipynb: 8.457864715650961\n",
      "ST_6Amar.ipynb: 9.146020617220582\n",
      "RF_7Amar.ipynb: 6.159596094841848\n",
      "BF_7Amar.ipynb: 7.445064297008544\n",
      "VS_7Amar.ipynb: 5.665937637453756\n",
      "ST_7Amar.ipynb: 7.702985088411534\n",
      "RF_8Amar.ipynb: 5.8708232184323785\n",
      "BF_8Amar.ipynb: 7.118195540395973\n",
      "VS_8Amar.ipynb: 6.100188473187572\n",
      "ST_8Amar.ipynb: 6.837653074175864\n",
      "RF_9Amar.ipynb: 8.22933817189336\n",
      "BF_9Amar.ipynb: 8.334571575853218\n",
      "VS_9Amar.ipynb: 7.831112914584177\n",
      "ST_9Amar.ipynb: 8.515201123731686\n",
      "RF_10Amar.ipynb: 7.984544312521164\n",
      "BF_10Amar.ipynb: 8.100458694131735\n",
      "VS_10Amar.ipynb: 7.757961765486671\n",
      "ST_10Amar.ipynb: 8.211614755452562\n",
      "RF_11Amar.ipynb: 8.031416893007746\n",
      "BF_11Amar.ipynb: 7.893401843914746\n",
      "VS_11Amar.ipynb: 6.561214130989011\n",
      "ST_11Amar.ipynb: 8.33027590673341\n"
     ]
    }
   ],
   "source": [
    "# Print results for all files\n",
    "for file_name, data in results.items():\n",
    "    print(f\"{file_name}: {data}\")"
   ]
  },
  {
   "cell_type": "code",
   "execution_count": 4,
   "id": "5b4fc131",
   "metadata": {},
   "outputs": [
    {
     "name": "stdout",
     "output_type": "stream",
     "text": [
      "RF_N: [5.990737103074829, 6.317456432929115, 6.440423251824849, 6.352179204367657, 6.5920083988334905, 6.703081761245851, 6.084548812741607, 6.69234345740482, 6.266350660804018, 6.509200151026221, 5.6555372343495085]\n",
      "RF_A: [6.828890613563787, 5.67042665049945, 8.118408707896174, 7.8649819620895665, 7.840377651143833, 8.078310976897322, 6.159596094841848, 5.8708232184323785, 8.22933817189336, 7.984544312521164, 8.031416893007746]\n",
      "BF_N: [6.18689966869902, 6.640285559619914, 6.839215561448629, 6.469742716091036, 6.613671531116735, 6.728851200105053, 6.759418031276338, 7.002329654800817, 6.5333329167017045, 6.637463819559299, 6.480087786511514]\n",
      "BF_A: [7.104006698978839, 7.263403846404013, 8.664391491629898, 8.594079726841645, 8.580716719201547, 8.66954665214736, 7.445064297008544, 7.118195540395973, 8.334571575853218, 8.100458694131735, 7.893401843914746]\n",
      "VS_N: [5.9181926734938894, 6.220895746303275, 6.288452984014685, 6.37927751328983, 6.391608903511729, 6.543641324957765, 5.834287667187746, 5.614547787463324, 6.295794489549753, 6.375501380622903, 4.820155413741227]\n",
      "VS_A: [6.410050908096065, 6.064699891373323, 7.148239408479313, 7.7841986874851195, 7.850360324386405, 8.457864715650961, 5.665937637453756, 6.100188473187572, 7.831112914584177, 7.757961765486671, 6.561214130989011]\n",
      "ST_N: [6.365287942992718, 6.306886172407419, 6.627788823048001, 6.829070295298429, 6.5742818885989065, 6.838418965094658, 7.193851893258983, 6.664795364243654, 6.290014656940733, 6.426300696837062, 6.712005123962548]\n",
      "ST_A: [7.245091244288623, 7.212343598285846, 8.65154270125122, 9.216149413848418, 8.927854611611258, 9.146020617220582, 7.702985088411534, 6.837653074175864, 8.515201123731686, 8.211614755452562, 8.33027590673341]\n"
     ]
    }
   ],
   "source": [
    "RF_N=[]\n",
    "RF_A=[]\n",
    "BF_N=[]\n",
    "BF_A=[]\n",
    "VS_N=[]\n",
    "VS_A=[]\n",
    "ST_N=[]\n",
    "ST_A=[]\n",
    "\n",
    "for file_name, data in results.items():\n",
    "    if file_name.startswith('RF_1Amar') or file_name.startswith('RF_2Amar') or file_name.startswith('RF_3Amar') or file_name.startswith('RF_4Amar') or file_name.startswith('RF_5Amar') or file_name.startswith('RF_6Amar') or file_name.startswith('RF_7Amar') or file_name.startswith('RF_8Amar') or file_name.startswith('RF_9Amar') or file_name.startswith('RF_10Amar') or file_name.startswith('RF_11Amar'):\n",
    "        RF_A.append(float(data))\n",
    "    elif file_name.startswith('RF_1Nmar') or file_name.startswith('RF_2Nmar') or file_name.startswith('RF_3Nmar') or file_name.startswith('RF_4Nmar') or file_name.startswith('RF_5Nmar') or file_name.startswith('RF_6Nmar') or file_name.startswith('RF_7Nmar') or file_name.startswith('RF_8Nmar') or file_name.startswith('RF_9Nmar') or file_name.startswith('RF_10Nmar') or file_name.startswith('RF_11Nmar'):\n",
    "        RF_N.append(float(data))\n",
    "    elif file_name.startswith('BF_1Amar') or file_name.startswith('BF_2Amar') or file_name.startswith('BF_3Amar') or file_name.startswith('BF_4Amar') or file_name.startswith('BF_5Amar') or file_name.startswith('BF_6Amar') or file_name.startswith('BF_7Amar') or file_name.startswith('BF_8Amar') or file_name.startswith('BF_9Amar') or file_name.startswith('BF_10Amar') or file_name.startswith('BF_11Amar'):\n",
    "        BF_A.append(float(data))\n",
    "    elif file_name.startswith('BF_1Nmar') or file_name.startswith('BF_2Nmar') or file_name.startswith('BF_3Nmar') or file_name.startswith('BF_4Nmar') or file_name.startswith('BF_5Nmar') or file_name.startswith('BF_6Nmar') or file_name.startswith('BF_7Nmar') or file_name.startswith('BF_8Nmar') or file_name.startswith('BF_9Nmar') or file_name.startswith('BF_10Nmar') or file_name.startswith('BF_11Nmar'):\n",
    "        BF_N.append(float(data))\n",
    "    elif file_name.startswith('VS_1Amar') or file_name.startswith('VS_2Amar') or file_name.startswith('VS_3Amar') or file_name.startswith('VS_4Amar') or file_name.startswith('VS_5Amar') or file_name.startswith('VS_6Amar') or file_name.startswith('VS_7Amar') or file_name.startswith('VS_8Amar') or file_name.startswith('VS_9Amar') or file_name.startswith('VS_10Amar') or file_name.startswith('VS_11Amar'):\n",
    "        VS_A.append(float(data))\n",
    "    elif file_name.startswith('VS_1Nmar') or file_name.startswith('VS_2Nmar') or file_name.startswith('VS_3Nmar') or file_name.startswith('VS_4Nmar') or file_name.startswith('VS_5Nmar') or file_name.startswith('VS_6Nmar') or file_name.startswith('VS_7Nmar') or file_name.startswith('VS_8Nmar') or file_name.startswith('VS_9Nmar') or file_name.startswith('VS_10Nmar') or file_name.startswith('VS_11Nmar'):\n",
    "        VS_N.append(float(data))\n",
    "    elif file_name.startswith('ST_1Amar') or file_name.startswith('ST_2Amar') or file_name.startswith('ST_3Amar') or file_name.startswith('ST_4Amar') or file_name.startswith('ST_5Amar') or file_name.startswith('ST_6Amar') or file_name.startswith('ST_7Amar') or file_name.startswith('ST_8Amar') or file_name.startswith('ST_9Amar') or file_name.startswith('ST_10Amar') or file_name.startswith('ST_11Amar'):\n",
    "        ST_A.append(float(data))\n",
    "    elif file_name.startswith('ST_1Nmar') or file_name.startswith('ST_2Nmar') or file_name.startswith('ST_3Nmar') or file_name.startswith('ST_4Nmar') or file_name.startswith('ST_5Nmar') or file_name.startswith('ST_6Nmar') or file_name.startswith('ST_7Nmar') or file_name.startswith('ST_8Nmar') or file_name.startswith('ST_9Nmar') or file_name.startswith('ST_10Nmar') or file_name.startswith('ST_11Nmar'):\n",
    "        ST_N.append(float(data))\n",
    "\n",
    "print(\"RF_N:\", RF_N)\n",
    "print(\"RF_A:\", RF_A)\n",
    "print(\"BF_N:\", BF_N)\n",
    "print(\"BF_A:\", BF_A)\n",
    "print(\"VS_N:\", VS_N)\n",
    "print(\"VS_A:\", VS_A)\n",
    "print(\"ST_N:\", ST_N)\n",
    "print(\"ST_A:\", ST_A)"
   ]
  },
  {
   "cell_type": "code",
   "execution_count": 5,
   "id": "b8b87454",
   "metadata": {},
   "outputs": [
    {
     "name": "stdout",
     "output_type": "stream",
     "text": [
      "mean_rms_RF_N: 6.327624224418359\n",
      "mean_rms_RF_A: 7.334283204798785\n",
      "std_rms_RF_N: 0.30426083328590475\n",
      "std_rms_RF_A: 0.9516304866338323\n",
      "mean_rms_BF_N: 6.626481676902733\n",
      "mean_rms_BF_A: 7.978894280591592\n",
      "std_rms_BF_N: 0.20517211458430396\n",
      "std_rms_BF_A: 0.6134311343080364\n",
      "mean_rms_VS_N: 6.062032353103283\n",
      "mean_rms_VS_A: 7.057438987015671\n",
      "std_rms_VS_N: 0.4753641769366502\n",
      "std_rms_VS_A: 0.8903079269832523\n",
      "mean_rms_ST_N: 6.620791074789374\n",
      "mean_rms_ST_A: 8.181521103182817\n",
      "std_rms_ST_N: 0.259836831834469\n",
      "std_rms_ST_A: 0.7841735053435476\n"
     ]
    }
   ],
   "source": [
    "mean_se_RF_N = np.mean(RF_N)\n",
    "mean_se_RF_A = np.mean(RF_A)\n",
    "mean_se_BF_N = np.mean(BF_N)\n",
    "mean_se_BF_A = np.mean(BF_A)\n",
    "mean_se_VS_N = np.mean(VS_N)\n",
    "mean_se_VS_A = np.mean(VS_A)\n",
    "mean_se_ST_N = np.mean(ST_N)\n",
    "mean_se_ST_A = np.mean(ST_A)\n",
    "\n",
    "std_se_RF_N = np.std(RF_N)\n",
    "std_se_RF_A = np.std(RF_A)\n",
    "std_se_BF_N = np.std(BF_N)\n",
    "std_se_BF_A = np.std(BF_A)\n",
    "std_se_VS_N = np.std(VS_N)\n",
    "std_se_VS_A = np.std(VS_A)\n",
    "std_se_ST_N = np.std(ST_N)\n",
    "std_se_ST_A = np.std(ST_A)\n",
    "\n",
    "print(\"mean_rms_RF_N:\", mean_se_RF_N)\n",
    "print(\"mean_rms_RF_A:\", mean_se_RF_A)\n",
    "print(\"std_rms_RF_N:\", std_se_RF_N)\n",
    "print(\"std_rms_RF_A:\", std_se_RF_A)\n",
    "print(\"mean_rms_BF_N:\", mean_se_BF_N)\n",
    "print(\"mean_rms_BF_A:\", mean_se_BF_A)\n",
    "print(\"std_rms_BF_N:\", std_se_BF_N)\n",
    "print(\"std_rms_BF_A:\", std_se_BF_A)\n",
    "print(\"mean_rms_VS_N:\", mean_se_VS_N)\n",
    "print(\"mean_rms_VS_A:\", mean_se_VS_A)\n",
    "print(\"std_rms_VS_N:\", std_se_VS_N)\n",
    "print(\"std_rms_VS_A:\", std_se_VS_A)\n",
    "print(\"mean_rms_ST_N:\", mean_se_ST_N)\n",
    "print(\"mean_rms_ST_A:\", mean_se_ST_A)\n",
    "print(\"std_rms_ST_N:\", std_se_ST_N)\n",
    "print(\"std_rms_ST_A:\", std_se_ST_A)"
   ]
  },
  {
   "cell_type": "markdown",
   "id": "b477fded",
   "metadata": {},
   "source": [
    "# RF"
   ]
  },
  {
   "cell_type": "code",
   "execution_count": 6,
   "id": "7f04a81e",
   "metadata": {},
   "outputs": [
    {
     "name": "stdout",
     "output_type": "stream",
     "text": [
      "RF_N :  [5.990737103074829, 6.317456432929115, 6.440423251824849, 6.352179204367657, 6.5920083988334905, 6.703081761245851, 6.084548812741607, 6.69234345740482, 6.266350660804018, 6.509200151026221, 5.6555372343495085]\n",
      "RF_A :  [6.828890613563787, 5.67042665049945, 8.118408707896174, 7.8649819620895665, 7.840377651143833, 8.078310976897322, 6.159596094841848, 5.8708232184323785, 8.22933817189336, 7.984544312521164, 8.031416893007746]\n",
      "mean_rms_RF_N: 6.327624224418359\n",
      "mean_rms_RF_A: 7.334283204798785\n",
      "std_rms_RF_N: 0.30426083328590475\n",
      "std_rms_RF_A: 0.9516304866338323\n"
     ]
    }
   ],
   "source": [
    "print(\"RF_N : \",RF_N)\n",
    "print(\"RF_A : \",RF_A)\n",
    "print(\"mean_rms_RF_N:\", mean_se_RF_N)\n",
    "print(\"mean_rms_RF_A:\", mean_se_RF_A)\n",
    "print(\"std_rms_RF_N:\", std_se_RF_N)\n",
    "print(\"std_rms_RF_A:\", std_se_RF_A)"
   ]
  },
  {
   "cell_type": "code",
   "execution_count": 7,
   "id": "dded5324",
   "metadata": {},
   "outputs": [
    {
     "name": "stderr",
     "output_type": "stream",
     "text": [
      "C:\\Users\\hoste\\AppData\\Local\\Temp\\ipykernel_37204\\3802280308.py:3: MatplotlibDeprecationWarning: The 'labels' parameter of boxplot() has been renamed 'tick_labels' since Matplotlib 3.9; support for the old name will be dropped in 3.11.\n",
      "  plt.boxplot([RF_A, RF_N], labels=['RF_A', 'RF_N'])\n"
     ]
    }
   ],
   "source": [
    "#Boxplot des deux groupes\n",
    "plt.figure(figsize=(10, 6))\n",
    "plt.boxplot([RF_A, RF_N], labels=['RF_A', 'RF_N'])\n",
    "plt.title('Boxplot de la SE moyene (RF)')\n",
    "plt.ylabel('SE moyene (RF)')\n",
    "plt.grid(True)\n",
    "plt.savefig(\"graph_analyse/boxplot_SE_RF.png\", dpi=300, bbox_inches='tight')\n",
    "plt.show()\n",
    "\n",
    "#Histogramme des deux groupes\n",
    "plt.figure(figsize=(10, 6))\n",
    "plt.hist(RF_A, bins=10, alpha=0.5, label='RF_A', color='blue')\n",
    "plt.hist(RF_N, bins=10, alpha=0.5, label='RF_N', color='orange')\n",
    "plt.title('Histogramme de la SE moyenne (RF)')\n",
    "plt.xlabel('SE moyenne (RF)')\n",
    "plt.ylabel('Fréquence')\n",
    "sns.kdeplot(RF_A, color='blue', label='Densité RF_A', linewidth=2)\n",
    "sns.kdeplot(RF_N, color='orange', label='Densité RF_N', linewidth=2)\n",
    "plt.legend()\n",
    "plt.grid(True)\n",
    "plt.savefig(\"graph_analyse/histogramme_SE_RF.png\", dpi=300, bbox_inches='tight')\n",
    "plt.show()"
   ]
  },
  {
   "cell_type": "code",
   "execution_count": 8,
   "id": "eb079c5f",
   "metadata": {},
   "outputs": [
    {
     "name": "stdout",
     "output_type": "stream",
     "text": [
      "Statistique U : 28.0000\n",
      "P-valeur Mann-Whitney : 0.0356\n",
      "Différence significative entre les deux groupes\n"
     ]
    }
   ],
   "source": [
    "# Test de Mann-Whitney\n",
    "stat, p_value = stats.mannwhitneyu(RF_N, RF_A, alternative='two-sided')\n",
    "\n",
    "print(f\"Statistique U : {stat:.4f}\")\n",
    "print(f\"P-valeur Mann-Whitney : {p_value:.4f}\")\n",
    "\n",
    "alpha = 0.05  # Seuil de signification\n",
    "if p_value < alpha:\n",
    "    print(\"Différence significative entre les deux groupes\")\n",
    "else:\n",
    "    print(\"Aucune différence significative entre les groupes\")"
   ]
  },
  {
   "cell_type": "markdown",
   "id": "681133d8",
   "metadata": {},
   "source": [
    "# BF"
   ]
  },
  {
   "cell_type": "code",
   "execution_count": 10,
   "id": "3b334f95",
   "metadata": {},
   "outputs": [
    {
     "name": "stdout",
     "output_type": "stream",
     "text": [
      "BF_N :  [6.18689966869902, 6.640285559619914, 6.839215561448629, 6.469742716091036, 6.613671531116735, 6.728851200105053, 6.759418031276338, 7.002329654800817, 6.5333329167017045, 6.637463819559299, 6.480087786511514]\n",
      "BF_A :  [7.104006698978839, 7.263403846404013, 8.664391491629898, 8.594079726841645, 8.580716719201547, 8.66954665214736, 7.445064297008544, 7.118195540395973, 8.334571575853218, 8.100458694131735, 7.893401843914746]\n",
      "mean_rms_BF_N: 6.626481676902733\n",
      "mean_rms_BF_A: 7.978894280591592\n",
      "std_rms_BF_N: 0.20517211458430396\n",
      "std_rms_BF_A: 0.6134311343080364\n"
     ]
    }
   ],
   "source": [
    "print(\"BF_N : \",BF_N)\n",
    "print(\"BF_A : \",BF_A)\n",
    "print(\"mean_rms_BF_N:\", mean_se_BF_N)\n",
    "print(\"mean_rms_BF_A:\", mean_se_BF_A)\n",
    "print(\"std_rms_BF_N:\", std_se_BF_N)\n",
    "print(\"std_rms_BF_A:\", std_se_BF_A)"
   ]
  },
  {
   "cell_type": "code",
   "execution_count": 11,
   "id": "d6b6ccc2",
   "metadata": {},
   "outputs": [
    {
     "name": "stderr",
     "output_type": "stream",
     "text": [
      "C:\\Users\\hoste\\AppData\\Local\\Temp\\ipykernel_37204\\895550536.py:3: MatplotlibDeprecationWarning: The 'labels' parameter of boxplot() has been renamed 'tick_labels' since Matplotlib 3.9; support for the old name will be dropped in 3.11.\n",
      "  plt.boxplot([BF_A, BF_N], labels=['BF_A', 'BF_N'])\n"
     ]
    }
   ],
   "source": [
    "#Boxplot des deux groupes\n",
    "plt.figure(figsize=(10, 6))\n",
    "plt.boxplot([BF_A, BF_N], labels=['BF_A', 'BF_N'])\n",
    "plt.title('Boxplot de la SE moyenne (BF)')\n",
    "plt.ylabel('SE moyenne (BF)')\n",
    "plt.grid(True)\n",
    "plt.savefig(\"graph_analyse/boxplot_SE_BF.png\", dpi=300, bbox_inches='tight')\n",
    "plt.show()\n",
    "\n",
    "#Histogramme des deux groupes\n",
    "plt.figure(figsize=(10, 6))\n",
    "plt.hist(BF_A, bins=10, alpha=0.5, label='RF_A', color='blue')\n",
    "plt.hist(BF_N, bins=10, alpha=0.5, label='RF_N', color='orange')\n",
    "plt.title('Histogramme de la SE moyenne (BF)')\n",
    "plt.xlabel('SE moyenne (BF)')\n",
    "plt.ylabel('Fréquence')\n",
    "sns.kdeplot(BF_A, color='blue', label='Densité BF_A', linewidth=2)\n",
    "sns.kdeplot(BF_N, color='orange', label='Densité BF_N', linewidth=2)\n",
    "plt.legend()\n",
    "plt.grid(True)\n",
    "plt.savefig(\"graph_analyse/histogramme_SE_BF.png\", dpi=300, bbox_inches='tight')\n",
    "plt.show()"
   ]
  },
  {
   "cell_type": "code",
   "execution_count": 12,
   "id": "25bf8ff4",
   "metadata": {},
   "outputs": [
    {
     "name": "stdout",
     "output_type": "stream",
     "text": [
      "Statistique U : 0.0000\n",
      "P-valeur Mann-Whitney : 0.0001\n",
      "Différence significative entre les deux groupes\n"
     ]
    }
   ],
   "source": [
    "# Test de Mann-Whitney\n",
    "stat, p_value = stats.mannwhitneyu(BF_N, BF_A, alternative='two-sided')\n",
    "\n",
    "print(f\"Statistique U : {stat:.4f}\")\n",
    "print(f\"P-valeur Mann-Whitney : {p_value:.4f}\")\n",
    "\n",
    "alpha = 0.05  # Seuil de signification\n",
    "if p_value < alpha:\n",
    "    print(\"Différence significative entre les deux groupes\")\n",
    "else:\n",
    "    print(\"Aucune différence significative entre les groupes\")"
   ]
  },
  {
   "cell_type": "markdown",
   "id": "d6cf41e4",
   "metadata": {},
   "source": [
    "# VS"
   ]
  },
  {
   "cell_type": "code",
   "execution_count": 13,
   "id": "ff675595",
   "metadata": {},
   "outputs": [
    {
     "name": "stdout",
     "output_type": "stream",
     "text": [
      "VS_N :  [5.9181926734938894, 6.220895746303275, 6.288452984014685, 6.37927751328983, 6.391608903511729, 6.543641324957765, 5.834287667187746, 5.614547787463324, 6.295794489549753, 6.375501380622903, 4.820155413741227]\n",
      "VS_A :  [6.410050908096065, 6.064699891373323, 7.148239408479313, 7.7841986874851195, 7.850360324386405, 8.457864715650961, 5.665937637453756, 6.100188473187572, 7.831112914584177, 7.757961765486671, 6.561214130989011]\n",
      "mean_rms_VS_N: 6.062032353103283\n",
      "mean_rms_VS_A: 7.057438987015671\n",
      "std_rms_VS_N: 0.4753641769366502\n",
      "std_rms_VS_A: 0.8903079269832523\n"
     ]
    }
   ],
   "source": [
    "print(\"VS_N : \",VS_N)\n",
    "print(\"VS_A : \",VS_A)\n",
    "print(\"mean_rms_VS_N:\", mean_se_VS_N)\n",
    "print(\"mean_rms_VS_A:\", mean_se_VS_A)\n",
    "print(\"std_rms_VS_N:\", std_se_VS_N)\n",
    "print(\"std_rms_VS_A:\", std_se_VS_A)"
   ]
  },
  {
   "cell_type": "code",
   "execution_count": 14,
   "id": "499f19bf",
   "metadata": {},
   "outputs": [
    {
     "name": "stderr",
     "output_type": "stream",
     "text": [
      "C:\\Users\\hoste\\AppData\\Local\\Temp\\ipykernel_37204\\3996824952.py:3: MatplotlibDeprecationWarning: The 'labels' parameter of boxplot() has been renamed 'tick_labels' since Matplotlib 3.9; support for the old name will be dropped in 3.11.\n",
      "  plt.boxplot([VS_A, VS_N], labels=['VS_A', 'VS_N'])\n"
     ]
    }
   ],
   "source": [
    "#Boxplot des deux groupes\n",
    "plt.figure(figsize=(10, 6))\n",
    "plt.boxplot([VS_A, VS_N], labels=['VS_A', 'VS_N'])\n",
    "plt.title('Boxplot de la SE moyenne (VS)')\n",
    "plt.ylabel('SE moyenne (VS)')\n",
    "plt.grid(True)\n",
    "plt.savefig(\"graph_analyse/boxplot_SE_VS.png\", dpi=300, bbox_inches='tight')\n",
    "plt.show()\n",
    "\n",
    "#Histogramme des deux groupes\n",
    "plt.figure(figsize=(10, 6))\n",
    "plt.hist(VS_A, bins=10, alpha=0.5, label='VS_A', color='blue')\n",
    "plt.hist(VS_N, bins=10, alpha=0.5, label='VS_N', color='orange')\n",
    "plt.title('Histogramme de la SE moyenne (VS)')\n",
    "plt.xlabel('SE moyenne (VS)')\n",
    "plt.ylabel('Fréquence')\n",
    "sns.kdeplot(VS_A, color='blue', label='Densité VS_A', linewidth=2)\n",
    "sns.kdeplot(VS_N, color='orange', label='Densité VS_N', linewidth=2)\n",
    "plt.legend()\n",
    "plt.grid(True)\n",
    "plt.savefig(\"graph_analyse/histogramme_SE_VS.png\", dpi=300, bbox_inches='tight')\n",
    "plt.show()"
   ]
  },
  {
   "cell_type": "code",
   "execution_count": 15,
   "id": "134f35b2",
   "metadata": {},
   "outputs": [
    {
     "name": "stdout",
     "output_type": "stream",
     "text": [
      "Statistique U : 24.0000\n",
      "P-valeur Mann-Whitney : 0.0181\n",
      "Différence significative entre les deux groupes\n"
     ]
    }
   ],
   "source": [
    "# Test de Mann-Whitney\n",
    "stat, p_value = stats.mannwhitneyu(VS_N, VS_A, alternative='two-sided')\n",
    "\n",
    "print(f\"Statistique U : {stat:.4f}\")\n",
    "print(f\"P-valeur Mann-Whitney : {p_value:.4f}\")\n",
    "\n",
    "alpha = 0.05  # Seuil de signification\n",
    "if p_value < alpha:\n",
    "    print(\"Différence significative entre les deux groupes\")\n",
    "else:\n",
    "    print(\"Aucune différence significative entre les groupes\")"
   ]
  },
  {
   "cell_type": "markdown",
   "id": "63fd7bf0",
   "metadata": {},
   "source": [
    "# ST"
   ]
  },
  {
   "cell_type": "code",
   "execution_count": 16,
   "id": "fa614028",
   "metadata": {},
   "outputs": [
    {
     "name": "stdout",
     "output_type": "stream",
     "text": [
      "ST_N :  [6.365287942992718, 6.306886172407419, 6.627788823048001, 6.829070295298429, 6.5742818885989065, 6.838418965094658, 7.193851893258983, 6.664795364243654, 6.290014656940733, 6.426300696837062, 6.712005123962548]\n",
      "ST_A :  [7.245091244288623, 7.212343598285846, 8.65154270125122, 9.216149413848418, 8.927854611611258, 9.146020617220582, 7.702985088411534, 6.837653074175864, 8.515201123731686, 8.211614755452562, 8.33027590673341]\n",
      "mean_rms_ST_N: 6.620791074789374\n",
      "mean_rms_ST_A: 8.181521103182817\n",
      "std_rms_ST_N: 0.259836831834469\n",
      "std_rms_ST_A: 0.7841735053435476\n"
     ]
    }
   ],
   "source": [
    "print(\"ST_N : \",ST_N)\n",
    "print(\"ST_A : \",ST_A)\n",
    "print(\"mean_rms_ST_N:\", mean_se_ST_N)\n",
    "print(\"mean_rms_ST_A:\", mean_se_ST_A)\n",
    "print(\"std_rms_ST_N:\", std_se_ST_N)\n",
    "print(\"std_rms_ST_A:\", std_se_ST_A)"
   ]
  },
  {
   "cell_type": "code",
   "execution_count": 17,
   "id": "1160ae72",
   "metadata": {},
   "outputs": [
    {
     "name": "stderr",
     "output_type": "stream",
     "text": [
      "C:\\Users\\hoste\\AppData\\Local\\Temp\\ipykernel_37204\\2645869091.py:3: MatplotlibDeprecationWarning: The 'labels' parameter of boxplot() has been renamed 'tick_labels' since Matplotlib 3.9; support for the old name will be dropped in 3.11.\n",
      "  plt.boxplot([ST_A, ST_N], labels=['ST_A', 'ST_N'])\n"
     ]
    }
   ],
   "source": [
    "#Boxplot des deux groupes\n",
    "plt.figure(figsize=(10, 6))\n",
    "plt.boxplot([ST_A, ST_N], labels=['ST_A', 'ST_N'])\n",
    "plt.title('Boxplot de la SE moyenne (ST)')\n",
    "plt.ylabel('SE moyenne (ST)')\n",
    "plt.grid(True)\n",
    "plt.savefig(\"graph_analyse/boxplot_SE_ST.png\", dpi=300, bbox_inches='tight')\n",
    "plt.show()\n",
    "\n",
    "#Histogramme des deux groupes\n",
    "plt.figure(figsize=(10, 6))\n",
    "plt.hist(ST_A, bins=10, alpha=0.5, label='ST_A', color='blue')\n",
    "plt.hist(ST_N, bins=10, alpha=0.5, label='ST_N', color='orange')\n",
    "plt.title('Histogramme de la SE moyenne (ST)')\n",
    "plt.xlabel('SE moyenne (ST)')\n",
    "plt.ylabel('Fréquence')\n",
    "sns.kdeplot(ST_A, color='blue', label='Densité ST_A', linewidth=2)\n",
    "sns.kdeplot(ST_N, color='orange', label='Densité ST_N', linewidth=2)\n",
    "plt.legend()\n",
    "plt.grid(True)\n",
    "plt.savefig(\"graph_analyse/histogramme_SE_ST.png\", dpi=300, bbox_inches='tight')\n",
    "plt.show()"
   ]
  },
  {
   "cell_type": "code",
   "execution_count": 18,
   "id": "1112cc9a",
   "metadata": {},
   "outputs": [
    {
     "name": "stdout",
     "output_type": "stream",
     "text": [
      "Statistique U : 2.0000\n",
      "P-valeur Mann-Whitney : 0.0001\n",
      "Différence significative entre les deux groupes\n"
     ]
    }
   ],
   "source": [
    "# Test de Mann-Whitney\n",
    "stat, p_value = stats.mannwhitneyu(ST_N, ST_A, alternative='two-sided')\n",
    "\n",
    "print(f\"Statistique U : {stat:.4f}\")\n",
    "print(f\"P-valeur Mann-Whitney : {p_value:.4f}\")\n",
    "\n",
    "alpha = 0.05  # Seuil de signification\n",
    "if p_value < alpha:\n",
    "    print(\"Différence significative entre les deux groupes\")\n",
    "else:\n",
    "    print(\"Aucune différence significative entre les groupes\")"
   ]
  },
  {
   "cell_type": "code",
   "execution_count": null,
   "id": "bde80e06",
   "metadata": {},
   "outputs": [],
   "source": []
  }
 ],
 "metadata": {
  "kernelspec": {
   "display_name": "MY_HUGO_SAUNIER",
   "language": "python",
   "name": "python3"
  },
  "language_info": {
   "codemirror_mode": {
    "name": "ipython",
    "version": 3
   },
   "file_extension": ".py",
   "mimetype": "text/x-python",
   "name": "python",
   "nbconvert_exporter": "python",
   "pygments_lexer": "ipython3",
   "version": "3.12.5"
  }
 },
 "nbformat": 4,
 "nbformat_minor": 5
}
