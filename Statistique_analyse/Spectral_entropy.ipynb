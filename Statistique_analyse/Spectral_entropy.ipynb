{
 "cells": [
  {
   "cell_type": "code",
   "execution_count": 1,
   "id": "76606a8e",
   "metadata": {},
   "outputs": [],
   "source": [
    "from import_all import *"
   ]
  },
  {
   "cell_type": "code",
   "execution_count": 2,
   "id": "fc7f092c",
   "metadata": {},
   "outputs": [
    {
     "name": "stdout",
     "output_type": "stream",
     "text": [
      "Notebook 1Nmar.ipynb imported successfully.\n",
      "Notebook 2Nmar.ipynb imported successfully.\n",
      "Notebook 3Nmar.ipynb imported successfully.\n",
      "Notebook 4Nmar.ipynb imported successfully.\n",
      "Notebook 5Nmar.ipynb imported successfully.\n",
      "Notebook 6Nmar.ipynb imported successfully.\n",
      "Notebook 7Nmar.ipynb imported successfully.\n",
      "Notebook 8Nmar.ipynb imported successfully.\n",
      "Notebook 9Nmar.ipynb imported successfully.\n",
      "Notebook 10Nmar.ipynb imported successfully.\n",
      "Notebook 11Nmar.ipynb imported successfully.\n",
      "Notebook 1Amar.ipynb imported successfully.\n",
      "Notebook 2Amar.ipynb imported successfully.\n",
      "Notebook 3Amar.ipynb imported successfully.\n",
      "Notebook 4Amar.ipynb imported successfully.\n",
      "Notebook 5Amar.ipynb imported successfully.\n",
      "Notebook 6Amar.ipynb imported successfully.\n",
      "Notebook 7Amar.ipynb imported successfully.\n",
      "Notebook 8Amar.ipynb imported successfully.\n",
      "Notebook 9Amar.ipynb imported successfully.\n",
      "Notebook 10Amar.ipynb imported successfully.\n",
      "Notebook 11Amar.ipynb imported successfully.\n"
     ]
    }
   ],
   "source": [
    "# List of .ipynb files to process\n",
    "notebook_files_N = [f\"{i}Nmar.ipynb\" for i in range(1, 12)]\n",
    "notebook_files_A = [f\"{i}Amar.ipynb\" for i in range(1, 12)]\n",
    "\n",
    "# Dictionary to store results\n",
    "results = {}\n",
    "\n",
    "# Process Normal_analyse notebooks\n",
    "for file_name in notebook_files_N:\n",
    "    try:\n",
    "        # Load the .ipynb file\n",
    "        with open(\"../Normal_analyse/\"+file_name, 'r', encoding='utf-8') as f:\n",
    "            notebook = read(f, as_version=4)\n",
    "        print(f\"Notebook {file_name} imported successfully.\")\n",
    "    except FileNotFoundError:\n",
    "        # Handle missing file error\n",
    "        print(f\"Error: The file '{file_name}' was not found. Please ensure it exists in the current directory.\")\n",
    "        continue\n",
    "\n",
    "    # Dictionary to store variables from the notebook\n",
    "    global_vars = {}\n",
    "\n",
    "    # Backup stdout and stderr to suppress output\n",
    "    stdout_backup = sys.stdout\n",
    "    stderr_backup = sys.stderr\n",
    "    sys.stdout = io.StringIO()  # Capture standard output\n",
    "    sys.stderr = io.StringIO()  # Capture errors\n",
    "\n",
    "    # Disable interactive Matplotlib display\n",
    "    plt.ioff()\n",
    "\n",
    "    # Override `plt.show()` and `display()` to suppress displays\n",
    "    with patch(\"matplotlib.pyplot.show\"), patch(\"IPython.display.display\"):\n",
    "        # Execute all code cells without displaying output\n",
    "        for cell in notebook.cells:\n",
    "            if cell.cell_type == \"code\":\n",
    "                exec(cell.source, global_vars)\n",
    "\n",
    "    # Restore normal output\n",
    "    sys.stdout = stdout_backup\n",
    "    sys.stderr = stderr_backup\n",
    "    plt.ion()  # Re-enable interactive display\n",
    "    plt.close(\"all\")  # Close all figures in memory\n",
    "\n",
    "    # Retrieve data from the notebook\n",
    "    se_RF = global_vars.get(\"se_RF\", \"Variable not found\")\n",
    "    se_BF = global_vars.get(\"se_BF\", \"Variable not found\")\n",
    "    se_VS = global_vars.get(\"se_VM\", \"Variable not found\")\n",
    "    se_ST = global_vars.get(\"se_ST\", \"Variable not found\")\n",
    "\n",
    "    # Store results in the dictionary\n",
    "    results[\"RF_\"+file_name] = se_RF\n",
    "    results[\"BF_\"+file_name] = se_BF\n",
    "    results[\"VS_\"+file_name] = se_VS\n",
    "    results[\"ST_\"+file_name] = se_ST\n",
    "\n",
    "# Process Patient_analyse notebooks\n",
    "for file_name in notebook_files_A:\n",
    "    try:\n",
    "        # Load the .ipynb file\n",
    "        with open(\"../Patient_analyse/\"+file_name, 'r', encoding='utf-8') as f:\n",
    "            notebook = read(f, as_version=4)\n",
    "        print(f\"Notebook {file_name} imported successfully.\")\n",
    "    except FileNotFoundError:\n",
    "        # Handle missing file error\n",
    "        print(f\"Error: The file '{file_name}' was not found. Please ensure it exists in the current directory.\")\n",
    "        continue\n",
    "\n",
    "    # Dictionary to store variables from the notebook\n",
    "    global_vars = {}\n",
    "\n",
    "    # Backup stdout and stderr to suppress output\n",
    "    stdout_backup = sys.stdout\n",
    "    stderr_backup = sys.stderr\n",
    "    sys.stdout = io.StringIO()  # Capture standard output\n",
    "    sys.stderr = io.StringIO()  # Capture errors\n",
    "\n",
    "    # Disable interactive Matplotlib display\n",
    "    plt.ioff()\n",
    "\n",
    "    # Override `plt.show()` and `display()` to suppress displays\n",
    "    with patch(\"matplotlib.pyplot.show\"), patch(\"IPython.display.display\"):\n",
    "        # Execute all code cells without displaying output\n",
    "        for cell in notebook.cells:\n",
    "            if cell.cell_type == \"code\":\n",
    "                exec(cell.source, global_vars)\n",
    "\n",
    "    # Restore normal output\n",
    "    sys.stdout = stdout_backup\n",
    "    sys.stderr = stderr_backup\n",
    "    plt.ion()  # Re-enable interactive display\n",
    "    plt.close(\"all\")  # Close all figures in memory\n",
    "\n",
    "    # Retrieve data from the notebook\n",
    "    se_RF = global_vars.get(\"se_RF\", \"Variable not found\")\n",
    "    se_BF = global_vars.get(\"se_BF\", \"Variable not found\")\n",
    "    se_VS = global_vars.get(\"se_VM\", \"Variable not found\")\n",
    "    se_ST = global_vars.get(\"se_ST\", \"Variable not found\")\n",
    "\n",
    "    # Store results in the dictionary\n",
    "    results[\"RF_\"+file_name] = se_RF\n",
    "    results[\"BF_\"+file_name] = se_BF\n",
    "    results[\"VS_\"+file_name] = se_VS\n",
    "    results[\"ST_\"+file_name] = se_ST\n"
   ]
  },
  {
   "cell_type": "code",
   "execution_count": 4,
   "id": "5b4fc131",
   "metadata": {},
   "outputs": [
    {
     "name": "stdout",
     "output_type": "stream",
     "text": [
      "RF_N: [5.990737103074829, 6.317456432929115, 6.440423251824849, 6.352179204367657, 6.5920083988334905, 6.703081761245851, 6.084548812741607, 6.69234345740482, 6.266350660804018, 6.509200151026221, 5.6555372343495085]\n",
      "RF_A: [6.828890613563787, 5.67042665049945, 8.118408707896174, 7.8649819620895665, 7.840377651143833, 8.078310976897322, 6.159596094841848, 5.8708232184323785, 8.22933817189336, 7.984544312521164, 8.031416893007746]\n",
      "BF_N: [6.18689966869902, 6.640285559619914, 6.839215561448629, 6.469742716091036, 6.613671531116735, 6.728851200105053, 6.759418031276338, 7.002329654800817, 6.5333329167017045, 6.637463819559299, 6.480087786511514]\n",
      "BF_A: [7.104006698978839, 7.263403846404013, 8.664391491629898, 8.594079726841645, 8.580716719201547, 8.66954665214736, 7.445064297008544, 7.118195540395973, 8.334571575853218, 8.100458694131735, 7.893401843914746]\n",
      "VS_N: [5.9181926734938894, 6.220895746303275, 6.288452984014685, 6.37927751328983, 6.391608903511729, 6.543641324957765, 5.834287667187746, 5.614547787463324, 6.295794489549753, 6.375501380622903, 4.820155413741227]\n",
      "VS_A: [6.410050908096065, 6.064699891373323, 7.148239408479313, 7.7841986874851195, 7.850360324386405, 8.457864715650961, 5.665937637453756, 6.100188473187572, 7.831112914584177, 7.757961765486671, 6.561214130989011]\n",
      "ST_N: [6.365287942992718, 6.306886172407419, 6.627788823048001, 6.829070295298429, 6.5742818885989065, 6.838418965094658, 7.193851893258983, 6.664795364243654, 6.290014656940733, 6.426300696837062, 6.712005123962548]\n",
      "ST_A: [7.245091244288623, 7.212343598285846, 8.65154270125122, 9.216149413848418, 8.927854611611258, 9.146020617220582, 7.702985088411534, 6.837653074175864, 8.515201123731686, 8.211614755452562, 8.33027590673341]\n"
     ]
    }
   ],
   "source": [
    "# Initialize empty lists to store data for each group and muscle\n",
    "RF_N = []  # Normal group data for RF\n",
    "RF_A = []  # Patient group data for RF\n",
    "BF_N = []  # Normal group data for BF\n",
    "BF_A = []  # Patient group data for BF\n",
    "VS_N = []  # Normal group data for VS\n",
    "VS_A = []  # Patient group data for VS\n",
    "ST_N = []  # Normal group data for ST\n",
    "ST_A = []  # Patient group data for ST\n",
    "\n",
    "# Iterate through the results dictionary to classify data into respective lists\n",
    "for file_name, data in results.items():\n",
    "    # Check if the file belongs to the patient group (Amar) for RF and append the data\n",
    "    if file_name.startswith('RF_1Amar') or file_name.startswith('RF_2Amar') or file_name.startswith('RF_3Amar') or file_name.startswith('RF_4Amar') or file_name.startswith('RF_5Amar') or file_name.startswith('RF_6Amar') or file_name.startswith('RF_7Amar') or file_name.startswith('RF_8Amar') or file_name.startswith('RF_9Amar') or file_name.startswith('RF_10Amar') or file_name.startswith('RF_11Amar'):\n",
    "        RF_A.append(float(data))\n",
    "    # Check if the file belongs to the normal group (Nmar) for RF and append the data\n",
    "    elif file_name.startswith('RF_1Nmar') or file_name.startswith('RF_2Nmar') or file_name.startswith('RF_3Nmar') or file_name.startswith('RF_4Nmar') or file_name.startswith('RF_5Nmar') or file_name.startswith('RF_6Nmar') or file_name.startswith('RF_7Nmar') or file_name.startswith('RF_8Nmar') or file_name.startswith('RF_9Nmar') or file_name.startswith('RF_10Nmar') or file_name.startswith('RF_11Nmar'):\n",
    "        RF_N.append(float(data))\n",
    "    # Repeat the same logic for BF, VS, and ST muscles for both patient and normal groups\n",
    "    elif file_name.startswith('BF_1Amar') or file_name.startswith('BF_2Amar') or file_name.startswith('BF_3Amar') or file_name.startswith('BF_4Amar') or file_name.startswith('BF_5Amar') or file_name.startswith('BF_6Amar') or file_name.startswith('BF_7Amar') or file_name.startswith('BF_8Amar') or file_name.startswith('BF_9Amar') or file_name.startswith('BF_10Amar') or file_name.startswith('BF_11Amar'):\n",
    "        BF_A.append(float(data))\n",
    "    elif file_name.startswith('BF_1Nmar') or file_name.startswith('BF_2Nmar') or file_name.startswith('BF_3Nmar') or file_name.startswith('BF_4Nmar') or file_name.startswith('BF_5Nmar') or file_name.startswith('BF_6Nmar') or file_name.startswith('BF_7Nmar') or file_name.startswith('BF_8Nmar') or file_name.startswith('BF_9Nmar') or file_name.startswith('BF_10Nmar') or file_name.startswith('BF_11Nmar'):\n",
    "        BF_N.append(float(data))\n",
    "    elif file_name.startswith('VS_1Amar') or file_name.startswith('VS_2Amar') or file_name.startswith('VS_3Amar') or file_name.startswith('VS_4Amar') or file_name.startswith('VS_5Amar') or file_name.startswith('VS_6Amar') or file_name.startswith('VS_7Amar') or file_name.startswith('VS_8Amar') or file_name.startswith('VS_9Amar') or file_name.startswith('VS_10Amar') or file_name.startswith('VS_11Amar'):\n",
    "        VS_A.append(float(data))\n",
    "    elif file_name.startswith('VS_1Nmar') or file_name.startswith('VS_2Nmar') or file_name.startswith('VS_3Nmar') or file_name.startswith('VS_4Nmar') or file_name.startswith('VS_5Nmar') or file_name.startswith('VS_6Nmar') or file_name.startswith('VS_7Nmar') or file_name.startswith('VS_8Nmar') or file_name.startswith('VS_9Nmar') or file_name.startswith('VS_10Nmar') or file_name.startswith('VS_11Nmar'):\n",
    "        VS_N.append(float(data))\n",
    "    elif file_name.startswith('ST_1Amar') or file_name.startswith('ST_2Amar') or file_name.startswith('ST_3Amar') or file_name.startswith('ST_4Amar') or file_name.startswith('ST_5Amar') or file_name.startswith('ST_6Amar') or file_name.startswith('ST_7Amar') or file_name.startswith('ST_8Amar') or file_name.startswith('ST_9Amar') or file_name.startswith('ST_10Amar') or file_name.startswith('ST_11Amar'):\n",
    "        ST_A.append(float(data))\n",
    "    elif file_name.startswith('ST_1Nmar') or file_name.startswith('ST_2Nmar') or file_name.startswith('ST_3Nmar') or file_name.startswith('ST_4Nmar') or file_name.startswith('ST_5Nmar') or file_name.startswith('ST_6Nmar') or file_name.startswith('ST_7Nmar') or file_name.startswith('ST_8Nmar') or file_name.startswith('ST_9Nmar') or file_name.startswith('ST_10Nmar') or file_name.startswith('ST_11Nmar'):\n",
    "        ST_N.append(float(data))\n",
    "\n",
    "# Print the classified data for verification\n",
    "print(\"RF_N:\", RF_N)\n",
    "print(\"RF_A:\", RF_A)\n",
    "print(\"BF_N:\", BF_N)\n",
    "print(\"BF_A:\", BF_A)\n",
    "print(\"VS_N:\", VS_N)\n",
    "print(\"VS_A:\", VS_A)\n",
    "print(\"ST_N:\", ST_N)\n",
    "print(\"ST_A:\", ST_A)"
   ]
  },
  {
   "cell_type": "code",
   "execution_count": 5,
   "id": "b8b87454",
   "metadata": {},
   "outputs": [],
   "source": [
    "# Calculate means and standard deviations for each group and muscle\n",
    "mean_se_RF_N = np.mean(RF_N)\n",
    "mean_se_RF_A = np.mean(RF_A)\n",
    "mean_se_BF_N = np.mean(BF_N)\n",
    "mean_se_BF_A = np.mean(BF_A)\n",
    "mean_se_VS_N = np.mean(VS_N)\n",
    "mean_se_VS_A = np.mean(VS_A)\n",
    "mean_se_ST_N = np.mean(ST_N)\n",
    "mean_se_ST_A = np.mean(ST_A)\n",
    "\n",
    "std_se_RF_N = np.std(RF_N)\n",
    "std_se_RF_A = np.std(RF_A)\n",
    "std_se_BF_N = np.std(BF_N)\n",
    "std_se_BF_A = np.std(BF_A)\n",
    "std_se_VS_N = np.std(VS_N)\n",
    "std_se_VS_A = np.std(VS_A)\n",
    "std_se_ST_N = np.std(ST_N)\n",
    "std_se_ST_A = np.std(ST_A)"
   ]
  },
  {
   "cell_type": "markdown",
   "id": "b477fded",
   "metadata": {},
   "source": [
    "# RF"
   ]
  },
  {
   "cell_type": "code",
   "execution_count": 6,
   "id": "7f04a81e",
   "metadata": {},
   "outputs": [
    {
     "name": "stdout",
     "output_type": "stream",
     "text": [
      "RF_N :  [5.990737103074829, 6.317456432929115, 6.440423251824849, 6.352179204367657, 6.5920083988334905, 6.703081761245851, 6.084548812741607, 6.69234345740482, 6.266350660804018, 6.509200151026221, 5.6555372343495085]\n",
      "RF_A :  [6.828890613563787, 5.67042665049945, 8.118408707896174, 7.8649819620895665, 7.840377651143833, 8.078310976897322, 6.159596094841848, 5.8708232184323785, 8.22933817189336, 7.984544312521164, 8.031416893007746]\n",
      "mean_rms_RF_N: 6.327624224418359\n",
      "mean_rms_RF_A: 7.334283204798785\n",
      "std_rms_RF_N: 0.30426083328590475\n",
      "std_rms_RF_A: 0.9516304866338323\n"
     ]
    }
   ],
   "source": [
    "print(\"RF_N : \",RF_N)\n",
    "print(\"RF_A : \",RF_A)\n",
    "print(\"mean_rms_RF_N:\", mean_se_RF_N)\n",
    "print(\"mean_rms_RF_A:\", mean_se_RF_A)\n",
    "print(\"std_rms_RF_N:\", std_se_RF_N)\n",
    "print(\"std_rms_RF_A:\", std_se_RF_A)"
   ]
  },
  {
   "cell_type": "code",
   "execution_count": 7,
   "id": "dded5324",
   "metadata": {},
   "outputs": [
    {
     "name": "stderr",
     "output_type": "stream",
     "text": [
      "C:\\Users\\hoste\\AppData\\Local\\Temp\\ipykernel_18744\\786166772.py:3: MatplotlibDeprecationWarning: The 'labels' parameter of boxplot() has been renamed 'tick_labels' since Matplotlib 3.9; support for the old name will be dropped in 3.11.\n",
      "  plt.boxplot([RF_A, RF_N], labels=['Patient Group (RF_A)', 'Normal Group (RF_N)'])\n"
     ]
    }
   ],
   "source": [
    "# Boxplot of the two groups\n",
    "plt.figure(figsize=(10, 6))\n",
    "plt.boxplot([RF_A, RF_N], labels=['Patient Group (RF_A)', 'Normal Group (RF_N)'])\n",
    "plt.title('Boxplot of Spectral Entropy for RF Muscle')\n",
    "plt.ylabel('Spectral Entropy')\n",
    "plt.grid(True)\n",
    "plt.savefig(\"graph_analyse/boxplot_SE_RF.png\", dpi=300, bbox_inches='tight')\n",
    "plt.show()\n",
    "\n",
    "# Histogram of the two groups\n",
    "plt.figure(figsize=(10, 6))\n",
    "plt.hist(RF_A, bins=10, alpha=0.5, label='Patient Group (RF_A)', color='blue')\n",
    "plt.hist(RF_N, bins=10, alpha=0.5, label='Normal Group (RF_N)', color='orange')\n",
    "plt.title('Histogram of Spectral Entropy for RF Muscle')\n",
    "plt.xlabel('Spectral Entropy')\n",
    "plt.ylabel('Frequency')\n",
    "sns.kdeplot(RF_A, color='blue', label='Density Patient Group (RF_A)', linewidth=2)\n",
    "sns.kdeplot(RF_N, color='orange', label='Density Normal Group (RF_N)', linewidth=2)\n",
    "plt.legend()\n",
    "plt.grid(True)\n",
    "plt.savefig(\"graph_analyse/histogram_SE_RF.png\", dpi=300, bbox_inches='tight')\n",
    "plt.show()"
   ]
  },
  {
   "cell_type": "code",
   "execution_count": 8,
   "id": "eb079c5f",
   "metadata": {},
   "outputs": [
    {
     "name": "stdout",
     "output_type": "stream",
     "text": [
      "U Statistic: 28.0000\n",
      "Mann-Whitney P-value: 0.0356\n",
      "Significant difference between the two groups\n"
     ]
    }
   ],
   "source": [
    "# Mann-Whitney Test\n",
    "stat, p_value = stats.mannwhitneyu(RF_N, RF_A, alternative='two-sided')\n",
    "\n",
    "print(f\"U Statistic: {stat:.4f}\")\n",
    "print(f\"Mann-Whitney P-value: {p_value:.4f}\")\n",
    "\n",
    "alpha = 0.05  # Significance level\n",
    "if p_value < alpha:\n",
    "    print(\"Significant difference between the two groups\")\n",
    "else:\n",
    "    print(\"No significant difference between the groups\")"
   ]
  },
  {
   "cell_type": "markdown",
   "id": "681133d8",
   "metadata": {},
   "source": [
    "# BF"
   ]
  },
  {
   "cell_type": "code",
   "execution_count": 9,
   "id": "3b334f95",
   "metadata": {},
   "outputs": [
    {
     "name": "stdout",
     "output_type": "stream",
     "text": [
      "BF_N :  [6.18689966869902, 6.640285559619914, 6.839215561448629, 6.469742716091036, 6.613671531116735, 6.728851200105053, 6.759418031276338, 7.002329654800817, 6.5333329167017045, 6.637463819559299, 6.480087786511514]\n",
      "BF_A :  [7.104006698978839, 7.263403846404013, 8.664391491629898, 8.594079726841645, 8.580716719201547, 8.66954665214736, 7.445064297008544, 7.118195540395973, 8.334571575853218, 8.100458694131735, 7.893401843914746]\n",
      "mean_rms_BF_N: 6.626481676902733\n",
      "mean_rms_BF_A: 7.978894280591592\n",
      "std_rms_BF_N: 0.20517211458430396\n",
      "std_rms_BF_A: 0.6134311343080364\n"
     ]
    }
   ],
   "source": [
    "print(\"BF_N : \",BF_N)\n",
    "print(\"BF_A : \",BF_A)\n",
    "print(\"mean_rms_BF_N:\", mean_se_BF_N)\n",
    "print(\"mean_rms_BF_A:\", mean_se_BF_A)\n",
    "print(\"std_rms_BF_N:\", std_se_BF_N)\n",
    "print(\"std_rms_BF_A:\", std_se_BF_A)"
   ]
  },
  {
   "cell_type": "code",
   "execution_count": 10,
   "id": "d6b6ccc2",
   "metadata": {},
   "outputs": [
    {
     "name": "stderr",
     "output_type": "stream",
     "text": [
      "C:\\Users\\hoste\\AppData\\Local\\Temp\\ipykernel_18744\\3609301231.py:3: MatplotlibDeprecationWarning: The 'labels' parameter of boxplot() has been renamed 'tick_labels' since Matplotlib 3.9; support for the old name will be dropped in 3.11.\n",
      "  plt.boxplot([BF_A, BF_N], labels=['Patient Group (BF_A)', 'Normal Group (BF_N)'])\n"
     ]
    }
   ],
   "source": [
    "# Boxplot of the two groups\n",
    "plt.figure(figsize=(10, 6))\n",
    "plt.boxplot([BF_A, BF_N], labels=['Patient Group (BF_A)', 'Normal Group (BF_N)'])\n",
    "plt.title('Boxplot of Spectral Entropy for BF Muscle')\n",
    "plt.ylabel('Spectral Entropy')\n",
    "plt.grid(True)\n",
    "plt.savefig(\"graph_analyse/boxplot_SE_BF.png\", dpi=300, bbox_inches='tight')\n",
    "plt.show()\n",
    "\n",
    "# Histogramme des deux groupes\n",
    "plt.figure(figsize=(10, 6))\n",
    "plt.hist(BF_A, bins=10, alpha=0.5, label='Patient Group (BF_A)', color='blue')\n",
    "plt.hist(BF_N, bins=10, alpha=0.5, label='Normal Group (BF_N)', color='orange')\n",
    "plt.title('Histogram of Spectral Entropy for BF Muscle')\n",
    "plt.xlabel('Spectral Entropy')\n",
    "plt.ylabel('Frequency')\n",
    "sns.kdeplot(BF_A, color='blue', label='Density Patient Group (BF_A)', linewidth=2)\n",
    "sns.kdeplot(BF_N, color='orange', label='Density Normal Group (BF_N)', linewidth=2)\n",
    "plt.legend()\n",
    "plt.grid(True)\n",
    "plt.savefig(\"graph_analyse/histogram_SE_BF.png\", dpi=300, bbox_inches='tight')\n",
    "plt.show()"
   ]
  },
  {
   "cell_type": "code",
   "execution_count": 11,
   "id": "25bf8ff4",
   "metadata": {},
   "outputs": [
    {
     "name": "stdout",
     "output_type": "stream",
     "text": [
      "U Statistic: 0.0000\n",
      "Mann-Whitney P-value: 0.0001\n",
      "Significant difference between the two groups\n"
     ]
    }
   ],
   "source": [
    "# Mann-Whitney Test\n",
    "stat, p_value = stats.mannwhitneyu(BF_N, BF_A, alternative='two-sided')\n",
    "\n",
    "print(f\"U Statistic: {stat:.4f}\")\n",
    "print(f\"Mann-Whitney P-value: {p_value:.4f}\")\n",
    "\n",
    "alpha = 0.05  # Significance level\n",
    "if p_value < alpha:\n",
    "    print(\"Significant difference between the two groups\")\n",
    "else:\n",
    "    print(\"No significant difference between the groups\")"
   ]
  },
  {
   "cell_type": "markdown",
   "id": "d6cf41e4",
   "metadata": {},
   "source": [
    "# VS"
   ]
  },
  {
   "cell_type": "code",
   "execution_count": 12,
   "id": "ff675595",
   "metadata": {},
   "outputs": [
    {
     "name": "stdout",
     "output_type": "stream",
     "text": [
      "VS_N :  [5.9181926734938894, 6.220895746303275, 6.288452984014685, 6.37927751328983, 6.391608903511729, 6.543641324957765, 5.834287667187746, 5.614547787463324, 6.295794489549753, 6.375501380622903, 4.820155413741227]\n",
      "VS_A :  [6.410050908096065, 6.064699891373323, 7.148239408479313, 7.7841986874851195, 7.850360324386405, 8.457864715650961, 5.665937637453756, 6.100188473187572, 7.831112914584177, 7.757961765486671, 6.561214130989011]\n",
      "mean_rms_VS_N: 6.062032353103283\n",
      "mean_rms_VS_A: 7.057438987015671\n",
      "std_rms_VS_N: 0.4753641769366502\n",
      "std_rms_VS_A: 0.8903079269832523\n"
     ]
    }
   ],
   "source": [
    "print(\"VS_N : \",VS_N)\n",
    "print(\"VS_A : \",VS_A)\n",
    "print(\"mean_rms_VS_N:\", mean_se_VS_N)\n",
    "print(\"mean_rms_VS_A:\", mean_se_VS_A)\n",
    "print(\"std_rms_VS_N:\", std_se_VS_N)\n",
    "print(\"std_rms_VS_A:\", std_se_VS_A)"
   ]
  },
  {
   "cell_type": "code",
   "execution_count": 13,
   "id": "499f19bf",
   "metadata": {},
   "outputs": [
    {
     "name": "stderr",
     "output_type": "stream",
     "text": [
      "C:\\Users\\hoste\\AppData\\Local\\Temp\\ipykernel_18744\\2964021355.py:3: MatplotlibDeprecationWarning: The 'labels' parameter of boxplot() has been renamed 'tick_labels' since Matplotlib 3.9; support for the old name will be dropped in 3.11.\n",
      "  plt.boxplot([VS_A, VS_N], labels=['Patient Group (VS_A)', 'Normal Group (VS_N)'])\n"
     ]
    }
   ],
   "source": [
    "# Boxplot des deux groupes\n",
    "plt.figure(figsize=(10, 6))\n",
    "plt.boxplot([VS_A, VS_N], labels=['Patient Group (VS_A)', 'Normal Group (VS_N)'])\n",
    "plt.title('Boxplot of Spectral Entropy for VS Muscle')\n",
    "plt.ylabel('Spectral Entropy')\n",
    "plt.grid(True)\n",
    "plt.savefig(\"graph_analyse/boxplot_SE_VS.png\", dpi=300, bbox_inches='tight')\n",
    "plt.show()\n",
    "\n",
    "# Histogram of the two groups\n",
    "plt.figure(figsize=(10, 6))\n",
    "plt.hist(VS_A, bins=10, alpha=0.5, label='Patient Group (VS_A)', color='blue')\n",
    "plt.hist(VS_N, bins=10, alpha=0.5, label='Normal Group (VS_N)', color='orange')\n",
    "plt.title('Histogram of Spectral Entropy for VS Muscle')\n",
    "plt.xlabel('Spectral Entropy')\n",
    "plt.ylabel('Frequency')\n",
    "sns.kdeplot(VS_A, color='blue', label='Density Patient Group (VS_A)', linewidth=2)\n",
    "sns.kdeplot(VS_N, color='orange', label='Density Normal Group (VS_N)', linewidth=2)\n",
    "plt.legend()\n",
    "plt.grid(True)\n",
    "plt.savefig(\"graph_analyse/histogram_SE_VS.png\", dpi=300, bbox_inches='tight')\n",
    "plt.show()"
   ]
  },
  {
   "cell_type": "code",
   "execution_count": 14,
   "id": "134f35b2",
   "metadata": {},
   "outputs": [
    {
     "name": "stdout",
     "output_type": "stream",
     "text": [
      "U Statistic: 24.0000\n",
      "Mann-Whitney P-value: 0.0181\n",
      "Significant difference between the two groups\n"
     ]
    }
   ],
   "source": [
    "# Mann-Whitney Test\n",
    "stat, p_value = stats.mannwhitneyu(VS_N, VS_A, alternative='two-sided')\n",
    "\n",
    "print(f\"U Statistic: {stat:.4f}\")\n",
    "print(f\"Mann-Whitney P-value: {p_value:.4f}\")\n",
    "\n",
    "alpha = 0.05  # Significance level\n",
    "if p_value < alpha:\n",
    "    print(\"Significant difference between the two groups\")\n",
    "else:\n",
    "    print(\"No significant difference between the groups\")"
   ]
  },
  {
   "cell_type": "markdown",
   "id": "63fd7bf0",
   "metadata": {},
   "source": [
    "# ST"
   ]
  },
  {
   "cell_type": "code",
   "execution_count": 15,
   "id": "fa614028",
   "metadata": {},
   "outputs": [
    {
     "name": "stdout",
     "output_type": "stream",
     "text": [
      "ST_N :  [6.365287942992718, 6.306886172407419, 6.627788823048001, 6.829070295298429, 6.5742818885989065, 6.838418965094658, 7.193851893258983, 6.664795364243654, 6.290014656940733, 6.426300696837062, 6.712005123962548]\n",
      "ST_A :  [7.245091244288623, 7.212343598285846, 8.65154270125122, 9.216149413848418, 8.927854611611258, 9.146020617220582, 7.702985088411534, 6.837653074175864, 8.515201123731686, 8.211614755452562, 8.33027590673341]\n",
      "mean_rms_ST_N: 6.620791074789374\n",
      "mean_rms_ST_A: 8.181521103182817\n",
      "std_rms_ST_N: 0.259836831834469\n",
      "std_rms_ST_A: 0.7841735053435476\n"
     ]
    }
   ],
   "source": [
    "print(\"ST_N : \",ST_N)\n",
    "print(\"ST_A : \",ST_A)\n",
    "print(\"mean_rms_ST_N:\", mean_se_ST_N)\n",
    "print(\"mean_rms_ST_A:\", mean_se_ST_A)\n",
    "print(\"std_rms_ST_N:\", std_se_ST_N)\n",
    "print(\"std_rms_ST_A:\", std_se_ST_A)"
   ]
  },
  {
   "cell_type": "code",
   "execution_count": 16,
   "id": "1160ae72",
   "metadata": {},
   "outputs": [
    {
     "name": "stderr",
     "output_type": "stream",
     "text": [
      "C:\\Users\\hoste\\AppData\\Local\\Temp\\ipykernel_18744\\2407125512.py:3: MatplotlibDeprecationWarning: The 'labels' parameter of boxplot() has been renamed 'tick_labels' since Matplotlib 3.9; support for the old name will be dropped in 3.11.\n",
      "  plt.boxplot([ST_A, ST_N], labels=['Patient Group (ST_A)', 'Normal Group (ST_N)'])\n"
     ]
    }
   ],
   "source": [
    "# Boxplot of the two groups\n",
    "plt.figure(figsize=(10, 6))\n",
    "plt.boxplot([ST_A, ST_N], labels=['Patient Group (ST_A)', 'Normal Group (ST_N)'])\n",
    "plt.title('Boxplot of Spectral Entropy for ST Muscle')\n",
    "plt.ylabel('Spectral Entropy')\n",
    "plt.grid(True)\n",
    "plt.savefig(\"graph_analyse/boxplot_SE_ST.png\", dpi=300, bbox_inches='tight')\n",
    "plt.show()\n",
    "\n",
    "# Histogram of the two groups\n",
    "plt.figure(figsize=(10, 6))\n",
    "plt.hist(ST_A, bins=10, alpha=0.5, label='Patient Group (ST_A)', color='blue')\n",
    "plt.hist(ST_N, bins=10, alpha=0.5, label='Normal Group (ST_N)', color='orange')\n",
    "plt.title('Histogram of Spectral Entropy for ST Muscle')\n",
    "plt.xlabel('Spectral Entropy')\n",
    "plt.ylabel('Frequency')\n",
    "sns.kdeplot(ST_A, color='blue', label='Density Patient Group (ST_A)', linewidth=2)\n",
    "sns.kdeplot(ST_N, color='orange', label='Density Normal Group (ST_N)', linewidth=2)\n",
    "plt.legend()\n",
    "plt.grid(True)\n",
    "plt.savefig(\"graph_analyse/histogram_SE_ST.png\", dpi=300, bbox_inches='tight')\n",
    "plt.show()"
   ]
  },
  {
   "cell_type": "code",
   "execution_count": 17,
   "id": "1112cc9a",
   "metadata": {},
   "outputs": [
    {
     "name": "stdout",
     "output_type": "stream",
     "text": [
      "U Statistic: 2.0000\n",
      "Mann-Whitney P-value: 0.0001\n",
      "Significant difference between the two groups\n"
     ]
    }
   ],
   "source": [
    "# Mann-Whitney Test\n",
    "stat, p_value = stats.mannwhitneyu(ST_N, ST_A, alternative='two-sided')\n",
    "\n",
    "print(f\"U Statistic: {stat:.4f}\")\n",
    "print(f\"Mann-Whitney P-value: {p_value:.4f}\")\n",
    "\n",
    "alpha = 0.05  # Significance level\n",
    "if p_value < alpha:\n",
    "    print(\"Significant difference between the two groups\")\n",
    "else:\n",
    "    print(\"No significant difference between the groups\")"
   ]
  }
 ],
 "metadata": {
  "kernelspec": {
   "display_name": "MY_HUGO_SAUNIER",
   "language": "python",
   "name": "python3"
  },
  "language_info": {
   "codemirror_mode": {
    "name": "ipython",
    "version": 3
   },
   "file_extension": ".py",
   "mimetype": "text/x-python",
   "name": "python",
   "nbconvert_exporter": "python",
   "pygments_lexer": "ipython3",
   "version": "3.12.5"
  }
 },
 "nbformat": 4,
 "nbformat_minor": 5
}
