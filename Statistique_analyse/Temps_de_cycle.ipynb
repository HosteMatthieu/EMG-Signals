{
 "cells": [
  {
   "cell_type": "markdown",
   "metadata": {},
   "source": [
    "##### Import nécessaires"
   ]
  },
  {
   "cell_type": "code",
   "execution_count": 24,
   "metadata": {},
   "outputs": [],
   "source": [
    "from import_all import *"
   ]
  },
  {
   "cell_type": "markdown",
   "metadata": {},
   "source": [
    "##### On charge les fichiers et on récupère les variables que l'on veut"
   ]
  },
  {
   "cell_type": "code",
   "execution_count": 25,
   "metadata": {},
   "outputs": [
    {
     "name": "stdout",
     "output_type": "stream",
     "text": [
      "Notebook 1Nmar.ipynb imported successfully.\n",
      "Notebook 2Nmar.ipynb imported successfully.\n",
      "Notebook 3Nmar.ipynb imported successfully.\n",
      "Notebook 4Nmar.ipynb imported successfully.\n",
      "Notebook 5Nmar.ipynb imported successfully.\n",
      "Notebook 6Nmar.ipynb imported successfully.\n",
      "Notebook 7Nmar.ipynb imported successfully.\n",
      "Notebook 8Nmar.ipynb imported successfully.\n",
      "Notebook 9Nmar.ipynb imported successfully.\n",
      "Notebook 10Nmar.ipynb imported successfully.\n",
      "Notebook 11Nmar.ipynb imported successfully.\n",
      "Notebook 1Amar.ipynb imported successfully.\n",
      "Notebook 2Amar.ipynb imported successfully.\n",
      "Notebook 3Amar.ipynb imported successfully.\n",
      "Notebook 4Amar.ipynb imported successfully.\n",
      "Notebook 5Amar.ipynb imported successfully.\n",
      "Notebook 6Amar.ipynb imported successfully.\n",
      "Notebook 7Amar.ipynb imported successfully.\n",
      "Notebook 8Amar.ipynb imported successfully.\n",
      "Notebook 9Amar.ipynb imported successfully.\n",
      "Notebook 10Amar.ipynb imported successfully.\n",
      "Notebook 11Amar.ipynb imported successfully.\n"
     ]
    },
    {
     "data": {
      "text/plain": [
       "<contextlib.ExitStack at 0x1e68d5c08f0>"
      ]
     },
     "execution_count": 25,
     "metadata": {},
     "output_type": "execute_result"
    }
   ],
   "source": [
    "# List of .ipynb files to process\n",
    "notebook_files_N = [f\"{i}Nmar.ipynb\" for i in range(1, 12)]\n",
    "notebook_files_A = [f\"{i}Amar.ipynb\" for i in range(1, 12)]\n",
    "\n",
    "# Dictionary to store results for each file\n",
    "results = {}\n",
    "\n",
    "for file_name in notebook_files_N:\n",
    "    try:\n",
    "        # Load the .ipynb file\n",
    "        with open(\"../Normal_analyse/\"+file_name, 'r', encoding='utf-8') as f:\n",
    "            notebook = read(f, as_version=4)\n",
    "        print(f\"Notebook {file_name} imported successfully.\")\n",
    "    except FileNotFoundError:\n",
    "        print(f\"Error: The file '{file_name}' was not found. Please ensure it exists in the current directory.\")\n",
    "        continue\n",
    "\n",
    "    # Dictionnaire pour stocker les variables\n",
    "    global_vars = {}\n",
    "\n",
    "    # Sauvegarde stdout et stderr pour masquer l'affichage\n",
    "    stdout_backup = sys.stdout\n",
    "    stderr_backup = sys.stderr\n",
    "    sys.stdout = io.StringIO()  # Capture la sortie standard\n",
    "    sys.stderr = io.StringIO()  # Capture les erreurs\n",
    "\n",
    "    # Désactiver l'affichage interactif de Matplotlib\n",
    "    plt.ioff()\n",
    "\n",
    "    # Redéfinir `plt.show()` et `display()` pour bloquer les affichages\n",
    "    with patch(\"matplotlib.pyplot.show\"), patch(\"IPython.display.display\"):\n",
    "        # Exécuter toutes les cellules de code sans affichage\n",
    "        for cell in notebook.cells:\n",
    "            if cell.cell_type == \"code\":\n",
    "                exec(cell.source, global_vars)\n",
    "\n",
    "    # Rétablir la sortie normale\n",
    "    sys.stdout = stdout_backup\n",
    "    sys.stderr = stderr_backup\n",
    "    plt.ion()  # Réactiver l'affichage interactif\n",
    "    plt.close(\"all\")  # Fermer toutes les figures en mémoire\n",
    "\n",
    "    # Récupérer uniquement `average_cycle_time`\n",
    "    average_cycle_time = global_vars.get(\"average_cycle_time\", \"Variable non trouvée\")\n",
    "    results[\"ATC_\"+file_name] = average_cycle_time\n",
    "\n",
    "\n",
    "for file_name in notebook_files_A:\n",
    "    try:\n",
    "        # Load the .ipynb file\n",
    "        with open(\"../Patient_analyse/\"+file_name, 'r', encoding='utf-8') as f:\n",
    "            notebook = read(f, as_version=4)\n",
    "        print(f\"Notebook {file_name} imported successfully.\")\n",
    "    except FileNotFoundError:\n",
    "        print(f\"Error: The file '{file_name}' was not found. Please ensure it exists in the current directory.\")\n",
    "        continue\n",
    "\n",
    "    # Dictionnaire pour stocker les variables\n",
    "    global_vars = {}\n",
    "\n",
    "    # Sauvegarde stdout et stderr pour masquer l'affichage\n",
    "    stdout_backup = sys.stdout\n",
    "    stderr_backup = sys.stderr\n",
    "    sys.stdout = io.StringIO()  # Capture la sortie standard\n",
    "    sys.stderr = io.StringIO()  # Capture les erreurs\n",
    "\n",
    "    # Désactiver l'affichage interactif de Matplotlib\n",
    "    plt.ioff()\n",
    "\n",
    "    # Redéfinir `plt.show()` et `display()` pour bloquer les affichages\n",
    "    with patch(\"matplotlib.pyplot.show\"), patch(\"IPython.display.display\"):\n",
    "        # Exécuter toutes les cellules de code sans affichage\n",
    "        for cell in notebook.cells:\n",
    "            if cell.cell_type == \"code\":\n",
    "                exec(cell.source, global_vars)\n",
    "\n",
    "    # Rétablir la sortie normale\n",
    "    sys.stdout = stdout_backup\n",
    "    sys.stderr = stderr_backup\n",
    "    plt.ion()  # Réactiver l'affichage interactif\n",
    "    plt.close(\"all\")  # Fermer toutes les figures en mémoire\n",
    "\n",
    "    # Récupérer uniquement `average_cycle_time`\n",
    "    average_cycle_time = global_vars.get(\"average_cycle_time\", \"Variable non trouvée\")\n",
    "    results[\"ATC_\"+file_name] = average_cycle_time\n",
    "\n",
    "plt.ion()  # Mode interactif\n"
   ]
  },
  {
   "cell_type": "markdown",
   "metadata": {},
   "source": [
    "##### On affiche tous les temps de cycle moyen"
   ]
  },
  {
   "cell_type": "code",
   "execution_count": 26,
   "metadata": {},
   "outputs": [
    {
     "name": "stdout",
     "output_type": "stream",
     "text": [
      "ATC_1Nmar.ipynb: 1.262\n",
      "ATC_2Nmar.ipynb: 1.315\n",
      "ATC_3Nmar.ipynb: 1.3855\n",
      "ATC_4Nmar.ipynb: 1.48\n",
      "ATC_5Nmar.ipynb: 1.2802499999999999\n",
      "ATC_6Nmar.ipynb: 1.3599999999999999\n",
      "ATC_7Nmar.ipynb: 1.4474000000000002\n",
      "ATC_8Nmar.ipynb: 1.5166\n",
      "ATC_9Nmar.ipynb: 1.319\n",
      "ATC_10Nmar.ipynb: 1.2325\n",
      "ATC_11Nmar.ipynb: 1.12025\n",
      "ATC_1Amar.ipynb: 1.528\n",
      "ATC_2Amar.ipynb: 1.171125\n",
      "ATC_3Amar.ipynb: 1.326846153846154\n",
      "ATC_4Amar.ipynb: 1.4275151515151514\n",
      "ATC_5Amar.ipynb: 1.3608148148148147\n",
      "ATC_6Amar.ipynb: 2.093\n",
      "ATC_7Amar.ipynb: 1.2824166666666665\n",
      "ATC_8Amar.ipynb: 1.4024\n",
      "ATC_9Amar.ipynb: 1.38075\n",
      "ATC_10Amar.ipynb: 1.2955294117647058\n",
      "ATC_11Amar.ipynb: 1.4177777777777778\n"
     ]
    }
   ],
   "source": [
    "# Print results for all files\n",
    "for file_name, average_cycle_time in results.items():\n",
    "    print(f\"{file_name}: {average_cycle_time}\")\n"
   ]
  },
  {
   "cell_type": "markdown",
   "metadata": {},
   "source": [
    "##### Analyse statistique sur le temps de cycle moyen"
   ]
  },
  {
   "cell_type": "code",
   "execution_count": 27,
   "metadata": {},
   "outputs": [
    {
     "name": "stdout",
     "output_type": "stream",
     "text": [
      "ATC_A: [1.528, 1.171125, 1.326846153846154, 1.4275151515151514, 1.3608148148148147, 2.093, 1.2824166666666665, 1.4024, 1.38075, 1.2955294117647058, 1.4177777777777778]\n",
      "ATC_N: [1.262, 1.315, 1.3855, 1.48, 1.2802499999999999, 1.3599999999999999, 1.4474000000000002, 1.5166, 1.319, 1.2325, 1.12025]\n"
     ]
    }
   ],
   "source": [
    "#On crée nos 2 groupes de données ATC_A et ATC_N\n",
    "ATC_N=[]\n",
    "ATC_A=[]\n",
    "\n",
    "for file_name, average_cycle_time in results.items():\n",
    "    if file_name.startswith('ATC_1Amar') or file_name.startswith('ATC_2Amar') or file_name.startswith('ATC_3Amar') or file_name.startswith('ATC_4Amar') or file_name.startswith('ATC_5Amar') or file_name.startswith('ATC_6Amar') or file_name.startswith('ATC_7Amar') or file_name.startswith('ATC_8Amar') or file_name.startswith('ATC_9Amar') or file_name.startswith('ATC_10Amar') or file_name.startswith('ATC_11Amar'):\n",
    "        ATC_A.append(float(average_cycle_time))\n",
    "    else:\n",
    "        ATC_N.append(float(average_cycle_time))\n",
    "\n",
    "print(\"ATC_A:\", ATC_A)\n",
    "print(\"ATC_N:\", ATC_N)"
   ]
  },
  {
   "cell_type": "code",
   "execution_count": 31,
   "metadata": {},
   "outputs": [
    {
     "name": "stdout",
     "output_type": "stream",
     "text": [
      "ATC_N: Moyenne = 1.3380, Ecart-type = 0.1163\n",
      "ATC_A: Moyenne = 1.4260, Ecart-type = 0.2397\n"
     ]
    }
   ],
   "source": [
    "mean_ATC_N = np.mean(ATC_N)\n",
    "mean_ATC_A = np.mean(ATC_A)\n",
    "\n",
    "std_ATC_N = np.std(ATC_N, ddof=1)  # ddof=1 pour l'estimation de l'écart-type de l'échantillon\n",
    "std_ATC_A = np.std(ATC_A, ddof=1)  # ddof=1 pour l'estimation de l'écart-type de l'échantillon\n",
    "\n",
    "print(f\"ATC_N: Moyenne = {mean_ATC_N:.4f}, Ecart-type = {std_ATC_N:.4f}\")\n",
    "print(f\"ATC_A: Moyenne = {mean_ATC_A:.4f}, Ecart-type = {std_ATC_A:.4f}\")"
   ]
  },
  {
   "cell_type": "code",
   "execution_count": 32,
   "metadata": {},
   "outputs": [
    {
     "name": "stderr",
     "output_type": "stream",
     "text": [
      "C:\\Users\\hoste\\AppData\\Local\\Temp\\ipykernel_2896\\2127953764.py:3: MatplotlibDeprecationWarning: The 'labels' parameter of boxplot() has been renamed 'tick_labels' since Matplotlib 3.9; support for the old name will be dropped in 3.11.\n",
      "  plt.boxplot([ATC_A, ATC_N], labels=['ATC_A', 'ATC_N'])\n"
     ]
    }
   ],
   "source": [
    "#Boxplot des deux groupes\n",
    "plt.figure(figsize=(10, 6))\n",
    "plt.boxplot([ATC_A, ATC_N], labels=['ATC_A', 'ATC_N'])\n",
    "plt.title('Boxplot des temps de cycle moyen')\n",
    "plt.ylabel('Temps de cycle moyen')\n",
    "plt.grid(True)\n",
    "plt.savefig(\"graph_analyse/boxplot_temps_cycle.png\", dpi=300, bbox_inches='tight')\n",
    "plt.show()\n",
    "\n",
    "#Histogramme des deux groupes\n",
    "plt.figure(figsize=(10, 6))\n",
    "plt.hist(ATC_A, bins=10, alpha=0.5, label='ATC_A', color='blue')\n",
    "plt.hist(ATC_N, bins=10, alpha=0.5, label='ATC_N', color='orange')\n",
    "plt.title('Histogramme des temps de cycle moyen')\n",
    "plt.xlabel('Temps de cycle moyen')\n",
    "plt.ylabel('Fréquence')\n",
    "sns.kdeplot(ATC_A, color='blue', label='Densité ATC_A', linewidth=2)\n",
    "sns.kdeplot(ATC_N, color='orange', label='Densité ATC_N', linewidth=2)\n",
    "plt.legend()\n",
    "plt.grid(True)\n",
    "plt.savefig(\"graph_analyse/histogramme_temps_cycle.png\", dpi=300, bbox_inches='tight')\n",
    "plt.show()\n"
   ]
  },
  {
   "cell_type": "code",
   "execution_count": 28,
   "metadata": {},
   "outputs": [
    {
     "name": "stdout",
     "output_type": "stream",
     "text": [
      "Statistique U : 46.0000\n",
      "P-valeur Mann-Whitney : 0.3579\n",
      "Aucune différence significative entre les groupes\n"
     ]
    }
   ],
   "source": [
    "# Test de Mann-Whitney\n",
    "stat, p_value = stats.mannwhitneyu(ATC_N, ATC_A, alternative='two-sided')\n",
    "\n",
    "print(f\"Statistique U : {stat:.4f}\")\n",
    "print(f\"P-valeur Mann-Whitney : {p_value:.4f}\")\n",
    "\n",
    "alpha = 0.05  # Seuil de signification\n",
    "if p_value < alpha:\n",
    "    print(\"Différence significative entre les deux groupes\")\n",
    "else:\n",
    "    print(\"Aucune différence significative entre les groupes\")"
   ]
  }
 ],
 "metadata": {
  "kernelspec": {
   "display_name": "MY_HUGO_SAUNIER",
   "language": "python",
   "name": "python3"
  },
  "language_info": {
   "codemirror_mode": {
    "name": "ipython",
    "version": 3
   },
   "file_extension": ".py",
   "mimetype": "text/x-python",
   "name": "python",
   "nbconvert_exporter": "python",
   "pygments_lexer": "ipython3",
   "version": "3.12.5"
  }
 },
 "nbformat": 4,
 "nbformat_minor": 2
}
