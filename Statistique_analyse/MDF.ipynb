{
 "cells": [
  {
   "cell_type": "code",
   "execution_count": 2,
   "id": "2bb1e2b4",
   "metadata": {},
   "outputs": [],
   "source": [
    "from import_all import *"
   ]
  },
  {
   "cell_type": "code",
   "execution_count": 3,
   "id": "60d7a4a2",
   "metadata": {},
   "outputs": [
    {
     "name": "stdout",
     "output_type": "stream",
     "text": [
      "Notebook 1Nmar.ipynb imported successfully.\n",
      "Notebook 2Nmar.ipynb imported successfully.\n",
      "Notebook 3Nmar.ipynb imported successfully.\n",
      "Notebook 4Nmar.ipynb imported successfully.\n",
      "Notebook 5Nmar.ipynb imported successfully.\n",
      "Notebook 6Nmar.ipynb imported successfully.\n",
      "Notebook 7Nmar.ipynb imported successfully.\n",
      "Notebook 8Nmar.ipynb imported successfully.\n",
      "Notebook 9Nmar.ipynb imported successfully.\n",
      "Notebook 10Nmar.ipynb imported successfully.\n",
      "Notebook 11Nmar.ipynb imported successfully.\n",
      "Notebook 1Amar.ipynb imported successfully.\n",
      "Notebook 2Amar.ipynb imported successfully.\n",
      "Notebook 3Amar.ipynb imported successfully.\n",
      "Notebook 4Amar.ipynb imported successfully.\n",
      "Notebook 5Amar.ipynb imported successfully.\n",
      "Notebook 6Amar.ipynb imported successfully.\n",
      "Notebook 7Amar.ipynb imported successfully.\n",
      "Notebook 8Amar.ipynb imported successfully.\n",
      "Notebook 9Amar.ipynb imported successfully.\n",
      "Notebook 10Amar.ipynb imported successfully.\n",
      "Notebook 11Amar.ipynb imported successfully.\n"
     ]
    }
   ],
   "source": [
    "# List of .ipynb files to process\n",
    "notebook_files_N = [f\"{i}Nmar.ipynb\" for i in range(1, 12)]\n",
    "notebook_files_A = [f\"{i}Amar.ipynb\" for i in range(1, 12)]\n",
    "\n",
    "\n",
    "results = {}\n",
    "\n",
    "for file_name in notebook_files_N:\n",
    "    try:\n",
    "        # Load the .ipynb file\n",
    "        with open(\"../Normal_analyse/\"+file_name, 'r', encoding='utf-8') as f:\n",
    "            notebook = read(f, as_version=4)\n",
    "        print(f\"Notebook {file_name} imported successfully.\")\n",
    "    except FileNotFoundError:\n",
    "        print(f\"Error: The file '{file_name}' was not found. Please ensure it exists in the current directory.\")\n",
    "        continue\n",
    "\n",
    "    # Dictionnaire pour stocker les variables\n",
    "    global_vars = {}\n",
    "\n",
    "    # Sauvegarde stdout et stderr pour masquer l'affichage\n",
    "    stdout_backup = sys.stdout\n",
    "    stderr_backup = sys.stderr\n",
    "    sys.stdout = io.StringIO()  # Capture la sortie standard\n",
    "    sys.stderr = io.StringIO()  # Capture les erreurs\n",
    "\n",
    "    # Désactiver l'affichage interactif de Matplotlib\n",
    "    plt.ioff()\n",
    "\n",
    "    # Redéfinir `plt.show()` et `display()` pour bloquer les affichages\n",
    "    with patch(\"matplotlib.pyplot.show\"), patch(\"IPython.display.display\"):\n",
    "        # Exécuter toutes les cellules de code sans affichage\n",
    "        for cell in notebook.cells:\n",
    "            if cell.cell_type == \"code\":\n",
    "                exec(cell.source, global_vars)\n",
    "\n",
    "    # Rétablir la sortie normale\n",
    "    sys.stdout = stdout_backup\n",
    "    sys.stderr = stderr_backup\n",
    "    plt.ion()  # Réactiver l'affichage interactif\n",
    "    plt.close(\"all\")  # Fermer toutes les figures en mémoire\n",
    "\n",
    "    # Récupérer les données\n",
    "    mdf_RF = global_vars.get(\"mdf_RF\", \"Variable non trouvée\")\n",
    "    mdf_BF = global_vars.get(\"mdf_BF\", \"Variable non trouvée\")\n",
    "    mdf_VS = global_vars.get(\"mdf_VM\", \"Variable non trouvée\")\n",
    "    mdf_ST = global_vars.get(\"mdf_ST\", \"Variable non trouvée\")\n",
    "\n",
    "    results[\"RF_\"+file_name] = mdf_RF\n",
    "    results[\"BF_\"+file_name] = mdf_BF\n",
    "    results[\"VS_\"+file_name] = mdf_VS\n",
    "    results[\"ST_\"+file_name] = mdf_ST\n",
    "\n",
    "\n",
    "for file_name in notebook_files_A:\n",
    "    try:\n",
    "        # Load the .ipynb file\n",
    "        with open(\"../Patient_analyse/\"+file_name, 'r', encoding='utf-8') as f:\n",
    "            notebook = read(f, as_version=4)\n",
    "        print(f\"Notebook {file_name} imported successfully.\")\n",
    "    except FileNotFoundError:\n",
    "        print(f\"Error: The file '{file_name}' was not found. Please ensure it exists in the current directory.\")\n",
    "        continue\n",
    "\n",
    "    # Dictionnaire pour stocker les variables\n",
    "    global_vars = {}\n",
    "\n",
    "    # Sauvegarde stdout et stderr pour masquer l'affichage\n",
    "    stdout_backup = sys.stdout\n",
    "    stderr_backup = sys.stderr\n",
    "    sys.stdout = io.StringIO()  # Capture la sortie standard\n",
    "    sys.stderr = io.StringIO()  # Capture les erreurs\n",
    "\n",
    "    # Désactiver l'affichage interactif de Matplotlib\n",
    "    plt.ioff()\n",
    "\n",
    "    # Redéfinir `plt.show()` et `display()` pour bloquer les affichages\n",
    "    with patch(\"matplotlib.pyplot.show\"), patch(\"IPython.display.display\"):\n",
    "        # Exécuter toutes les cellules de code sans affichage\n",
    "        for cell in notebook.cells:\n",
    "            if cell.cell_type == \"code\":\n",
    "                exec(cell.source, global_vars)\n",
    "\n",
    "    # Rétablir la sortie normale\n",
    "    sys.stdout = stdout_backup\n",
    "    sys.stderr = stderr_backup\n",
    "    plt.ion()  # Réactiver l'affichage interactif\n",
    "    plt.close(\"all\")  # Fermer toutes les figures en mémoire\n",
    "\n",
    "    # Récupérer les données\n",
    "    mdf_RF = global_vars.get(\"mdf_RF\", \"Variable non trouvée\")\n",
    "    mdf_BF = global_vars.get(\"mdf_BF\", \"Variable non trouvée\")\n",
    "    mdf_VS = global_vars.get(\"mdf_VM\", \"Variable non trouvée\")\n",
    "    mdf_ST = global_vars.get(\"mdf_ST\", \"Variable non trouvée\")\n",
    "\n",
    "    results[\"RF_\"+file_name] = mdf_RF\n",
    "    results[\"BF_\"+file_name] = mdf_BF\n",
    "    results[\"VS_\"+file_name] = mdf_VS\n",
    "    results[\"ST_\"+file_name] = mdf_ST\n"
   ]
  },
  {
   "cell_type": "code",
   "execution_count": 4,
   "id": "37c8df85",
   "metadata": {},
   "outputs": [
    {
     "name": "stdout",
     "output_type": "stream",
     "text": [
      "RF_1Nmar.ipynb: 52.98362964266855\n",
      "BF_1Nmar.ipynb: 54.21580707621898\n",
      "VS_1Nmar.ipynb: 39.605703221263866\n",
      "ST_1Nmar.ipynb: 78.50730505192747\n",
      "RF_2Nmar.ipynb: 55.931744312026005\n",
      "BF_2Nmar.ipynb: 67.17226435536294\n",
      "VS_2Nmar.ipynb: 40.763813651137596\n",
      "ST_2Nmar.ipynb: 50.65005417118093\n",
      "RF_3Nmar.ipynb: 62.26524125975152\n",
      "BF_3Nmar.ipynb: 83.50187806992199\n",
      "VS_3Nmar.ipynb: 46.66281421554464\n",
      "ST_3Nmar.ipynb: 73.24472695752672\n",
      "RF_4Nmar.ipynb: 60.090401488965696\n",
      "BF_4Nmar.ipynb: 68.19994682265354\n",
      "VS_4Nmar.ipynb: 70.99175751130018\n",
      "ST_4Nmar.ipynb: 81.36134006913055\n",
      "RF_5Nmar.ipynb: 57.5956117629133\n",
      "BF_5Nmar.ipynb: 69.02331250952308\n",
      "VS_5Nmar.ipynb: 54.0911168672863\n",
      "ST_5Nmar.ipynb: 71.15648331555691\n",
      "RF_6Nmar.ipynb: 78.63013698630137\n",
      "BF_6Nmar.ipynb: 81.5068493150685\n",
      "VS_6Nmar.ipynb: 66.84931506849314\n",
      "ST_6Nmar.ipynb: 82.32876712328766\n",
      "RF_7Nmar.ipynb: 35.59592488032405\n",
      "BF_7Nmar.ipynb: 65.30011047011169\n",
      "VS_7Nmar.ipynb: 34.61396833190131\n",
      "ST_7Nmar.ipynb: 90.95372529765558\n",
      "RF_8Nmar.ipynb: 64.91817492142624\n",
      "BF_8Nmar.ipynb: 67.41085943426899\n",
      "VS_8Nmar.ipynb: 29.153571041508613\n",
      "ST_8Nmar.ipynb: 66.86897149669448\n",
      "RF_9Nmar.ipynb: 68.87516376567471\n",
      "BF_9Nmar.ipynb: 77.29739846528167\n",
      "VS_9Nmar.ipynb: 57.832678270634474\n",
      "ST_9Nmar.ipynb: 67.56503836795808\n",
      "RF_10Nmar.ipynb: 79.7262617621899\n",
      "BF_10Nmar.ipynb: 76.13344739093242\n",
      "VS_10Nmar.ipynb: 64.1573994867408\n",
      "ST_10Nmar.ipynb: 74.08041060735671\n",
      "RF_11Nmar.ipynb: 33.78607809847199\n",
      "BF_11Nmar.ipynb: 74.70288624787777\n",
      "VS_11Nmar.ipynb: 27.504244482173178\n",
      "ST_11Nmar.ipynb: 88.62478777589135\n",
      "RF_1Amar.ipynb: 48.71656517382255\n",
      "BF_1Amar.ipynb: 62.437369922146\n",
      "VS_1Amar.ipynb: 34.070762352578434\n",
      "ST_1Amar.ipynb: 73.38318045170739\n",
      "RF_2Amar.ipynb: 28.26185101580135\n",
      "BF_2Amar.ipynb: 93.45372460496613\n",
      "VS_2Amar.ipynb: 32.595936794582386\n",
      "ST_2Amar.ipynb: 73.95033860045146\n",
      "RF_3Amar.ipynb: 43.5131111874499\n",
      "BF_3Amar.ipynb: 80.49925569678231\n",
      "VS_3Amar.ipynb: 30.68819420588572\n",
      "ST_3Amar.ipynb: 96.27848391159968\n",
      "RF_4Amar.ipynb: 33.566779852857955\n",
      "BF_4Amar.ipynb: 57.247453310696095\n",
      "VS_4Amar.ipynb: 33.86743067345784\n",
      "ST_4Amar.ipynb: 108.72948500282966\n",
      "RF_5Amar.ipynb: 39.54826799869693\n",
      "BF_5Amar.ipynb: 82.4193723531328\n",
      "VS_5Amar.ipynb: 35.182973178412425\n",
      "ST_5Amar.ipynb: 106.56966011510478\n",
      "RF_6Amar.ipynb: 36.67081905948303\n",
      "BF_6Amar.ipynb: 68.2419806913734\n",
      "VS_6Amar.ipynb: 58.29570227343507\n",
      "ST_6Amar.ipynb: 113.73014637184677\n",
      "RF_7Amar.ipynb: 29.31637519872814\n",
      "BF_7Amar.ipynb: 71.41494435612083\n",
      "VS_7Amar.ipynb: 29.69793322734499\n",
      "ST_7Amar.ipynb: 95.51669316375198\n",
      "RF_8Amar.ipynb: 31.608913320899187\n",
      "BF_8Amar.ipynb: 87.6607440855993\n",
      "VS_8Amar.ipynb: 33.9648571709041\n",
      "ST_8Amar.ipynb: 66.35908510847159\n",
      "RF_9Amar.ipynb: 72.91147132169576\n",
      "BF_9Amar.ipynb: 83.97755610972568\n",
      "VS_9Amar.ipynb: 64.33915211970076\n",
      "ST_9Amar.ipynb: 115.18079800498754\n",
      "RF_10Amar.ipynb: 74.3361285814116\n",
      "BF_10Amar.ipynb: 80.36338225017471\n",
      "VS_10Amar.ipynb: 64.11600279524808\n",
      "ST_10Amar.ipynb: 99.8864430468204\n",
      "RF_11Amar.ipynb: 71.05826052278577\n",
      "BF_11Amar.ipynb: 65.83765362723416\n",
      "VS_11Amar.ipynb: 26.429322408730012\n",
      "ST_11Amar.ipynb: 89.9467063046079\n"
     ]
    }
   ],
   "source": [
    "# Print results for all files\n",
    "for file_name, average_cycle_time in results.items():\n",
    "    print(f\"{file_name}: {average_cycle_time}\")"
   ]
  },
  {
   "cell_type": "code",
   "execution_count": 5,
   "id": "93267336",
   "metadata": {},
   "outputs": [
    {
     "name": "stdout",
     "output_type": "stream",
     "text": [
      "RF_N: [52.98362964266855, 55.931744312026005, 62.26524125975152, 60.090401488965696, 57.5956117629133, 78.63013698630137, 35.59592488032405, 64.91817492142624, 68.87516376567471, 79.7262617621899, 33.78607809847199]\n",
      "RF_A: [48.71656517382255, 28.26185101580135, 43.5131111874499, 33.566779852857955, 39.54826799869693, 36.67081905948303, 29.31637519872814, 31.608913320899187, 72.91147132169576, 74.3361285814116, 71.05826052278577]\n",
      "BF_N: [54.21580707621898, 67.17226435536294, 83.50187806992199, 68.19994682265354, 69.02331250952308, 81.5068493150685, 65.30011047011169, 67.41085943426899, 77.29739846528167, 76.13344739093242, 74.70288624787777]\n",
      "BF_A: [62.437369922146, 93.45372460496613, 80.49925569678231, 57.247453310696095, 82.4193723531328, 68.2419806913734, 71.41494435612083, 87.6607440855993, 83.97755610972568, 80.36338225017471, 65.83765362723416]\n",
      "VS_N: [39.605703221263866, 40.763813651137596, 46.66281421554464, 70.99175751130018, 54.0911168672863, 66.84931506849314, 34.61396833190131, 29.153571041508613, 57.832678270634474, 64.1573994867408, 27.504244482173178]\n",
      "VS_A: [34.070762352578434, 32.595936794582386, 30.68819420588572, 33.86743067345784, 35.182973178412425, 58.29570227343507, 29.69793322734499, 33.9648571709041, 64.33915211970076, 64.11600279524808, 26.429322408730012]\n",
      "ST_N: [78.50730505192747, 50.65005417118093, 73.24472695752672, 81.36134006913055, 71.15648331555691, 82.32876712328766, 90.95372529765558, 66.86897149669448, 67.56503836795808, 74.08041060735671, 88.62478777589135]\n",
      "ST_A: [73.38318045170739, 73.95033860045146, 96.27848391159968, 108.72948500282966, 106.56966011510478, 113.73014637184677, 95.51669316375198, 66.35908510847159, 115.18079800498754, 99.8864430468204, 89.9467063046079]\n"
     ]
    }
   ],
   "source": [
    "RF_N=[]\n",
    "RF_A=[]\n",
    "BF_N=[]\n",
    "BF_A=[]\n",
    "VS_N=[]\n",
    "VS_A=[]\n",
    "ST_N=[]\n",
    "ST_A=[]\n",
    "\n",
    "for file_name, data in results.items():\n",
    "    if file_name.startswith('RF_1Amar') or file_name.startswith('RF_2Amar') or file_name.startswith('RF_3Amar') or file_name.startswith('RF_4Amar') or file_name.startswith('RF_5Amar') or file_name.startswith('RF_6Amar') or file_name.startswith('RF_7Amar') or file_name.startswith('RF_8Amar') or file_name.startswith('RF_9Amar') or file_name.startswith('RF_10Amar') or file_name.startswith('RF_11Amar'):\n",
    "        RF_A.append(float(data))\n",
    "    elif file_name.startswith('RF_1Nmar') or file_name.startswith('RF_2Nmar') or file_name.startswith('RF_3Nmar') or file_name.startswith('RF_4Nmar') or file_name.startswith('RF_5Nmar') or file_name.startswith('RF_6Nmar') or file_name.startswith('RF_7Nmar') or file_name.startswith('RF_8Nmar') or file_name.startswith('RF_9Nmar') or file_name.startswith('RF_10Nmar') or file_name.startswith('RF_11Nmar'):\n",
    "        RF_N.append(float(data))\n",
    "    elif file_name.startswith('BF_1Amar') or file_name.startswith('BF_2Amar') or file_name.startswith('BF_3Amar') or file_name.startswith('BF_4Amar') or file_name.startswith('BF_5Amar') or file_name.startswith('BF_6Amar') or file_name.startswith('BF_7Amar') or file_name.startswith('BF_8Amar') or file_name.startswith('BF_9Amar') or file_name.startswith('BF_10Amar') or file_name.startswith('BF_11Amar'):\n",
    "        BF_A.append(float(data))\n",
    "    elif file_name.startswith('BF_1Nmar') or file_name.startswith('BF_2Nmar') or file_name.startswith('BF_3Nmar') or file_name.startswith('BF_4Nmar') or file_name.startswith('BF_5Nmar') or file_name.startswith('BF_6Nmar') or file_name.startswith('BF_7Nmar') or file_name.startswith('BF_8Nmar') or file_name.startswith('BF_9Nmar') or file_name.startswith('BF_10Nmar') or file_name.startswith('BF_11Nmar'):\n",
    "        BF_N.append(float(data))\n",
    "    elif file_name.startswith('VS_1Amar') or file_name.startswith('VS_2Amar') or file_name.startswith('VS_3Amar') or file_name.startswith('VS_4Amar') or file_name.startswith('VS_5Amar') or file_name.startswith('VS_6Amar') or file_name.startswith('VS_7Amar') or file_name.startswith('VS_8Amar') or file_name.startswith('VS_9Amar') or file_name.startswith('VS_10Amar') or file_name.startswith('VS_11Amar'):\n",
    "        VS_A.append(float(data))\n",
    "    elif file_name.startswith('VS_1Nmar') or file_name.startswith('VS_2Nmar') or file_name.startswith('VS_3Nmar') or file_name.startswith('VS_4Nmar') or file_name.startswith('VS_5Nmar') or file_name.startswith('VS_6Nmar') or file_name.startswith('VS_7Nmar') or file_name.startswith('VS_8Nmar') or file_name.startswith('VS_9Nmar') or file_name.startswith('VS_10Nmar') or file_name.startswith('VS_11Nmar'):\n",
    "        VS_N.append(float(data))\n",
    "    elif file_name.startswith('ST_1Amar') or file_name.startswith('ST_2Amar') or file_name.startswith('ST_3Amar') or file_name.startswith('ST_4Amar') or file_name.startswith('ST_5Amar') or file_name.startswith('ST_6Amar') or file_name.startswith('ST_7Amar') or file_name.startswith('ST_8Amar') or file_name.startswith('ST_9Amar') or file_name.startswith('ST_10Amar') or file_name.startswith('ST_11Amar'):\n",
    "        ST_A.append(float(data))\n",
    "    elif file_name.startswith('ST_1Nmar') or file_name.startswith('ST_2Nmar') or file_name.startswith('ST_3Nmar') or file_name.startswith('ST_4Nmar') or file_name.startswith('ST_5Nmar') or file_name.startswith('ST_6Nmar') or file_name.startswith('ST_7Nmar') or file_name.startswith('ST_8Nmar') or file_name.startswith('ST_9Nmar') or file_name.startswith('ST_10Nmar') or file_name.startswith('ST_11Nmar'):\n",
    "        ST_N.append(float(data))\n",
    "\n",
    "print(\"RF_N:\", RF_N)\n",
    "print(\"RF_A:\", RF_A)\n",
    "print(\"BF_N:\", BF_N)\n",
    "print(\"BF_A:\", BF_A)\n",
    "print(\"VS_N:\", VS_N)\n",
    "print(\"VS_A:\", VS_A)\n",
    "print(\"ST_N:\", ST_N)\n",
    "print(\"ST_A:\", ST_A)"
   ]
  },
  {
   "cell_type": "code",
   "execution_count": 6,
   "id": "4642b5af",
   "metadata": {},
   "outputs": [
    {
     "name": "stdout",
     "output_type": "stream",
     "text": [
      "mean_mf_RF_N: 59.127124443701206\n",
      "mean_mf_RF_A: 46.31895847578474\n",
      "std_mf_RF_N: 14.11064288525881\n",
      "std_mf_RF_A: 17.191057988970506\n",
      "mean_mf_BF_N: 71.31497819611106\n",
      "mean_mf_BF_A: 75.77758518254103\n",
      "std_mf_BF_N: 7.970396044474976\n",
      "std_mf_BF_A: 10.889023987260613\n",
      "mean_mf_VS_N: 48.38421655890764\n",
      "mean_mf_VS_A: 40.29529701820726\n",
      "std_mf_VS_N: 14.635582326842243\n",
      "std_mf_VS_A: 13.72445112646314\n",
      "mean_mf_ST_N: 75.03105547583333\n",
      "mean_mf_ST_A: 94.50282000747083\n",
      "std_mf_ST_N: 10.785662356525823\n",
      "std_mf_ST_A: 16.123702066039467\n"
     ]
    }
   ],
   "source": [
    "mean_mdf_RF_N = np.mean(RF_N)\n",
    "mean_mdf_RF_A = np.mean(RF_A)\n",
    "mean_mdf_BF_N = np.mean(BF_N)\n",
    "mean_mdf_BF_A = np.mean(BF_A)\n",
    "mean_mdf_VS_N = np.mean(VS_N)\n",
    "mean_mdf_VS_A = np.mean(VS_A)\n",
    "mean_mdf_ST_N = np.mean(ST_N)\n",
    "mean_mdf_ST_A = np.mean(ST_A)\n",
    "\n",
    "std_mdf_RF_N = np.std(RF_N)\n",
    "std_mdf_RF_A = np.std(RF_A)\n",
    "std_mdf_BF_N = np.std(BF_N)\n",
    "std_mdf_BF_A = np.std(BF_A)\n",
    "std_mdf_VS_N = np.std(VS_N)\n",
    "std_mdf_VS_A = np.std(VS_A)\n",
    "std_mdf_ST_N = np.std(ST_N)\n",
    "std_mdf_ST_A = np.std(ST_A)\n",
    "\n",
    "print(\"mean_mf_RF_N:\", mean_mdf_RF_N)\n",
    "print(\"mean_mf_RF_A:\", mean_mdf_RF_A)\n",
    "print(\"std_mf_RF_N:\", std_mdf_RF_N)\n",
    "print(\"std_mf_RF_A:\", std_mdf_RF_A)\n",
    "print(\"mean_mf_BF_N:\", mean_mdf_BF_N)\n",
    "print(\"mean_mf_BF_A:\", mean_mdf_BF_A)\n",
    "print(\"std_mf_BF_N:\", std_mdf_BF_N)\n",
    "print(\"std_mf_BF_A:\", std_mdf_BF_A)\n",
    "print(\"mean_mf_VS_N:\", mean_mdf_VS_N)\n",
    "print(\"mean_mf_VS_A:\", mean_mdf_VS_A)\n",
    "print(\"std_mf_VS_N:\", std_mdf_VS_N)\n",
    "print(\"std_mf_VS_A:\", std_mdf_VS_A)\n",
    "print(\"mean_mf_ST_N:\", mean_mdf_ST_N)\n",
    "print(\"mean_mf_ST_A:\", mean_mdf_ST_A)\n",
    "print(\"std_mf_ST_N:\", std_mdf_ST_N)\n",
    "print(\"std_mf_ST_A:\", std_mdf_ST_A)"
   ]
  },
  {
   "cell_type": "markdown",
   "id": "39199eb0",
   "metadata": {},
   "source": [
    "# RF"
   ]
  },
  {
   "cell_type": "code",
   "execution_count": 7,
   "id": "45025c46",
   "metadata": {},
   "outputs": [
    {
     "name": "stdout",
     "output_type": "stream",
     "text": [
      "RF_N :  [52.98362964266855, 55.931744312026005, 62.26524125975152, 60.090401488965696, 57.5956117629133, 78.63013698630137, 35.59592488032405, 64.91817492142624, 68.87516376567471, 79.7262617621899, 33.78607809847199]\n",
      "RF_A :  [48.71656517382255, 28.26185101580135, 43.5131111874499, 33.566779852857955, 39.54826799869693, 36.67081905948303, 29.31637519872814, 31.608913320899187, 72.91147132169576, 74.3361285814116, 71.05826052278577]\n",
      "mean_rms_RF_N: 59.127124443701206\n",
      "mean_rms_RF_A: 46.31895847578474\n",
      "std_rms_RF_N: 14.11064288525881\n",
      "std_rms_RF_A: 17.191057988970506\n"
     ]
    }
   ],
   "source": [
    "print(\"RF_N : \",RF_N)\n",
    "print(\"RF_A : \",RF_A)\n",
    "print(\"mean_rms_RF_N:\", mean_mdf_RF_N)\n",
    "print(\"mean_rms_RF_A:\", mean_mdf_RF_A)\n",
    "print(\"std_rms_RF_N:\", std_mdf_RF_N)\n",
    "print(\"std_rms_RF_A:\", std_mdf_RF_A)"
   ]
  },
  {
   "cell_type": "code",
   "execution_count": 8,
   "id": "89f84de6",
   "metadata": {},
   "outputs": [
    {
     "name": "stderr",
     "output_type": "stream",
     "text": [
      "C:\\Users\\hoste\\AppData\\Local\\Temp\\ipykernel_34784\\382576389.py:3: MatplotlibDeprecationWarning: The 'labels' parameter of boxplot() has been renamed 'tick_labels' since Matplotlib 3.9; support for the old name will be dropped in 3.11.\n",
      "  plt.boxplot([RF_A, RF_N], labels=['RF_A', 'RF_N'])\n"
     ]
    }
   ],
   "source": [
    "#Boxplot des deux groupes\n",
    "plt.figure(figsize=(10, 6))\n",
    "plt.boxplot([RF_A, RF_N], labels=['RF_A', 'RF_N'])\n",
    "plt.title('Boxplot du MDF moyen (RF)')\n",
    "plt.ylabel('MDF moyen (RF)')\n",
    "plt.grid(True)\n",
    "plt.savefig(\"graph_analyse/boxplot_MDF_RF.png\", dpi=300, bbox_inches='tight')\n",
    "plt.show()\n",
    "\n",
    "#Histogramme des deux groupes\n",
    "plt.figure(figsize=(10, 6))\n",
    "plt.hist(RF_A, bins=10, alpha=0.5, label='RF_A', color='blue')\n",
    "plt.hist(RF_N, bins=10, alpha=0.5, label='RF_N', color='orange')\n",
    "plt.title('Histogramme du MDF moyen (RF)')\n",
    "plt.xlabel('MDF moyen (RF)')\n",
    "plt.ylabel('Fréquence')\n",
    "sns.kdeplot(RF_A, color='blue', label='Densité RF_A', linewidth=2)\n",
    "sns.kdeplot(RF_N, color='orange', label='Densité RF_N', linewidth=2)\n",
    "plt.legend()\n",
    "plt.grid(True)\n",
    "plt.savefig(\"graph_analyse/histogramme_MDF_RF.png\", dpi=300, bbox_inches='tight')\n",
    "plt.show()"
   ]
  },
  {
   "cell_type": "code",
   "execution_count": 9,
   "id": "9000c9a9",
   "metadata": {},
   "outputs": [
    {
     "name": "stdout",
     "output_type": "stream",
     "text": [
      "Statistique U : 86.0000\n",
      "P-valeur Mann-Whitney : 0.1007\n",
      "Aucune différence significative entre les groupes\n"
     ]
    }
   ],
   "source": [
    "# Test de Mann-Whitney\n",
    "stat, p_value = stats.mannwhitneyu(RF_N, RF_A, alternative='two-sided')\n",
    "\n",
    "print(f\"Statistique U : {stat:.4f}\")\n",
    "print(f\"P-valeur Mann-Whitney : {p_value:.4f}\")\n",
    "\n",
    "alpha = 0.05  # Seuil de signification\n",
    "if p_value < alpha:\n",
    "    print(\"Différence significative entre les deux groupes\")\n",
    "else:\n",
    "    print(\"Aucune différence significative entre les groupes\")"
   ]
  },
  {
   "cell_type": "markdown",
   "id": "43cacd48",
   "metadata": {},
   "source": [
    "# BF"
   ]
  },
  {
   "cell_type": "code",
   "execution_count": 10,
   "id": "13320c80",
   "metadata": {},
   "outputs": [
    {
     "name": "stdout",
     "output_type": "stream",
     "text": [
      "BF_N :  [54.21580707621898, 67.17226435536294, 83.50187806992199, 68.19994682265354, 69.02331250952308, 81.5068493150685, 65.30011047011169, 67.41085943426899, 77.29739846528167, 76.13344739093242, 74.70288624787777]\n",
      "BF_A :  [62.437369922146, 93.45372460496613, 80.49925569678231, 57.247453310696095, 82.4193723531328, 68.2419806913734, 71.41494435612083, 87.6607440855993, 83.97755610972568, 80.36338225017471, 65.83765362723416]\n",
      "mean_rms_BF_N: 71.31497819611106\n",
      "mean_rms_BF_A: 75.77758518254103\n",
      "std_rms_BF_N: 7.970396044474976\n",
      "std_rms_BF_A: 10.889023987260613\n"
     ]
    }
   ],
   "source": [
    "print(\"BF_N : \",BF_N)\n",
    "print(\"BF_A : \",BF_A)\n",
    "print(\"mean_rms_BF_N:\", mean_mdf_BF_N)\n",
    "print(\"mean_rms_BF_A:\", mean_mdf_BF_A)\n",
    "print(\"std_rms_BF_N:\", std_mdf_BF_N)\n",
    "print(\"std_rms_BF_A:\", std_mdf_BF_A)"
   ]
  },
  {
   "cell_type": "code",
   "execution_count": 11,
   "id": "4d35dd58",
   "metadata": {},
   "outputs": [
    {
     "name": "stderr",
     "output_type": "stream",
     "text": [
      "C:\\Users\\hoste\\AppData\\Local\\Temp\\ipykernel_34784\\1239662311.py:3: MatplotlibDeprecationWarning: The 'labels' parameter of boxplot() has been renamed 'tick_labels' since Matplotlib 3.9; support for the old name will be dropped in 3.11.\n",
      "  plt.boxplot([BF_A, BF_N], labels=['BF_A', 'BF_N'])\n"
     ]
    }
   ],
   "source": [
    "#Boxplot des deux groupes\n",
    "plt.figure(figsize=(10, 6))\n",
    "plt.boxplot([BF_A, BF_N], labels=['BF_A', 'BF_N'])\n",
    "plt.title('Boxplot du MDF moyen (BF)')\n",
    "plt.ylabel('MDF moyen (BF)')\n",
    "plt.grid(True)\n",
    "plt.savefig(\"graph_analyse/boxplot_MDF_BF.png\", dpi=300, bbox_inches='tight')\n",
    "plt.show()\n",
    "\n",
    "#Histogramme des deux groupes\n",
    "plt.figure(figsize=(10, 6))\n",
    "plt.hist(BF_A, bins=10, alpha=0.5, label='RF_A', color='blue')\n",
    "plt.hist(BF_N, bins=10, alpha=0.5, label='RF_N', color='orange')\n",
    "plt.title('Histogramme du MDF moyen (BF)')\n",
    "plt.xlabel('MDF moyen (BF)')\n",
    "plt.ylabel('Fréquence')\n",
    "sns.kdeplot(BF_A, color='blue', label='Densité BF_A', linewidth=2)\n",
    "sns.kdeplot(BF_N, color='orange', label='Densité BF_N', linewidth=2)\n",
    "plt.legend()\n",
    "plt.grid(True)\n",
    "plt.savefig(\"graph_analyse/histogramme_MDF_BF.png\", dpi=300, bbox_inches='tight')\n",
    "plt.show()"
   ]
  },
  {
   "cell_type": "code",
   "execution_count": 12,
   "id": "db9ff9b8",
   "metadata": {},
   "outputs": [
    {
     "name": "stdout",
     "output_type": "stream",
     "text": [
      "Statistique U : 45.0000\n",
      "P-valeur Mann-Whitney : 0.3246\n",
      "Aucune différence significative entre les groupes\n"
     ]
    }
   ],
   "source": [
    "# Test de Mann-Whitney\n",
    "stat, p_value = stats.mannwhitneyu(BF_N, BF_A, alternative='two-sided')\n",
    "\n",
    "print(f\"Statistique U : {stat:.4f}\")\n",
    "print(f\"P-valeur Mann-Whitney : {p_value:.4f}\")\n",
    "\n",
    "alpha = 0.05  # Seuil de signification\n",
    "if p_value < alpha:\n",
    "    print(\"Différence significative entre les deux groupes\")\n",
    "else:\n",
    "    print(\"Aucune différence significative entre les groupes\")"
   ]
  },
  {
   "cell_type": "markdown",
   "id": "8cee344e",
   "metadata": {},
   "source": [
    "# VS"
   ]
  },
  {
   "cell_type": "code",
   "execution_count": 13,
   "id": "3288b99e",
   "metadata": {},
   "outputs": [
    {
     "name": "stdout",
     "output_type": "stream",
     "text": [
      "VS_N :  [39.605703221263866, 40.763813651137596, 46.66281421554464, 70.99175751130018, 54.0911168672863, 66.84931506849314, 34.61396833190131, 29.153571041508613, 57.832678270634474, 64.1573994867408, 27.504244482173178]\n",
      "VS_A :  [34.070762352578434, 32.595936794582386, 30.68819420588572, 33.86743067345784, 35.182973178412425, 58.29570227343507, 29.69793322734499, 33.9648571709041, 64.33915211970076, 64.11600279524808, 26.429322408730012]\n",
      "mean_rms_VS_N: 48.38421655890764\n",
      "mean_rms_VS_A: 40.29529701820726\n",
      "std_rms_VS_N: 14.635582326842243\n",
      "std_rms_VS_A: 13.72445112646314\n"
     ]
    }
   ],
   "source": [
    "print(\"VS_N : \",VS_N)\n",
    "print(\"VS_A : \",VS_A)\n",
    "print(\"mean_rms_VS_N:\", mean_mdf_VS_N)\n",
    "print(\"mean_rms_VS_A:\", mean_mdf_VS_A)\n",
    "print(\"std_rms_VS_N:\", std_mdf_VS_N)\n",
    "print(\"std_rms_VS_A:\", std_mdf_VS_A)"
   ]
  },
  {
   "cell_type": "code",
   "execution_count": 14,
   "id": "0bfed3b6",
   "metadata": {},
   "outputs": [
    {
     "name": "stderr",
     "output_type": "stream",
     "text": [
      "C:\\Users\\hoste\\AppData\\Local\\Temp\\ipykernel_34784\\2211889321.py:3: MatplotlibDeprecationWarning: The 'labels' parameter of boxplot() has been renamed 'tick_labels' since Matplotlib 3.9; support for the old name will be dropped in 3.11.\n",
      "  plt.boxplot([VS_A, VS_N], labels=['VS_A', 'VS_N'])\n"
     ]
    }
   ],
   "source": [
    "#Boxplot des deux groupes\n",
    "plt.figure(figsize=(10, 6))\n",
    "plt.boxplot([VS_A, VS_N], labels=['VS_A', 'VS_N'])\n",
    "plt.title('Boxplot du MDF moyen (VS)')\n",
    "plt.ylabel('MDF moyen (VS)')\n",
    "plt.grid(True)\n",
    "plt.savefig(\"graph_analyse/boxplot_MDF_VS.png\", dpi=300, bbox_inches='tight')\n",
    "plt.show()\n",
    "\n",
    "#Histogramme des deux groupes\n",
    "plt.figure(figsize=(10, 6))\n",
    "plt.hist(VS_A, bins=10, alpha=0.5, label='VS_A', color='blue')\n",
    "plt.hist(VS_N, bins=10, alpha=0.5, label='VS_N', color='orange')\n",
    "plt.title('Histogramme du MDF moyen (VS)')\n",
    "plt.xlabel('MDF moyen (VS)')\n",
    "plt.ylabel('Fréquence')\n",
    "sns.kdeplot(VS_A, color='blue', label='Densité VS_A', linewidth=2)\n",
    "sns.kdeplot(VS_N, color='orange', label='Densité VS_N', linewidth=2)\n",
    "plt.legend()\n",
    "plt.grid(True)\n",
    "plt.savefig(\"graph_analyse/histogramme_MDF_VS.png\", dpi=300, bbox_inches='tight')\n",
    "plt.show()"
   ]
  },
  {
   "cell_type": "code",
   "execution_count": 15,
   "id": "b98005a0",
   "metadata": {},
   "outputs": [
    {
     "name": "stdout",
     "output_type": "stream",
     "text": [
      "Statistique U : 81.0000\n",
      "P-valeur Mann-Whitney : 0.1891\n",
      "Aucune différence significative entre les groupes\n"
     ]
    }
   ],
   "source": [
    "# Test de Mann-Whitney\n",
    "stat, p_value = stats.mannwhitneyu(VS_N, VS_A, alternative='two-sided')\n",
    "\n",
    "print(f\"Statistique U : {stat:.4f}\")\n",
    "print(f\"P-valeur Mann-Whitney : {p_value:.4f}\")\n",
    "\n",
    "alpha = 0.05  # Seuil de signification\n",
    "if p_value < alpha:\n",
    "    print(\"Différence significative entre les deux groupes\")\n",
    "else:\n",
    "    print(\"Aucune différence significative entre les groupes\")"
   ]
  },
  {
   "cell_type": "markdown",
   "id": "eb2c5f83",
   "metadata": {},
   "source": [
    "# ST"
   ]
  },
  {
   "cell_type": "code",
   "execution_count": 16,
   "id": "f3288dba",
   "metadata": {},
   "outputs": [
    {
     "name": "stdout",
     "output_type": "stream",
     "text": [
      "ST_N :  [78.50730505192747, 50.65005417118093, 73.24472695752672, 81.36134006913055, 71.15648331555691, 82.32876712328766, 90.95372529765558, 66.86897149669448, 67.56503836795808, 74.08041060735671, 88.62478777589135]\n",
      "ST_A :  [73.38318045170739, 73.95033860045146, 96.27848391159968, 108.72948500282966, 106.56966011510478, 113.73014637184677, 95.51669316375198, 66.35908510847159, 115.18079800498754, 99.8864430468204, 89.9467063046079]\n",
      "mean_rms_ST_N: 75.03105547583333\n",
      "mean_rms_ST_A: 94.50282000747083\n",
      "std_rms_ST_N: 10.785662356525823\n",
      "std_rms_ST_A: 16.123702066039467\n"
     ]
    }
   ],
   "source": [
    "print(\"ST_N : \",ST_N)\n",
    "print(\"ST_A : \",ST_A)\n",
    "print(\"mean_rms_ST_N:\", mean_mdf_ST_N)\n",
    "print(\"mean_rms_ST_A:\", mean_mdf_ST_A)\n",
    "print(\"std_rms_ST_N:\", std_mdf_ST_N)\n",
    "print(\"std_rms_ST_A:\", std_mdf_ST_A)"
   ]
  },
  {
   "cell_type": "code",
   "execution_count": 17,
   "id": "c36be5ed",
   "metadata": {},
   "outputs": [
    {
     "name": "stderr",
     "output_type": "stream",
     "text": [
      "C:\\Users\\hoste\\AppData\\Local\\Temp\\ipykernel_34784\\4103377742.py:3: MatplotlibDeprecationWarning: The 'labels' parameter of boxplot() has been renamed 'tick_labels' since Matplotlib 3.9; support for the old name will be dropped in 3.11.\n",
      "  plt.boxplot([ST_A, ST_N], labels=['ST_A', 'ST_N'])\n"
     ]
    }
   ],
   "source": [
    "#Boxplot des deux groupes\n",
    "plt.figure(figsize=(10, 6))\n",
    "plt.boxplot([ST_A, ST_N], labels=['ST_A', 'ST_N'])\n",
    "plt.title('Boxplot du MDF moyen (ST)')\n",
    "plt.ylabel('MDF moyen (ST)')\n",
    "plt.grid(True)\n",
    "plt.savefig(\"graph_analyse/boxplot_MDF_ST.png\", dpi=300, bbox_inches='tight')\n",
    "plt.show()\n",
    "\n",
    "#Histogramme des deux groupes\n",
    "plt.figure(figsize=(10, 6))\n",
    "plt.hist(ST_A, bins=10, alpha=0.5, label='ST_A', color='blue')\n",
    "plt.hist(ST_N, bins=10, alpha=0.5, label='ST_N', color='orange')\n",
    "plt.title('Histogramme du MDF moyen (ST)')\n",
    "plt.xlabel('MDF moyen (ST)')\n",
    "plt.ylabel('Fréquence')\n",
    "sns.kdeplot(ST_A, color='blue', label='Densité ST_A', linewidth=2)\n",
    "sns.kdeplot(ST_N, color='orange', label='Densité ST_N', linewidth=2)\n",
    "plt.legend()\n",
    "plt.grid(True)\n",
    "plt.savefig(\"graph_analyse/histogramme_MDF_ST.png\", dpi=300, bbox_inches='tight')\n",
    "plt.show()"
   ]
  },
  {
   "cell_type": "code",
   "execution_count": 18,
   "id": "f2834660",
   "metadata": {},
   "outputs": [
    {
     "name": "stdout",
     "output_type": "stream",
     "text": [
      "Statistique U : 23.0000\n",
      "P-valeur Mann-Whitney : 0.0151\n",
      "Différence significative entre les deux groupes\n"
     ]
    }
   ],
   "source": [
    "# Test de Mann-Whitney\n",
    "stat, p_value = stats.mannwhitneyu(ST_N, ST_A, alternative='two-sided')\n",
    "\n",
    "print(f\"Statistique U : {stat:.4f}\")\n",
    "print(f\"P-valeur Mann-Whitney : {p_value:.4f}\")\n",
    "\n",
    "alpha = 0.05  # Seuil de signification\n",
    "if p_value < alpha:\n",
    "    print(\"Différence significative entre les deux groupes\")\n",
    "else:\n",
    "    print(\"Aucune différence significative entre les groupes\")"
   ]
  },
  {
   "cell_type": "code",
   "execution_count": null,
   "id": "60316952",
   "metadata": {},
   "outputs": [],
   "source": []
  }
 ],
 "metadata": {
  "kernelspec": {
   "display_name": "MY_HUGO_SAUNIER",
   "language": "python",
   "name": "python3"
  },
  "language_info": {
   "codemirror_mode": {
    "name": "ipython",
    "version": 3
   },
   "file_extension": ".py",
   "mimetype": "text/x-python",
   "name": "python",
   "nbconvert_exporter": "python",
   "pygments_lexer": "ipython3",
   "version": "3.12.5"
  }
 },
 "nbformat": 4,
 "nbformat_minor": 5
}
