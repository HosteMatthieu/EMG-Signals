{
 "cells": [
  {
   "cell_type": "code",
   "execution_count": 1,
   "metadata": {},
   "outputs": [],
   "source": [
    "from import_all import *"
   ]
  },
  {
   "cell_type": "code",
   "execution_count": 2,
   "metadata": {},
   "outputs": [
    {
     "name": "stdout",
     "output_type": "stream",
     "text": [
      "Notebook 1Nmar.ipynb imported successfully.\n",
      "Notebook 2Nmar.ipynb imported successfully.\n",
      "Notebook 3Nmar.ipynb imported successfully.\n",
      "Notebook 4Nmar.ipynb imported successfully.\n",
      "Notebook 5Nmar.ipynb imported successfully.\n",
      "Notebook 6Nmar.ipynb imported successfully.\n",
      "Notebook 7Nmar.ipynb imported successfully.\n",
      "Notebook 8Nmar.ipynb imported successfully.\n",
      "Notebook 9Nmar.ipynb imported successfully.\n",
      "Notebook 10Nmar.ipynb imported successfully.\n",
      "Notebook 11Nmar.ipynb imported successfully.\n",
      "Notebook 1Amar.ipynb imported successfully.\n",
      "Notebook 2Amar.ipynb imported successfully.\n",
      "Notebook 3Amar.ipynb imported successfully.\n",
      "Notebook 4Amar.ipynb imported successfully.\n",
      "Notebook 5Amar.ipynb imported successfully.\n",
      "Notebook 6Amar.ipynb imported successfully.\n",
      "Notebook 7Amar.ipynb imported successfully.\n",
      "Notebook 8Amar.ipynb imported successfully.\n",
      "Notebook 9Amar.ipynb imported successfully.\n",
      "Notebook 10Amar.ipynb imported successfully.\n",
      "Notebook 11Amar.ipynb imported successfully.\n"
     ]
    }
   ],
   "source": [
    "# List of .ipynb files to process\n",
    "notebook_files_N = [f\"{i}Nmar.ipynb\" for i in range(1, 12)]\n",
    "notebook_files_A = [f\"{i}Amar.ipynb\" for i in range(1, 12)]\n",
    "\n",
    "# Dictionary to store results\n",
    "results = {}\n",
    "\n",
    "# Process Normal_analyse notebooks\n",
    "for file_name in notebook_files_N:\n",
    "    try:\n",
    "        # Load the .ipynb file\n",
    "        with open(\"../Normal_analyse/\"+file_name, 'r', encoding='utf-8') as f:\n",
    "            notebook = read(f, as_version=4)\n",
    "        print(f\"Notebook {file_name} imported successfully.\")\n",
    "    except FileNotFoundError:\n",
    "        # Handle the case where the file is not found\n",
    "        print(f\"Error: The file '{file_name}' was not found. Please ensure it exists in the current directory.\")\n",
    "        continue\n",
    "\n",
    "    # Dictionary to store variables from the notebook\n",
    "    global_vars = {}\n",
    "\n",
    "    # Backup stdout and stderr to suppress output\n",
    "    stdout_backup = sys.stdout\n",
    "    stderr_backup = sys.stderr\n",
    "    sys.stdout = io.StringIO()  # Capture standard output\n",
    "    sys.stderr = io.StringIO()  # Capture errors\n",
    "\n",
    "    # Disable interactive Matplotlib display\n",
    "    plt.ioff()\n",
    "\n",
    "    # Override `plt.show()` and `display()` to suppress displays\n",
    "    with patch(\"matplotlib.pyplot.show\"), patch(\"IPython.display.display\"):\n",
    "        # Execute all code cells without displaying output\n",
    "        for cell in notebook.cells:\n",
    "            if cell.cell_type == \"code\":\n",
    "                exec(cell.source, global_vars)\n",
    "\n",
    "    # Restore normal output\n",
    "    sys.stdout = stdout_backup\n",
    "    sys.stderr = stderr_backup\n",
    "    plt.ion()  # Re-enable interactive display\n",
    "    plt.close(\"all\")  # Close all figures in memory\n",
    "\n",
    "    # Retrieve data from the notebook\n",
    "    mean_rms_RF = global_vars.get(\"mean_rms_RF\", \"Variable not found\")\n",
    "    mean_rms_BF = global_vars.get(\"mean_rms_BF\", \"Variable not found\")\n",
    "    mean_rms_VS = global_vars.get(\"mean_rms_VM\", \"Variable not found\")\n",
    "    mean_rms_ST = global_vars.get(\"mean_rms_ST\", \"Variable not found\")\n",
    "\n",
    "    # Store results in the dictionary\n",
    "    results[\"RF_\"+file_name] = mean_rms_RF\n",
    "    results[\"BF_\"+file_name] = mean_rms_BF\n",
    "    results[\"VS_\"+file_name] = mean_rms_VS\n",
    "    results[\"ST_\"+file_name] = mean_rms_ST\n",
    "\n",
    "# Process Patient_analyse notebooks\n",
    "for file_name in notebook_files_A:\n",
    "    try:\n",
    "        # Load the .ipynb file\n",
    "        with open(\"../Patient_analyse/\"+file_name, 'r', encoding='utf-8') as f:\n",
    "            notebook = read(f, as_version=4)\n",
    "        print(f\"Notebook {file_name} imported successfully.\")\n",
    "    except FileNotFoundError:\n",
    "        # Handle the case where the file is not found\n",
    "        print(f\"Error: The file '{file_name}' was not found. Please ensure it exists in the current directory.\")\n",
    "        continue\n",
    "\n",
    "    # Dictionary to store variables from the notebook\n",
    "    global_vars = {}\n",
    "\n",
    "    # Backup stdout and stderr to suppress output\n",
    "    stdout_backup = sys.stdout\n",
    "    stderr_backup = sys.stderr\n",
    "    sys.stdout = io.StringIO()  # Capture standard output\n",
    "    sys.stderr = io.StringIO()  # Capture errors\n",
    "\n",
    "    # Disable interactive Matplotlib display\n",
    "    plt.ioff()\n",
    "\n",
    "    # Override `plt.show()` and `display()` to suppress displays\n",
    "    with patch(\"matplotlib.pyplot.show\"), patch(\"IPython.display.display\"):\n",
    "        # Execute all code cells without displaying output\n",
    "        for cell in notebook.cells:\n",
    "            if cell.cell_type == \"code\":\n",
    "                exec(cell.source, global_vars)\n",
    "\n",
    "    # Restore normal output\n",
    "    sys.stdout = stdout_backup\n",
    "    sys.stderr = stderr_backup\n",
    "    plt.ion()  # Re-enable interactive display\n",
    "    plt.close(\"all\")  # Close all figures in memory\n",
    "\n",
    "    # Retrieve data from the notebook\n",
    "    mean_rms_RF = global_vars.get(\"mean_rms_RF\", \"Variable not found\")\n",
    "    mean_rms_BF = global_vars.get(\"mean_rms_BF\", \"Variable not found\")\n",
    "    mean_rms_VS = global_vars.get(\"mean_rms_VM\", \"Variable not found\")\n",
    "    mean_rms_ST = global_vars.get(\"mean_rms_ST\", \"Variable not found\")\n",
    "\n",
    "    # Store results in the dictionary\n",
    "    results[\"RF_\"+file_name] = mean_rms_RF\n",
    "    results[\"BF_\"+file_name] = mean_rms_BF\n",
    "    results[\"VS_\"+file_name] = mean_rms_VS\n",
    "    results[\"ST_\"+file_name] = mean_rms_ST\n"
   ]
  },
  {
   "cell_type": "code",
   "execution_count": 3,
   "metadata": {},
   "outputs": [
    {
     "name": "stdout",
     "output_type": "stream",
     "text": [
      "RF_N: [0.013118912587816216, 0.011989099105722989, 0.0063219366828871325, 0.017163573180874483, 0.003476513362448436, 0.0108693740196546, 0.04867456892766927, 0.004124416594369294, 0.019770378689596062, 0.024870026985753822, 0.13135748373952122]\n",
      "RF_A: [0.06968718078366644, 0.11194817881316706, 0.006642725422981336, 0.05449113994338505, 0.014947503027849838, 0.07910655769617515, 0.07310593388051514, 0.015312117953951996, 0.0076218250058420565, 0.004541033503636486, 0.003751294126402017]\n",
      "BF_N: [0.006841166114195083, 0.014330603252029256, 0.012997899313212354, 0.04244288938063007, 0.02620139285627826, 0.012758828018601849, 0.022253445372219245, 0.01980868054802072, 0.04651572988725122, 0.01116573160706482, 0.011115543658551523]\n",
      "BF_A: [0.022232547901254514, 0.037605756332794275, 0.017356519662898657, 0.023621204246814863, 0.018029156115575935, 0.020216043872881555, 0.014416010843897292, 0.03425913006823489, 0.00882726092036399, 0.009850079039675485, 0.01216122219027875]\n",
      "VS_N: [0.01571112984237851, 0.01673453840987548, 0.007114831295351685, 0.02680634453040473, 0.003587394056001531, 0.014221819437101253, 0.06976599142585123, 0.01890875258157782, 0.007259082107535039, 0.016457383139822552, 0.24195520519840183]\n",
      "VS_A: [0.04350199816336147, 0.1460071100563627, 0.09059395166818679, 0.062024733371722124, 0.02065979497432001, 0.05258844923828974, 0.12395283169564188, 0.12348590208505181, 0.008699311206706816, 0.005066966023898135, 0.013151561912780132]\n",
      "ST_N: [0.009293660602499584, 0.018452978923185308, 0.01640207024457131, 0.036127811410746086, 0.029721585970397684, 0.009835447984245486, 0.07621910682381235, 0.03298783099146923, 0.015860352561662277, 0.013845043634387148, 0.03932996631647724]\n",
      "ST_A: [0.015327405634476276, 0.02690679793584856, 0.024530257497755562, 0.07689232060951942, 0.04324835063954012, 0.02462807728686179, 0.037799368611433175, 0.02108422083011528, 0.019120904642708166, 0.014467114382880992, 0.013476545363885336]\n"
     ]
    }
   ],
   "source": [
    "# Initialize empty lists to store RMS values for different groups\n",
    "RF_N = []  # RMS values for RF in the Normal group\n",
    "RF_A = []  # RMS values for RF in the Patient group\n",
    "BF_N = []  # RMS values for BF in the Normal group\n",
    "BF_A = []  # RMS values for BF in the Patient group\n",
    "VS_N = []  # RMS values for VS in the Normal group\n",
    "VS_A = []  # RMS values for VS in the Patient group\n",
    "ST_N = []  # RMS values for ST in the Normal group\n",
    "ST_A = []  # RMS values for ST in the Patient group\n",
    "\n",
    "# Iterate through the results dictionary to classify and store RMS values\n",
    "for file_name, data in results.items():\n",
    "    # Check if the file belongs to the Patient group for RF and append the value\n",
    "    if file_name.startswith('RF_1Amar') or file_name.startswith('RF_2Amar') or file_name.startswith('RF_3Amar') or file_name.startswith('RF_4Amar') or file_name.startswith('RF_5Amar') or file_name.startswith('RF_6Amar') or file_name.startswith('RF_7Amar') or file_name.startswith('RF_8Amar') or file_name.startswith('RF_9Amar') or file_name.startswith('RF_10Amar') or file_name.startswith('RF_11Amar'):\n",
    "        RF_A.append(float(data))\n",
    "    # Check if the file belongs to the Normal group for RF and append the value\n",
    "    elif file_name.startswith('RF_1Nmar') or file_name.startswith('RF_2Nmar') or file_name.startswith('RF_3Nmar') or file_name.startswith('RF_4Nmar') or file_name.startswith('RF_5Nmar') or file_name.startswith('RF_6Nmar') or file_name.startswith('RF_7Nmar') or file_name.startswith('RF_8Nmar') or file_name.startswith('RF_9Nmar') or file_name.startswith('RF_10Nmar') or file_name.startswith('RF_11Nmar'):\n",
    "        RF_N.append(float(data))\n",
    "    # Check if the file belongs to the Patient group for BF and append the value\n",
    "    elif file_name.startswith('BF_1Amar') or file_name.startswith('BF_2Amar') or file_name.startswith('BF_3Amar') or file_name.startswith('BF_4Amar') or file_name.startswith('BF_5Amar') or file_name.startswith('BF_6Amar') or file_name.startswith('BF_7Amar') or file_name.startswith('BF_8Amar') or file_name.startswith('BF_9Amar') or file_name.startswith('BF_10Amar') or file_name.startswith('BF_11Amar'):\n",
    "        BF_A.append(float(data))\n",
    "    # Check if the file belongs to the Normal group for BF and append the value\n",
    "    elif file_name.startswith('BF_1Nmar') or file_name.startswith('BF_2Nmar') or file_name.startswith('BF_3Nmar') or file_name.startswith('BF_4Nmar') or file_name.startswith('BF_5Nmar') or file_name.startswith('BF_6Nmar') or file_name.startswith('BF_7Nmar') or file_name.startswith('BF_8Nmar') or file_name.startswith('BF_9Nmar') or file_name.startswith('BF_10Nmar') or file_name.startswith('BF_11Nmar'):\n",
    "        BF_N.append(float(data))\n",
    "    # Check if the file belongs to the Patient group for VS and append the value\n",
    "    elif file_name.startswith('VS_1Amar') or file_name.startswith('VS_2Amar') or file_name.startswith('VS_3Amar') or file_name.startswith('VS_4Amar') or file_name.startswith('VS_5Amar') or file_name.startswith('VS_6Amar') or file_name.startswith('VS_7Amar') or file_name.startswith('VS_8Amar') or file_name.startswith('VS_9Amar') or file_name.startswith('VS_10Amar') or file_name.startswith('VS_11Amar'):\n",
    "        VS_A.append(float(data))\n",
    "    # Check if the file belongs to the Normal group for VS and append the value\n",
    "    elif file_name.startswith('VS_1Nmar') or file_name.startswith('VS_2Nmar') or file_name.startswith('VS_3Nmar') or file_name.startswith('VS_4Nmar') or file_name.startswith('VS_5Nmar') or file_name.startswith('VS_6Nmar') or file_name.startswith('VS_7Nmar') or file_name.startswith('VS_8Nmar') or file_name.startswith('VS_9Nmar') or file_name.startswith('VS_10Nmar') or file_name.startswith('VS_11Nmar'):\n",
    "        VS_N.append(float(data))\n",
    "    # Check if the file belongs to the Patient group for ST and append the value\n",
    "    elif file_name.startswith('ST_1Amar') or file_name.startswith('ST_2Amar') or file_name.startswith('ST_3Amar') or file_name.startswith('ST_4Amar') or file_name.startswith('ST_5Amar') or file_name.startswith('ST_6Amar') or file_name.startswith('ST_7Amar') or file_name.startswith('ST_8Amar') or file_name.startswith('ST_9Amar') or file_name.startswith('ST_10Amar') or file_name.startswith('ST_11Amar'):\n",
    "        ST_A.append(float(data))\n",
    "    # Check if the file belongs to the Normal group for ST and append the value\n",
    "    elif file_name.startswith('ST_1Nmar') or file_name.startswith('ST_2Nmar') or file_name.startswith('ST_3Nmar') or file_name.startswith('ST_4Nmar') or file_name.startswith('ST_5Nmar') or file_name.startswith('ST_6Nmar') or file_name.startswith('ST_7Nmar') or file_name.startswith('ST_8Nmar') or file_name.startswith('ST_9Nmar') or file_name.startswith('ST_10Nmar') or file_name.startswith('ST_11Nmar'):\n",
    "        ST_N.append(float(data))\n",
    "\n",
    "# Print the classified RMS values for each group\n",
    "print(\"RF_N:\", RF_N)\n",
    "print(\"RF_A:\", RF_A)\n",
    "print(\"BF_N:\", BF_N)\n",
    "print(\"BF_A:\", BF_A)\n",
    "print(\"VS_N:\", VS_N)\n",
    "print(\"VS_A:\", VS_A)\n",
    "print(\"ST_N:\", ST_N)\n",
    "print(\"ST_A:\", ST_A)"
   ]
  },
  {
   "cell_type": "code",
   "execution_count": 4,
   "metadata": {},
   "outputs": [],
   "source": [
    "# Calculate the mean RMS values for each group (Normal and Patient) and each muscle (RF, BF, VS, ST)\n",
    "mean_rms_RF_N = np.mean(RF_N)  # Mean RMS for RF in the Normal group\n",
    "mean_rms_RF_A = np.mean(RF_A)  # Mean RMS for RF in the Patient group\n",
    "mean_rms_BF_N = np.mean(BF_N)  # Mean RMS for BF in the Normal group\n",
    "mean_rms_BF_A = np.mean(BF_A)  # Mean RMS for BF in the Patient group\n",
    "mean_rms_VS_N = np.mean(VS_N)  # Mean RMS for VS in the Normal group\n",
    "mean_rms_VS_A = np.mean(VS_A)  # Mean RMS for VS in the Patient group\n",
    "mean_rms_ST_N = np.mean(ST_N)  # Mean RMS for ST in the Normal group\n",
    "mean_rms_ST_A = np.mean(ST_A)  # Mean RMS for ST in the Patient group\n",
    "\n",
    "# Calculate the standard deviation of RMS values for each group (Normal and Patient) and each muscle (RF, BF, VS, ST)\n",
    "std_rms_RF_N = np.std(RF_N)  # Standard deviation of RMS for RF in the Normal group\n",
    "std_rms_RF_A = np.std(RF_A)  # Standard deviation of RMS for RF in the Patient group\n",
    "std_rms_BF_N = np.std(BF_N)  # Standard deviation of RMS for BF in the Normal group\n",
    "std_rms_BF_A = np.std(BF_A)  # Standard deviation of RMS for BF in the Patient group\n",
    "std_rms_VS_N = np.std(VS_N)  # Standard deviation of RMS for VS in the Normal group\n",
    "std_rms_VS_A = np.std(VS_A)  # Standard deviation of RMS for VS in the Patient group\n",
    "std_rms_ST_N = np.std(ST_N)  # Standard deviation of RMS for ST in the Normal group\n",
    "std_rms_ST_A = np.std(ST_A)  # Standard deviation of RMS for ST in the Patient group"
   ]
  },
  {
   "cell_type": "markdown",
   "metadata": {},
   "source": [
    "# RF"
   ]
  },
  {
   "cell_type": "code",
   "execution_count": 5,
   "metadata": {},
   "outputs": [
    {
     "name": "stdout",
     "output_type": "stream",
     "text": [
      "RF_N :  [0.013118912587816216, 0.011989099105722989, 0.0063219366828871325, 0.017163573180874483, 0.003476513362448436, 0.0108693740196546, 0.04867456892766927, 0.004124416594369294, 0.019770378689596062, 0.024870026985753822, 0.13135748373952122]\n",
      "RF_A :  [0.06968718078366644, 0.11194817881316706, 0.006642725422981336, 0.05449113994338505, 0.014947503027849838, 0.07910655769617515, 0.07310593388051514, 0.015312117953951996, 0.0076218250058420565, 0.004541033503636486, 0.003751294126402017]\n",
      "mean_rms_RF_N: 0.026521480352392143\n",
      "mean_rms_RF_A: 0.040105044559779326\n",
      "std_rms_RF_N: 0.035282947118664504\n",
      "std_rms_RF_A: 0.03675786458752326\n"
     ]
    }
   ],
   "source": [
    "print(\"RF_N : \",RF_N)\n",
    "print(\"RF_A : \",RF_A)\n",
    "print(\"mean_rms_RF_N:\", mean_rms_RF_N)\n",
    "print(\"mean_rms_RF_A:\", mean_rms_RF_A)\n",
    "print(\"std_rms_RF_N:\", std_rms_RF_N)\n",
    "print(\"std_rms_RF_A:\", std_rms_RF_A)"
   ]
  },
  {
   "cell_type": "code",
   "execution_count": 7,
   "metadata": {},
   "outputs": [
    {
     "name": "stderr",
     "output_type": "stream",
     "text": [
      "C:\\Users\\hoste\\AppData\\Local\\Temp\\ipykernel_37820\\2486191955.py:3: MatplotlibDeprecationWarning: The 'labels' parameter of boxplot() has been renamed 'tick_labels' since Matplotlib 3.9; support for the old name will be dropped in 3.11.\n",
      "  plt.boxplot([RF_A, RF_N], labels=['Patient (RF_A)', 'Normal (RF_N)'])\n"
     ]
    }
   ],
   "source": [
    "# Boxplot of the two groups\n",
    "plt.figure(figsize=(10, 6))\n",
    "plt.boxplot([RF_A, RF_N], labels=['Patient (RF_A)', 'Normal (RF_N)'])\n",
    "plt.title('Boxplot of Mean RMS for RF Muscle')\n",
    "plt.ylabel('Mean RMS (RF) [mV]')\n",
    "plt.xlabel('Groups')\n",
    "plt.grid(True)\n",
    "plt.savefig(\"graph_analyse/boxplot_RMS_RF.png\", dpi=300, bbox_inches='tight')\n",
    "plt.show()\n",
    "\n",
    "# Histogram of the two groups\n",
    "plt.figure(figsize=(10, 6))\n",
    "plt.hist(RF_A, bins=10, alpha=0.5, label='Patient (RF_A)', color='blue')\n",
    "plt.hist(RF_N, bins=10, alpha=0.5, label='Normal (RF_N)', color='orange')\n",
    "plt.title('Histogram of Mean RMS for RF Muscle')\n",
    "plt.xlabel('Mean RMS (RF) [mV]')\n",
    "plt.ylabel('Frequency')\n",
    "sns.kdeplot(RF_A, color='blue', label='Density Patient (RF_A)', linewidth=2)\n",
    "sns.kdeplot(RF_N, color='orange', label='Density Normal (RF_N)', linewidth=2)\n",
    "plt.legend()\n",
    "plt.grid(True)\n",
    "plt.savefig(\"graph_analyse/histogram_RMS_RF.png\", dpi=300, bbox_inches='tight')\n",
    "plt.show()"
   ]
  },
  {
   "cell_type": "code",
   "execution_count": 8,
   "metadata": {},
   "outputs": [
    {
     "name": "stdout",
     "output_type": "stream",
     "text": [
      "U Statistic: 50.0000\n",
      "Mann-Whitney P-value: 0.5114\n",
      "No significant difference between the groups\n"
     ]
    }
   ],
   "source": [
    "# Mann-Whitney Test\n",
    "stat, p_value = stats.mannwhitneyu(RF_N, RF_A, alternative='two-sided')\n",
    "\n",
    "print(f\"U Statistic: {stat:.4f}\")\n",
    "print(f\"Mann-Whitney P-value: {p_value:.4f}\")\n",
    "\n",
    "alpha = 0.05  # Significance level\n",
    "if p_value < alpha:\n",
    "    print(\"Significant difference between the two groups\")\n",
    "else:\n",
    "    print(\"No significant difference between the groups\")"
   ]
  },
  {
   "cell_type": "markdown",
   "metadata": {},
   "source": [
    "# BF"
   ]
  },
  {
   "cell_type": "code",
   "execution_count": 9,
   "metadata": {},
   "outputs": [
    {
     "name": "stdout",
     "output_type": "stream",
     "text": [
      "BF_N :  [0.006841166114195083, 0.014330603252029256, 0.012997899313212354, 0.04244288938063007, 0.02620139285627826, 0.012758828018601849, 0.022253445372219245, 0.01980868054802072, 0.04651572988725122, 0.01116573160706482, 0.011115543658551523]\n",
      "BF_A :  [0.022232547901254514, 0.037605756332794275, 0.017356519662898657, 0.023621204246814863, 0.018029156115575935, 0.020216043872881555, 0.014416010843897292, 0.03425913006823489, 0.00882726092036399, 0.009850079039675485, 0.01216122219027875]\n",
      "mean_rms_BF_N: 0.02058471909164131\n",
      "mean_rms_BF_A: 0.019870448290424562\n",
      "std_rms_BF_N: 0.012469297071743652\n",
      "std_rms_BF_A: 0.008855380860007471\n"
     ]
    }
   ],
   "source": [
    "print(\"BF_N : \",BF_N)\n",
    "print(\"BF_A : \",BF_A)\n",
    "print(\"mean_rms_BF_N:\", mean_rms_BF_N)\n",
    "print(\"mean_rms_BF_A:\", mean_rms_BF_A)\n",
    "print(\"std_rms_BF_N:\", std_rms_BF_N)\n",
    "print(\"std_rms_BF_A:\", std_rms_BF_A)"
   ]
  },
  {
   "cell_type": "code",
   "execution_count": 10,
   "metadata": {},
   "outputs": [
    {
     "name": "stderr",
     "output_type": "stream",
     "text": [
      "C:\\Users\\hoste\\AppData\\Local\\Temp\\ipykernel_37820\\1377121908.py:3: MatplotlibDeprecationWarning: The 'labels' parameter of boxplot() has been renamed 'tick_labels' since Matplotlib 3.9; support for the old name will be dropped in 3.11.\n",
      "  plt.boxplot([BF_A, BF_N], labels=['Patient (BF_A)', 'Normal (BF_N)'])\n"
     ]
    }
   ],
   "source": [
    "# Boxplot of the two groups\n",
    "plt.figure(figsize=(10, 6))\n",
    "plt.boxplot([BF_A, BF_N], labels=['Patient (BF_A)', 'Normal (BF_N)'])\n",
    "plt.title('Boxplot of Mean RMS for BF Muscle')\n",
    "plt.ylabel('Mean RMS (BF) [mV]')\n",
    "plt.xlabel('Groups')\n",
    "plt.grid(True)\n",
    "plt.savefig(\"graph_analyse/boxplot_RMS_BF.png\", dpi=300, bbox_inches='tight')\n",
    "plt.show()\n",
    "\n",
    "# Histogram of the two groups\n",
    "plt.figure(figsize=(10, 6))\n",
    "plt.hist(BF_A, bins=10, alpha=0.5, label='Patient (BF_A)', color='blue')\n",
    "plt.hist(BF_N, bins=10, alpha=0.5, label='Normal (BF_N)', color='orange')\n",
    "plt.title('Histogram of Mean RMS for BF Muscle')\n",
    "plt.xlabel('Mean RMS (BF) [mV]')\n",
    "plt.ylabel('Frequency')\n",
    "sns.kdeplot(BF_A, color='blue', label='Density BF_A', linewidth=2)\n",
    "sns.kdeplot(BF_N, color='orange', label='Density BF_N', linewidth=2)\n",
    "plt.legend()\n",
    "plt.grid(True)\n",
    "plt.savefig(\"graph_analyse/histogram_RMS_BF.png\", dpi=300, bbox_inches='tight')\n",
    "plt.show()"
   ]
  },
  {
   "cell_type": "code",
   "execution_count": 11,
   "metadata": {},
   "outputs": [
    {
     "name": "stdout",
     "output_type": "stream",
     "text": [
      "U Statistic: 58.0000\n",
      "Mann-Whitney P-value: 0.8955\n",
      "No significant difference between the groups\n"
     ]
    }
   ],
   "source": [
    "# Mann-Whitney Test\n",
    "stat, p_value = stats.mannwhitneyu(BF_N, BF_A, alternative='two-sided')\n",
    "\n",
    "print(f\"U Statistic: {stat:.4f}\")\n",
    "print(f\"Mann-Whitney P-value: {p_value:.4f}\")\n",
    "\n",
    "alpha = 0.05  # Significance level\n",
    "if p_value < alpha:\n",
    "    print(\"Significant difference between the two groups\")\n",
    "else:\n",
    "    print(\"No significant difference between the groups\")"
   ]
  },
  {
   "cell_type": "markdown",
   "metadata": {},
   "source": [
    "# VS"
   ]
  },
  {
   "cell_type": "code",
   "execution_count": 12,
   "metadata": {},
   "outputs": [
    {
     "name": "stdout",
     "output_type": "stream",
     "text": [
      "VS_N :  [0.01571112984237851, 0.01673453840987548, 0.007114831295351685, 0.02680634453040473, 0.003587394056001531, 0.014221819437101253, 0.06976599142585123, 0.01890875258157782, 0.007259082107535039, 0.016457383139822552, 0.24195520519840183]\n",
      "VS_A :  [0.04350199816336147, 0.1460071100563627, 0.09059395166818679, 0.062024733371722124, 0.02065979497432001, 0.05258844923828974, 0.12395283169564188, 0.12348590208505181, 0.008699311206706816, 0.005066966023898135, 0.013151561912780132]\n",
      "mean_rms_VS_N: 0.03986567927493652\n",
      "mean_rms_VS_A: 0.06270296458148378\n",
      "std_rms_VS_N: 0.06614028765852724\n",
      "std_rms_VS_A: 0.048707207401362154\n"
     ]
    }
   ],
   "source": [
    "print(\"VS_N : \",VS_N)\n",
    "print(\"VS_A : \",VS_A)\n",
    "print(\"mean_rms_VS_N:\", mean_rms_VS_N)\n",
    "print(\"mean_rms_VS_A:\", mean_rms_VS_A)\n",
    "print(\"std_rms_VS_N:\", std_rms_VS_N)\n",
    "print(\"std_rms_VS_A:\", std_rms_VS_A)"
   ]
  },
  {
   "cell_type": "code",
   "execution_count": 13,
   "metadata": {},
   "outputs": [
    {
     "name": "stderr",
     "output_type": "stream",
     "text": [
      "C:\\Users\\hoste\\AppData\\Local\\Temp\\ipykernel_37820\\2191003361.py:3: MatplotlibDeprecationWarning: The 'labels' parameter of boxplot() has been renamed 'tick_labels' since Matplotlib 3.9; support for the old name will be dropped in 3.11.\n",
      "  plt.boxplot([VS_A, VS_N], labels=['Patient (VS_A)', 'Normal (VS_N)'])\n"
     ]
    }
   ],
   "source": [
    "# Boxplot of the two groups\n",
    "plt.figure(figsize=(10, 6))\n",
    "plt.boxplot([VS_A, VS_N], labels=['Patient (VS_A)', 'Normal (VS_N)'])\n",
    "plt.title('Boxplot of Mean RMS for VS Muscle')\n",
    "plt.ylabel('Mean RMS (VS) [mV]')\n",
    "plt.xlabel('Groups')\n",
    "plt.grid(True)\n",
    "plt.savefig(\"graph_analyse/boxplot_RMS_VS.png\", dpi=300, bbox_inches='tight')\n",
    "plt.show()\n",
    "\n",
    "# Histogram of the two groups\n",
    "plt.figure(figsize=(10, 6))\n",
    "plt.hist(VS_A, bins=10, alpha=0.5, label='Patient (VS_A)', color='blue')\n",
    "plt.hist(VS_N, bins=10, alpha=0.5, label='Normal (VS_N)', color='orange')\n",
    "plt.title('Histogram of Mean RMS for VS Muscle')\n",
    "plt.xlabel('Mean RMS (VS) [mV]')\n",
    "plt.ylabel('Frequency')\n",
    "sns.kdeplot(VS_A, color='blue', label='Density Patient (VS_A)', linewidth=2)\n",
    "sns.kdeplot(VS_N, color='orange', label='Density Normal (VS_N)', linewidth=2)\n",
    "plt.legend()\n",
    "plt.grid(True)\n",
    "plt.savefig(\"graph_analyse/histogram_RMS_VS.png\", dpi=300, bbox_inches='tight')\n",
    "plt.show()"
   ]
  },
  {
   "cell_type": "code",
   "execution_count": 14,
   "metadata": {},
   "outputs": [
    {
     "name": "stdout",
     "output_type": "stream",
     "text": [
      "U Statistic: 39.0000\n",
      "Mann-Whitney P-value: 0.1679\n",
      "No significant difference between the groups\n"
     ]
    }
   ],
   "source": [
    "# Mann-Whitney Test\n",
    "stat, p_value = stats.mannwhitneyu(VS_N, VS_A, alternative='two-sided')\n",
    "\n",
    "print(f\"U Statistic: {stat:.4f}\")\n",
    "print(f\"Mann-Whitney P-value: {p_value:.4f}\")\n",
    "\n",
    "alpha = 0.05  # Significance level\n",
    "if p_value < alpha:\n",
    "    print(\"Significant difference between the two groups\")\n",
    "else:\n",
    "    print(\"No significant difference between the groups\")"
   ]
  },
  {
   "cell_type": "markdown",
   "metadata": {},
   "source": [
    "# ST"
   ]
  },
  {
   "cell_type": "code",
   "execution_count": 15,
   "metadata": {},
   "outputs": [
    {
     "name": "stdout",
     "output_type": "stream",
     "text": [
      "ST_N :  [0.009293660602499584, 0.018452978923185308, 0.01640207024457131, 0.036127811410746086, 0.029721585970397684, 0.009835447984245486, 0.07621910682381235, 0.03298783099146923, 0.015860352561662277, 0.013845043634387148, 0.03932996631647724]\n",
      "ST_A :  [0.015327405634476276, 0.02690679793584856, 0.024530257497755562, 0.07689232060951942, 0.04324835063954012, 0.02462807728686179, 0.037799368611433175, 0.02108422083011528, 0.019120904642708166, 0.014467114382880992, 0.013476545363885336]\n",
      "mean_rms_ST_N: 0.02709780504213215\n",
      "mean_rms_ST_A: 0.028861942130456786\n",
      "std_rms_ST_N: 0.01856602473806381\n",
      "std_rms_ST_A: 0.01762426330762006\n"
     ]
    }
   ],
   "source": [
    "print(\"ST_N : \",ST_N)\n",
    "print(\"ST_A : \",ST_A)\n",
    "print(\"mean_rms_ST_N:\", mean_rms_ST_N)\n",
    "print(\"mean_rms_ST_A:\", mean_rms_ST_A)\n",
    "print(\"std_rms_ST_N:\", std_rms_ST_N)\n",
    "print(\"std_rms_ST_A:\", std_rms_ST_A)"
   ]
  },
  {
   "cell_type": "code",
   "execution_count": 16,
   "metadata": {},
   "outputs": [
    {
     "name": "stderr",
     "output_type": "stream",
     "text": [
      "C:\\Users\\hoste\\AppData\\Local\\Temp\\ipykernel_37820\\1954079197.py:3: MatplotlibDeprecationWarning: The 'labels' parameter of boxplot() has been renamed 'tick_labels' since Matplotlib 3.9; support for the old name will be dropped in 3.11.\n",
      "  plt.boxplot([ST_A, ST_N], labels=['Patient (ST_A)', 'Normal (ST_N)'])\n"
     ]
    }
   ],
   "source": [
    "# Boxplot of the two groups\n",
    "plt.figure(figsize=(10, 6))\n",
    "plt.boxplot([ST_A, ST_N], labels=['Patient (ST_A)', 'Normal (ST_N)'])\n",
    "plt.title('Boxplot of Mean RMS for ST Muscle')\n",
    "plt.ylabel('Mean RMS (ST) [mV]')\n",
    "plt.xlabel('Groups')\n",
    "plt.grid(True)\n",
    "plt.savefig(\"graph_analyse/boxplot_RMS_ST.png\", dpi=300, bbox_inches='tight')\n",
    "plt.show()\n",
    "\n",
    "# Histogram of the two groups\n",
    "plt.figure(figsize=(10, 6))\n",
    "plt.hist(ST_A, bins=10, alpha=0.5, label='Patient (ST_A)', color='blue')\n",
    "plt.hist(ST_N, bins=10, alpha=0.5, label='Normal (ST_N)', color='orange')\n",
    "plt.title('Histogram of Mean RMS for ST Muscle')\n",
    "plt.xlabel('Mean RMS (ST) [mV]')\n",
    "plt.ylabel('Frequency')\n",
    "sns.kdeplot(ST_A, color='blue', label='Density Patient (ST_A)', linewidth=2)\n",
    "sns.kdeplot(ST_N, color='orange', label='Density Normal (ST_N)', linewidth=2)\n",
    "plt.legend()\n",
    "plt.grid(True)\n",
    "plt.savefig(\"graph_analyse/histogram_RMS_ST.png\", dpi=300, bbox_inches='tight')\n",
    "plt.show()"
   ]
  },
  {
   "cell_type": "code",
   "execution_count": 17,
   "metadata": {},
   "outputs": [
    {
     "name": "stdout",
     "output_type": "stream",
     "text": [
      "U Statistic: 53.0000\n",
      "Mann-Whitney P-value: 0.6458\n",
      "No significant difference between the groups\n"
     ]
    }
   ],
   "source": [
    "# Mann-Whitney Test\n",
    "stat, p_value = stats.mannwhitneyu(ST_N, ST_A, alternative='two-sided')\n",
    "\n",
    "print(f\"U Statistic: {stat:.4f}\")\n",
    "print(f\"Mann-Whitney P-value: {p_value:.4f}\")\n",
    "\n",
    "alpha = 0.05  # Significance level\n",
    "if p_value < alpha:\n",
    "    print(\"Significant difference between the two groups\")\n",
    "else:\n",
    "    print(\"No significant difference between the groups\")"
   ]
  }
 ],
 "metadata": {
  "kernelspec": {
   "display_name": "MY_HUGO_SAUNIER",
   "language": "python",
   "name": "python3"
  },
  "language_info": {
   "codemirror_mode": {
    "name": "ipython",
    "version": 3
   },
   "file_extension": ".py",
   "mimetype": "text/x-python",
   "name": "python",
   "nbconvert_exporter": "python",
   "pygments_lexer": "ipython3",
   "version": "3.12.5"
  }
 },
 "nbformat": 4,
 "nbformat_minor": 2
}
