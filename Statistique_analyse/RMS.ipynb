{
 "cells": [
  {
   "cell_type": "code",
   "execution_count": 2,
   "metadata": {},
   "outputs": [],
   "source": [
    "from import_all import *"
   ]
  },
  {
   "cell_type": "code",
   "execution_count": 3,
   "metadata": {},
   "outputs": [
    {
     "name": "stdout",
     "output_type": "stream",
     "text": [
      "Notebook 1Nmar.ipynb imported successfully.\n",
      "Notebook 2Nmar.ipynb imported successfully.\n",
      "Notebook 3Nmar.ipynb imported successfully.\n",
      "Notebook 4Nmar.ipynb imported successfully.\n",
      "Notebook 5Nmar.ipynb imported successfully.\n",
      "Notebook 6Nmar.ipynb imported successfully.\n",
      "Notebook 7Nmar.ipynb imported successfully.\n",
      "Notebook 8Nmar.ipynb imported successfully.\n",
      "Notebook 9Nmar.ipynb imported successfully.\n",
      "Notebook 10Nmar.ipynb imported successfully.\n",
      "Notebook 11Nmar.ipynb imported successfully.\n",
      "Notebook 1Amar.ipynb imported successfully.\n",
      "Notebook 2Amar.ipynb imported successfully.\n",
      "Notebook 3Amar.ipynb imported successfully.\n",
      "Notebook 4Amar.ipynb imported successfully.\n",
      "Notebook 5Amar.ipynb imported successfully.\n",
      "Notebook 6Amar.ipynb imported successfully.\n",
      "Notebook 7Amar.ipynb imported successfully.\n",
      "Notebook 8Amar.ipynb imported successfully.\n",
      "Notebook 9Amar.ipynb imported successfully.\n",
      "Notebook 10Amar.ipynb imported successfully.\n",
      "Notebook 11Amar.ipynb imported successfully.\n"
     ]
    }
   ],
   "source": [
    "# List of .ipynb files to process\n",
    "notebook_files_N = [f\"{i}Nmar.ipynb\" for i in range(1, 12)]\n",
    "notebook_files_A = [f\"{i}Amar.ipynb\" for i in range(1, 12)]\n",
    "\n",
    "\n",
    "results = {}\n",
    "\n",
    "for file_name in notebook_files_N:\n",
    "    try:\n",
    "        # Load the .ipynb file\n",
    "        with open(\"../Normal_analyse/\"+file_name, 'r', encoding='utf-8') as f:\n",
    "            notebook = read(f, as_version=4)\n",
    "        print(f\"Notebook {file_name} imported successfully.\")\n",
    "    except FileNotFoundError:\n",
    "        print(f\"Error: The file '{file_name}' was not found. Please ensure it exists in the current directory.\")\n",
    "        continue\n",
    "\n",
    "    # Dictionnaire pour stocker les variables\n",
    "    global_vars = {}\n",
    "\n",
    "    # Sauvegarde stdout et stderr pour masquer l'affichage\n",
    "    stdout_backup = sys.stdout\n",
    "    stderr_backup = sys.stderr\n",
    "    sys.stdout = io.StringIO()  # Capture la sortie standard\n",
    "    sys.stderr = io.StringIO()  # Capture les erreurs\n",
    "\n",
    "    # Désactiver l'affichage interactif de Matplotlib\n",
    "    plt.ioff()\n",
    "\n",
    "    # Redéfinir `plt.show()` et `display()` pour bloquer les affichages\n",
    "    with patch(\"matplotlib.pyplot.show\"), patch(\"IPython.display.display\"):\n",
    "        # Exécuter toutes les cellules de code sans affichage\n",
    "        for cell in notebook.cells:\n",
    "            if cell.cell_type == \"code\":\n",
    "                exec(cell.source, global_vars)\n",
    "\n",
    "    # Rétablir la sortie normale\n",
    "    sys.stdout = stdout_backup\n",
    "    sys.stderr = stderr_backup\n",
    "    plt.ion()  # Réactiver l'affichage interactif\n",
    "    plt.close(\"all\")  # Fermer toutes les figures en mémoire\n",
    "\n",
    "    # Récupérer les données\n",
    "    mean_rms_RF = global_vars.get(\"mean_rms_RF\", \"Variable non trouvée\")\n",
    "    mean_rms_BF = global_vars.get(\"mean_rms_BF\", \"Variable non trouvée\")\n",
    "    mean_rms_VS = global_vars.get(\"mean_rms_VM\", \"Variable non trouvée\")\n",
    "    mean_rms_ST = global_vars.get(\"mean_rms_ST\", \"Variable non trouvée\")\n",
    "\n",
    "    results[\"RF_\"+file_name] = mean_rms_RF\n",
    "    results[\"BF_\"+file_name] = mean_rms_BF\n",
    "    results[\"VS_\"+file_name] = mean_rms_VS\n",
    "    results[\"ST_\"+file_name] = mean_rms_ST\n",
    "\n",
    "\n",
    "for file_name in notebook_files_A:\n",
    "    try:\n",
    "        # Load the .ipynb file\n",
    "        with open(\"../Patient_analyse/\"+file_name, 'r', encoding='utf-8') as f:\n",
    "            notebook = read(f, as_version=4)\n",
    "        print(f\"Notebook {file_name} imported successfully.\")\n",
    "    except FileNotFoundError:\n",
    "        print(f\"Error: The file '{file_name}' was not found. Please ensure it exists in the current directory.\")\n",
    "        continue\n",
    "\n",
    "    # Dictionnaire pour stocker les variables\n",
    "    global_vars = {}\n",
    "\n",
    "    # Sauvegarde stdout et stderr pour masquer l'affichage\n",
    "    stdout_backup = sys.stdout\n",
    "    stderr_backup = sys.stderr\n",
    "    sys.stdout = io.StringIO()  # Capture la sortie standard\n",
    "    sys.stderr = io.StringIO()  # Capture les erreurs\n",
    "\n",
    "    # Désactiver l'affichage interactif de Matplotlib\n",
    "    plt.ioff()\n",
    "\n",
    "    # Redéfinir `plt.show()` et `display()` pour bloquer les affichages\n",
    "    with patch(\"matplotlib.pyplot.show\"), patch(\"IPython.display.display\"):\n",
    "        # Exécuter toutes les cellules de code sans affichage\n",
    "        for cell in notebook.cells:\n",
    "            if cell.cell_type == \"code\":\n",
    "                exec(cell.source, global_vars)\n",
    "\n",
    "    # Rétablir la sortie normale\n",
    "    sys.stdout = stdout_backup\n",
    "    sys.stderr = stderr_backup\n",
    "    plt.ion()  # Réactiver l'affichage interactif\n",
    "    plt.close(\"all\")  # Fermer toutes les figures en mémoire\n",
    "\n",
    "    # Récupérer les données\n",
    "    mean_rms_RF = global_vars.get(\"mean_rms_RF\", \"Variable non trouvée\")\n",
    "    mean_rms_BF = global_vars.get(\"mean_rms_BF\", \"Variable non trouvée\")\n",
    "    mean_rms_VS = global_vars.get(\"mean_rms_VM\", \"Variable non trouvée\")\n",
    "    mean_rms_ST = global_vars.get(\"mean_rms_ST\", \"Variable non trouvée\")\n",
    "\n",
    "    results[\"RF_\"+file_name] = mean_rms_RF\n",
    "    results[\"BF_\"+file_name] = mean_rms_BF\n",
    "    results[\"VS_\"+file_name] = mean_rms_VS\n",
    "    results[\"ST_\"+file_name] = mean_rms_ST\n"
   ]
  },
  {
   "cell_type": "code",
   "execution_count": null,
   "metadata": {},
   "outputs": [
    {
     "name": "stdout",
     "output_type": "stream",
     "text": [
      "RF_1Nmar.ipynb: 0.013118912587816216\n",
      "BF_1Nmar.ipynb: 0.006841166114195083\n",
      "VS_1Nmar.ipynb: 0.01571112984237851\n",
      "ST_1Nmar.ipynb: 0.009293660602499584\n",
      "RF_2Nmar.ipynb: 0.011989099105722989\n",
      "BF_2Nmar.ipynb: 0.014330603252029256\n",
      "VS_2Nmar.ipynb: 0.01673453840987548\n",
      "ST_2Nmar.ipynb: 0.018452978923185308\n",
      "RF_3Nmar.ipynb: 0.0063219366828871325\n",
      "BF_3Nmar.ipynb: 0.012997899313212354\n",
      "VS_3Nmar.ipynb: 0.007114831295351685\n",
      "ST_3Nmar.ipynb: 0.01640207024457131\n",
      "RF_4Nmar.ipynb: 0.017163573180874483\n",
      "BF_4Nmar.ipynb: 0.04244288938063007\n",
      "VS_4Nmar.ipynb: 0.02680634453040473\n",
      "ST_4Nmar.ipynb: 0.036127811410746086\n",
      "RF_5Nmar.ipynb: 0.003476513362448436\n",
      "BF_5Nmar.ipynb: 0.02620139285627826\n",
      "VS_5Nmar.ipynb: 0.003587394056001531\n",
      "ST_5Nmar.ipynb: 0.029721585970397684\n",
      "RF_6Nmar.ipynb: 0.0108693740196546\n",
      "BF_6Nmar.ipynb: 0.012758828018601849\n",
      "VS_6Nmar.ipynb: 0.014221819437101253\n",
      "ST_6Nmar.ipynb: 0.009835447984245486\n",
      "RF_7Nmar.ipynb: 0.04867456892766927\n",
      "BF_7Nmar.ipynb: 0.022253445372219245\n",
      "VS_7Nmar.ipynb: 0.06976599142585123\n",
      "ST_7Nmar.ipynb: 0.07621910682381235\n",
      "RF_8Nmar.ipynb: 0.004124416594369294\n",
      "BF_8Nmar.ipynb: 0.01980868054802072\n",
      "VS_8Nmar.ipynb: 0.01890875258157782\n",
      "ST_8Nmar.ipynb: 0.03298783099146923\n",
      "RF_9Nmar.ipynb: 0.019770378689596062\n",
      "BF_9Nmar.ipynb: 0.04651572988725122\n",
      "VS_9Nmar.ipynb: 0.007259082107535039\n",
      "ST_9Nmar.ipynb: 0.015860352561662277\n",
      "RF_10Nmar.ipynb: 0.024870026985753822\n",
      "BF_10Nmar.ipynb: 0.01116573160706482\n",
      "VS_10Nmar.ipynb: 0.016457383139822552\n",
      "ST_10Nmar.ipynb: 0.013845043634387148\n",
      "RF_11Nmar.ipynb: 0.13135748373952122\n",
      "BF_11Nmar.ipynb: 0.011115543658551523\n",
      "VS_11Nmar.ipynb: 0.24195520519840183\n",
      "ST_11Nmar.ipynb: 0.03932996631647724\n",
      "RF_1Amar.ipynb: 0.06968718078366644\n",
      "BF_1Amar.ipynb: 0.022232547901254514\n",
      "VS_1Amar.ipynb: 0.04350199816336147\n",
      "ST_1Amar.ipynb: 0.015327405634476276\n",
      "RF_2Amar.ipynb: 0.11194817881316706\n",
      "BF_2Amar.ipynb: 0.037605756332794275\n",
      "VS_2Amar.ipynb: 0.1460071100563627\n",
      "ST_2Amar.ipynb: 0.02690679793584856\n",
      "RF_3Amar.ipynb: 0.006642725422981336\n",
      "BF_3Amar.ipynb: 0.017356519662898657\n",
      "VS_3Amar.ipynb: 0.09059395166818679\n",
      "ST_3Amar.ipynb: 0.024530257497755562\n",
      "RF_4Amar.ipynb: 0.05449113994338505\n",
      "BF_4Amar.ipynb: 0.023621204246814863\n",
      "VS_4Amar.ipynb: 0.062024733371722124\n",
      "ST_4Amar.ipynb: 0.07689232060951942\n",
      "RF_5Amar.ipynb: 0.014947503027849838\n",
      "BF_5Amar.ipynb: 0.018029156115575935\n",
      "VS_5Amar.ipynb: 0.02065979497432001\n",
      "ST_5Amar.ipynb: 0.04324835063954012\n",
      "RF_6Amar.ipynb: 0.07910655769617515\n",
      "BF_6Amar.ipynb: 0.020216043872881555\n",
      "VS_6Amar.ipynb: 0.05258844923828974\n",
      "ST_6Amar.ipynb: 0.02462807728686179\n",
      "RF_7Amar.ipynb: 0.07310593388051514\n",
      "BF_7Amar.ipynb: 0.014416010843897292\n",
      "VS_7Amar.ipynb: 0.12395283169564188\n",
      "ST_7Amar.ipynb: 0.037799368611433175\n",
      "RF_8Amar.ipynb: 0.015312117953951996\n",
      "BF_8Amar.ipynb: 0.03425913006823489\n",
      "VS_8Amar.ipynb: 0.12348590208505181\n",
      "ST_8Amar.ipynb: 0.02108422083011528\n",
      "RF_9Amar.ipynb: 0.0076218250058420565\n",
      "BF_9Amar.ipynb: 0.00882726092036399\n",
      "VS_9Amar.ipynb: 0.008699311206706816\n",
      "ST_9Amar.ipynb: 0.019120904642708166\n",
      "RF_10Amar.ipynb: 0.004541033503636486\n",
      "BF_10Amar.ipynb: 0.009850079039675485\n",
      "VS_10Amar.ipynb: 0.005066966023898135\n",
      "ST_10Amar.ipynb: 0.014467114382880992\n",
      "RF_11Amar.ipynb: 0.003751294126402017\n",
      "BF_11Amar.ipynb: 0.01216122219027875\n",
      "VS_11Amar.ipynb: 0.013151561912780132\n",
      "ST_11Amar.ipynb: 0.013476545363885336\n"
     ]
    }
   ],
   "source": [
    "# Print results for all files\n",
    "for file_name, data in results.items():\n",
    "    print(f\"{file_name}: {data}\")"
   ]
  },
  {
   "cell_type": "code",
   "execution_count": 5,
   "metadata": {},
   "outputs": [
    {
     "name": "stdout",
     "output_type": "stream",
     "text": [
      "RF_N: [0.013118912587816216, 0.011989099105722989, 0.0063219366828871325, 0.017163573180874483, 0.003476513362448436, 0.0108693740196546, 0.04867456892766927, 0.004124416594369294, 0.019770378689596062, 0.024870026985753822, 0.13135748373952122]\n",
      "RF_A: [0.06968718078366644, 0.11194817881316706, 0.006642725422981336, 0.05449113994338505, 0.014947503027849838, 0.07910655769617515, 0.07310593388051514, 0.015312117953951996, 0.0076218250058420565, 0.004541033503636486, 0.003751294126402017]\n",
      "BF_N: [0.006841166114195083, 0.014330603252029256, 0.012997899313212354, 0.04244288938063007, 0.02620139285627826, 0.012758828018601849, 0.022253445372219245, 0.01980868054802072, 0.04651572988725122, 0.01116573160706482, 0.011115543658551523]\n",
      "BF_A: [0.022232547901254514, 0.037605756332794275, 0.017356519662898657, 0.023621204246814863, 0.018029156115575935, 0.020216043872881555, 0.014416010843897292, 0.03425913006823489, 0.00882726092036399, 0.009850079039675485, 0.01216122219027875]\n",
      "VS_N: [0.01571112984237851, 0.01673453840987548, 0.007114831295351685, 0.02680634453040473, 0.003587394056001531, 0.014221819437101253, 0.06976599142585123, 0.01890875258157782, 0.007259082107535039, 0.016457383139822552, 0.24195520519840183]\n",
      "VS_A: [0.04350199816336147, 0.1460071100563627, 0.09059395166818679, 0.062024733371722124, 0.02065979497432001, 0.05258844923828974, 0.12395283169564188, 0.12348590208505181, 0.008699311206706816, 0.005066966023898135, 0.013151561912780132]\n",
      "ST_N: [0.009293660602499584, 0.018452978923185308, 0.01640207024457131, 0.036127811410746086, 0.029721585970397684, 0.009835447984245486, 0.07621910682381235, 0.03298783099146923, 0.015860352561662277, 0.013845043634387148, 0.03932996631647724]\n",
      "ST_A: [0.015327405634476276, 0.02690679793584856, 0.024530257497755562, 0.07689232060951942, 0.04324835063954012, 0.02462807728686179, 0.037799368611433175, 0.02108422083011528, 0.019120904642708166, 0.014467114382880992, 0.013476545363885336]\n"
     ]
    }
   ],
   "source": [
    "RF_N=[]\n",
    "RF_A=[]\n",
    "BF_N=[]\n",
    "BF_A=[]\n",
    "VS_N=[]\n",
    "VS_A=[]\n",
    "ST_N=[]\n",
    "ST_A=[]\n",
    "\n",
    "for file_name, data in results.items():\n",
    "    if file_name.startswith('RF_1Amar') or file_name.startswith('RF_2Amar') or file_name.startswith('RF_3Amar') or file_name.startswith('RF_4Amar') or file_name.startswith('RF_5Amar') or file_name.startswith('RF_6Amar') or file_name.startswith('RF_7Amar') or file_name.startswith('RF_8Amar') or file_name.startswith('RF_9Amar') or file_name.startswith('RF_10Amar') or file_name.startswith('RF_11Amar'):\n",
    "        RF_A.append(float(data))\n",
    "    elif file_name.startswith('RF_1Nmar') or file_name.startswith('RF_2Nmar') or file_name.startswith('RF_3Nmar') or file_name.startswith('RF_4Nmar') or file_name.startswith('RF_5Nmar') or file_name.startswith('RF_6Nmar') or file_name.startswith('RF_7Nmar') or file_name.startswith('RF_8Nmar') or file_name.startswith('RF_9Nmar') or file_name.startswith('RF_10Nmar') or file_name.startswith('RF_11Nmar'):\n",
    "        RF_N.append(float(data))\n",
    "    elif file_name.startswith('BF_1Amar') or file_name.startswith('BF_2Amar') or file_name.startswith('BF_3Amar') or file_name.startswith('BF_4Amar') or file_name.startswith('BF_5Amar') or file_name.startswith('BF_6Amar') or file_name.startswith('BF_7Amar') or file_name.startswith('BF_8Amar') or file_name.startswith('BF_9Amar') or file_name.startswith('BF_10Amar') or file_name.startswith('BF_11Amar'):\n",
    "        BF_A.append(float(data))\n",
    "    elif file_name.startswith('BF_1Nmar') or file_name.startswith('BF_2Nmar') or file_name.startswith('BF_3Nmar') or file_name.startswith('BF_4Nmar') or file_name.startswith('BF_5Nmar') or file_name.startswith('BF_6Nmar') or file_name.startswith('BF_7Nmar') or file_name.startswith('BF_8Nmar') or file_name.startswith('BF_9Nmar') or file_name.startswith('BF_10Nmar') or file_name.startswith('BF_11Nmar'):\n",
    "        BF_N.append(float(data))\n",
    "    elif file_name.startswith('VS_1Amar') or file_name.startswith('VS_2Amar') or file_name.startswith('VS_3Amar') or file_name.startswith('VS_4Amar') or file_name.startswith('VS_5Amar') or file_name.startswith('VS_6Amar') or file_name.startswith('VS_7Amar') or file_name.startswith('VS_8Amar') or file_name.startswith('VS_9Amar') or file_name.startswith('VS_10Amar') or file_name.startswith('VS_11Amar'):\n",
    "        VS_A.append(float(data))\n",
    "    elif file_name.startswith('VS_1Nmar') or file_name.startswith('VS_2Nmar') or file_name.startswith('VS_3Nmar') or file_name.startswith('VS_4Nmar') or file_name.startswith('VS_5Nmar') or file_name.startswith('VS_6Nmar') or file_name.startswith('VS_7Nmar') or file_name.startswith('VS_8Nmar') or file_name.startswith('VS_9Nmar') or file_name.startswith('VS_10Nmar') or file_name.startswith('VS_11Nmar'):\n",
    "        VS_N.append(float(data))\n",
    "    elif file_name.startswith('ST_1Amar') or file_name.startswith('ST_2Amar') or file_name.startswith('ST_3Amar') or file_name.startswith('ST_4Amar') or file_name.startswith('ST_5Amar') or file_name.startswith('ST_6Amar') or file_name.startswith('ST_7Amar') or file_name.startswith('ST_8Amar') or file_name.startswith('ST_9Amar') or file_name.startswith('ST_10Amar') or file_name.startswith('ST_11Amar'):\n",
    "        ST_A.append(float(data))\n",
    "    elif file_name.startswith('ST_1Nmar') or file_name.startswith('ST_2Nmar') or file_name.startswith('ST_3Nmar') or file_name.startswith('ST_4Nmar') or file_name.startswith('ST_5Nmar') or file_name.startswith('ST_6Nmar') or file_name.startswith('ST_7Nmar') or file_name.startswith('ST_8Nmar') or file_name.startswith('ST_9Nmar') or file_name.startswith('ST_10Nmar') or file_name.startswith('ST_11Nmar'):\n",
    "        ST_N.append(float(data))\n",
    "\n",
    "print(\"RF_N:\", RF_N)\n",
    "print(\"RF_A:\", RF_A)\n",
    "print(\"BF_N:\", BF_N)\n",
    "print(\"BF_A:\", BF_A)\n",
    "print(\"VS_N:\", VS_N)\n",
    "print(\"VS_A:\", VS_A)\n",
    "print(\"ST_N:\", ST_N)\n",
    "print(\"ST_A:\", ST_A)"
   ]
  },
  {
   "cell_type": "code",
   "execution_count": 6,
   "metadata": {},
   "outputs": [
    {
     "name": "stdout",
     "output_type": "stream",
     "text": [
      "mean_rms_RF_N: 0.026521480352392143\n",
      "mean_rms_RF_A: 0.040105044559779326\n",
      "std_rms_RF_N: 0.035282947118664504\n",
      "std_rms_RF_A: 0.03675786458752326\n",
      "mean_rms_BF_N: 0.02058471909164131\n",
      "mean_rms_BF_A: 0.019870448290424562\n",
      "std_rms_BF_N: 0.012469297071743652\n",
      "std_rms_BF_A: 0.008855380860007471\n",
      "mean_rms_VS_N: 0.03986567927493652\n",
      "mean_rms_VS_A: 0.06270296458148378\n",
      "std_rms_VS_N: 0.06614028765852724\n",
      "std_rms_VS_A: 0.048707207401362154\n",
      "mean_rms_ST_N: 0.02709780504213215\n",
      "mean_rms_ST_A: 0.028861942130456786\n",
      "std_rms_ST_N: 0.01856602473806381\n",
      "std_rms_ST_A: 0.01762426330762006\n"
     ]
    }
   ],
   "source": [
    "mean_rms_RF_N = np.mean(RF_N)\n",
    "mean_rms_RF_A = np.mean(RF_A)\n",
    "mean_rms_BF_N = np.mean(BF_N)\n",
    "mean_rms_BF_A = np.mean(BF_A)\n",
    "mean_rms_VS_N = np.mean(VS_N)\n",
    "mean_rms_VS_A = np.mean(VS_A)\n",
    "mean_rms_ST_N = np.mean(ST_N)\n",
    "mean_rms_ST_A = np.mean(ST_A)\n",
    "\n",
    "std_rms_RF_N = np.std(RF_N)\n",
    "std_rms_RF_A = np.std(RF_A)\n",
    "std_rms_BF_N = np.std(BF_N)\n",
    "std_rms_BF_A = np.std(BF_A)\n",
    "std_rms_VS_N = np.std(VS_N)\n",
    "std_rms_VS_A = np.std(VS_A)\n",
    "std_rms_ST_N = np.std(ST_N)\n",
    "std_rms_ST_A = np.std(ST_A)\n",
    "\n",
    "print(\"mean_rms_RF_N:\", mean_rms_RF_N)\n",
    "print(\"mean_rms_RF_A:\", mean_rms_RF_A)\n",
    "print(\"std_rms_RF_N:\", std_rms_RF_N)\n",
    "print(\"std_rms_RF_A:\", std_rms_RF_A)\n",
    "print(\"mean_rms_BF_N:\", mean_rms_BF_N)\n",
    "print(\"mean_rms_BF_A:\", mean_rms_BF_A)\n",
    "print(\"std_rms_BF_N:\", std_rms_BF_N)\n",
    "print(\"std_rms_BF_A:\", std_rms_BF_A)\n",
    "print(\"mean_rms_VS_N:\", mean_rms_VS_N)\n",
    "print(\"mean_rms_VS_A:\", mean_rms_VS_A)\n",
    "print(\"std_rms_VS_N:\", std_rms_VS_N)\n",
    "print(\"std_rms_VS_A:\", std_rms_VS_A)\n",
    "print(\"mean_rms_ST_N:\", mean_rms_ST_N)\n",
    "print(\"mean_rms_ST_A:\", mean_rms_ST_A)\n",
    "print(\"std_rms_ST_N:\", std_rms_ST_N)\n",
    "print(\"std_rms_ST_A:\", std_rms_ST_A)"
   ]
  },
  {
   "cell_type": "markdown",
   "metadata": {},
   "source": [
    "# RF"
   ]
  },
  {
   "cell_type": "code",
   "execution_count": null,
   "metadata": {},
   "outputs": [
    {
     "name": "stdout",
     "output_type": "stream",
     "text": [
      "RF_N :  [0.013118912587816216, 0.011989099105722989, 0.0063219366828871325, 0.017163573180874483, 0.003476513362448436, 0.0108693740196546, 0.04867456892766927, 0.004124416594369294, 0.019770378689596062, 0.024870026985753822, 0.13135748373952122]\n",
      "RF_A :  [0.06968718078366644, 0.11194817881316706, 0.006642725422981336, 0.05449113994338505, 0.014947503027849838, 0.07910655769617515, 0.07310593388051514, 0.015312117953951996, 0.0076218250058420565, 0.004541033503636486, 0.003751294126402017]\n",
      "mean_rms_RF_N: 0.026521480352392143\n",
      "mean_rms_RF_A: 0.040105044559779326\n",
      "std_rms_RF_N: 0.035282947118664504\n",
      "std_rms_RF_A: 0.03675786458752326\n"
     ]
    }
   ],
   "source": [
    "print(\"RF_N : \",RF_N)\n",
    "print(\"RF_A : \",RF_A)\n",
    "print(\"mean_rms_RF_N:\", mean_rms_RF_N)\n",
    "print(\"mean_rms_RF_A:\", mean_rms_RF_A)\n",
    "print(\"std_rms_RF_N:\", std_rms_RF_N)\n",
    "print(\"std_rms_RF_A:\", std_rms_RF_A)"
   ]
  },
  {
   "cell_type": "code",
   "execution_count": 8,
   "metadata": {},
   "outputs": [
    {
     "name": "stderr",
     "output_type": "stream",
     "text": [
      "C:\\Users\\hoste\\AppData\\Local\\Temp\\ipykernel_18520\\2638405872.py:3: MatplotlibDeprecationWarning: The 'labels' parameter of boxplot() has been renamed 'tick_labels' since Matplotlib 3.9; support for the old name will be dropped in 3.11.\n",
      "  plt.boxplot([RF_A, RF_N], labels=['RF_A', 'RF_N'])\n"
     ]
    }
   ],
   "source": [
    "#Boxplot des deux groupes\n",
    "plt.figure(figsize=(10, 6))\n",
    "plt.boxplot([RF_A, RF_N], labels=['RF_A', 'RF_N'])\n",
    "plt.title('Boxplot du RMS moyen (RF)')\n",
    "plt.ylabel('RMS moyen (RF)')\n",
    "plt.grid(True)\n",
    "plt.savefig(\"graph_analyse/boxplot_RMS_RF.png\", dpi=300, bbox_inches='tight')\n",
    "plt.show()\n",
    "\n",
    "#Histogramme des deux groupes\n",
    "plt.figure(figsize=(10, 6))\n",
    "plt.hist(RF_A, bins=10, alpha=0.5, label='RF_A', color='blue')\n",
    "plt.hist(RF_N, bins=10, alpha=0.5, label='RF_N', color='orange')\n",
    "plt.title('Histogramme du RMS moyen (RF)')\n",
    "plt.xlabel('RMS moyen (RF)')\n",
    "plt.ylabel('Fréquence')\n",
    "sns.kdeplot(RF_A, color='blue', label='Densité RF_A', linewidth=2)\n",
    "sns.kdeplot(RF_N, color='orange', label='Densité RF_N', linewidth=2)\n",
    "plt.legend()\n",
    "plt.grid(True)\n",
    "plt.savefig(\"graph_analyse/histogramme_RMS_RF.png\", dpi=300, bbox_inches='tight')\n",
    "plt.show()"
   ]
  },
  {
   "cell_type": "code",
   "execution_count": 9,
   "metadata": {},
   "outputs": [
    {
     "name": "stdout",
     "output_type": "stream",
     "text": [
      "Statistique U : 50.0000\n",
      "P-valeur Mann-Whitney : 0.5114\n",
      "Aucune différence significative entre les groupes\n"
     ]
    }
   ],
   "source": [
    "# Test de Mann-Whitney\n",
    "stat, p_value = stats.mannwhitneyu(RF_N, RF_A, alternative='two-sided')\n",
    "\n",
    "print(f\"Statistique U : {stat:.4f}\")\n",
    "print(f\"P-valeur Mann-Whitney : {p_value:.4f}\")\n",
    "\n",
    "alpha = 0.05  # Seuil de signification\n",
    "if p_value < alpha:\n",
    "    print(\"Différence significative entre les deux groupes\")\n",
    "else:\n",
    "    print(\"Aucune différence significative entre les groupes\")"
   ]
  },
  {
   "cell_type": "markdown",
   "metadata": {},
   "source": [
    "# BF"
   ]
  },
  {
   "cell_type": "code",
   "execution_count": 10,
   "metadata": {},
   "outputs": [
    {
     "name": "stdout",
     "output_type": "stream",
     "text": [
      "BF_N :  [0.006841166114195083, 0.014330603252029256, 0.012997899313212354, 0.04244288938063007, 0.02620139285627826, 0.012758828018601849, 0.022253445372219245, 0.01980868054802072, 0.04651572988725122, 0.01116573160706482, 0.011115543658551523]\n",
      "BF_A :  [0.022232547901254514, 0.037605756332794275, 0.017356519662898657, 0.023621204246814863, 0.018029156115575935, 0.020216043872881555, 0.014416010843897292, 0.03425913006823489, 0.00882726092036399, 0.009850079039675485, 0.01216122219027875]\n",
      "mean_rms_BF_N: 0.02058471909164131\n",
      "mean_rms_BF_A: 0.019870448290424562\n",
      "std_rms_BF_N: 0.012469297071743652\n",
      "std_rms_BF_A: 0.008855380860007471\n"
     ]
    }
   ],
   "source": [
    "print(\"BF_N : \",BF_N)\n",
    "print(\"BF_A : \",BF_A)\n",
    "print(\"mean_rms_BF_N:\", mean_rms_BF_N)\n",
    "print(\"mean_rms_BF_A:\", mean_rms_BF_A)\n",
    "print(\"std_rms_BF_N:\", std_rms_BF_N)\n",
    "print(\"std_rms_BF_A:\", std_rms_BF_A)"
   ]
  },
  {
   "cell_type": "code",
   "execution_count": 11,
   "metadata": {},
   "outputs": [
    {
     "name": "stderr",
     "output_type": "stream",
     "text": [
      "C:\\Users\\hoste\\AppData\\Local\\Temp\\ipykernel_18520\\477609610.py:3: MatplotlibDeprecationWarning: The 'labels' parameter of boxplot() has been renamed 'tick_labels' since Matplotlib 3.9; support for the old name will be dropped in 3.11.\n",
      "  plt.boxplot([BF_A, BF_N], labels=['BF_A', 'BF_N'])\n"
     ]
    }
   ],
   "source": [
    "#Boxplot des deux groupes\n",
    "plt.figure(figsize=(10, 6))\n",
    "plt.boxplot([BF_A, BF_N], labels=['BF_A', 'BF_N'])\n",
    "plt.title('Boxplot du RMS moyen (BF)')\n",
    "plt.ylabel('RMS moyen (BF)')\n",
    "plt.grid(True)\n",
    "plt.savefig(\"graph_analyse/boxplot_RMS_BF.png\", dpi=300, bbox_inches='tight')\n",
    "plt.show()\n",
    "\n",
    "#Histogramme des deux groupes\n",
    "plt.figure(figsize=(10, 6))\n",
    "plt.hist(BF_A, bins=10, alpha=0.5, label='RF_A', color='blue')\n",
    "plt.hist(BF_N, bins=10, alpha=0.5, label='RF_N', color='orange')\n",
    "plt.title('Histogramme du RMS moyen (BF)')\n",
    "plt.xlabel('RMS moyen (BF)')\n",
    "plt.ylabel('Fréquence')\n",
    "sns.kdeplot(BF_A, color='blue', label='Densité BF_A', linewidth=2)\n",
    "sns.kdeplot(BF_N, color='orange', label='Densité BF_N', linewidth=2)\n",
    "plt.legend()\n",
    "plt.grid(True)\n",
    "plt.savefig(\"graph_analyse/histogramme_RMS_BF.png\", dpi=300, bbox_inches='tight')\n",
    "plt.show()"
   ]
  },
  {
   "cell_type": "code",
   "execution_count": 12,
   "metadata": {},
   "outputs": [
    {
     "name": "stdout",
     "output_type": "stream",
     "text": [
      "Statistique U : 58.0000\n",
      "P-valeur Mann-Whitney : 0.8955\n",
      "Aucune différence significative entre les groupes\n"
     ]
    }
   ],
   "source": [
    "# Test de Mann-Whitney\n",
    "stat, p_value = stats.mannwhitneyu(BF_N, BF_A, alternative='two-sided')\n",
    "\n",
    "print(f\"Statistique U : {stat:.4f}\")\n",
    "print(f\"P-valeur Mann-Whitney : {p_value:.4f}\")\n",
    "\n",
    "alpha = 0.05  # Seuil de signification\n",
    "if p_value < alpha:\n",
    "    print(\"Différence significative entre les deux groupes\")\n",
    "else:\n",
    "    print(\"Aucune différence significative entre les groupes\")"
   ]
  },
  {
   "cell_type": "markdown",
   "metadata": {},
   "source": [
    "# VS"
   ]
  },
  {
   "cell_type": "code",
   "execution_count": 13,
   "metadata": {},
   "outputs": [
    {
     "name": "stdout",
     "output_type": "stream",
     "text": [
      "VS_N :  [0.01571112984237851, 0.01673453840987548, 0.007114831295351685, 0.02680634453040473, 0.003587394056001531, 0.014221819437101253, 0.06976599142585123, 0.01890875258157782, 0.007259082107535039, 0.016457383139822552, 0.24195520519840183]\n",
      "VS_A :  [0.04350199816336147, 0.1460071100563627, 0.09059395166818679, 0.062024733371722124, 0.02065979497432001, 0.05258844923828974, 0.12395283169564188, 0.12348590208505181, 0.008699311206706816, 0.005066966023898135, 0.013151561912780132]\n",
      "mean_rms_VS_N: 0.03986567927493652\n",
      "mean_rms_VS_A: 0.06270296458148378\n",
      "std_rms_VS_N: 0.06614028765852724\n",
      "std_rms_VS_A: 0.048707207401362154\n"
     ]
    }
   ],
   "source": [
    "print(\"VS_N : \",VS_N)\n",
    "print(\"VS_A : \",VS_A)\n",
    "print(\"mean_rms_VS_N:\", mean_rms_VS_N)\n",
    "print(\"mean_rms_VS_A:\", mean_rms_VS_A)\n",
    "print(\"std_rms_VS_N:\", std_rms_VS_N)\n",
    "print(\"std_rms_VS_A:\", std_rms_VS_A)"
   ]
  },
  {
   "cell_type": "code",
   "execution_count": 14,
   "metadata": {},
   "outputs": [
    {
     "name": "stderr",
     "output_type": "stream",
     "text": [
      "C:\\Users\\hoste\\AppData\\Local\\Temp\\ipykernel_18520\\2085910413.py:3: MatplotlibDeprecationWarning: The 'labels' parameter of boxplot() has been renamed 'tick_labels' since Matplotlib 3.9; support for the old name will be dropped in 3.11.\n",
      "  plt.boxplot([VS_A, VS_N], labels=['VS_A', 'VS_N'])\n"
     ]
    }
   ],
   "source": [
    "#Boxplot des deux groupes\n",
    "plt.figure(figsize=(10, 6))\n",
    "plt.boxplot([VS_A, VS_N], labels=['VS_A', 'VS_N'])\n",
    "plt.title('Boxplot du RMS moyen (VS)')\n",
    "plt.ylabel('RMS moyen (VS)')\n",
    "plt.grid(True)\n",
    "plt.savefig(\"graph_analyse/boxplot_RMS_VS.png\", dpi=300, bbox_inches='tight')\n",
    "plt.show()\n",
    "\n",
    "#Histogramme des deux groupes\n",
    "plt.figure(figsize=(10, 6))\n",
    "plt.hist(VS_A, bins=10, alpha=0.5, label='VS_A', color='blue')\n",
    "plt.hist(VS_N, bins=10, alpha=0.5, label='VS_N', color='orange')\n",
    "plt.title('Histogramme du RMS moyen (VS)')\n",
    "plt.xlabel('RMS moyen (VS)')\n",
    "plt.ylabel('Fréquence')\n",
    "sns.kdeplot(VS_A, color='blue', label='Densité VS_A', linewidth=2)\n",
    "sns.kdeplot(VS_N, color='orange', label='Densité VS_N', linewidth=2)\n",
    "plt.legend()\n",
    "plt.grid(True)\n",
    "plt.savefig(\"graph_analyse/histogramme_RMS_VS.png\", dpi=300, bbox_inches='tight')\n",
    "plt.show()"
   ]
  },
  {
   "cell_type": "code",
   "execution_count": 15,
   "metadata": {},
   "outputs": [
    {
     "name": "stdout",
     "output_type": "stream",
     "text": [
      "Statistique U : 39.0000\n",
      "P-valeur Mann-Whitney : 0.1679\n",
      "Aucune différence significative entre les groupes\n"
     ]
    }
   ],
   "source": [
    "# Test de Mann-Whitney\n",
    "stat, p_value = stats.mannwhitneyu(VS_N, VS_A, alternative='two-sided')\n",
    "\n",
    "print(f\"Statistique U : {stat:.4f}\")\n",
    "print(f\"P-valeur Mann-Whitney : {p_value:.4f}\")\n",
    "\n",
    "alpha = 0.05  # Seuil de signification\n",
    "if p_value < alpha:\n",
    "    print(\"Différence significative entre les deux groupes\")\n",
    "else:\n",
    "    print(\"Aucune différence significative entre les groupes\")"
   ]
  },
  {
   "cell_type": "markdown",
   "metadata": {},
   "source": [
    "# ST"
   ]
  },
  {
   "cell_type": "code",
   "execution_count": 16,
   "metadata": {},
   "outputs": [
    {
     "name": "stdout",
     "output_type": "stream",
     "text": [
      "ST_N :  [0.009293660602499584, 0.018452978923185308, 0.01640207024457131, 0.036127811410746086, 0.029721585970397684, 0.009835447984245486, 0.07621910682381235, 0.03298783099146923, 0.015860352561662277, 0.013845043634387148, 0.03932996631647724]\n",
      "ST_A :  [0.015327405634476276, 0.02690679793584856, 0.024530257497755562, 0.07689232060951942, 0.04324835063954012, 0.02462807728686179, 0.037799368611433175, 0.02108422083011528, 0.019120904642708166, 0.014467114382880992, 0.013476545363885336]\n",
      "mean_rms_ST_N: 0.02709780504213215\n",
      "mean_rms_ST_A: 0.028861942130456786\n",
      "std_rms_ST_N: 0.01856602473806381\n",
      "std_rms_ST_A: 0.01762426330762006\n"
     ]
    }
   ],
   "source": [
    "print(\"ST_N : \",ST_N)\n",
    "print(\"ST_A : \",ST_A)\n",
    "print(\"mean_rms_ST_N:\", mean_rms_ST_N)\n",
    "print(\"mean_rms_ST_A:\", mean_rms_ST_A)\n",
    "print(\"std_rms_ST_N:\", std_rms_ST_N)\n",
    "print(\"std_rms_ST_A:\", std_rms_ST_A)"
   ]
  },
  {
   "cell_type": "code",
   "execution_count": 17,
   "metadata": {},
   "outputs": [
    {
     "name": "stderr",
     "output_type": "stream",
     "text": [
      "C:\\Users\\hoste\\AppData\\Local\\Temp\\ipykernel_18520\\1756651842.py:3: MatplotlibDeprecationWarning: The 'labels' parameter of boxplot() has been renamed 'tick_labels' since Matplotlib 3.9; support for the old name will be dropped in 3.11.\n",
      "  plt.boxplot([ST_A, ST_N], labels=['ST_A', 'ST_N'])\n"
     ]
    }
   ],
   "source": [
    "#Boxplot des deux groupes\n",
    "plt.figure(figsize=(10, 6))\n",
    "plt.boxplot([ST_A, ST_N], labels=['ST_A', 'ST_N'])\n",
    "plt.title('Boxplot du RMS moyen (ST)')\n",
    "plt.ylabel('RMS moyen (ST)')\n",
    "plt.grid(True)\n",
    "plt.savefig(\"graph_analyse/boxplot_RMS_ST.png\", dpi=300, bbox_inches='tight')\n",
    "plt.show()\n",
    "\n",
    "#Histogramme des deux groupes\n",
    "plt.figure(figsize=(10, 6))\n",
    "plt.hist(ST_A, bins=10, alpha=0.5, label='ST_A', color='blue')\n",
    "plt.hist(ST_N, bins=10, alpha=0.5, label='ST_N', color='orange')\n",
    "plt.title('Histogramme du RMS moyen (ST)')\n",
    "plt.xlabel('RMS moyen (ST)')\n",
    "plt.ylabel('Fréquence')\n",
    "sns.kdeplot(ST_A, color='blue', label='Densité ST_A', linewidth=2)\n",
    "sns.kdeplot(ST_N, color='orange', label='Densité ST_N', linewidth=2)\n",
    "plt.legend()\n",
    "plt.grid(True)\n",
    "plt.savefig(\"graph_analyse/histogramme_RMS_ST.png\", dpi=300, bbox_inches='tight')\n",
    "plt.show()"
   ]
  },
  {
   "cell_type": "code",
   "execution_count": 18,
   "metadata": {},
   "outputs": [
    {
     "name": "stdout",
     "output_type": "stream",
     "text": [
      "Statistique U : 53.0000\n",
      "P-valeur Mann-Whitney : 0.6458\n",
      "Aucune différence significative entre les groupes\n"
     ]
    }
   ],
   "source": [
    "# Test de Mann-Whitney\n",
    "stat, p_value = stats.mannwhitneyu(ST_N, ST_A, alternative='two-sided')\n",
    "\n",
    "print(f\"Statistique U : {stat:.4f}\")\n",
    "print(f\"P-valeur Mann-Whitney : {p_value:.4f}\")\n",
    "\n",
    "alpha = 0.05  # Seuil de signification\n",
    "if p_value < alpha:\n",
    "    print(\"Différence significative entre les deux groupes\")\n",
    "else:\n",
    "    print(\"Aucune différence significative entre les groupes\")"
   ]
  }
 ],
 "metadata": {
  "kernelspec": {
   "display_name": "MY_HUGO_SAUNIER",
   "language": "python",
   "name": "python3"
  },
  "language_info": {
   "codemirror_mode": {
    "name": "ipython",
    "version": 3
   },
   "file_extension": ".py",
   "mimetype": "text/x-python",
   "name": "python",
   "nbconvert_exporter": "python",
   "pygments_lexer": "ipython3",
   "version": "3.12.5"
  }
 },
 "nbformat": 4,
 "nbformat_minor": 2
}
