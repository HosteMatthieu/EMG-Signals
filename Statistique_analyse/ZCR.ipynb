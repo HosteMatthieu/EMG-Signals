{
 "cells": [
  {
   "cell_type": "code",
   "execution_count": 1,
   "id": "e80a75a6",
   "metadata": {},
   "outputs": [],
   "source": [
    "from import_all import *"
   ]
  },
  {
   "cell_type": "code",
   "execution_count": 2,
   "id": "2b1b2211",
   "metadata": {},
   "outputs": [
    {
     "name": "stdout",
     "output_type": "stream",
     "text": [
      "Notebook 1Nmar.ipynb imported successfully.\n",
      "Notebook 2Nmar.ipynb imported successfully.\n",
      "Notebook 3Nmar.ipynb imported successfully.\n",
      "Notebook 4Nmar.ipynb imported successfully.\n",
      "Notebook 5Nmar.ipynb imported successfully.\n",
      "Notebook 6Nmar.ipynb imported successfully.\n",
      "Notebook 7Nmar.ipynb imported successfully.\n",
      "Notebook 8Nmar.ipynb imported successfully.\n",
      "Notebook 9Nmar.ipynb imported successfully.\n",
      "Notebook 10Nmar.ipynb imported successfully.\n",
      "Notebook 11Nmar.ipynb imported successfully.\n",
      "Notebook 1Amar.ipynb imported successfully.\n",
      "Notebook 2Amar.ipynb imported successfully.\n",
      "Notebook 3Amar.ipynb imported successfully.\n",
      "Notebook 4Amar.ipynb imported successfully.\n",
      "Notebook 5Amar.ipynb imported successfully.\n",
      "Notebook 6Amar.ipynb imported successfully.\n",
      "Notebook 7Amar.ipynb imported successfully.\n",
      "Notebook 8Amar.ipynb imported successfully.\n",
      "Notebook 9Amar.ipynb imported successfully.\n",
      "Notebook 10Amar.ipynb imported successfully.\n",
      "Notebook 11Amar.ipynb imported successfully.\n"
     ]
    }
   ],
   "source": [
    "# List of .ipynb files to process\n",
    "notebook_files_N = [f\"{i}Nmar.ipynb\" for i in range(1, 12)]\n",
    "notebook_files_A = [f\"{i}Amar.ipynb\" for i in range(1, 12)]\n",
    "\n",
    "\n",
    "results = {}\n",
    "\n",
    "for file_name in notebook_files_N:\n",
    "    try:\n",
    "        # Load the .ipynb file\n",
    "        with open(\"../Normal_analyse/\"+file_name, 'r', encoding='utf-8') as f:\n",
    "            notebook = read(f, as_version=4)\n",
    "        print(f\"Notebook {file_name} imported successfully.\")\n",
    "    except FileNotFoundError:\n",
    "        print(f\"Error: The file '{file_name}' was not found. Please ensure it exists in the current directory.\")\n",
    "        continue\n",
    "\n",
    "    # Dictionnaire pour stocker les variables\n",
    "    global_vars = {}\n",
    "\n",
    "    # Sauvegarde stdout et stderr pour masquer l'affichage\n",
    "    stdout_backup = sys.stdout\n",
    "    stderr_backup = sys.stderr\n",
    "    sys.stdout = io.StringIO()  # Capture la sortie standard\n",
    "    sys.stderr = io.StringIO()  # Capture les erreurs\n",
    "\n",
    "    # Désactiver l'affichage interactif de Matplotlib\n",
    "    plt.ioff()\n",
    "\n",
    "    # Redéfinir `plt.show()` et `display()` pour bloquer les affichages\n",
    "    with patch(\"matplotlib.pyplot.show\"), patch(\"IPython.display.display\"):\n",
    "        # Exécuter toutes les cellules de code sans affichage\n",
    "        for cell in notebook.cells:\n",
    "            if cell.cell_type == \"code\":\n",
    "                exec(cell.source, global_vars)\n",
    "\n",
    "    # Rétablir la sortie normale\n",
    "    sys.stdout = stdout_backup\n",
    "    sys.stderr = stderr_backup\n",
    "    plt.ion()  # Réactiver l'affichage interactif\n",
    "    plt.close(\"all\")  # Fermer toutes les figures en mémoire\n",
    "\n",
    "    # Récupérer les données\n",
    "    zcr_RF = global_vars.get(\"zcr_RF\", \"Variable non trouvée\")\n",
    "    zcr_BF = global_vars.get(\"zcr_BF\", \"Variable non trouvée\")\n",
    "    zcr_VS = global_vars.get(\"zcr_VM\", \"Variable non trouvée\")\n",
    "    zcr_ST = global_vars.get(\"zcr_ST\", \"Variable non trouvée\")\n",
    "\n",
    "    results[\"RF_\"+file_name] = zcr_RF\n",
    "    results[\"BF_\"+file_name] = zcr_BF\n",
    "    results[\"VS_\"+file_name] = zcr_VS\n",
    "    results[\"ST_\"+file_name] = zcr_ST\n",
    "\n",
    "\n",
    "for file_name in notebook_files_A:\n",
    "    try:\n",
    "        # Load the .ipynb file\n",
    "        with open(\"../Patient_analyse/\"+file_name, 'r', encoding='utf-8') as f:\n",
    "            notebook = read(f, as_version=4)\n",
    "        print(f\"Notebook {file_name} imported successfully.\")\n",
    "    except FileNotFoundError:\n",
    "        print(f\"Error: The file '{file_name}' was not found. Please ensure it exists in the current directory.\")\n",
    "        continue\n",
    "\n",
    "    # Dictionnaire pour stocker les variables\n",
    "    global_vars = {}\n",
    "\n",
    "    # Sauvegarde stdout et stderr pour masquer l'affichage\n",
    "    stdout_backup = sys.stdout\n",
    "    stderr_backup = sys.stderr\n",
    "    sys.stdout = io.StringIO()  # Capture la sortie standard\n",
    "    sys.stderr = io.StringIO()  # Capture les erreurs\n",
    "\n",
    "    # Désactiver l'affichage interactif de Matplotlib\n",
    "    plt.ioff()\n",
    "\n",
    "    # Redéfinir `plt.show()` et `display()` pour bloquer les affichages\n",
    "    with patch(\"matplotlib.pyplot.show\"), patch(\"IPython.display.display\"):\n",
    "        # Exécuter toutes les cellules de code sans affichage\n",
    "        for cell in notebook.cells:\n",
    "            if cell.cell_type == \"code\":\n",
    "                exec(cell.source, global_vars)\n",
    "\n",
    "    # Rétablir la sortie normale\n",
    "    sys.stdout = stdout_backup\n",
    "    sys.stderr = stderr_backup\n",
    "    plt.ion()  # Réactiver l'affichage interactif\n",
    "    plt.close(\"all\")  # Fermer toutes les figures en mémoire\n",
    "\n",
    "    # Récupérer les données\n",
    "    zcr_RF = global_vars.get(\"zcr_RF\", \"Variable non trouvée\")\n",
    "    zcr_BF = global_vars.get(\"zcr_BF\", \"Variable non trouvée\")\n",
    "    zcr_VS = global_vars.get(\"zcr_VM\", \"Variable non trouvée\")\n",
    "    zcr_ST = global_vars.get(\"zcr_ST\", \"Variable non trouvée\")\n",
    "\n",
    "    results[\"RF_\"+file_name] = zcr_RF\n",
    "    results[\"BF_\"+file_name] = zcr_BF\n",
    "    results[\"VS_\"+file_name] = zcr_VS\n",
    "    results[\"ST_\"+file_name] = zcr_ST\n"
   ]
  },
  {
   "cell_type": "code",
   "execution_count": 3,
   "id": "79971252",
   "metadata": {},
   "outputs": [
    {
     "name": "stdout",
     "output_type": "stream",
     "text": [
      "RF_1Nmar.ipynb: 0.1540221791938039\n",
      "BF_1Nmar.ipynb: 0.18817109663791587\n",
      "VS_1Nmar.ipynb: 0.13923604999119873\n",
      "ST_1Nmar.ipynb: 0.18394648829431437\n",
      "RF_2Nmar.ipynb: 0.15533586132177682\n",
      "BF_2Nmar.ipynb: 0.17565005417118093\n",
      "VS_2Nmar.ipynb: 0.12892741061755147\n",
      "ST_2Nmar.ipynb: 0.16495124593716143\n",
      "RF_3Nmar.ipynb: 0.18852932678416642\n",
      "BF_3Nmar.ipynb: 0.19676394105749784\n",
      "VS_3Nmar.ipynb: 0.16989309448136378\n",
      "ST_3Nmar.ipynb: 0.18419531927188673\n",
      "RF_4Nmar.ipynb: 0.2039351236373305\n",
      "BF_4Nmar.ipynb: 0.16112735974474873\n",
      "VS_4Nmar.ipynb: 0.1644509438978995\n",
      "ST_4Nmar.ipynb: 0.18346184525392184\n",
      "RF_5Nmar.ipynb: 0.2282492762456194\n",
      "BF_5Nmar.ipynb: 0.1877190309309767\n",
      "VS_5Nmar.ipynb: 0.1968611915282645\n",
      "ST_5Nmar.ipynb: 0.1537406673777236\n",
      "RF_6Nmar.ipynb: 0.19424657534246575\n",
      "BF_6Nmar.ipynb: 0.19123287671232878\n",
      "VS_6Nmar.ipynb: 0.1893150684931507\n",
      "ST_6Nmar.ipynb: 0.19712328767123288\n",
      "RF_7Nmar.ipynb: 0.10506935068123235\n",
      "BF_7Nmar.ipynb: 0.16349576531238494\n",
      "VS_7Nmar.ipynb: 0.10740149748373634\n",
      "ST_7Nmar.ipynb: 0.21087516877378176\n",
      "RF_8Nmar.ipynb: 0.20624254904085834\n",
      "BF_8Nmar.ipynb: 0.15606372602145877\n",
      "VS_8Nmar.ipynb: 0.15671399154654816\n",
      "ST_8Nmar.ipynb: 0.14414219139481954\n",
      "RF_9Nmar.ipynb: 0.18809657495788884\n",
      "BF_9Nmar.ipynb: 0.15534344001497286\n",
      "VS_9Nmar.ipynb: 0.191652629608834\n",
      "ST_9Nmar.ipynb: 0.18566348493355792\n",
      "RF_10Nmar.ipynb: 0.18870829769033362\n",
      "BF_10Nmar.ipynb: 0.22241231822070145\n",
      "VS_10Nmar.ipynb: 0.15192472198460222\n",
      "ST_10Nmar.ipynb: 0.18135158254918735\n",
      "RF_11Nmar.ipynb: 0.09490662139219015\n",
      "BF_11Nmar.ipynb: 0.22258064516129034\n",
      "VS_11Nmar.ipynb: 0.07707979626485569\n",
      "ST_11Nmar.ipynb: 0.2066213921901528\n",
      "RF_1Amar.ipynb: 0.11169351730517228\n",
      "BF_1Amar.ipynb: 0.1817621213289139\n",
      "VS_1Amar.ipynb: 0.12202266245278656\n",
      "ST_1Amar.ipynb: 0.1912433515763509\n",
      "RF_2Amar.ipynb: 0.08433408577878104\n",
      "BF_2Amar.ipynb: 0.16316027088036117\n",
      "VS_2Amar.ipynb: 0.08252821670428893\n",
      "ST_2Amar.ipynb: 0.14979683972911964\n",
      "RF_3Amar.ipynb: 0.17215160884003206\n",
      "BF_3Amar.ipynb: 0.19915263941371808\n",
      "VS_3Amar.ipynb: 0.08347646856750257\n",
      "ST_3Amar.ipynb: 0.20794686820107638\n",
      "RF_4Amar.ipynb: 0.09983375778155065\n",
      "BF_4Amar.ipynb: 0.16427914544425581\n",
      "VS_4Amar.ipynb: 0.10726160158460668\n",
      "ST_4Amar.ipynb: 0.22426782682512733\n",
      "RF_5Amar.ipynb: 0.12991638614398957\n",
      "BF_5Amar.ipynb: 0.19391899229015094\n",
      "VS_5Amar.ipynb: 0.13265283961342164\n",
      "ST_5Amar.ipynb: 0.23437941144532523\n",
      "RF_6Amar.ipynb: 0.13142323263780753\n",
      "BF_6Amar.ipynb: 0.17278495795702273\n",
      "VS_6Amar.ipynb: 0.1361336032388664\n",
      "ST_6Amar.ipynb: 0.2023512924322641\n",
      "RF_7Amar.ipynb: 0.08254372019077902\n",
      "BF_7Amar.ipynb: 0.17984101748807632\n",
      "VS_7Amar.ipynb: 0.06976152623211447\n",
      "ST_7Amar.ipynb: 0.18461049284578696\n",
      "RF_8Amar.ipynb: 0.15068224207323058\n",
      "BF_8Amar.ipynb: 0.18818101501914206\n",
      "VS_8Amar.ipynb: 0.10464317267105135\n",
      "ST_8Amar.ipynb: 0.1818984980857956\n",
      "RF_9Amar.ipynb: 0.21243765586034913\n",
      "BF_9Amar.ipynb: 0.2177057356608479\n",
      "VS_9Amar.ipynb: 0.19663341645885288\n",
      "ST_9Amar.ipynb: 0.2292705735660848\n",
      "RF_10Amar.ipynb: 0.2213487071977638\n",
      "BF_10Amar.ipynb: 0.19470649895178196\n",
      "VS_10Amar.ipynb: 0.2094689028651293\n",
      "ST_10Amar.ipynb: 0.21497204751921734\n",
      "RF_11Amar.ipynb: 0.2266250951673132\n",
      "BF_11Amar.ipynb: 0.19885436682014285\n",
      "VS_11Amar.ipynb: 0.11325816626182794\n",
      "ST_11Amar.ipynb: 0.19635282601602436\n"
     ]
    }
   ],
   "source": [
    "# Print results for all files\n",
    "for file_name, data in results.items():\n",
    "    print(f\"{file_name}: {data}\")"
   ]
  },
  {
   "cell_type": "code",
   "execution_count": 4,
   "id": "8c60122b",
   "metadata": {},
   "outputs": [
    {
     "name": "stdout",
     "output_type": "stream",
     "text": [
      "RF_N: [0.1540221791938039, 0.15533586132177682, 0.18852932678416642, 0.2039351236373305, 0.2282492762456194, 0.19424657534246575, 0.10506935068123235, 0.20624254904085834, 0.18809657495788884, 0.18870829769033362, 0.09490662139219015]\n",
      "RF_A: [0.11169351730517228, 0.08433408577878104, 0.17215160884003206, 0.09983375778155065, 0.12991638614398957, 0.13142323263780753, 0.08254372019077902, 0.15068224207323058, 0.21243765586034913, 0.2213487071977638, 0.2266250951673132]\n",
      "BF_N: [0.18817109663791587, 0.17565005417118093, 0.19676394105749784, 0.16112735974474873, 0.1877190309309767, 0.19123287671232878, 0.16349576531238494, 0.15606372602145877, 0.15534344001497286, 0.22241231822070145, 0.22258064516129034]\n",
      "BF_A: [0.1817621213289139, 0.16316027088036117, 0.19915263941371808, 0.16427914544425581, 0.19391899229015094, 0.17278495795702273, 0.17984101748807632, 0.18818101501914206, 0.2177057356608479, 0.19470649895178196, 0.19885436682014285]\n",
      "VS_N: [0.13923604999119873, 0.12892741061755147, 0.16989309448136378, 0.1644509438978995, 0.1968611915282645, 0.1893150684931507, 0.10740149748373634, 0.15671399154654816, 0.191652629608834, 0.15192472198460222, 0.07707979626485569]\n",
      "VS_A: [0.12202266245278656, 0.08252821670428893, 0.08347646856750257, 0.10726160158460668, 0.13265283961342164, 0.1361336032388664, 0.06976152623211447, 0.10464317267105135, 0.19663341645885288, 0.2094689028651293, 0.11325816626182794]\n",
      "ST_N: [0.18394648829431437, 0.16495124593716143, 0.18419531927188673, 0.18346184525392184, 0.1537406673777236, 0.19712328767123288, 0.21087516877378176, 0.14414219139481954, 0.18566348493355792, 0.18135158254918735, 0.2066213921901528]\n",
      "ST_A: [0.1912433515763509, 0.14979683972911964, 0.20794686820107638, 0.22426782682512733, 0.23437941144532523, 0.2023512924322641, 0.18461049284578696, 0.1818984980857956, 0.2292705735660848, 0.21497204751921734, 0.19635282601602436]\n"
     ]
    }
   ],
   "source": [
    "RF_N=[]\n",
    "RF_A=[]\n",
    "BF_N=[]\n",
    "BF_A=[]\n",
    "VS_N=[]\n",
    "VS_A=[]\n",
    "ST_N=[]\n",
    "ST_A=[]\n",
    "\n",
    "for file_name, data in results.items():\n",
    "    if file_name.startswith('RF_1Amar') or file_name.startswith('RF_2Amar') or file_name.startswith('RF_3Amar') or file_name.startswith('RF_4Amar') or file_name.startswith('RF_5Amar') or file_name.startswith('RF_6Amar') or file_name.startswith('RF_7Amar') or file_name.startswith('RF_8Amar') or file_name.startswith('RF_9Amar') or file_name.startswith('RF_10Amar') or file_name.startswith('RF_11Amar'):\n",
    "        RF_A.append(float(data))\n",
    "    elif file_name.startswith('RF_1Nmar') or file_name.startswith('RF_2Nmar') or file_name.startswith('RF_3Nmar') or file_name.startswith('RF_4Nmar') or file_name.startswith('RF_5Nmar') or file_name.startswith('RF_6Nmar') or file_name.startswith('RF_7Nmar') or file_name.startswith('RF_8Nmar') or file_name.startswith('RF_9Nmar') or file_name.startswith('RF_10Nmar') or file_name.startswith('RF_11Nmar'):\n",
    "        RF_N.append(float(data))\n",
    "    elif file_name.startswith('BF_1Amar') or file_name.startswith('BF_2Amar') or file_name.startswith('BF_3Amar') or file_name.startswith('BF_4Amar') or file_name.startswith('BF_5Amar') or file_name.startswith('BF_6Amar') or file_name.startswith('BF_7Amar') or file_name.startswith('BF_8Amar') or file_name.startswith('BF_9Amar') or file_name.startswith('BF_10Amar') or file_name.startswith('BF_11Amar'):\n",
    "        BF_A.append(float(data))\n",
    "    elif file_name.startswith('BF_1Nmar') or file_name.startswith('BF_2Nmar') or file_name.startswith('BF_3Nmar') or file_name.startswith('BF_4Nmar') or file_name.startswith('BF_5Nmar') or file_name.startswith('BF_6Nmar') or file_name.startswith('BF_7Nmar') or file_name.startswith('BF_8Nmar') or file_name.startswith('BF_9Nmar') or file_name.startswith('BF_10Nmar') or file_name.startswith('BF_11Nmar'):\n",
    "        BF_N.append(float(data))\n",
    "    elif file_name.startswith('VS_1Amar') or file_name.startswith('VS_2Amar') or file_name.startswith('VS_3Amar') or file_name.startswith('VS_4Amar') or file_name.startswith('VS_5Amar') or file_name.startswith('VS_6Amar') or file_name.startswith('VS_7Amar') or file_name.startswith('VS_8Amar') or file_name.startswith('VS_9Amar') or file_name.startswith('VS_10Amar') or file_name.startswith('VS_11Amar'):\n",
    "        VS_A.append(float(data))\n",
    "    elif file_name.startswith('VS_1Nmar') or file_name.startswith('VS_2Nmar') or file_name.startswith('VS_3Nmar') or file_name.startswith('VS_4Nmar') or file_name.startswith('VS_5Nmar') or file_name.startswith('VS_6Nmar') or file_name.startswith('VS_7Nmar') or file_name.startswith('VS_8Nmar') or file_name.startswith('VS_9Nmar') or file_name.startswith('VS_10Nmar') or file_name.startswith('VS_11Nmar'):\n",
    "        VS_N.append(float(data))\n",
    "    elif file_name.startswith('ST_1Amar') or file_name.startswith('ST_2Amar') or file_name.startswith('ST_3Amar') or file_name.startswith('ST_4Amar') or file_name.startswith('ST_5Amar') or file_name.startswith('ST_6Amar') or file_name.startswith('ST_7Amar') or file_name.startswith('ST_8Amar') or file_name.startswith('ST_9Amar') or file_name.startswith('ST_10Amar') or file_name.startswith('ST_11Amar'):\n",
    "        ST_A.append(float(data))\n",
    "    elif file_name.startswith('ST_1Nmar') or file_name.startswith('ST_2Nmar') or file_name.startswith('ST_3Nmar') or file_name.startswith('ST_4Nmar') or file_name.startswith('ST_5Nmar') or file_name.startswith('ST_6Nmar') or file_name.startswith('ST_7Nmar') or file_name.startswith('ST_8Nmar') or file_name.startswith('ST_9Nmar') or file_name.startswith('ST_10Nmar') or file_name.startswith('ST_11Nmar'):\n",
    "        ST_N.append(float(data))\n",
    "\n",
    "print(\"RF_N:\", RF_N)\n",
    "print(\"RF_A:\", RF_A)\n",
    "print(\"BF_N:\", BF_N)\n",
    "print(\"BF_A:\", BF_A)\n",
    "print(\"VS_N:\", VS_N)\n",
    "print(\"VS_A:\", VS_A)\n",
    "print(\"ST_N:\", ST_N)\n",
    "print(\"ST_A:\", ST_A)"
   ]
  },
  {
   "cell_type": "code",
   "execution_count": 5,
   "id": "691eda53",
   "metadata": {},
   "outputs": [
    {
     "name": "stdout",
     "output_type": "stream",
     "text": [
      "mean_rms_RF_N: 0.17339470329887874\n",
      "mean_rms_RF_A: 0.14754454627061533\n",
      "std_rms_RF_N: 0.04007422691616086\n",
      "std_rms_RF_A: 0.05123935794157304\n",
      "mean_rms_BF_N: 0.18368729581685975\n",
      "mean_rms_BF_A: 0.18675879647767396\n",
      "std_rms_BF_N: 0.023010462888869196\n",
      "std_rms_BF_A: 0.015679737956858775\n",
      "mean_rms_VS_N: 0.15213239962709138\n",
      "mean_rms_VS_A: 0.12344005242276807\n",
      "std_rms_VS_N: 0.035383382621071886\n",
      "std_rms_VS_A: 0.04250906705200681\n",
      "mean_rms_ST_N: 0.18146115214979455\n",
      "mean_rms_ST_A: 0.2015536389311066\n",
      "std_rms_ST_N: 0.019569360554748068\n",
      "std_rms_ST_A: 0.02348842841584915\n"
     ]
    }
   ],
   "source": [
    "mean_zcr_RF_N = np.mean(RF_N)\n",
    "mean_zcr_RF_A = np.mean(RF_A)\n",
    "mean_zcr_BF_N = np.mean(BF_N)\n",
    "mean_zcr_BF_A = np.mean(BF_A)\n",
    "mean_zcr_VS_N = np.mean(VS_N)\n",
    "mean_zcr_VS_A = np.mean(VS_A)\n",
    "mean_zcr_ST_N = np.mean(ST_N)\n",
    "mean_zcr_ST_A = np.mean(ST_A)\n",
    "\n",
    "std_zcr_RF_N = np.std(RF_N)\n",
    "std_zcr_RF_A = np.std(RF_A)\n",
    "std_zcr_BF_N = np.std(BF_N)\n",
    "std_zcr_BF_A = np.std(BF_A)\n",
    "std_zcr_VS_N = np.std(VS_N)\n",
    "std_zcr_VS_A = np.std(VS_A)\n",
    "std_zcr_ST_N = np.std(ST_N)\n",
    "std_zcr_ST_A = np.std(ST_A)\n",
    "\n",
    "print(\"mean_rms_RF_N:\", mean_zcr_RF_N)\n",
    "print(\"mean_rms_RF_A:\", mean_zcr_RF_A)\n",
    "print(\"std_rms_RF_N:\", std_zcr_RF_N)\n",
    "print(\"std_rms_RF_A:\", std_zcr_RF_A)\n",
    "print(\"mean_rms_BF_N:\", mean_zcr_BF_N)\n",
    "print(\"mean_rms_BF_A:\", mean_zcr_BF_A)\n",
    "print(\"std_rms_BF_N:\", std_zcr_BF_N)\n",
    "print(\"std_rms_BF_A:\", std_zcr_BF_A)\n",
    "print(\"mean_rms_VS_N:\", mean_zcr_VS_N)\n",
    "print(\"mean_rms_VS_A:\", mean_zcr_VS_A)\n",
    "print(\"std_rms_VS_N:\", std_zcr_VS_N)\n",
    "print(\"std_rms_VS_A:\", std_zcr_VS_A)\n",
    "print(\"mean_rms_ST_N:\", mean_zcr_ST_N)\n",
    "print(\"mean_rms_ST_A:\", mean_zcr_ST_A)\n",
    "print(\"std_rms_ST_N:\", std_zcr_ST_N)\n",
    "print(\"std_rms_ST_A:\", std_zcr_ST_A)"
   ]
  },
  {
   "cell_type": "markdown",
   "id": "4dd5bdea",
   "metadata": {},
   "source": [
    "# RF"
   ]
  },
  {
   "cell_type": "code",
   "execution_count": 6,
   "id": "a218c6bd",
   "metadata": {},
   "outputs": [
    {
     "name": "stdout",
     "output_type": "stream",
     "text": [
      "RF_N :  [0.1540221791938039, 0.15533586132177682, 0.18852932678416642, 0.2039351236373305, 0.2282492762456194, 0.19424657534246575, 0.10506935068123235, 0.20624254904085834, 0.18809657495788884, 0.18870829769033362, 0.09490662139219015]\n",
      "RF_A :  [0.11169351730517228, 0.08433408577878104, 0.17215160884003206, 0.09983375778155065, 0.12991638614398957, 0.13142323263780753, 0.08254372019077902, 0.15068224207323058, 0.21243765586034913, 0.2213487071977638, 0.2266250951673132]\n",
      "mean_rms_RF_N: 0.17339470329887874\n",
      "mean_rms_RF_A: 0.14754454627061533\n",
      "std_rms_RF_N: 0.04007422691616086\n",
      "std_rms_RF_A: 0.05123935794157304\n"
     ]
    }
   ],
   "source": [
    "print(\"RF_N : \",RF_N)\n",
    "print(\"RF_A : \",RF_A)\n",
    "print(\"mean_rms_RF_N:\", mean_zcr_RF_N)\n",
    "print(\"mean_rms_RF_A:\", mean_zcr_RF_A)\n",
    "print(\"std_rms_RF_N:\", std_zcr_RF_N)\n",
    "print(\"std_rms_RF_A:\", std_zcr_RF_A)"
   ]
  },
  {
   "cell_type": "code",
   "execution_count": 7,
   "id": "555a83da",
   "metadata": {},
   "outputs": [
    {
     "name": "stderr",
     "output_type": "stream",
     "text": [
      "C:\\Users\\hoste\\AppData\\Local\\Temp\\ipykernel_59032\\2915809612.py:3: MatplotlibDeprecationWarning: The 'labels' parameter of boxplot() has been renamed 'tick_labels' since Matplotlib 3.9; support for the old name will be dropped in 3.11.\n",
      "  plt.boxplot([RF_A, RF_N], labels=['RF_A', 'RF_N'])\n"
     ]
    }
   ],
   "source": [
    "#Boxplot des deux groupes\n",
    "plt.figure(figsize=(10, 6))\n",
    "plt.boxplot([RF_A, RF_N], labels=['RF_A', 'RF_N'])\n",
    "plt.title('Boxplot du ZCR (RF)')\n",
    "plt.ylabel('ZCR (RF)')\n",
    "plt.grid(True)\n",
    "plt.savefig(\"graph_analyse/boxplot_ZCR_RF.png\", dpi=300, bbox_inches='tight')\n",
    "plt.show()\n",
    "\n",
    "#Histogramme des deux groupes\n",
    "plt.figure(figsize=(10, 6))\n",
    "plt.hist(RF_A, bins=10, alpha=0.5, label='RF_A', color='blue')\n",
    "plt.hist(RF_N, bins=10, alpha=0.5, label='RF_N', color='orange')\n",
    "plt.title('Histogramme du ZCR (RF)')\n",
    "plt.xlabel('ZCR (RF)')\n",
    "plt.ylabel('Fréquence')\n",
    "sns.kdeplot(RF_A, color='blue', label='Densité RF_A', linewidth=2)\n",
    "sns.kdeplot(RF_N, color='orange', label='Densité RF_N', linewidth=2)\n",
    "plt.legend()\n",
    "plt.grid(True)\n",
    "plt.savefig(\"graph_analyse/histogramme_ZCR_RF.png\", dpi=300, bbox_inches='tight')\n",
    "plt.show()"
   ]
  },
  {
   "cell_type": "code",
   "execution_count": 8,
   "id": "59b8b1c0",
   "metadata": {},
   "outputs": [
    {
     "name": "stdout",
     "output_type": "stream",
     "text": [
      "Statistique U : 78.0000\n",
      "P-valeur Mann-Whitney : 0.2643\n",
      "Aucune différence significative entre les groupes\n"
     ]
    }
   ],
   "source": [
    "# Test de Mann-Whitney\n",
    "stat, p_value = stats.mannwhitneyu(RF_N, RF_A, alternative='two-sided')\n",
    "\n",
    "print(f\"Statistique U : {stat:.4f}\")\n",
    "print(f\"P-valeur Mann-Whitney : {p_value:.4f}\")\n",
    "\n",
    "alpha = 0.05  # Seuil de signification\n",
    "if p_value < alpha:\n",
    "    print(\"Différence significative entre les deux groupes\")\n",
    "else:\n",
    "    print(\"Aucune différence significative entre les groupes\")"
   ]
  },
  {
   "cell_type": "markdown",
   "id": "4b6bbcda",
   "metadata": {},
   "source": [
    "# BF"
   ]
  },
  {
   "cell_type": "code",
   "execution_count": 9,
   "id": "fa50da17",
   "metadata": {},
   "outputs": [
    {
     "name": "stdout",
     "output_type": "stream",
     "text": [
      "BF_N :  [0.18817109663791587, 0.17565005417118093, 0.19676394105749784, 0.16112735974474873, 0.1877190309309767, 0.19123287671232878, 0.16349576531238494, 0.15606372602145877, 0.15534344001497286, 0.22241231822070145, 0.22258064516129034]\n",
      "BF_A :  [0.1817621213289139, 0.16316027088036117, 0.19915263941371808, 0.16427914544425581, 0.19391899229015094, 0.17278495795702273, 0.17984101748807632, 0.18818101501914206, 0.2177057356608479, 0.19470649895178196, 0.19885436682014285]\n",
      "mean_rms_BF_N: 0.18368729581685975\n",
      "mean_rms_BF_A: 0.18675879647767396\n",
      "std_rms_BF_N: 0.023010462888869196\n",
      "std_rms_BF_A: 0.015679737956858775\n"
     ]
    }
   ],
   "source": [
    "print(\"BF_N : \",BF_N)\n",
    "print(\"BF_A : \",BF_A)\n",
    "print(\"mean_rms_BF_N:\", mean_zcr_BF_N)\n",
    "print(\"mean_rms_BF_A:\", mean_zcr_BF_A)\n",
    "print(\"std_rms_BF_N:\", std_zcr_BF_N)\n",
    "print(\"std_rms_BF_A:\", std_zcr_BF_A)"
   ]
  },
  {
   "cell_type": "code",
   "execution_count": 10,
   "id": "e1b7dd79",
   "metadata": {},
   "outputs": [
    {
     "name": "stderr",
     "output_type": "stream",
     "text": [
      "C:\\Users\\hoste\\AppData\\Local\\Temp\\ipykernel_59032\\3556089256.py:3: MatplotlibDeprecationWarning: The 'labels' parameter of boxplot() has been renamed 'tick_labels' since Matplotlib 3.9; support for the old name will be dropped in 3.11.\n",
      "  plt.boxplot([BF_A, BF_N], labels=['BF_A', 'BF_N'])\n"
     ]
    }
   ],
   "source": [
    "#Boxplot des deux groupes\n",
    "plt.figure(figsize=(10, 6))\n",
    "plt.boxplot([BF_A, BF_N], labels=['BF_A', 'BF_N'])\n",
    "plt.title('Boxplot du ZCR (BF)')\n",
    "plt.ylabel('ZCR (BF)')\n",
    "plt.grid(True)\n",
    "plt.savefig(\"graph_analyse/boxplot_ZCR_BF.png\", dpi=300, bbox_inches='tight')\n",
    "plt.show()\n",
    "\n",
    "#Histogramme des deux groupes\n",
    "plt.figure(figsize=(10, 6))\n",
    "plt.hist(BF_A, bins=10, alpha=0.5, label='RF_A', color='blue')\n",
    "plt.hist(BF_N, bins=10, alpha=0.5, label='RF_N', color='orange')\n",
    "plt.title('Histogramme du ZCR (BF)')\n",
    "plt.xlabel('ZCR (BF)')\n",
    "plt.ylabel('Fréquence')\n",
    "sns.kdeplot(BF_A, color='blue', label='Densité BF_A', linewidth=2)\n",
    "sns.kdeplot(BF_N, color='orange', label='Densité BF_N', linewidth=2)\n",
    "plt.legend()\n",
    "plt.grid(True)\n",
    "plt.savefig(\"graph_analyse/histogramme_ZCR_BF.png\", dpi=300, bbox_inches='tight')\n",
    "plt.show()"
   ]
  },
  {
   "cell_type": "code",
   "execution_count": 11,
   "id": "4c8d18d7",
   "metadata": {},
   "outputs": [
    {
     "name": "stdout",
     "output_type": "stream",
     "text": [
      "Statistique U : 50.0000\n",
      "P-valeur Mann-Whitney : 0.5114\n",
      "Aucune différence significative entre les groupes\n"
     ]
    }
   ],
   "source": [
    "# Test de Mann-Whitney\n",
    "stat, p_value = stats.mannwhitneyu(BF_N, BF_A, alternative='two-sided')\n",
    "\n",
    "print(f\"Statistique U : {stat:.4f}\")\n",
    "print(f\"P-valeur Mann-Whitney : {p_value:.4f}\")\n",
    "\n",
    "alpha = 0.05  # Seuil de signification\n",
    "if p_value < alpha:\n",
    "    print(\"Différence significative entre les deux groupes\")\n",
    "else:\n",
    "    print(\"Aucune différence significative entre les groupes\")"
   ]
  },
  {
   "cell_type": "markdown",
   "id": "0ba16350",
   "metadata": {},
   "source": [
    "# VS"
   ]
  },
  {
   "cell_type": "code",
   "execution_count": 12,
   "id": "558bcb50",
   "metadata": {},
   "outputs": [
    {
     "name": "stdout",
     "output_type": "stream",
     "text": [
      "VS_N :  [0.13923604999119873, 0.12892741061755147, 0.16989309448136378, 0.1644509438978995, 0.1968611915282645, 0.1893150684931507, 0.10740149748373634, 0.15671399154654816, 0.191652629608834, 0.15192472198460222, 0.07707979626485569]\n",
      "VS_A :  [0.12202266245278656, 0.08252821670428893, 0.08347646856750257, 0.10726160158460668, 0.13265283961342164, 0.1361336032388664, 0.06976152623211447, 0.10464317267105135, 0.19663341645885288, 0.2094689028651293, 0.11325816626182794]\n",
      "mean_rms_VS_N: 0.15213239962709138\n",
      "mean_rms_VS_A: 0.12344005242276807\n",
      "std_rms_VS_N: 0.035383382621071886\n",
      "std_rms_VS_A: 0.04250906705200681\n"
     ]
    }
   ],
   "source": [
    "print(\"VS_N : \",VS_N)\n",
    "print(\"VS_A : \",VS_A)\n",
    "print(\"mean_rms_VS_N:\", mean_zcr_VS_N)\n",
    "print(\"mean_rms_VS_A:\", mean_zcr_VS_A)\n",
    "print(\"std_rms_VS_N:\", std_zcr_VS_N)\n",
    "print(\"std_rms_VS_A:\", std_zcr_VS_A)"
   ]
  },
  {
   "cell_type": "code",
   "execution_count": 13,
   "id": "ed4d6071",
   "metadata": {},
   "outputs": [
    {
     "name": "stderr",
     "output_type": "stream",
     "text": [
      "C:\\Users\\hoste\\AppData\\Local\\Temp\\ipykernel_59032\\3294945196.py:3: MatplotlibDeprecationWarning: The 'labels' parameter of boxplot() has been renamed 'tick_labels' since Matplotlib 3.9; support for the old name will be dropped in 3.11.\n",
      "  plt.boxplot([VS_A, VS_N], labels=['VS_A', 'VS_N'])\n"
     ]
    }
   ],
   "source": [
    "#Boxplot des deux groupes\n",
    "plt.figure(figsize=(10, 6))\n",
    "plt.boxplot([VS_A, VS_N], labels=['VS_A', 'VS_N'])\n",
    "plt.title('Boxplot du ZCR (VS)')\n",
    "plt.ylabel('ZCR (VS)')\n",
    "plt.grid(True)\n",
    "plt.savefig(\"graph_analyse/boxplot_ZCR_VS.png\", dpi=300, bbox_inches='tight')\n",
    "plt.show()\n",
    "\n",
    "#Histogramme des deux groupes\n",
    "plt.figure(figsize=(10, 6))\n",
    "plt.hist(VS_A, bins=10, alpha=0.5, label='VS_A', color='blue')\n",
    "plt.hist(VS_N, bins=10, alpha=0.5, label='VS_N', color='orange')\n",
    "plt.title('Histogramme du ZCR (VS)')\n",
    "plt.xlabel('ZCR (VS)')\n",
    "plt.ylabel('Fréquence')\n",
    "sns.kdeplot(VS_A, color='blue', label='Densité VS_A', linewidth=2)\n",
    "sns.kdeplot(VS_N, color='orange', label='Densité VS_N', linewidth=2)\n",
    "plt.legend()\n",
    "plt.grid(True)\n",
    "plt.savefig(\"graph_analyse/histogramme_ZCR_VS.png\", dpi=300, bbox_inches='tight')\n",
    "plt.show()"
   ]
  },
  {
   "cell_type": "code",
   "execution_count": 14,
   "id": "f70ed4b3",
   "metadata": {},
   "outputs": [
    {
     "name": "stdout",
     "output_type": "stream",
     "text": [
      "Statistique U : 86.0000\n",
      "P-valeur Mann-Whitney : 0.1007\n",
      "Aucune différence significative entre les groupes\n"
     ]
    }
   ],
   "source": [
    "# Test de Mann-Whitney\n",
    "stat, p_value = stats.mannwhitneyu(VS_N, VS_A, alternative='two-sided')\n",
    "\n",
    "print(f\"Statistique U : {stat:.4f}\")\n",
    "print(f\"P-valeur Mann-Whitney : {p_value:.4f}\")\n",
    "\n",
    "alpha = 0.05  # Seuil de signification\n",
    "if p_value < alpha:\n",
    "    print(\"Différence significative entre les deux groupes\")\n",
    "else:\n",
    "    print(\"Aucune différence significative entre les groupes\")"
   ]
  },
  {
   "cell_type": "markdown",
   "id": "1744f3b6",
   "metadata": {},
   "source": [
    "# ST"
   ]
  },
  {
   "cell_type": "code",
   "execution_count": 15,
   "id": "51578cc7",
   "metadata": {},
   "outputs": [
    {
     "name": "stdout",
     "output_type": "stream",
     "text": [
      "ST_N :  [0.18394648829431437, 0.16495124593716143, 0.18419531927188673, 0.18346184525392184, 0.1537406673777236, 0.19712328767123288, 0.21087516877378176, 0.14414219139481954, 0.18566348493355792, 0.18135158254918735, 0.2066213921901528]\n",
      "ST_A :  [0.1912433515763509, 0.14979683972911964, 0.20794686820107638, 0.22426782682512733, 0.23437941144532523, 0.2023512924322641, 0.18461049284578696, 0.1818984980857956, 0.2292705735660848, 0.21497204751921734, 0.19635282601602436]\n",
      "mean_rms_ST_N: 0.18146115214979455\n",
      "mean_rms_ST_A: 0.2015536389311066\n",
      "std_rms_ST_N: 0.019569360554748068\n",
      "std_rms_ST_A: 0.02348842841584915\n"
     ]
    }
   ],
   "source": [
    "print(\"ST_N : \",ST_N)\n",
    "print(\"ST_A : \",ST_A)\n",
    "print(\"mean_rms_ST_N:\", mean_zcr_ST_N)\n",
    "print(\"mean_rms_ST_A:\", mean_zcr_ST_A)\n",
    "print(\"std_rms_ST_N:\", std_zcr_ST_N)\n",
    "print(\"std_rms_ST_A:\", std_zcr_ST_A)"
   ]
  },
  {
   "cell_type": "code",
   "execution_count": 16,
   "id": "5e6d8e39",
   "metadata": {},
   "outputs": [
    {
     "name": "stderr",
     "output_type": "stream",
     "text": [
      "C:\\Users\\hoste\\AppData\\Local\\Temp\\ipykernel_59032\\1143392687.py:3: MatplotlibDeprecationWarning: The 'labels' parameter of boxplot() has been renamed 'tick_labels' since Matplotlib 3.9; support for the old name will be dropped in 3.11.\n",
      "  plt.boxplot([ST_A, ST_N], labels=['ST_A', 'ST_N'])\n"
     ]
    }
   ],
   "source": [
    "#Boxplot des deux groupes\n",
    "plt.figure(figsize=(10, 6))\n",
    "plt.boxplot([ST_A, ST_N], labels=['ST_A', 'ST_N'])\n",
    "plt.title('Boxplot du ZCR (ST)')\n",
    "plt.ylabel('ZCR (ST)')\n",
    "plt.grid(True)\n",
    "plt.savefig(\"graph_analyse/boxplot_ZCR_ST.png\", dpi=300, bbox_inches='tight')\n",
    "plt.show()\n",
    "\n",
    "#Histogramme des deux groupes\n",
    "plt.figure(figsize=(10, 6))\n",
    "plt.hist(ST_A, bins=10, alpha=0.5, label='ST_A', color='blue')\n",
    "plt.hist(ST_N, bins=10, alpha=0.5, label='ST_N', color='orange')\n",
    "plt.title('Histogramme du ZCR (ST)')\n",
    "plt.xlabel('ZCR (ST)')\n",
    "plt.ylabel('Fréquence')\n",
    "sns.kdeplot(ST_A, color='blue', label='Densité ST_A', linewidth=2)\n",
    "sns.kdeplot(ST_N, color='orange', label='Densité ST_N', linewidth=2)\n",
    "plt.legend()\n",
    "plt.grid(True)\n",
    "plt.savefig(\"graph_analyse/histogramme_ZCR_ST.png\", dpi=300, bbox_inches='tight')\n",
    "plt.show()"
   ]
  },
  {
   "cell_type": "code",
   "execution_count": 17,
   "id": "0a72cc96",
   "metadata": {},
   "outputs": [
    {
     "name": "stdout",
     "output_type": "stream",
     "text": [
      "Statistique U : 30.0000\n",
      "P-valeur Mann-Whitney : 0.0488\n",
      "Différence significative entre les deux groupes\n"
     ]
    }
   ],
   "source": [
    "# Test de Mann-Whitney\n",
    "stat, p_value = stats.mannwhitneyu(ST_N, ST_A, alternative='two-sided')\n",
    "\n",
    "print(f\"Statistique U : {stat:.4f}\")\n",
    "print(f\"P-valeur Mann-Whitney : {p_value:.4f}\")\n",
    "\n",
    "alpha = 0.05  # Seuil de signification\n",
    "if p_value < alpha:\n",
    "    print(\"Différence significative entre les deux groupes\")\n",
    "else:\n",
    "    print(\"Aucune différence significative entre les groupes\")"
   ]
  }
 ],
 "metadata": {
  "kernelspec": {
   "display_name": "MY_HUGO_SAUNIER",
   "language": "python",
   "name": "python3"
  },
  "language_info": {
   "codemirror_mode": {
    "name": "ipython",
    "version": 3
   },
   "file_extension": ".py",
   "mimetype": "text/x-python",
   "name": "python",
   "nbconvert_exporter": "python",
   "pygments_lexer": "ipython3",
   "version": "3.12.5"
  }
 },
 "nbformat": 4,
 "nbformat_minor": 5
}
