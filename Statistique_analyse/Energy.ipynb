{
 "cells": [
  {
   "cell_type": "code",
   "execution_count": 2,
   "id": "607dd09b",
   "metadata": {},
   "outputs": [],
   "source": [
    "from import_all import *"
   ]
  },
  {
   "cell_type": "code",
   "execution_count": 3,
   "id": "3fc59432",
   "metadata": {},
   "outputs": [
    {
     "name": "stdout",
     "output_type": "stream",
     "text": [
      "Notebook 1Nmar.ipynb imported successfully.\n",
      "Notebook 2Nmar.ipynb imported successfully.\n",
      "Notebook 3Nmar.ipynb imported successfully.\n",
      "Notebook 4Nmar.ipynb imported successfully.\n",
      "Notebook 5Nmar.ipynb imported successfully.\n",
      "Notebook 6Nmar.ipynb imported successfully.\n",
      "Notebook 7Nmar.ipynb imported successfully.\n",
      "Notebook 8Nmar.ipynb imported successfully.\n",
      "Notebook 9Nmar.ipynb imported successfully.\n",
      "Notebook 10Nmar.ipynb imported successfully.\n",
      "Notebook 11Nmar.ipynb imported successfully.\n",
      "Notebook 1Amar.ipynb imported successfully.\n",
      "Notebook 2Amar.ipynb imported successfully.\n",
      "Notebook 3Amar.ipynb imported successfully.\n",
      "Notebook 4Amar.ipynb imported successfully.\n",
      "Notebook 5Amar.ipynb imported successfully.\n",
      "Notebook 6Amar.ipynb imported successfully.\n",
      "Notebook 7Amar.ipynb imported successfully.\n",
      "Notebook 8Amar.ipynb imported successfully.\n",
      "Notebook 9Amar.ipynb imported successfully.\n",
      "Notebook 10Amar.ipynb imported successfully.\n",
      "Notebook 11Amar.ipynb imported successfully.\n"
     ]
    }
   ],
   "source": [
    "# List of .ipynb files to process\n",
    "notebook_files_N = [f\"{i}Nmar.ipynb\" for i in range(1, 12)]\n",
    "notebook_files_A = [f\"{i}Amar.ipynb\" for i in range(1, 12)]\n",
    "\n",
    "# Dictionary to store results\n",
    "results = {}\n",
    "\n",
    "# Process Normal_analyse notebooks\n",
    "for file_name in notebook_files_N:\n",
    "    try:\n",
    "        # Load the .ipynb file\n",
    "        with open(\"../Normal_analyse/\"+file_name, 'r', encoding='utf-8') as f:\n",
    "            notebook = read(f, as_version=4)\n",
    "        print(f\"Notebook {file_name} imported successfully.\")\n",
    "    except FileNotFoundError:\n",
    "        # Handle missing file error\n",
    "        print(f\"Error: The file '{file_name}' was not found. Please ensure it exists in the current directory.\")\n",
    "        continue\n",
    "\n",
    "    # Dictionary to store global variables from notebook execution\n",
    "    global_vars = {}\n",
    "\n",
    "    # Backup stdout and stderr to suppress output\n",
    "    stdout_backup = sys.stdout\n",
    "    stderr_backup = sys.stderr\n",
    "    sys.stdout = io.StringIO()  # Capture standard output\n",
    "    sys.stderr = io.StringIO()  # Capture errors\n",
    "\n",
    "    # Disable interactive Matplotlib display\n",
    "    plt.ioff()\n",
    "\n",
    "    # Override `plt.show()` and `display()` to suppress displays\n",
    "    with patch(\"matplotlib.pyplot.show\"), patch(\"IPython.display.display\"):\n",
    "        # Execute all code cells without displaying output\n",
    "        for cell in notebook.cells:\n",
    "            if cell.cell_type == \"code\":\n",
    "                exec(cell.source, global_vars)\n",
    "\n",
    "    # Restore normal output\n",
    "    sys.stdout = stdout_backup\n",
    "    sys.stderr = stderr_backup\n",
    "    plt.ion()  # Re-enable interactive display\n",
    "    plt.close(\"all\")  # Close all figures in memory\n",
    "\n",
    "    # Retrieve data from global variables\n",
    "    mean_energie_RF = global_vars.get(\"mean_energie_RF\", \"Variable not found\")\n",
    "    mean_energie_BF = global_vars.get(\"mean_energie_BF\", \"Variable not found\")\n",
    "    mean_energie_VS = global_vars.get(\"mean_energie_VM\", \"Variable not found\")\n",
    "    mean_energie_ST = global_vars.get(\"mean_energie_ST\", \"Variable not found\")\n",
    "\n",
    "    # Store results in the dictionary\n",
    "    results[\"RF_\"+file_name] = mean_energie_RF\n",
    "    results[\"BF_\"+file_name] = mean_energie_BF\n",
    "    results[\"VS_\"+file_name] = mean_energie_VS\n",
    "    results[\"ST_\"+file_name] = mean_energie_ST\n",
    "\n",
    "# Process Patient_analyse notebooks\n",
    "for file_name in notebook_files_A:\n",
    "    try:\n",
    "        # Load the .ipynb file\n",
    "        with open(\"../Patient_analyse/\"+file_name, 'r', encoding='utf-8') as f:\n",
    "            notebook = read(f, as_version=4)\n",
    "        print(f\"Notebook {file_name} imported successfully.\")\n",
    "    except FileNotFoundError:\n",
    "        # Handle missing file error\n",
    "        print(f\"Error: The file '{file_name}' was not found. Please ensure it exists in the current directory.\")\n",
    "        continue\n",
    "\n",
    "    # Dictionary to store global variables from notebook execution\n",
    "    global_vars = {}\n",
    "\n",
    "    # Backup stdout and stderr to suppress output\n",
    "    stdout_backup = sys.stdout\n",
    "    stderr_backup = sys.stderr\n",
    "    sys.stdout = io.StringIO()  # Capture standard output\n",
    "    sys.stderr = io.StringIO()  # Capture errors\n",
    "\n",
    "    # Disable interactive Matplotlib display\n",
    "    plt.ioff()\n",
    "\n",
    "    # Override `plt.show()` and `display()` to suppress displays\n",
    "    with patch(\"matplotlib.pyplot.show\"), patch(\"IPython.display.display\"):\n",
    "        # Execute all code cells without displaying output\n",
    "        for cell in notebook.cells:\n",
    "            if cell.cell_type == \"code\":\n",
    "                exec(cell.source, global_vars)\n",
    "\n",
    "    # Restore normal output\n",
    "    sys.stdout = stdout_backup\n",
    "    sys.stderr = stderr_backup\n",
    "    plt.ion()  # Re-enable interactive display\n",
    "    plt.close(\"all\")  # Close all figures in memory\n",
    "\n",
    "    # Retrieve data from global variables\n",
    "    mean_energie_RF = global_vars.get(\"mean_energie_RF\", \"Variable not found\")\n",
    "    mean_energie_BF = global_vars.get(\"mean_energie_BF\", \"Variable not found\")\n",
    "    mean_energie_VS = global_vars.get(\"mean_energie_VM\", \"Variable not found\")\n",
    "    mean_energie_ST = global_vars.get(\"mean_energie_ST\", \"Variable not found\")\n",
    "\n",
    "    # Store results in the dictionary\n",
    "    results[\"RF_\"+file_name] = mean_energie_RF\n",
    "    results[\"BF_\"+file_name] = mean_energie_BF\n",
    "    results[\"VS_\"+file_name] = mean_energie_VS\n",
    "    results[\"ST_\"+file_name] = mean_energie_ST\n"
   ]
  },
  {
   "cell_type": "code",
   "execution_count": 4,
   "id": "75226d68",
   "metadata": {},
   "outputs": [
    {
     "name": "stdout",
     "output_type": "stream",
     "text": [
      "RF_N: [0.22020077631543902, 0.19459811194084758, 0.06019643227346435, 0.43949926109837445, 0.015588502864857539, 0.1621339058818919, 3.517950861241279, 0.026180738506750418, 0.5180956401558082, 0.7884013572778947, 20.188817951992466]\n",
      "RF_A: [8.364117959196328, 16.552014935082916, 0.05962597863004339, 4.779128420687438, 0.336046945066613, 14.455816140856765, 7.066121461975688, 0.3600299327707891, 0.08911648652883375, 0.028215858624536728, 0.023475656764997258]\n",
      "BF_N: [0.06420098053468526, 0.3303871243810264, 0.2577033067098544, 2.6815356703044073, 0.9814070563879451, 0.23078382552631302, 0.7258266996036007, 0.5985705021730077, 2.8749242446590393, 0.1538066930872181, 0.15425555320553602]\n",
      "BF_A: [0.7576842065339252, 1.682020005576574, 0.4143004079100653, 0.8323987554361819, 0.44281662200060706, 0.970875444238144, 0.2705615786005511, 1.6722277511869936, 0.11815030684625699, 0.1385283932783711, 0.2465369245257426]\n",
      "VS_N: [0.3199854992786974, 0.37093897770706674, 0.07318331529239837, 1.0826285673803913, 0.016681703264747407, 0.27879998211540047, 7.96693036560203, 0.5960522483808919, 0.0697090036230286, 0.33944539612994235, 66.16403071203297]\n",
      "VS_A: [3.22532827204025, 25.571136107114576, 11.48176253735293, 5.894610318429706, 0.6259578824403347, 5.919704607565631, 22.974401632719374, 22.96476848520329, 0.11382494302608623, 0.03495562727116788, 0.31665726377538583]\n",
      "ST_N: [0.10993012396293539, 0.5509688422184841, 0.38051385796218645, 1.9577264156379148, 1.1601067638701084, 0.13745840435869056, 8.636452813833511, 1.7384315158056922, 0.3334346755384901, 0.23765690945970666, 1.856312518002319]\n",
      "ST_A: [0.3640086379380966, 0.8757783728984803, 0.824029667639905, 8.752817800319171, 2.5552860087230833, 1.2890234956555693, 1.8583721226678815, 0.6256724447001804, 0.5086525866913629, 0.27890486860416547, 0.27200413505336996]\n"
     ]
    }
   ],
   "source": [
    "# Initialize empty lists to store energy values for each group\n",
    "RF_N = []  # RF energy for Normal group\n",
    "RF_A = []  # RF energy for Patient group\n",
    "BF_N = []  # BF energy for Normal group\n",
    "BF_A = []  # BF energy for Patient group\n",
    "VS_N = []  # VS energy for Normal group\n",
    "VS_A = []  # VS energy for Patient group\n",
    "ST_N = []  # ST energy for Normal group\n",
    "ST_A = []  # ST energy for Patient group\n",
    "\n",
    "# Iterate through the results dictionary\n",
    "for file_name, data in results.items():\n",
    "    # Check if the file belongs to the Patient group for RF and append the value\n",
    "    if file_name.startswith('RF_1Amar') or file_name.startswith('RF_2Amar') or file_name.startswith('RF_3Amar') or file_name.startswith('RF_4Amar') or file_name.startswith('RF_5Amar') or file_name.startswith('RF_6Amar') or file_name.startswith('RF_7Amar') or file_name.startswith('RF_8Amar') or file_name.startswith('RF_9Amar') or file_name.startswith('RF_10Amar') or file_name.startswith('RF_11Amar'):\n",
    "        RF_A.append(float(data))\n",
    "    # Check if the file belongs to the Normal group for RF and append the value\n",
    "    elif file_name.startswith('RF_1Nmar') or file_name.startswith('RF_2Nmar') or file_name.startswith('RF_3Nmar') or file_name.startswith('RF_4Nmar') or file_name.startswith('RF_5Nmar') or file_name.startswith('RF_6Nmar') or file_name.startswith('RF_7Nmar') or file_name.startswith('RF_8Nmar') or file_name.startswith('RF_9Nmar') or file_name.startswith('RF_10Nmar') or file_name.startswith('RF_11Nmar'):\n",
    "        RF_N.append(float(data))\n",
    "    # Check if the file belongs to the Patient group for BF and append the value\n",
    "    elif file_name.startswith('BF_1Amar') or file_name.startswith('BF_2Amar') or file_name.startswith('BF_3Amar') or file_name.startswith('BF_4Amar') or file_name.startswith('BF_5Amar') or file_name.startswith('BF_6Amar') or file_name.startswith('BF_7Amar') or file_name.startswith('BF_8Amar') or file_name.startswith('BF_9Amar') or file_name.startswith('BF_10Amar') or file_name.startswith('BF_11Amar'):\n",
    "        BF_A.append(float(data))\n",
    "    # Check if the file belongs to the Normal group for BF and append the value\n",
    "    elif file_name.startswith('BF_1Nmar') or file_name.startswith('BF_2Nmar') or file_name.startswith('BF_3Nmar') or file_name.startswith('BF_4Nmar') or file_name.startswith('BF_5Nmar') or file_name.startswith('BF_6Nmar') or file_name.startswith('BF_7Nmar') or file_name.startswith('BF_8Nmar') or file_name.startswith('BF_9Nmar') or file_name.startswith('BF_10Nmar') or file_name.startswith('BF_11Nmar'):\n",
    "        BF_N.append(float(data))\n",
    "    # Check if the file belongs to the Patient group for VS and append the value\n",
    "    elif file_name.startswith('VS_1Amar') or file_name.startswith('VS_2Amar') or file_name.startswith('VS_3Amar') or file_name.startswith('VS_4Amar') or file_name.startswith('VS_5Amar') or file_name.startswith('VS_6Amar') or file_name.startswith('VS_7Amar') or file_name.startswith('VS_8Amar') or file_name.startswith('VS_9Amar') or file_name.startswith('VS_10Amar') or file_name.startswith('VS_11Amar'):\n",
    "        VS_A.append(float(data))\n",
    "    # Check if the file belongs to the Normal group for VS and append the value\n",
    "    elif file_name.startswith('VS_1Nmar') or file_name.startswith('VS_2Nmar') or file_name.startswith('VS_3Nmar') or file_name.startswith('VS_4Nmar') or file_name.startswith('VS_5Nmar') or file_name.startswith('VS_6Nmar') or file_name.startswith('VS_7Nmar') or file_name.startswith('VS_8Nmar') or file_name.startswith('VS_9Nmar') or file_name.startswith('VS_10Nmar') or file_name.startswith('VS_11Nmar'):\n",
    "        VS_N.append(float(data))\n",
    "    # Check if the file belongs to the Patient group for ST and append the value\n",
    "    elif file_name.startswith('ST_1Amar') or file_name.startswith('ST_2Amar') or file_name.startswith('ST_3Amar') or file_name.startswith('ST_4Amar') or file_name.startswith('ST_5Amar') or file_name.startswith('ST_6Amar') or file_name.startswith('ST_7Amar') or file_name.startswith('ST_8Amar') or file_name.startswith('ST_9Amar') or file_name.startswith('ST_10Amar') or file_name.startswith('ST_11Amar'):\n",
    "        ST_A.append(float(data))\n",
    "    # Check if the file belongs to the Normal group for ST and append the value\n",
    "    elif file_name.startswith('ST_1Nmar') or file_name.startswith('ST_2Nmar') or file_name.startswith('ST_3Nmar') or file_name.startswith('ST_4Nmar') or file_name.startswith('ST_5Nmar') or file_name.startswith('ST_6Nmar') or file_name.startswith('ST_7Nmar') or file_name.startswith('ST_8Nmar') or file_name.startswith('ST_9Nmar') or file_name.startswith('ST_10Nmar') or file_name.startswith('ST_11Nmar'):\n",
    "        ST_N.append(float(data))\n",
    "\n",
    "# Print the lists to verify the extracted values\n",
    "print(\"RF_N:\", RF_N)\n",
    "print(\"RF_A:\", RF_A)\n",
    "print(\"BF_N:\", BF_N)\n",
    "print(\"BF_A:\", BF_A)\n",
    "print(\"VS_N:\", VS_N)\n",
    "print(\"VS_A:\", VS_A)\n",
    "print(\"ST_N:\", ST_N)\n",
    "print(\"ST_A:\", ST_A)"
   ]
  },
  {
   "cell_type": "code",
   "execution_count": 6,
   "id": "d0914865",
   "metadata": {},
   "outputs": [],
   "source": [
    "# Calculate the mean energy for each group and each muscle\n",
    "mean_energie_BF_N = np.mean(BF_N)  # Mean energy for BF in the Normal group\n",
    "mean_energie_BF_A = np.mean(BF_A)  # Mean energy for BF in the Patient group\n",
    "mean_energie_RF_N = np.mean(RF_N)  # Mean energy for RF in the Normal group\n",
    "mean_energie_RF_A = np.mean(RF_A)  # Mean energy for RF in the Patient group\n",
    "mean_energie_VS_N = np.mean(VS_N)  # Mean energy for VS in the Normal group\n",
    "mean_energie_VS_A = np.mean(VS_A)  # Mean energy for VS in the Patient group\n",
    "mean_energie_ST_N = np.mean(ST_N)  # Mean energy for ST in the Normal group\n",
    "mean_energie_ST_A = np.mean(ST_A)  # Mean energy for ST in the Patient group\n",
    "\n",
    "# Calculate the standard deviation of energy for each group and each muscle\n",
    "std_energie_RF_N = np.std(RF_N)  # Standard deviation of RF energy in the Normal group\n",
    "std_energie_RF_A = np.std(RF_A)  # Standard deviation of RF energy in the Patient group\n",
    "std_energie_BF_N = np.std(BF_N)  # Standard deviation of BF energy in the Normal group\n",
    "std_energie_BF_A = np.std(BF_A)  # Standard deviation of BF energy in the Patient group\n",
    "std_energie_VS_N = np.std(VS_N)  # Standard deviation of VS energy in the Normal group\n",
    "std_energie_VS_A = np.std(VS_A)  # Standard deviation of VS energy in the Patient group\n",
    "std_energie_ST_N = np.std(ST_N)  # Standard deviation of ST energy in the Normal group\n",
    "std_energie_ST_A = np.std(ST_A)  # Standard deviation of ST energy in the Patient group"
   ]
  },
  {
   "cell_type": "markdown",
   "id": "d77e3286",
   "metadata": {},
   "source": [
    "# RF"
   ]
  },
  {
   "cell_type": "code",
   "execution_count": 7,
   "id": "589ed806",
   "metadata": {},
   "outputs": [
    {
     "name": "stdout",
     "output_type": "stream",
     "text": [
      "RF_N :  [0.22020077631543902, 0.19459811194084758, 0.06019643227346435, 0.43949926109837445, 0.015588502864857539, 0.1621339058818919, 3.517950861241279, 0.026180738506750418, 0.5180956401558082, 0.7884013572778947, 20.188817951992466]\n",
      "RF_A :  [8.364117959196328, 16.552014935082916, 0.05962597863004339, 4.779128420687438, 0.336046945066613, 14.455816140856765, 7.066121461975688, 0.3600299327707891, 0.08911648652883375, 0.028215858624536728, 0.023475656764997258]\n",
      "mean_rms_RF_N: 2.3756057763226432\n",
      "mean_rms_RF_A: 4.737609979653175\n",
      "std_rms_RF_N: 5.713510092577124\n",
      "std_rms_RF_A: 5.870027030738777\n"
     ]
    }
   ],
   "source": [
    "print(\"RF_N : \",RF_N)\n",
    "print(\"RF_A : \",RF_A)\n",
    "print(\"mean_rms_RF_N:\", mean_energie_RF_N)\n",
    "print(\"mean_rms_RF_A:\", mean_energie_RF_A)\n",
    "print(\"std_rms_RF_N:\", std_energie_RF_N)\n",
    "print(\"std_rms_RF_A:\", std_energie_RF_A)"
   ]
  },
  {
   "cell_type": "code",
   "execution_count": 25,
   "id": "58ea2476",
   "metadata": {},
   "outputs": [
    {
     "name": "stderr",
     "output_type": "stream",
     "text": [
      "C:\\Users\\hoste\\AppData\\Local\\Temp\\ipykernel_52172\\747814219.py:3: MatplotlibDeprecationWarning: The 'labels' parameter of boxplot() has been renamed 'tick_labels' since Matplotlib 3.9; support for the old name will be dropped in 3.11.\n",
      "  plt.boxplot([RF_A, RF_N], labels=['Patient Group (RF_A)', 'Normal Group (RF_N)'])\n"
     ]
    }
   ],
   "source": [
    "# Boxplot for the two groups\n",
    "plt.figure(figsize=(10, 6))\n",
    "plt.boxplot([RF_A, RF_N], labels=['Patient Group (RF_A)', 'Normal Group (RF_N)'])\n",
    "plt.title('Boxplot of RF Average Energy for Patient and Normal Groups')  \n",
    "plt.ylabel('RF Average Energy [mV²]')  \n",
    "plt.grid(True)\n",
    "plt.savefig(\"graph_analyse/boxplot_energy_RF.png\", dpi=300, bbox_inches='tight')  \n",
    "plt.show()\n",
    "\n",
    "# Histogram for the two groups\n",
    "plt.figure(figsize=(10, 6))\n",
    "plt.hist(RF_A, bins=10, alpha=0.5, label='Patient Group (RF_A)', color='blue')\n",
    "plt.hist(RF_N, bins=10, alpha=0.5, label='Normal Group (RF_N)', color='orange')\n",
    "plt.title('Histogram of RF Average Energy for Patient and Normal Groups')  \n",
    "plt.xlabel('RF Average Energy [mV²]')  \n",
    "plt.ylabel('Frequency')  \n",
    "sns.kdeplot(RF_A, color='blue', label='Density (Patient Group)', linewidth=2)\n",
    "sns.kdeplot(RF_N, color='orange', label='Density (Normal Group)', linewidth=2)\n",
    "plt.legend()\n",
    "plt.grid(True)\n",
    "plt.savefig(\"graph_analyse/histogram_energy_RF.png\", dpi=300, bbox_inches='tight')  \n",
    "plt.show()"
   ]
  },
  {
   "cell_type": "code",
   "execution_count": 10,
   "id": "bcc957f6",
   "metadata": {},
   "outputs": [
    {
     "name": "stdout",
     "output_type": "stream",
     "text": [
      "U Statistic: 51.0000\n",
      "P-value (Mann-Whitney): 0.5545\n",
      "No significant difference between the groups\n"
     ]
    }
   ],
   "source": [
    "# Perform Mann-Whitney U test to compare RF_N (Normal group) and RF_A (Patient group)\n",
    "stat, p_value = stats.mannwhitneyu(RF_N, RF_A, alternative='two-sided')\n",
    "\n",
    "# Print the test statistic and p-value\n",
    "print(f\"U Statistic: {stat:.4f}\")\n",
    "print(f\"P-value (Mann-Whitney): {p_value:.4f}\")\n",
    "\n",
    "# Define the significance level\n",
    "alpha = 0.05  \n",
    "\n",
    "# Check if the p-value is less than the significance level\n",
    "if p_value < alpha:\n",
    "    print(\"Significant difference between the two groups\")\n",
    "else:\n",
    "    print(\"No significant difference between the groups\")"
   ]
  },
  {
   "cell_type": "markdown",
   "id": "0b2745f9",
   "metadata": {},
   "source": [
    "# BF"
   ]
  },
  {
   "cell_type": "code",
   "execution_count": 9,
   "id": "2b0c13c4",
   "metadata": {},
   "outputs": [
    {
     "name": "stdout",
     "output_type": "stream",
     "text": [
      "BF_N :  [0.06420098053468526, 0.3303871243810264, 0.2577033067098544, 2.6815356703044073, 0.9814070563879451, 0.23078382552631302, 0.7258266996036007, 0.5985705021730077, 2.8749242446590393, 0.1538066930872181, 0.15425555320553602]\n",
      "BF_A :  [0.7576842065339252, 1.682020005576574, 0.4143004079100653, 0.8323987554361819, 0.44281662200060706, 0.970875444238144, 0.2705615786005511, 1.6722277511869936, 0.11815030684625699, 0.1385283932783711, 0.2465369245257426]\n",
      "mean_rms_BF_N: 0.8230365142338758\n",
      "mean_rms_BF_A: 0.6860091269212193\n",
      "std_rms_BF_N: 0.9597923325254449\n",
      "std_rms_BF_A: 0.538793298376668\n"
     ]
    }
   ],
   "source": [
    "print(\"BF_N : \",BF_N)\n",
    "print(\"BF_A : \",BF_A)\n",
    "print(\"mean_rms_BF_N:\", mean_energie_BF_N)\n",
    "print(\"mean_rms_BF_A:\", mean_energie_BF_A)\n",
    "print(\"std_rms_BF_N:\", std_energie_BF_N)\n",
    "print(\"std_rms_BF_A:\", std_energie_BF_A)"
   ]
  },
  {
   "cell_type": "code",
   "execution_count": 24,
   "id": "78f819a9",
   "metadata": {},
   "outputs": [
    {
     "name": "stderr",
     "output_type": "stream",
     "text": [
      "C:\\Users\\hoste\\AppData\\Local\\Temp\\ipykernel_52172\\1525904284.py:3: MatplotlibDeprecationWarning: The 'labels' parameter of boxplot() has been renamed 'tick_labels' since Matplotlib 3.9; support for the old name will be dropped in 3.11.\n",
      "  plt.boxplot([BF_A, BF_N], labels=['Patient Group (BF_A)', 'Normal Group (BF_N)'])\n"
     ]
    }
   ],
   "source": [
    "# Boxplot for the two groups\n",
    "plt.figure(figsize=(10, 6))\n",
    "plt.boxplot([BF_A, BF_N], labels=['Patient Group (BF_A)', 'Normal Group (BF_N)'])\n",
    "plt.title('Boxplot of Average Energy for BF Muscle (Patient vs Normal)')\n",
    "plt.ylabel('Average Energy (BF) [mV²]')\n",
    "plt.grid(True)\n",
    "plt.savefig(\"graph_analyse/boxplot_energy_BF.png\", dpi=300, bbox_inches='tight')\n",
    "plt.show()\n",
    "\n",
    "# Histogram for the two groups\n",
    "plt.figure(figsize=(10, 6))\n",
    "plt.hist(BF_A, bins=10, alpha=0.5, label='Patient Group (BF_A)', color='blue')\n",
    "plt.hist(BF_N, bins=10, alpha=0.5, label='Normal Group (BF_N)', color='orange')\n",
    "plt.title('Histogram of Average Energy for BF Muscle (Patient vs Normal)')\n",
    "plt.xlabel('Average Energy (BF) [mV²]')\n",
    "plt.ylabel('Frequency')\n",
    "sns.kdeplot(BF_A, color='blue', label='Density (Patient Group)', linewidth=2)\n",
    "sns.kdeplot(BF_N, color='orange', label='Density (Normal Group)', linewidth=2)\n",
    "plt.legend()\n",
    "plt.grid(True)\n",
    "plt.savefig(\"graph_analyse/histogram_energy_BF.png\", dpi=300, bbox_inches='tight')\n",
    "plt.show()"
   ]
  },
  {
   "cell_type": "code",
   "execution_count": 17,
   "id": "5e7e5794",
   "metadata": {},
   "outputs": [
    {
     "name": "stdout",
     "output_type": "stream",
     "text": [
      "U Statistic: 56.0000\n",
      "P-value (Mann-Whitney): 0.7928\n",
      "No significant difference between the groups\n"
     ]
    }
   ],
   "source": [
    "# Mann-Whitney Test\n",
    "stat, p_value = stats.mannwhitneyu(BF_N, BF_A, alternative='two-sided')\n",
    "\n",
    "print(f\"U Statistic: {stat:.4f}\")\n",
    "print(f\"P-value (Mann-Whitney): {p_value:.4f}\")\n",
    "\n",
    "alpha = 0.05  # Significance level\n",
    "if p_value < alpha:\n",
    "    print(\"Significant difference between the two groups\")\n",
    "else:\n",
    "    print(\"No significant difference between the groups\")"
   ]
  },
  {
   "cell_type": "markdown",
   "id": "848121b4",
   "metadata": {},
   "source": [
    "# VS"
   ]
  },
  {
   "cell_type": "code",
   "execution_count": 12,
   "id": "542e779a",
   "metadata": {},
   "outputs": [
    {
     "name": "stdout",
     "output_type": "stream",
     "text": [
      "VS_N :  [0.3199854992786974, 0.37093897770706674, 0.07318331529239837, 1.0826285673803913, 0.016681703264747407, 0.27879998211540047, 7.96693036560203, 0.5960522483808919, 0.0697090036230286, 0.33944539612994235, 66.16403071203297]\n",
      "VS_A :  [3.22532827204025, 25.571136107114576, 11.48176253735293, 5.894610318429706, 0.6259578824403347, 5.919704607565631, 22.974401632719374, 22.96476848520329, 0.11382494302608623, 0.03495562727116788, 0.31665726377538583]\n",
      "mean_rms_VS_N: 7.025307797346142\n",
      "mean_rms_VS_A: 9.01119160699443\n",
      "std_rms_VS_N: 18.82990196653591\n",
      "std_rms_VS_A: 9.669063260973614\n"
     ]
    }
   ],
   "source": [
    "print(\"VS_N : \",VS_N)\n",
    "print(\"VS_A : \",VS_A)\n",
    "print(\"mean_rms_VS_N:\", mean_energie_VS_N)\n",
    "print(\"mean_rms_VS_A:\", mean_energie_VS_A)\n",
    "print(\"std_rms_VS_N:\", std_energie_VS_N)\n",
    "print(\"std_rms_VS_A:\", std_energie_VS_A)"
   ]
  },
  {
   "cell_type": "code",
   "execution_count": null,
   "id": "fc028221",
   "metadata": {},
   "outputs": [],
   "source": []
  },
  {
   "cell_type": "code",
   "execution_count": 23,
   "id": "9e1b05e7",
   "metadata": {},
   "outputs": [
    {
     "name": "stderr",
     "output_type": "stream",
     "text": [
      "C:\\Users\\hoste\\AppData\\Local\\Temp\\ipykernel_52172\\1271903784.py:3: MatplotlibDeprecationWarning: The 'labels' parameter of boxplot() has been renamed 'tick_labels' since Matplotlib 3.9; support for the old name will be dropped in 3.11.\n",
      "  plt.boxplot([VS_A, VS_N], labels=['Patient Group (VS_A)', 'Normal Group (VS_N)'])\n"
     ]
    }
   ],
   "source": [
    "# Boxplot for the two groups\n",
    "plt.figure(figsize=(10, 6))\n",
    "plt.boxplot([VS_A, VS_N], labels=['Patient Group (VS_A)', 'Normal Group (VS_N)'])\n",
    "plt.title('Boxplot of Average Energy for VS Muscle (Patient vs Normal)')\n",
    "plt.ylabel('Average Energy (VS) [mV²]')\n",
    "plt.grid(True)\n",
    "plt.savefig(\"graph_analyse/boxplot_energy_VS.png\", dpi=300, bbox_inches='tight')\n",
    "plt.show()\n",
    "\n",
    "# Histogram for the two groups\n",
    "plt.figure(figsize=(10, 6))\n",
    "plt.hist(VS_A, bins=10, alpha=0.5, label='Patient Group (VS_A)', color='blue')\n",
    "plt.hist(VS_N, bins=10, alpha=0.5, label='Normal Group (VS_N)', color='orange')\n",
    "plt.title('Histogram of Average Energy for VS Muscle (Patient vs Normal)')\n",
    "plt.xlabel('Average Energy (VS) [mV²]')\n",
    "plt.ylabel('Frequency')\n",
    "sns.kdeplot(VS_A, color='blue', label='Density (Patient Group)', linewidth=2)\n",
    "sns.kdeplot(VS_N, color='orange', label='Density (Normal Group)', linewidth=2)\n",
    "plt.legend()\n",
    "plt.grid(True)\n",
    "plt.savefig(\"graph_analyse/histogram_energy_VS.png\", dpi=300, bbox_inches='tight')\n",
    "plt.show()"
   ]
  },
  {
   "cell_type": "code",
   "execution_count": 18,
   "id": "c1f3e05d",
   "metadata": {},
   "outputs": [
    {
     "name": "stdout",
     "output_type": "stream",
     "text": [
      "U Statistic: 38.0000\n",
      "P-value (Mann-Whitney): 0.1486\n",
      "No significant difference between the groups\n"
     ]
    }
   ],
   "source": [
    "# Mann-Whitney Test\n",
    "stat, p_value = stats.mannwhitneyu(VS_N, VS_A, alternative='two-sided')\n",
    "\n",
    "print(f\"U Statistic: {stat:.4f}\")\n",
    "print(f\"P-value (Mann-Whitney): {p_value:.4f}\")\n",
    "\n",
    "alpha = 0.05  # Significance level\n",
    "if p_value < alpha:\n",
    "    print(\"Significant difference between the two groups\")\n",
    "else:\n",
    "    print(\"No significant difference between the groups\")"
   ]
  },
  {
   "cell_type": "markdown",
   "id": "d3bbd406",
   "metadata": {},
   "source": [
    "# ST"
   ]
  },
  {
   "cell_type": "code",
   "execution_count": 15,
   "id": "d8ca79a4",
   "metadata": {},
   "outputs": [
    {
     "name": "stdout",
     "output_type": "stream",
     "text": [
      "ST_N :  [0.10993012396293539, 0.5509688422184841, 0.38051385796218645, 1.9577264156379148, 1.1601067638701084, 0.13745840435869056, 8.636452813833511, 1.7384315158056922, 0.3334346755384901, 0.23765690945970666, 1.856312518002319]\n",
      "ST_A :  [0.3640086379380966, 0.8757783728984803, 0.824029667639905, 8.752817800319171, 2.5552860087230833, 1.2890234956555693, 1.8583721226678815, 0.6256724447001804, 0.5086525866913629, 0.27890486860416547, 0.27200413505336996]\n",
      "mean_rms_ST_N: 1.554453894604549\n",
      "mean_rms_ST_A: 1.6549591037173876\n",
      "std_rms_ST_N: 2.3413729132528758\n",
      "std_rms_ST_A: 2.3453848519859517\n"
     ]
    }
   ],
   "source": [
    "print(\"ST_N : \",ST_N)\n",
    "print(\"ST_A : \",ST_A)\n",
    "print(\"mean_rms_ST_N:\", mean_energie_ST_N)\n",
    "print(\"mean_rms_ST_A:\", mean_energie_ST_A)\n",
    "print(\"std_rms_ST_N:\", std_energie_ST_N)\n",
    "print(\"std_rms_ST_A:\", std_energie_ST_A)"
   ]
  },
  {
   "cell_type": "code",
   "execution_count": 21,
   "id": "273dda7b",
   "metadata": {},
   "outputs": [
    {
     "name": "stderr",
     "output_type": "stream",
     "text": [
      "C:\\Users\\hoste\\AppData\\Local\\Temp\\ipykernel_52172\\1213574502.py:3: MatplotlibDeprecationWarning: The 'labels' parameter of boxplot() has been renamed 'tick_labels' since Matplotlib 3.9; support for the old name will be dropped in 3.11.\n",
      "  plt.boxplot([ST_A, ST_N], labels=['Patient Group (ST_A)', 'Normal Group (ST_N)'])\n"
     ]
    }
   ],
   "source": [
    "# Boxplot for the two groups\n",
    "plt.figure(figsize=(10, 6))\n",
    "plt.boxplot([ST_A, ST_N], labels=['Patient Group (ST_A)', 'Normal Group (ST_N)'])\n",
    "plt.title('Boxplot of Average Energy for ST Muscle (Patient vs Normal)')\n",
    "plt.ylabel('Average Energy (ST) [mV²]')\n",
    "plt.grid(True)\n",
    "plt.savefig(\"graph_analyse/boxplot_energy_ST.png\", dpi=300, bbox_inches='tight')\n",
    "plt.show()\n",
    "\n",
    "# Histogram for the two groups\n",
    "plt.figure(figsize=(10, 6))\n",
    "plt.hist(ST_A, bins=10, alpha=0.5, label='Patient Group (ST_A)', color='blue')\n",
    "plt.hist(ST_N, bins=10, alpha=0.5, label='Normal Group (ST_N)', color='orange')\n",
    "plt.title('Histogram of Average Energy for ST Muscle (Patient vs Normal)')\n",
    "plt.xlabel('Average Energy (ST) [mV²]')\n",
    "plt.ylabel('Frequency')\n",
    "sns.kdeplot(ST_A, color='blue', label='Density (Patient Group)', linewidth=2)\n",
    "sns.kdeplot(ST_N, color='orange', label='Density (Normal Group)', linewidth=2)\n",
    "plt.legend()\n",
    "plt.grid(True)\n",
    "plt.savefig(\"graph_analyse/histogram_energy_ST.png\", dpi=300, bbox_inches='tight')\n",
    "plt.show()"
   ]
  },
  {
   "cell_type": "code",
   "execution_count": 22,
   "id": "6a8082b9",
   "metadata": {},
   "outputs": [
    {
     "name": "stdout",
     "output_type": "stream",
     "text": [
      "U Statistic: 51.0000\n",
      "P-value (Mann-Whitney): 0.5545\n",
      "No significant difference between the groups\n"
     ]
    }
   ],
   "source": [
    "# Mann-Whitney Test\n",
    "stat, p_value = stats.mannwhitneyu(ST_N, ST_A, alternative='two-sided')\n",
    "\n",
    "print(f\"U Statistic: {stat:.4f}\")\n",
    "print(f\"P-value (Mann-Whitney): {p_value:.4f}\")\n",
    "\n",
    "alpha = 0.05  # Significance level\n",
    "if p_value < alpha:\n",
    "    print(\"Significant difference between the two groups\")\n",
    "else:\n",
    "    print(\"No significant difference between the groups\")"
   ]
  }
 ],
 "metadata": {
  "kernelspec": {
   "display_name": "MY_HUGO_SAUNIER",
   "language": "python",
   "name": "python3"
  },
  "language_info": {
   "codemirror_mode": {
    "name": "ipython",
    "version": 3
   },
   "file_extension": ".py",
   "mimetype": "text/x-python",
   "name": "python",
   "nbconvert_exporter": "python",
   "pygments_lexer": "ipython3",
   "version": "3.12.5"
  }
 },
 "nbformat": 4,
 "nbformat_minor": 5
}
