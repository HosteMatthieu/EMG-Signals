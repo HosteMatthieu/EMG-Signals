{
 "cells": [
  {
   "cell_type": "code",
   "execution_count": 2,
   "id": "68e92b6d",
   "metadata": {},
   "outputs": [],
   "source": [
    "from import_all import *"
   ]
  },
  {
   "cell_type": "code",
   "execution_count": 3,
   "id": "32f174c3",
   "metadata": {},
   "outputs": [
    {
     "name": "stdout",
     "output_type": "stream",
     "text": [
      "Notebook 1Nmar.ipynb imported successfully.\n",
      "Notebook 2Nmar.ipynb imported successfully.\n",
      "Notebook 3Nmar.ipynb imported successfully.\n",
      "Notebook 4Nmar.ipynb imported successfully.\n",
      "Notebook 5Nmar.ipynb imported successfully.\n",
      "Notebook 6Nmar.ipynb imported successfully.\n",
      "Notebook 7Nmar.ipynb imported successfully.\n",
      "Notebook 8Nmar.ipynb imported successfully.\n",
      "Notebook 9Nmar.ipynb imported successfully.\n",
      "Notebook 10Nmar.ipynb imported successfully.\n",
      "Notebook 11Nmar.ipynb imported successfully.\n",
      "Notebook 1Amar.ipynb imported successfully.\n",
      "Notebook 2Amar.ipynb imported successfully.\n",
      "Notebook 3Amar.ipynb imported successfully.\n",
      "Notebook 4Amar.ipynb imported successfully.\n",
      "Notebook 5Amar.ipynb imported successfully.\n",
      "Notebook 6Amar.ipynb imported successfully.\n",
      "Notebook 7Amar.ipynb imported successfully.\n",
      "Notebook 8Amar.ipynb imported successfully.\n",
      "Notebook 9Amar.ipynb imported successfully.\n",
      "Notebook 10Amar.ipynb imported successfully.\n",
      "Notebook 11Amar.ipynb imported successfully.\n"
     ]
    }
   ],
   "source": [
    "# List of .ipynb files to process\n",
    "notebook_files_N = [f\"{i}Nmar.ipynb\" for i in range(1, 12)]\n",
    "notebook_files_A = [f\"{i}Amar.ipynb\" for i in range(1, 12)]\n",
    "\n",
    "\n",
    "results = {}\n",
    "\n",
    "for file_name in notebook_files_N:\n",
    "    try:\n",
    "        # Load the .ipynb file\n",
    "        with open(\"../Normal_analyse/\"+file_name, 'r', encoding='utf-8') as f:\n",
    "            notebook = read(f, as_version=4)\n",
    "        print(f\"Notebook {file_name} imported successfully.\")\n",
    "    except FileNotFoundError:\n",
    "        print(f\"Error: The file '{file_name}' was not found. Please ensure it exists in the current directory.\")\n",
    "        continue\n",
    "\n",
    "    # Dictionnaire pour stocker les variables\n",
    "    global_vars = {}\n",
    "\n",
    "    # Sauvegarde stdout et stderr pour masquer l'affichage\n",
    "    stdout_backup = sys.stdout\n",
    "    stderr_backup = sys.stderr\n",
    "    sys.stdout = io.StringIO()  # Capture la sortie standard\n",
    "    sys.stderr = io.StringIO()  # Capture les erreurs\n",
    "\n",
    "    # Désactiver l'affichage interactif de Matplotlib\n",
    "    plt.ioff()\n",
    "\n",
    "    # Redéfinir `plt.show()` et `display()` pour bloquer les affichages\n",
    "    with patch(\"matplotlib.pyplot.show\"), patch(\"IPython.display.display\"):\n",
    "        # Exécuter toutes les cellules de code sans affichage\n",
    "        for cell in notebook.cells:\n",
    "            if cell.cell_type == \"code\":\n",
    "                exec(cell.source, global_vars)\n",
    "\n",
    "    # Rétablir la sortie normale\n",
    "    sys.stdout = stdout_backup\n",
    "    sys.stderr = stderr_backup\n",
    "    plt.ion()  # Réactiver l'affichage interactif\n",
    "    plt.close(\"all\")  # Fermer toutes les figures en mémoire\n",
    "\n",
    "    # Récupérer les données\n",
    "    var_RF = global_vars.get(\"var_RF\", \"Variable non trouvée\")\n",
    "    var_BF = global_vars.get(\"var_BF\", \"Variable non trouvée\")\n",
    "    var_VS = global_vars.get(\"var_VM\", \"Variable non trouvée\")\n",
    "    var_ST = global_vars.get(\"var_ST\", \"Variable non trouvée\")\n",
    "\n",
    "    results[\"RF_\"+file_name] = var_RF\n",
    "    results[\"BF_\"+file_name] = var_BF\n",
    "    results[\"VS_\"+file_name] = var_VS\n",
    "    results[\"ST_\"+file_name] = var_ST\n",
    "\n",
    "\n",
    "for file_name in notebook_files_A:\n",
    "    try:\n",
    "        # Load the .ipynb file\n",
    "        with open(\"../Patient_analyse/\"+file_name, 'r', encoding='utf-8') as f:\n",
    "            notebook = read(f, as_version=4)\n",
    "        print(f\"Notebook {file_name} imported successfully.\")\n",
    "    except FileNotFoundError:\n",
    "        print(f\"Error: The file '{file_name}' was not found. Please ensure it exists in the current directory.\")\n",
    "        continue\n",
    "\n",
    "    # Dictionnaire pour stocker les variables\n",
    "    global_vars = {}\n",
    "\n",
    "    # Sauvegarde stdout et stderr pour masquer l'affichage\n",
    "    stdout_backup = sys.stdout\n",
    "    stderr_backup = sys.stderr\n",
    "    sys.stdout = io.StringIO()  # Capture la sortie standard\n",
    "    sys.stderr = io.StringIO()  # Capture les erreurs\n",
    "\n",
    "    # Désactiver l'affichage interactif de Matplotlib\n",
    "    plt.ioff()\n",
    "\n",
    "    # Redéfinir `plt.show()` et `display()` pour bloquer les affichages\n",
    "    with patch(\"matplotlib.pyplot.show\"), patch(\"IPython.display.display\"):\n",
    "        # Exécuter toutes les cellules de code sans affichage\n",
    "        for cell in notebook.cells:\n",
    "            if cell.cell_type == \"code\":\n",
    "                exec(cell.source, global_vars)\n",
    "\n",
    "    # Rétablir la sortie normale\n",
    "    sys.stdout = stdout_backup\n",
    "    sys.stderr = stderr_backup\n",
    "    plt.ion()  # Réactiver l'affichage interactif\n",
    "    plt.close(\"all\")  # Fermer toutes les figures en mémoire\n",
    "\n",
    "    # Récupérer les données\n",
    "    var_RF = global_vars.get(\"var_RF\", \"Variable non trouvée\")\n",
    "    var_BF = global_vars.get(\"var_BF\", \"Variable non trouvée\")\n",
    "    var_VS = global_vars.get(\"var_VM\", \"Variable non trouvée\")\n",
    "    var_ST = global_vars.get(\"var_ST\", \"Variable non trouvée\")\n",
    "\n",
    "    results[\"RF_\"+file_name] = var_RF\n",
    "    results[\"BF_\"+file_name] = var_BF\n",
    "    results[\"VS_\"+file_name] = var_VS\n",
    "    results[\"ST_\"+file_name] = var_ST\n"
   ]
  },
  {
   "cell_type": "code",
   "execution_count": 4,
   "id": "54347eb7",
   "metadata": {},
   "outputs": [
    {
     "name": "stdout",
     "output_type": "stream",
     "text": [
      "RF_1Nmar.ipynb: 0.00020905135799190237\n",
      "BF_1Nmar.ipynb: 5.4485850644093485e-05\n",
      "VS_1Nmar.ipynb: 0.00025694029051818854\n",
      "ST_1Nmar.ipynb: 0.00010013938143869523\n",
      "RF_2Nmar.ipynb: 0.00017720217070668647\n",
      "BF_2Nmar.ipynb: 0.00023756893687767257\n",
      "VS_2Nmar.ipynb: 0.0003279331596764425\n",
      "ST_2Nmar.ipynb: 0.00039283104386829155\n",
      "RF_3Nmar.ipynb: 4.863734505527719e-05\n",
      "BF_3Nmar.ipynb: 0.00016189012413343325\n",
      "VS_3Nmar.ipynb: 6.615011304321103e-05\n",
      "ST_3Nmar.ipynb: 0.0002432624012555384\n",
      "RF_4Nmar.ipynb: 0.0003090456764815758\n",
      "BF_4Nmar.ipynb: 0.001758204148122412\n",
      "VS_4Nmar.ipynb: 0.0007018530643031697\n",
      "ST_4Nmar.ipynb: 0.0013418633573917622\n",
      "RF_5Nmar.ipynb: 1.2261329196637799e-05\n",
      "BF_5Nmar.ipynb: 0.0006639712371264081\n",
      "VS_5Nmar.ipynb: 1.4146630045172948e-05\n",
      "ST_5Nmar.ipynb: 0.0010433564908142819\n",
      "RF_6Nmar.ipynb: 0.00010215228014444313\n",
      "BF_6Nmar.ipynb: 0.00014302598660817522\n",
      "VS_6Nmar.ipynb: 0.00017163606920772803\n",
      "ST_6Nmar.ipynb: 8.56096550446703e-05\n",
      "RF_7Nmar.ipynb: 0.002397316362460519\n",
      "BF_7Nmar.ipynb: 0.0005011176314030866\n",
      "VS_7Nmar.ipynb: 0.004984737696407111\n",
      "ST_7Nmar.ipynb: 0.0061418489043259744\n",
      "RF_8Nmar.ipynb: 1.662783161636917e-05\n",
      "BF_8Nmar.ipynb: 0.0003718288079511915\n",
      "VS_8Nmar.ipynb: 0.0003759071072159519\n",
      "ST_8Nmar.ipynb: 0.0010264336491178014\n",
      "RF_9Nmar.ipynb: 0.0003537877027581194\n",
      "BF_9Nmar.ipynb: 0.001980866254108855\n",
      "VS_9Nmar.ipynb: 4.9031190186579124e-05\n",
      "ST_9Nmar.ipynb: 0.00023213026623113803\n",
      "RF_10Nmar.ipynb: 0.0006327990855380552\n",
      "BF_10Nmar.ipynb: 0.0001598542173338496\n",
      "VS_10Nmar.ipynb: 0.0002719191967963466\n",
      "ST_10Nmar.ipynb: 0.0002262748815912568\n",
      "RF_11Nmar.ipynb: 0.016013230671419437\n",
      "BF_11Nmar.ipynb: 0.0001337321812716942\n",
      "VS_11Nmar.ipynb: 0.0544686947668448\n",
      "ST_11Nmar.ipynb: 0.0017561873080583202\n",
      "RF_1Amar.ipynb: 0.005223300083510691\n",
      "BF_1Amar.ipynb: 0.0004986030152599216\n",
      "VS_1Amar.ipynb: 0.0020122335505368292\n",
      "ST_1Amar.ipynb: 0.00023795802934967596\n",
      "RF_2Amar.ipynb: 0.013734703218048237\n",
      "BF_2Amar.ipynb: 0.0013324686636022039\n",
      "VS_2Amar.ipynb: 0.020912749371396457\n",
      "ST_2Amar.ipynb: 0.0008223311535032037\n",
      "RF_3Amar.ipynb: 4.5276719434806195e-05\n",
      "BF_3Amar.ipynb: 0.00033748330515064154\n",
      "VS_3Amar.ipynb: 0.009344322511200903\n",
      "ST_3Amar.ipynb: 0.0006208793035596794\n",
      "RF_4Amar.ipynb: 0.0035370889947784526\n",
      "BF_4Amar.ipynb: 0.0005973428438188028\n",
      "VS_4Amar.ipynb: 0.0038835884733640887\n",
      "ST_4Amar.ipynb: 0.006416899972733096\n",
      "RF_5Amar.ipynb: 0.0002487172938572169\n",
      "BF_5Amar.ipynb: 0.0003426050272776639\n",
      "VS_5Amar.ipynb: 0.00045540172404452385\n",
      "ST_5Amar.ipynb: 0.001964622183430828\n",
      "RF_6Amar.ipynb: 0.006811097771687386\n",
      "BF_6Amar.ipynb: 0.0006286617754342576\n",
      "VS_6Amar.ipynb: 0.0029723074866891833\n",
      "ST_6Amar.ipynb: 0.0006867787129914546\n",
      "RF_7Amar.ipynb: 0.005835445894323605\n",
      "BF_7Amar.ipynb: 0.0002152306318130138\n",
      "VS_7Amar.ipynb: 0.01877263334047163\n",
      "ST_7Amar.ipynb: 0.0015352892186020154\n",
      "RF_8Amar.ipynb: 0.0001857846355339289\n",
      "BF_8Amar.ipynb: 0.0010001801602176521\n",
      "VS_8Amar.ipynb: 0.012123807119828559\n",
      "ST_8Amar.ipynb: 0.00034691552552179404\n",
      "RF_9Amar.ipynb: 6.327507183874064e-05\n",
      "BF_9Amar.ipynb: 8.050785191093786e-05\n",
      "VS_9Amar.ipynb: 8.448235645787073e-05\n",
      "ST_9Amar.ipynb: 0.00037442506145869497\n",
      "RF_10Amar.ipynb: 2.1144025626092227e-05\n",
      "BF_10Amar.ipynb: 0.00010541820742101445\n",
      "VS_10Amar.ipynb: 2.616202941617632e-05\n",
      "ST_10Amar.ipynb: 0.00020957413615329957\n",
      "RF_11Amar.ipynb: 1.624993424622272e-05\n",
      "BF_11Amar.ipynb: 0.00017130108483785926\n",
      "VS_11Amar.ipynb: 0.00021524078223920338\n",
      "ST_11Amar.ipynb: 0.0001994138571582796\n"
     ]
    }
   ],
   "source": [
    "# Print results for all files\n",
    "for file_name, data in results.items():\n",
    "    print(f\"{file_name}: {data}\")"
   ]
  },
  {
   "cell_type": "code",
   "execution_count": 5,
   "id": "f84bfe28",
   "metadata": {},
   "outputs": [
    {
     "name": "stdout",
     "output_type": "stream",
     "text": [
      "RF_N: [0.00020905135799190237, 0.00017720217070668647, 4.863734505527719e-05, 0.0003090456764815758, 1.2261329196637799e-05, 0.00010215228014444313, 0.002397316362460519, 1.662783161636917e-05, 0.0003537877027581194, 0.0006327990855380552, 0.016013230671419437]\n",
      "RF_A: [0.005223300083510691, 0.013734703218048237, 4.5276719434806195e-05, 0.0035370889947784526, 0.0002487172938572169, 0.006811097771687386, 0.005835445894323605, 0.0001857846355339289, 6.327507183874064e-05, 2.1144025626092227e-05, 1.624993424622272e-05]\n",
      "BF_N: [5.4485850644093485e-05, 0.00023756893687767257, 0.00016189012413343325, 0.001758204148122412, 0.0006639712371264081, 0.00014302598660817522, 0.0005011176314030866, 0.0003718288079511915, 0.001980866254108855, 0.0001598542173338496, 0.0001337321812716942]\n",
      "BF_A: [0.0004986030152599216, 0.0013324686636022039, 0.00033748330515064154, 0.0005973428438188028, 0.0003426050272776639, 0.0006286617754342576, 0.0002152306318130138, 0.0010001801602176521, 8.050785191093786e-05, 0.00010541820742101445, 0.00017130108483785926]\n",
      "VS_N: [0.00025694029051818854, 0.0003279331596764425, 6.615011304321103e-05, 0.0007018530643031697, 1.4146630045172948e-05, 0.00017163606920772803, 0.004984737696407111, 0.0003759071072159519, 4.9031190186579124e-05, 0.0002719191967963466, 0.0544686947668448]\n",
      "VS_A: [0.0020122335505368292, 0.020912749371396457, 0.009344322511200903, 0.0038835884733640887, 0.00045540172404452385, 0.0029723074866891833, 0.01877263334047163, 0.012123807119828559, 8.448235645787073e-05, 2.616202941617632e-05, 0.00021524078223920338]\n",
      "ST_N: [0.00010013938143869523, 0.00039283104386829155, 0.0002432624012555384, 0.0013418633573917622, 0.0010433564908142819, 8.56096550446703e-05, 0.0061418489043259744, 0.0010264336491178014, 0.00023213026623113803, 0.0002262748815912568, 0.0017561873080583202]\n",
      "ST_A: [0.00023795802934967596, 0.0008223311535032037, 0.0006208793035596794, 0.006416899972733096, 0.001964622183430828, 0.0006867787129914546, 0.0015352892186020154, 0.00034691552552179404, 0.00037442506145869497, 0.00020957413615329957, 0.0001994138571582796]\n"
     ]
    }
   ],
   "source": [
    "RF_N=[]\n",
    "RF_A=[]\n",
    "BF_N=[]\n",
    "BF_A=[]\n",
    "VS_N=[]\n",
    "VS_A=[]\n",
    "ST_N=[]\n",
    "ST_A=[]\n",
    "\n",
    "for file_name, data in results.items():\n",
    "    if file_name.startswith('RF_1Amar') or file_name.startswith('RF_2Amar') or file_name.startswith('RF_3Amar') or file_name.startswith('RF_4Amar') or file_name.startswith('RF_5Amar') or file_name.startswith('RF_6Amar') or file_name.startswith('RF_7Amar') or file_name.startswith('RF_8Amar') or file_name.startswith('RF_9Amar') or file_name.startswith('RF_10Amar') or file_name.startswith('RF_11Amar'):\n",
    "        RF_A.append(float(data))\n",
    "    elif file_name.startswith('RF_1Nmar') or file_name.startswith('RF_2Nmar') or file_name.startswith('RF_3Nmar') or file_name.startswith('RF_4Nmar') or file_name.startswith('RF_5Nmar') or file_name.startswith('RF_6Nmar') or file_name.startswith('RF_7Nmar') or file_name.startswith('RF_8Nmar') or file_name.startswith('RF_9Nmar') or file_name.startswith('RF_10Nmar') or file_name.startswith('RF_11Nmar'):\n",
    "        RF_N.append(float(data))\n",
    "    elif file_name.startswith('BF_1Amar') or file_name.startswith('BF_2Amar') or file_name.startswith('BF_3Amar') or file_name.startswith('BF_4Amar') or file_name.startswith('BF_5Amar') or file_name.startswith('BF_6Amar') or file_name.startswith('BF_7Amar') or file_name.startswith('BF_8Amar') or file_name.startswith('BF_9Amar') or file_name.startswith('BF_10Amar') or file_name.startswith('BF_11Amar'):\n",
    "        BF_A.append(float(data))\n",
    "    elif file_name.startswith('BF_1Nmar') or file_name.startswith('BF_2Nmar') or file_name.startswith('BF_3Nmar') or file_name.startswith('BF_4Nmar') or file_name.startswith('BF_5Nmar') or file_name.startswith('BF_6Nmar') or file_name.startswith('BF_7Nmar') or file_name.startswith('BF_8Nmar') or file_name.startswith('BF_9Nmar') or file_name.startswith('BF_10Nmar') or file_name.startswith('BF_11Nmar'):\n",
    "        BF_N.append(float(data))\n",
    "    elif file_name.startswith('VS_1Amar') or file_name.startswith('VS_2Amar') or file_name.startswith('VS_3Amar') or file_name.startswith('VS_4Amar') or file_name.startswith('VS_5Amar') or file_name.startswith('VS_6Amar') or file_name.startswith('VS_7Amar') or file_name.startswith('VS_8Amar') or file_name.startswith('VS_9Amar') or file_name.startswith('VS_10Amar') or file_name.startswith('VS_11Amar'):\n",
    "        VS_A.append(float(data))\n",
    "    elif file_name.startswith('VS_1Nmar') or file_name.startswith('VS_2Nmar') or file_name.startswith('VS_3Nmar') or file_name.startswith('VS_4Nmar') or file_name.startswith('VS_5Nmar') or file_name.startswith('VS_6Nmar') or file_name.startswith('VS_7Nmar') or file_name.startswith('VS_8Nmar') or file_name.startswith('VS_9Nmar') or file_name.startswith('VS_10Nmar') or file_name.startswith('VS_11Nmar'):\n",
    "        VS_N.append(float(data))\n",
    "    elif file_name.startswith('ST_1Amar') or file_name.startswith('ST_2Amar') or file_name.startswith('ST_3Amar') or file_name.startswith('ST_4Amar') or file_name.startswith('ST_5Amar') or file_name.startswith('ST_6Amar') or file_name.startswith('ST_7Amar') or file_name.startswith('ST_8Amar') or file_name.startswith('ST_9Amar') or file_name.startswith('ST_10Amar') or file_name.startswith('ST_11Amar'):\n",
    "        ST_A.append(float(data))\n",
    "    elif file_name.startswith('ST_1Nmar') or file_name.startswith('ST_2Nmar') or file_name.startswith('ST_3Nmar') or file_name.startswith('ST_4Nmar') or file_name.startswith('ST_5Nmar') or file_name.startswith('ST_6Nmar') or file_name.startswith('ST_7Nmar') or file_name.startswith('ST_8Nmar') or file_name.startswith('ST_9Nmar') or file_name.startswith('ST_10Nmar') or file_name.startswith('ST_11Nmar'):\n",
    "        ST_N.append(float(data))\n",
    "\n",
    "print(\"RF_N:\", RF_N)\n",
    "print(\"RF_A:\", RF_A)\n",
    "print(\"BF_N:\", BF_N)\n",
    "print(\"BF_A:\", BF_A)\n",
    "print(\"VS_N:\", VS_N)\n",
    "print(\"VS_A:\", VS_A)\n",
    "print(\"ST_N:\", ST_N)\n",
    "print(\"ST_A:\", ST_A)"
   ]
  },
  {
   "cell_type": "code",
   "execution_count": 6,
   "id": "ba1bea05",
   "metadata": {},
   "outputs": [
    {
     "name": "stdout",
     "output_type": "stream",
     "text": [
      "mean_rms_RF_N: 0.00184291925576082\n",
      "mean_rms_RF_A: 0.0032474621493532164\n",
      "std_rms_RF_N: 0.004527895932164998\n",
      "std_rms_RF_A: 0.004188473826969558\n",
      "mean_rms_BF_N: 0.0005605950341437156\n",
      "mean_rms_BF_A: 0.0004827093242494517\n",
      "std_rms_BF_N: 0.0006422914797362835\n",
      "std_rms_BF_A: 0.0003739125975226635\n",
      "mean_rms_VS_N: 0.0056080862985677\n",
      "mean_rms_VS_A: 0.006436629885967767\n",
      "std_rms_VS_N: 0.01551142455684888\n",
      "std_rms_VS_A: 0.007364245070444471\n",
      "mean_rms_ST_N: 0.00114453975810343\n",
      "mean_rms_ST_A: 0.0012195533776783655\n",
      "std_rms_ST_N: 0.0016699349082834518\n",
      "std_rms_ST_A: 0.0017311920247148858\n"
     ]
    }
   ],
   "source": [
    "mean_var_RF_N = np.mean(RF_N)\n",
    "mean_var_RF_A = np.mean(RF_A)\n",
    "mean_var_BF_N = np.mean(BF_N)\n",
    "mean_var_BF_A = np.mean(BF_A)\n",
    "mean_var_VS_N = np.mean(VS_N)\n",
    "mean_var_VS_A = np.mean(VS_A)\n",
    "mean_var_ST_N = np.mean(ST_N)\n",
    "mean_var_ST_A = np.mean(ST_A)\n",
    "\n",
    "std_var_RF_N = np.std(RF_N)\n",
    "std_var_RF_A = np.std(RF_A)\n",
    "std_var_BF_N = np.std(BF_N)\n",
    "std_var_BF_A = np.std(BF_A)\n",
    "std_var_VS_N = np.std(VS_N)\n",
    "std_var_VS_A = np.std(VS_A)\n",
    "std_var_ST_N = np.std(ST_N)\n",
    "std_var_ST_A = np.std(ST_A)\n",
    "\n",
    "print(\"mean_rms_RF_N:\", mean_var_RF_N)\n",
    "print(\"mean_rms_RF_A:\", mean_var_RF_A)\n",
    "print(\"std_rms_RF_N:\", std_var_RF_N)\n",
    "print(\"std_rms_RF_A:\", std_var_RF_A)\n",
    "print(\"mean_rms_BF_N:\", mean_var_BF_N)\n",
    "print(\"mean_rms_BF_A:\", mean_var_BF_A)\n",
    "print(\"std_rms_BF_N:\", std_var_BF_N)\n",
    "print(\"std_rms_BF_A:\", std_var_BF_A)\n",
    "print(\"mean_rms_VS_N:\", mean_var_VS_N)\n",
    "print(\"mean_rms_VS_A:\", mean_var_VS_A)\n",
    "print(\"std_rms_VS_N:\", std_var_VS_N)\n",
    "print(\"std_rms_VS_A:\", std_var_VS_A)\n",
    "print(\"mean_rms_ST_N:\", mean_var_ST_N)\n",
    "print(\"mean_rms_ST_A:\", mean_var_ST_A)\n",
    "print(\"std_rms_ST_N:\", std_var_ST_N)\n",
    "print(\"std_rms_ST_A:\", std_var_ST_A)"
   ]
  },
  {
   "cell_type": "markdown",
   "id": "26a180f4",
   "metadata": {},
   "source": [
    "# RF"
   ]
  },
  {
   "cell_type": "code",
   "execution_count": 7,
   "id": "c7e53846",
   "metadata": {},
   "outputs": [
    {
     "name": "stdout",
     "output_type": "stream",
     "text": [
      "RF_N :  [0.00020905135799190237, 0.00017720217070668647, 4.863734505527719e-05, 0.0003090456764815758, 1.2261329196637799e-05, 0.00010215228014444313, 0.002397316362460519, 1.662783161636917e-05, 0.0003537877027581194, 0.0006327990855380552, 0.016013230671419437]\n",
      "RF_A :  [0.005223300083510691, 0.013734703218048237, 4.5276719434806195e-05, 0.0035370889947784526, 0.0002487172938572169, 0.006811097771687386, 0.005835445894323605, 0.0001857846355339289, 6.327507183874064e-05, 2.1144025626092227e-05, 1.624993424622272e-05]\n",
      "mean_rms_RF_N: 0.00184291925576082\n",
      "mean_rms_RF_A: 0.0032474621493532164\n",
      "std_rms_RF_N: 0.004527895932164998\n",
      "std_rms_RF_A: 0.004188473826969558\n"
     ]
    }
   ],
   "source": [
    "print(\"RF_N : \",RF_N)\n",
    "print(\"RF_A : \",RF_A)\n",
    "print(\"mean_rms_RF_N:\", mean_var_RF_N)\n",
    "print(\"mean_rms_RF_A:\", mean_var_RF_A)\n",
    "print(\"std_rms_RF_N:\", std_var_RF_N)\n",
    "print(\"std_rms_RF_A:\", std_var_RF_A)"
   ]
  },
  {
   "cell_type": "code",
   "execution_count": 8,
   "id": "00ac2426",
   "metadata": {},
   "outputs": [
    {
     "name": "stderr",
     "output_type": "stream",
     "text": [
      "C:\\Users\\hoste\\AppData\\Local\\Temp\\ipykernel_30680\\3663293210.py:3: MatplotlibDeprecationWarning: The 'labels' parameter of boxplot() has been renamed 'tick_labels' since Matplotlib 3.9; support for the old name will be dropped in 3.11.\n",
      "  plt.boxplot([RF_A, RF_N], labels=['RF_A', 'RF_N'])\n"
     ]
    }
   ],
   "source": [
    "#Boxplot des deux groupes\n",
    "plt.figure(figsize=(10, 6))\n",
    "plt.boxplot([RF_A, RF_N], labels=['RF_A', 'RF_N'])\n",
    "plt.title('Boxplot de la varience moyenne (RF)')\n",
    "plt.ylabel('Variance moyenne (RF)')\n",
    "plt.grid(True)\n",
    "plt.savefig(\"graph_analyse/boxplot_variance_RF.png\", dpi=300, bbox_inches='tight')\n",
    "plt.show()\n",
    "\n",
    "#Histogramme des deux groupes\n",
    "plt.figure(figsize=(10, 6))\n",
    "plt.hist(RF_A, bins=10, alpha=0.5, label='RF_A', color='blue')\n",
    "plt.hist(RF_N, bins=10, alpha=0.5, label='RF_N', color='orange')\n",
    "plt.title('Histogramme de la variance moyenne (RF)')\n",
    "plt.xlabel('Variance moyenne (RF)')\n",
    "plt.ylabel('Fréquence')\n",
    "sns.kdeplot(RF_A, color='blue', label='Densité RF_A', linewidth=2)\n",
    "sns.kdeplot(RF_N, color='orange', label='Densité RF_N', linewidth=2)\n",
    "plt.legend()\n",
    "plt.grid(True)\n",
    "plt.savefig(\"graph_analyse/histogramme_variance_RF.png\", dpi=300, bbox_inches='tight')\n",
    "plt.show()"
   ]
  },
  {
   "cell_type": "code",
   "execution_count": 9,
   "id": "da0c1a32",
   "metadata": {},
   "outputs": [
    {
     "name": "stdout",
     "output_type": "stream",
     "text": [
      "Statistique U : 52.0000\n",
      "P-valeur Mann-Whitney : 0.5994\n",
      "Aucune différence significative entre les groupes\n"
     ]
    }
   ],
   "source": [
    "# Test de Mann-Whitney\n",
    "stat, p_value = stats.mannwhitneyu(RF_N, RF_A, alternative='two-sided')\n",
    "\n",
    "print(f\"Statistique U : {stat:.4f}\")\n",
    "print(f\"P-valeur Mann-Whitney : {p_value:.4f}\")\n",
    "\n",
    "alpha = 0.05  # Seuil de signification\n",
    "if p_value < alpha:\n",
    "    print(\"Différence significative entre les deux groupes\")\n",
    "else:\n",
    "    print(\"Aucune différence significative entre les groupes\")"
   ]
  },
  {
   "cell_type": "markdown",
   "id": "bf7c89d6",
   "metadata": {},
   "source": [
    "# BF"
   ]
  },
  {
   "cell_type": "code",
   "execution_count": 10,
   "id": "802c1752",
   "metadata": {},
   "outputs": [
    {
     "name": "stdout",
     "output_type": "stream",
     "text": [
      "BF_N :  [5.4485850644093485e-05, 0.00023756893687767257, 0.00016189012413343325, 0.001758204148122412, 0.0006639712371264081, 0.00014302598660817522, 0.0005011176314030866, 0.0003718288079511915, 0.001980866254108855, 0.0001598542173338496, 0.0001337321812716942]\n",
      "BF_A :  [0.0004986030152599216, 0.0013324686636022039, 0.00033748330515064154, 0.0005973428438188028, 0.0003426050272776639, 0.0006286617754342576, 0.0002152306318130138, 0.0010001801602176521, 8.050785191093786e-05, 0.00010541820742101445, 0.00017130108483785926]\n",
      "mean_rms_BF_N: 0.0005605950341437156\n",
      "mean_rms_BF_A: 0.0004827093242494517\n",
      "std_rms_BF_N: 0.0006422914797362835\n",
      "std_rms_BF_A: 0.0003739125975226635\n"
     ]
    }
   ],
   "source": [
    "print(\"BF_N : \",BF_N)\n",
    "print(\"BF_A : \",BF_A)\n",
    "print(\"mean_rms_BF_N:\", mean_var_BF_N)\n",
    "print(\"mean_rms_BF_A:\", mean_var_BF_A)\n",
    "print(\"std_rms_BF_N:\", std_var_BF_N)\n",
    "print(\"std_rms_BF_A:\", std_var_BF_A)"
   ]
  },
  {
   "cell_type": "code",
   "execution_count": 11,
   "id": "df87e39b",
   "metadata": {},
   "outputs": [
    {
     "name": "stderr",
     "output_type": "stream",
     "text": [
      "C:\\Users\\hoste\\AppData\\Local\\Temp\\ipykernel_30680\\1689489779.py:3: MatplotlibDeprecationWarning: The 'labels' parameter of boxplot() has been renamed 'tick_labels' since Matplotlib 3.9; support for the old name will be dropped in 3.11.\n",
      "  plt.boxplot([BF_A, BF_N], labels=['BF_A', 'BF_N'])\n"
     ]
    }
   ],
   "source": [
    "#Boxplot des deux groupes\n",
    "plt.figure(figsize=(10, 6))\n",
    "plt.boxplot([BF_A, BF_N], labels=['BF_A', 'BF_N'])\n",
    "plt.title('Boxplot de la variance moyenne (BF)')\n",
    "plt.ylabel('Variance moyenne (BF)')\n",
    "plt.grid(True)\n",
    "plt.savefig(\"graph_analyse/boxplot_variance_BF.png\", dpi=300, bbox_inches='tight')\n",
    "plt.show()\n",
    "\n",
    "#Histogramme des deux groupes\n",
    "plt.figure(figsize=(10, 6))\n",
    "plt.hist(BF_A, bins=10, alpha=0.5, label='RF_A', color='blue')\n",
    "plt.hist(BF_N, bins=10, alpha=0.5, label='RF_N', color='orange')\n",
    "plt.title('Histogramme de la variance moyenne (BF)')\n",
    "plt.xlabel('Variance moyenne (BF)')\n",
    "plt.ylabel('Fréquence')\n",
    "sns.kdeplot(BF_A, color='blue', label='Densité BF_A', linewidth=2)\n",
    "sns.kdeplot(BF_N, color='orange', label='Densité BF_N', linewidth=2)\n",
    "plt.legend()\n",
    "plt.grid(True)\n",
    "plt.savefig(\"graph_analyse/histogramme_variance_BF.png\", dpi=300, bbox_inches='tight')\n",
    "plt.show()"
   ]
  },
  {
   "cell_type": "code",
   "execution_count": 12,
   "id": "28ceedfb",
   "metadata": {},
   "outputs": [
    {
     "name": "stdout",
     "output_type": "stream",
     "text": [
      "Statistique U : 56.0000\n",
      "P-valeur Mann-Whitney : 0.7928\n",
      "Aucune différence significative entre les groupes\n"
     ]
    }
   ],
   "source": [
    "# Test de Mann-Whitney\n",
    "stat, p_value = stats.mannwhitneyu(BF_N, BF_A, alternative='two-sided')\n",
    "\n",
    "print(f\"Statistique U : {stat:.4f}\")\n",
    "print(f\"P-valeur Mann-Whitney : {p_value:.4f}\")\n",
    "\n",
    "alpha = 0.05  # Seuil de signification\n",
    "if p_value < alpha:\n",
    "    print(\"Différence significative entre les deux groupes\")\n",
    "else:\n",
    "    print(\"Aucune différence significative entre les groupes\")"
   ]
  },
  {
   "cell_type": "markdown",
   "id": "63cb3ea3",
   "metadata": {},
   "source": [
    "# VS"
   ]
  },
  {
   "cell_type": "code",
   "execution_count": 13,
   "id": "f5635878",
   "metadata": {},
   "outputs": [
    {
     "name": "stdout",
     "output_type": "stream",
     "text": [
      "VS_N :  [0.00025694029051818854, 0.0003279331596764425, 6.615011304321103e-05, 0.0007018530643031697, 1.4146630045172948e-05, 0.00017163606920772803, 0.004984737696407111, 0.0003759071072159519, 4.9031190186579124e-05, 0.0002719191967963466, 0.0544686947668448]\n",
      "VS_A :  [0.0020122335505368292, 0.020912749371396457, 0.009344322511200903, 0.0038835884733640887, 0.00045540172404452385, 0.0029723074866891833, 0.01877263334047163, 0.012123807119828559, 8.448235645787073e-05, 2.616202941617632e-05, 0.00021524078223920338]\n",
      "mean_rms_VS_N: 0.0056080862985677\n",
      "mean_rms_VS_A: 0.006436629885967767\n",
      "std_rms_VS_N: 0.01551142455684888\n",
      "std_rms_VS_A: 0.007364245070444471\n"
     ]
    }
   ],
   "source": [
    "print(\"VS_N : \",VS_N)\n",
    "print(\"VS_A : \",VS_A)\n",
    "print(\"mean_rms_VS_N:\", mean_var_VS_N)\n",
    "print(\"mean_rms_VS_A:\", mean_var_VS_A)\n",
    "print(\"std_rms_VS_N:\", std_var_VS_N)\n",
    "print(\"std_rms_VS_A:\", std_var_VS_A)"
   ]
  },
  {
   "cell_type": "code",
   "execution_count": 14,
   "id": "76e48385",
   "metadata": {},
   "outputs": [
    {
     "name": "stderr",
     "output_type": "stream",
     "text": [
      "C:\\Users\\hoste\\AppData\\Local\\Temp\\ipykernel_30680\\3870106157.py:3: MatplotlibDeprecationWarning: The 'labels' parameter of boxplot() has been renamed 'tick_labels' since Matplotlib 3.9; support for the old name will be dropped in 3.11.\n",
      "  plt.boxplot([VS_A, VS_N], labels=['VS_A', 'VS_N'])\n"
     ]
    }
   ],
   "source": [
    "#Boxplot des deux groupes\n",
    "plt.figure(figsize=(10, 6))\n",
    "plt.boxplot([VS_A, VS_N], labels=['VS_A', 'VS_N'])\n",
    "plt.title('Boxplot de la variance moyenne (VS)')\n",
    "plt.ylabel('Variance moyenne (VS)')\n",
    "plt.grid(True)\n",
    "plt.savefig(\"graph_analyse/boxplot_variance_VS.png\", dpi=300, bbox_inches='tight')\n",
    "plt.show()\n",
    "\n",
    "#Histogramme des deux groupes\n",
    "plt.figure(figsize=(10, 6))\n",
    "plt.hist(VS_A, bins=10, alpha=0.5, label='VS_A', color='blue')\n",
    "plt.hist(VS_N, bins=10, alpha=0.5, label='VS_N', color='orange')\n",
    "plt.title('Histogramme de la variance moyenne (VS)')\n",
    "plt.xlabel('Variance moyenne (VS)')\n",
    "plt.ylabel('Fréquence')\n",
    "sns.kdeplot(VS_A, color='blue', label='Densité VS_A', linewidth=2)\n",
    "sns.kdeplot(VS_N, color='orange', label='Densité VS_N', linewidth=2)\n",
    "plt.legend()\n",
    "plt.grid(True)\n",
    "plt.savefig(\"graph_analyse/histogramme_variance_VS.png\", dpi=300, bbox_inches='tight')\n",
    "plt.show()"
   ]
  },
  {
   "cell_type": "code",
   "execution_count": 15,
   "id": "1fce37bf",
   "metadata": {},
   "outputs": [
    {
     "name": "stdout",
     "output_type": "stream",
     "text": [
      "Statistique U : 38.0000\n",
      "P-valeur Mann-Whitney : 0.1486\n",
      "Aucune différence significative entre les groupes\n"
     ]
    }
   ],
   "source": [
    "# Test de Mann-Whitney\n",
    "stat, p_value = stats.mannwhitneyu(VS_N, VS_A, alternative='two-sided')\n",
    "\n",
    "print(f\"Statistique U : {stat:.4f}\")\n",
    "print(f\"P-valeur Mann-Whitney : {p_value:.4f}\")\n",
    "\n",
    "alpha = 0.05  # Seuil de signification\n",
    "if p_value < alpha:\n",
    "    print(\"Différence significative entre les deux groupes\")\n",
    "else:\n",
    "    print(\"Aucune différence significative entre les groupes\")"
   ]
  },
  {
   "cell_type": "markdown",
   "id": "77ad23b3",
   "metadata": {},
   "source": [
    "# ST"
   ]
  },
  {
   "cell_type": "code",
   "execution_count": 16,
   "id": "bfe911ef",
   "metadata": {},
   "outputs": [
    {
     "name": "stdout",
     "output_type": "stream",
     "text": [
      "ST_N :  [0.00010013938143869523, 0.00039283104386829155, 0.0002432624012555384, 0.0013418633573917622, 0.0010433564908142819, 8.56096550446703e-05, 0.0061418489043259744, 0.0010264336491178014, 0.00023213026623113803, 0.0002262748815912568, 0.0017561873080583202]\n",
      "ST_A :  [0.00023795802934967596, 0.0008223311535032037, 0.0006208793035596794, 0.006416899972733096, 0.001964622183430828, 0.0006867787129914546, 0.0015352892186020154, 0.00034691552552179404, 0.00037442506145869497, 0.00020957413615329957, 0.0001994138571582796]\n",
      "mean_rms_ST_N: 0.00114453975810343\n",
      "mean_rms_ST_A: 0.0012195533776783655\n",
      "std_rms_ST_N: 0.0016699349082834518\n",
      "std_rms_ST_A: 0.0017311920247148858\n"
     ]
    }
   ],
   "source": [
    "print(\"ST_N : \",ST_N)\n",
    "print(\"ST_A : \",ST_A)\n",
    "print(\"mean_rms_ST_N:\", mean_var_ST_N)\n",
    "print(\"mean_rms_ST_A:\", mean_var_ST_A)\n",
    "print(\"std_rms_ST_N:\", std_var_ST_N)\n",
    "print(\"std_rms_ST_A:\", std_var_ST_A)"
   ]
  },
  {
   "cell_type": "code",
   "execution_count": 17,
   "id": "7d78e5ac",
   "metadata": {},
   "outputs": [
    {
     "name": "stderr",
     "output_type": "stream",
     "text": [
      "C:\\Users\\hoste\\AppData\\Local\\Temp\\ipykernel_30680\\2776384311.py:3: MatplotlibDeprecationWarning: The 'labels' parameter of boxplot() has been renamed 'tick_labels' since Matplotlib 3.9; support for the old name will be dropped in 3.11.\n",
      "  plt.boxplot([ST_A, ST_N], labels=['ST_A', 'ST_N'])\n"
     ]
    }
   ],
   "source": [
    "#Boxplot des deux groupes\n",
    "plt.figure(figsize=(10, 6))\n",
    "plt.boxplot([ST_A, ST_N], labels=['ST_A', 'ST_N'])\n",
    "plt.title('Boxplot de la variance moyenne (ST)')\n",
    "plt.ylabel('Variance moyenne (ST)')\n",
    "plt.grid(True)\n",
    "plt.savefig(\"graph_analyse/boxplot_variance_ST.png\", dpi=300, bbox_inches='tight')\n",
    "plt.show()\n",
    "\n",
    "#Histogramme des deux groupes\n",
    "plt.figure(figsize=(10, 6))\n",
    "plt.hist(ST_A, bins=10, alpha=0.5, label='ST_A', color='blue')\n",
    "plt.hist(ST_N, bins=10, alpha=0.5, label='ST_N', color='orange')\n",
    "plt.title('Histogramme de la variance moyenne (ST)')\n",
    "plt.xlabel('Variance moyenne (ST)')\n",
    "plt.ylabel('Fréquence')\n",
    "sns.kdeplot(ST_A, color='blue', label='Densité ST_A', linewidth=2)\n",
    "sns.kdeplot(ST_N, color='orange', label='Densité ST_N', linewidth=2)\n",
    "plt.legend()\n",
    "plt.grid(True)\n",
    "plt.savefig(\"graph_analyse/histogramme_variance_ST.png\", dpi=300, bbox_inches='tight')\n",
    "plt.show()"
   ]
  },
  {
   "cell_type": "code",
   "execution_count": 18,
   "id": "f87f3a98",
   "metadata": {},
   "outputs": [
    {
     "name": "stdout",
     "output_type": "stream",
     "text": [
      "Statistique U : 55.0000\n",
      "P-valeur Mann-Whitney : 0.7427\n",
      "Aucune différence significative entre les groupes\n"
     ]
    }
   ],
   "source": [
    "# Test de Mann-Whitney\n",
    "stat, p_value = stats.mannwhitneyu(ST_N, ST_A, alternative='two-sided')\n",
    "\n",
    "print(f\"Statistique U : {stat:.4f}\")\n",
    "print(f\"P-valeur Mann-Whitney : {p_value:.4f}\")\n",
    "\n",
    "alpha = 0.05  # Seuil de signification\n",
    "if p_value < alpha:\n",
    "    print(\"Différence significative entre les deux groupes\")\n",
    "else:\n",
    "    print(\"Aucune différence significative entre les groupes\")"
   ]
  },
  {
   "cell_type": "code",
   "execution_count": null,
   "id": "c8717618",
   "metadata": {},
   "outputs": [],
   "source": []
  }
 ],
 "metadata": {
  "kernelspec": {
   "display_name": "MY_HUGO_SAUNIER",
   "language": "python",
   "name": "python3"
  },
  "language_info": {
   "codemirror_mode": {
    "name": "ipython",
    "version": 3
   },
   "file_extension": ".py",
   "mimetype": "text/x-python",
   "name": "python",
   "nbconvert_exporter": "python",
   "pygments_lexer": "ipython3",
   "version": "3.12.5"
  }
 },
 "nbformat": 4,
 "nbformat_minor": 5
}
