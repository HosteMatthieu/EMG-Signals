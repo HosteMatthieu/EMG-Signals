{
 "cells": [
  {
   "cell_type": "markdown",
   "metadata": {},
   "source": [
    "##### Import nécessaires"
   ]
  },
  {
   "cell_type": "code",
   "execution_count": 36,
   "metadata": {},
   "outputs": [
    {
     "name": "stdout",
     "output_type": "stream",
     "text": [
      "Requirement already satisfied: nbformat in c:\\users\\hoste\\anaconda3\\envs\\my_hugo_saunier\\lib\\site-packages (5.10.4)\n",
      "Requirement already satisfied: fastjsonschema>=2.15 in c:\\users\\hoste\\anaconda3\\envs\\my_hugo_saunier\\lib\\site-packages (from nbformat) (2.21.1)\n",
      "Requirement already satisfied: jsonschema>=2.6 in c:\\users\\hoste\\anaconda3\\envs\\my_hugo_saunier\\lib\\site-packages (from nbformat) (4.23.0)\n",
      "Requirement already satisfied: jupyter-core!=5.0.*,>=4.12 in c:\\users\\hoste\\appdata\\roaming\\python\\python312\\site-packages (from nbformat) (5.7.2)\n",
      "Requirement already satisfied: traitlets>=5.1 in c:\\users\\hoste\\appdata\\roaming\\python\\python312\\site-packages (from nbformat) (5.14.3)\n",
      "Requirement already satisfied: attrs>=22.2.0 in c:\\users\\hoste\\anaconda3\\envs\\my_hugo_saunier\\lib\\site-packages (from jsonschema>=2.6->nbformat) (25.3.0)\n",
      "Requirement already satisfied: jsonschema-specifications>=2023.03.6 in c:\\users\\hoste\\anaconda3\\envs\\my_hugo_saunier\\lib\\site-packages (from jsonschema>=2.6->nbformat) (2024.10.1)\n",
      "Requirement already satisfied: referencing>=0.28.4 in c:\\users\\hoste\\anaconda3\\envs\\my_hugo_saunier\\lib\\site-packages (from jsonschema>=2.6->nbformat) (0.36.2)\n",
      "Requirement already satisfied: rpds-py>=0.7.1 in c:\\users\\hoste\\anaconda3\\envs\\my_hugo_saunier\\lib\\site-packages (from jsonschema>=2.6->nbformat) (0.24.0)\n",
      "Requirement already satisfied: platformdirs>=2.5 in c:\\users\\hoste\\appdata\\roaming\\python\\python312\\site-packages (from jupyter-core!=5.0.*,>=4.12->nbformat) (4.3.6)\n",
      "Requirement already satisfied: pywin32>=300 in c:\\users\\hoste\\appdata\\roaming\\python\\python312\\site-packages (from jupyter-core!=5.0.*,>=4.12->nbformat) (306)\n",
      "Requirement already satisfied: typing-extensions>=4.4.0 in c:\\users\\hoste\\anaconda3\\envs\\my_hugo_saunier\\lib\\site-packages (from referencing>=0.28.4->jsonschema>=2.6->nbformat) (4.12.2)\n",
      "Note: you may need to restart the kernel to use updated packages.\n"
     ]
    }
   ],
   "source": [
    "# Ensure required modules are installed\n",
    "%pip install nbformat\n",
    "\n",
    "import pandas as pd\n",
    "import numpy as np\n",
    "import matplotlib.pyplot as plt\n",
    "from scipy.signal import find_peaks, butter, filtfilt, iirnotch\n",
    "from io import StringIO\n",
    "from nbformat import read\n",
    "import sys\n",
    "import io\n",
    "from unittest.mock import patch\n",
    "from IPython.display import display\n",
    "import scipy.stats as stats\n",
    "import seaborn as sns"
   ]
  },
  {
   "cell_type": "markdown",
   "metadata": {},
   "source": [
    "##### On charge les fichiers et on récupère les variables que l'on veut"
   ]
  },
  {
   "cell_type": "code",
   "execution_count": 33,
   "metadata": {},
   "outputs": [
    {
     "name": "stdout",
     "output_type": "stream",
     "text": [
      "Notebook 1Amar.ipynb imported successfully.\n",
      "Notebook 2Amar.ipynb imported successfully.\n",
      "Notebook 3Amar.ipynb imported successfully.\n",
      "Notebook 4Amar.ipynb imported successfully.\n",
      "Notebook 5Amar.ipynb imported successfully.\n",
      "Notebook 1Nmar.ipynb imported successfully.\n",
      "Notebook 2Nmar.ipynb imported successfully.\n",
      "Notebook 3Nmar.ipynb imported successfully.\n",
      "Notebook 4Nmar.ipynb imported successfully.\n",
      "Notebook 5Nmar.ipynb imported successfully.\n"
     ]
    }
   ],
   "source": [
    "# List of .ipynb files to process\n",
    "notebook_files = ['1Amar.ipynb', '2Amar.ipynb', '3Amar.ipynb', '4Amar.ipynb', '5Amar.ipynb', '1Nmar.ipynb', '2Nmar.ipynb', '3Nmar.ipynb', '4Nmar.ipynb', '5Nmar.ipynb']\n",
    "\n",
    "# Dictionary to store results for each file\n",
    "results = {}\n",
    "\n",
    "for file_name in notebook_files:\n",
    "    try:\n",
    "        # Load the .ipynb file\n",
    "        with open(file_name, 'r', encoding='utf-8') as f:\n",
    "            notebook = read(f, as_version=4)\n",
    "        print(f\"Notebook {file_name} imported successfully.\")\n",
    "    except FileNotFoundError:\n",
    "        print(f\"Error: The file '{file_name}' was not found. Please ensure it exists in the current directory.\")\n",
    "        continue\n",
    "\n",
    "    # Dictionnaire pour stocker les variables\n",
    "    global_vars = {}\n",
    "\n",
    "    # Sauvegarde stdout et stderr pour masquer l'affichage\n",
    "    stdout_backup = sys.stdout\n",
    "    stderr_backup = sys.stderr\n",
    "    sys.stdout = io.StringIO()  # Capture la sortie standard\n",
    "    sys.stderr = io.StringIO()  # Capture les erreurs\n",
    "\n",
    "    # Désactiver l'affichage interactif de Matplotlib\n",
    "    plt.ioff()\n",
    "\n",
    "    # Redéfinir `plt.show()` et `display()` pour bloquer les affichages\n",
    "    with patch(\"matplotlib.pyplot.show\"), patch(\"IPython.display.display\"):\n",
    "        # Exécuter toutes les cellules de code sans affichage\n",
    "        for cell in notebook.cells:\n",
    "            if cell.cell_type == \"code\":\n",
    "                exec(cell.source, global_vars)\n",
    "\n",
    "    # Rétablir la sortie normale\n",
    "    sys.stdout = stdout_backup\n",
    "    sys.stderr = stderr_backup\n",
    "    plt.ion()  # Réactiver l'affichage interactif\n",
    "    plt.close(\"all\")  # Fermer toutes les figures en mémoire\n",
    "\n",
    "    # Récupérer uniquement `average_cycle_time`\n",
    "    average_cycle_time = global_vars.get(\"average_cycle_time\", \"Variable non trouvée\")\n",
    "    results[\"ATC_\"+file_name] = average_cycle_time"
   ]
  },
  {
   "cell_type": "markdown",
   "metadata": {},
   "source": [
    "##### On affiche tous les temps de cycle moyen"
   ]
  },
  {
   "cell_type": "code",
   "execution_count": 34,
   "metadata": {},
   "outputs": [
    {
     "name": "stdout",
     "output_type": "stream",
     "text": [
      "ATC_1Amar.ipynb: 1.5264285714285715\n",
      "ATC_2Amar.ipynb: 1.1375000000000002\n",
      "ATC_3Amar.ipynb: 1.3225625\n",
      "ATC_4Amar.ipynb: 1.425\n",
      "ATC_5Amar.ipynb: 1.3023030303030305\n",
      "ATC_1Nmar.ipynb: 1.262\n",
      "ATC_2Nmar.ipynb: 1.315\n",
      "ATC_3Nmar.ipynb: 1.3208\n",
      "ATC_4Nmar.ipynb: 1.48\n",
      "ATC_5Nmar.ipynb: 1.3206666666666667\n"
     ]
    }
   ],
   "source": [
    "# Print results for all files\n",
    "for file_name, average_cycle_time in results.items():\n",
    "    print(f\"{file_name}: {average_cycle_time}\")\n"
   ]
  },
  {
   "cell_type": "markdown",
   "metadata": {},
   "source": [
    "##### Analyse statistique sur le temps de cycle moyen"
   ]
  },
  {
   "cell_type": "code",
   "execution_count": null,
   "metadata": {},
   "outputs": [
    {
     "name": "stdout",
     "output_type": "stream",
     "text": [
      "ATC_A: [1.5264285714285715, 1.1375000000000002, 1.3225625, 1.425, 1.3023030303030305]\n",
      "ATC_N: [1.262, 1.315, 1.3208, 1.48, 1.3206666666666667]\n"
     ]
    }
   ],
   "source": [
    "#On crée nos 2 groupes de données ATC_A et ATC_N\n",
    "ATC_N=[]\n",
    "ATC_A=[]\n",
    "\n",
    "for file_name, average_cycle_time in results.items():\n",
    "    if file_name.startswith('ATC_1Amar') or file_name.startswith('ATC_2Amar') or file_name.startswith('ATC_3Amar') or file_name.startswith('ATC_4Amar') or file_name.startswith('ATC_5Amar'):\n",
    "        ATC_A.append(average_cycle_time)\n",
    "    else:\n",
    "        ATC_N.append(average_cycle_time)\n",
    "\n",
    "print(\"ATC_A:\", ATC_A)\n",
    "print(\"ATC_N:\", ATC_N)"
   ]
  },
  {
   "cell_type": "code",
   "execution_count": 38,
   "metadata": {},
   "outputs": [
    {
     "data": {
      "image/png": "[encoded data removed]",
      "text/plain": [
       "<Figure size 1000x500 with 1 Axes>"
      ]
     },
     "metadata": {},
     "output_type": "display_data"
    }
   ],
   "source": [
    "plt.figure(figsize=(10, 5))\n",
    "sns.histplot(ATC_N, label=\"Normaux\", color=\"blue\", kde=True, bins=10)\n",
    "sns.histplot(ATC_A, label=\"Anormaux\", color=\"red\", kde=True, bins=10)\n",
    "plt.legend()\n",
    "plt.title(\"Distribution des valeurs\")\n",
    "plt.show()"
   ]
  },
  {
   "cell_type": "code",
   "execution_count": 41,
   "metadata": {},
   "outputs": [
    {
     "name": "stdout",
     "output_type": "stream",
     "text": [
      "P-valeur normalité (Normaux) : 0.0685\n",
      "P-valeur normalité (Anormaux) : 0.9364\n",
      "Les deux groupes suivent une loi normale.\n"
     ]
    }
   ],
   "source": [
    "# Test de normalité de Shapiro-Wilk\n",
    "_, p_n = stats.shapiro(ATC_N)\n",
    "_, p_a = stats.shapiro(ATC_A)\n",
    "\n",
    "print(f\"P-valeur normalité (Normaux) : {p_n:.4f}\")\n",
    "print(f\"P-valeur normalité (Anormaux) : {p_a:.4f}\")\n",
    "\n",
    "if p_n > 0.05 and p_a > 0.05:\n",
    "    print(\"Les deux groupes suivent une loi normale.\")"
   ]
  },
  {
   "cell_type": "code",
   "execution_count": null,
   "metadata": {},
   "outputs": [
    {
     "name": "stdout",
     "output_type": "stream",
     "text": [
      "Statistique U : 11.0000\n",
      "P-valeur Mann-Whitney : 0.8413\n",
      "Aucune différence significative entre les groupes (ne rejette pas H0)\n"
     ]
    }
   ],
   "source": [
    "# Test de Mann-Whitney\n",
    "stat, p_value = stats.mannwhitneyu(ATC_N, ATC_A, alternative='two-sided')\n",
    "\n",
    "print(f\"Statistique U : {stat:.4f}\")\n",
    "print(f\"P-valeur Mann-Whitney : {p_value:.4f}\")\n",
    "\n",
    "alpha = 0.05  # Seuil de signification\n",
    "if p_value < alpha:\n",
    "    print(\"Différence significative entre les deux groupes\")\n",
    "else:\n",
    "    print(\"Aucune différence significative entre les groupes\")"
   ]
  }
 ],
 "metadata": {
  "kernelspec": {
   "display_name": "MY_HUGO_SAUNIER",
   "language": "python",
   "name": "python3"
  },
  "language_info": {
   "codemirror_mode": {
    "name": "ipython",
    "version": 3
   },
   "file_extension": ".py",
   "mimetype": "text/x-python",
   "name": "python",
   "nbconvert_exporter": "python",
   "pygments_lexer": "ipython3",
   "version": "3.12.5"
  }
 },
 "nbformat": 4,
 "nbformat_minor": 2
}
